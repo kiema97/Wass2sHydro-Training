{
 "cells": [
  {
   "cell_type": "code",
   "execution_count": 1,
   "id": "8ddd74b6-02c3-4bf0-a044-c7a7f1946b15",
   "metadata": {},
   "outputs": [
    {
     "ename": "ERROR",
     "evalue": "Error in library(WASS2SHydroR): there is no package called 'WASS2SHydroR'\n",
     "output_type": "error",
     "traceback": [
      "Error in library(WASS2SHydroR): there is no package called 'WASS2SHydroR'\nTraceback:\n",
      "1. stop(packageNotFoundError(package, lib.loc, sys.call()))"
     ]
    }
   ],
   "source": [
    "library(WASS2SHydroR)"
   ]
  },
  {
   "cell_type": "code",
   "execution_count": 2,
   "id": "213300e8-08a6-47ad-89ec-102835d997ad",
   "metadata": {},
   "outputs": [
    {
     "data": {
      "text/html": [
       "<style>\n",
       ".list-inline {list-style: none; margin:0; padding: 0}\n",
       ".list-inline>li {display: inline-block}\n",
       ".list-inline>li:not(:last-child)::after {content: \"\\00b7\"; padding: 0 .5ex}\n",
       "</style>\n",
       "<ol class=list-inline><li>'D:/CCR_AOS/Wass2sHydro-Training/renv/library/windows/R-4.4/x86_64-w64-mingw32'</li><li>'C:/Users/ARSENE/AppData/Local/R/cache/R/renv/sandbox/windows/R-4.4/x86_64-w64-mingw32/544a662b'</li></ol>\n"
      ],
      "text/latex": [
       "\\begin{enumerate*}\n",
       "\\item 'D:/CCR\\_AOS/Wass2sHydro-Training/renv/library/windows/R-4.4/x86\\_64-w64-mingw32'\n",
       "\\item 'C:/Users/ARSENE/AppData/Local/R/cache/R/renv/sandbox/windows/R-4.4/x86\\_64-w64-mingw32/544a662b'\n",
       "\\end{enumerate*}\n"
      ],
      "text/markdown": [
       "1. 'D:/CCR_AOS/Wass2sHydro-Training/renv/library/windows/R-4.4/x86_64-w64-mingw32'\n",
       "2. 'C:/Users/ARSENE/AppData/Local/R/cache/R/renv/sandbox/windows/R-4.4/x86_64-w64-mingw32/544a662b'\n",
       "\n",
       "\n"
      ],
      "text/plain": [
       "[1] \"D:/CCR_AOS/Wass2sHydro-Training/renv/library/windows/R-4.4/x86_64-w64-mingw32\"                 \n",
       "[2] \"C:/Users/ARSENE/AppData/Local/R/cache/R/renv/sandbox/windows/R-4.4/x86_64-w64-mingw32/544a662b\""
      ]
     },
     "metadata": {},
     "output_type": "display_data"
    }
   ],
   "source": [
    ".libPaths()"
   ]
  },
  {
   "cell_type": "code",
   "execution_count": null,
   "id": "9f5c0db9-a498-478f-a4be-e2103738eed3",
   "metadata": {},
   "outputs": [],
   "source": [
    "library(sf)\n",
    "library(WASS2SHydroR)\n",
    "subbassins <- sf::read_sf(\"D:/CCR_AOS/WASS2S_HYDRO/outputs/evaluation/gis/2024_frcst_probas_consolide_classify.shp\")\n",
    "plot(subbassins)"
   ]
  },
  {
   "cell_type": "code",
   "execution_count": null,
   "id": "5ac67ab0-4ab4-45e9-8ad8-43bb8d03e5cb",
   "metadata": {},
   "outputs": [],
   "source": [
    "data_by_product <- WASS2SHydroR::make_toy_data_by_product(\n",
    "    basins = subbassins$HYBAS_I,\n",
    "    years = 1990:2023,\n",
    "    products = c(\"SST_CMCC\", \"SST_ECMWF\", \"SST_JMA\"),\n",
    "    p = 15,\n",
    "    signal_strength = 0.7,\n",
    "    miss_rate = 0.08,\n",
    "    seed = 123\n",
    "  )"
   ]
  },
  {
   "cell_type": "code",
   "execution_count": null,
   "id": "5304f0ef-0573-4bc4-a097-ebba1712b6ed",
   "metadata": {},
   "outputs": [],
   "source": [
    "predictors <- paste0(\"pt_\",1:15)\n",
    "df_basin_product <- data_by_product$SST_CMCC\n",
    "results_ <- wass2s_run_basins_ml(data_by_product = data_by_product,\n",
    "                                 hybas_id = \"HYBAS_ID\",\n",
    "                                 pred_pattern_by_product = \"pt_\",\n",
    "                                 models = c(\"rf\",\"mlp\", \"mars\"),\n",
    "                                 final_fuser = \"kknn\",\n",
    "                                 quiet = FALSE,parallel = TRUE,\n",
    "                                 workers = 1 )"
   ]
  },
  {
   "cell_type": "code",
   "execution_count": null,
   "id": "52c1b23a-a059-4ca9-b1c5-a926e8bf80a9",
   "metadata": {},
   "outputs": [],
   "source": [
    "results_"
   ]
  },
  {
   "cell_type": "code",
   "execution_count": null,
   "id": "38e51d83-777b-4608-961c-d55e76b09163",
   "metadata": {},
   "outputs": [],
   "source": [
    ".libPath()"
   ]
  },
  {
   "cell_type": "code",
   "execution_count": null,
   "id": "a509edfe-433b-46fe-bc80-9225892e22c0",
   "metadata": {},
   "outputs": [],
   "source": [
    "IRkernel"
   ]
  }
 ],
 "metadata": {
  "kernelspec": {
   "display_name": "R",
   "language": "R",
   "name": "ir"
  },
  "language_info": {
   "codemirror_mode": "r",
   "file_extension": ".r",
   "mimetype": "text/x-r-source",
   "name": "R",
   "pygments_lexer": "r",
   "version": "4.5.1"
  }
 },
 "nbformat": 4,
 "nbformat_minor": 5
}
