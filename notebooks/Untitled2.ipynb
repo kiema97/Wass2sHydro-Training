{
 "cells": [
  {
   "cell_type": "code",
   "execution_count": 3,
   "id": "ab3ede5c-8ae6-41f8-b646-7f7732d8ac3e",
   "metadata": {},
   "outputs": [],
   "source": [
    "import xarray as xr"
   ]
  },
  {
   "cell_type": "code",
   "execution_count": 6,
   "id": "563825f8-842d-4b82-97b4-2cfab7844df8",
   "metadata": {},
   "outputs": [
    {
     "ename": "ValueError",
     "evalue": "found the following matches with the input file in xarray's IO backends: ['netcdf4', 'h5netcdf']. But their dependencies may not be installed, see:\nhttps://docs.xarray.dev/en/stable/user-guide/io.html \nhttps://docs.xarray.dev/en/stable/getting-started-guide/installing.html",
     "output_type": "error",
     "traceback": [
      "\u001b[31m---------------------------------------------------------------------------\u001b[39m",
      "\u001b[31mValueError\u001b[39m                                Traceback (most recent call last)",
      "\u001b[36mCell\u001b[39m\u001b[36m \u001b[39m\u001b[32mIn[6]\u001b[39m\u001b[32m, line 1\u001b[39m\n\u001b[32m----> \u001b[39m\u001b[32m1\u001b[39m nc = \u001b[43mxr\u001b[49m\u001b[43m.\u001b[49m\u001b[43mopen_dataset\u001b[49m\u001b[43m(\u001b[49m\u001b[33;43m\"\u001b[39;49m\u001b[33;43mD:/CCR_AOS/WASS2SHydroR-training/data/pycpt_HydroApr2025_SST_Nino_v3/-150W--90E_to_-10S-10N/data/CanCM3.SST.nc\u001b[39;49m\u001b[33;43m\"\u001b[39;49m\u001b[43m)\u001b[49m\n",
      "\u001b[36mFile \u001b[39m\u001b[32m~\\.local\\share\\mamba\\envs\\wass2s-hydro-3\\Lib\\site-packages\\xarray\\backends\\api.py:577\u001b[39m, in \u001b[36mopen_dataset\u001b[39m\u001b[34m(filename_or_obj, engine, chunks, cache, decode_cf, mask_and_scale, decode_times, decode_timedelta, use_cftime, concat_characters, decode_coords, drop_variables, create_default_indexes, inline_array, chunked_array_type, from_array_kwargs, backend_kwargs, **kwargs)\u001b[39m\n\u001b[32m    574\u001b[39m     kwargs.update(backend_kwargs)\n\u001b[32m    576\u001b[39m \u001b[38;5;28;01mif\u001b[39;00m engine \u001b[38;5;129;01mis\u001b[39;00m \u001b[38;5;28;01mNone\u001b[39;00m:\n\u001b[32m--> \u001b[39m\u001b[32m577\u001b[39m     engine = \u001b[43mplugins\u001b[49m\u001b[43m.\u001b[49m\u001b[43mguess_engine\u001b[49m\u001b[43m(\u001b[49m\u001b[43mfilename_or_obj\u001b[49m\u001b[43m)\u001b[49m\n\u001b[32m    579\u001b[39m \u001b[38;5;28;01mif\u001b[39;00m from_array_kwargs \u001b[38;5;129;01mis\u001b[39;00m \u001b[38;5;28;01mNone\u001b[39;00m:\n\u001b[32m    580\u001b[39m     from_array_kwargs = {}\n",
      "\u001b[36mFile \u001b[39m\u001b[32m~\\.local\\share\\mamba\\envs\\wass2s-hydro-3\\Lib\\site-packages\\xarray\\backends\\plugins.py:212\u001b[39m, in \u001b[36mguess_engine\u001b[39m\u001b[34m(store_spec, must_support_groups)\u001b[39m\n\u001b[32m    204\u001b[39m \u001b[38;5;28;01melse\u001b[39;00m:\n\u001b[32m    205\u001b[39m     error_msg = (\n\u001b[32m    206\u001b[39m         \u001b[33m\"\u001b[39m\u001b[33mfound the following matches with the input file in xarray\u001b[39m\u001b[33m'\u001b[39m\u001b[33ms IO \u001b[39m\u001b[33m\"\u001b[39m\n\u001b[32m    207\u001b[39m         \u001b[33mf\u001b[39m\u001b[33m\"\u001b[39m\u001b[33mbackends: \u001b[39m\u001b[38;5;132;01m{\u001b[39;00mcompatible_engines\u001b[38;5;132;01m}\u001b[39;00m\u001b[33m. But their dependencies may not be installed, see:\u001b[39m\u001b[38;5;130;01m\\n\u001b[39;00m\u001b[33m\"\u001b[39m\n\u001b[32m    208\u001b[39m         \u001b[33m\"\u001b[39m\u001b[33mhttps://docs.xarray.dev/en/stable/user-guide/io.html \u001b[39m\u001b[38;5;130;01m\\n\u001b[39;00m\u001b[33m\"\u001b[39m\n\u001b[32m    209\u001b[39m         \u001b[33m\"\u001b[39m\u001b[33mhttps://docs.xarray.dev/en/stable/getting-started-guide/installing.html\u001b[39m\u001b[33m\"\u001b[39m\n\u001b[32m    210\u001b[39m     )\n\u001b[32m--> \u001b[39m\u001b[32m212\u001b[39m \u001b[38;5;28;01mraise\u001b[39;00m \u001b[38;5;167;01mValueError\u001b[39;00m(error_msg)\n",
      "\u001b[31mValueError\u001b[39m: found the following matches with the input file in xarray's IO backends: ['netcdf4', 'h5netcdf']. But their dependencies may not be installed, see:\nhttps://docs.xarray.dev/en/stable/user-guide/io.html \nhttps://docs.xarray.dev/en/stable/getting-started-guide/installing.html"
     ]
    }
   ],
   "source": [
    "nc = xr.open_dataset(\"D:/CCR_AOS/WASS2SHydroR-training/data/pycpt_HydroApr2025_SST_Nino_v3/-150W--90E_to_-10S-10N/data/CanCM3.SST.nc\")"
   ]
  },
  {
   "cell_type": "code",
   "execution_count": 5,
   "id": "3aef590a-a758-4a62-b6e3-7f73c5ace800",
   "metadata": {
    "editable": true,
    "slideshow": {
     "slide_type": ""
    },
    "tags": []
   },
   "outputs": [
    {
     "name": "stdout",
     "output_type": "stream",
     "text": [
      "Collecting netcdf4\n",
      "  Downloading netcdf4-1.7.2.tar.gz (835 kB)\n",
      "     ---------------------------------------- 0.0/835.1 kB ? eta -:--:--\n",
      "     ---------------------------------------- 0.0/835.1 kB ? eta -:--:--\n",
      "     ---------------------------------------- 0.0/835.1 kB ? eta -:--:--\n",
      "     ------------ --------------------------- 262.1/835.1 kB ? eta -:--:--\n",
      "     ---------------------- ------------- 524.3/835.1 kB 790.4 kB/s eta 0:00:01\n",
      "     --------------------------------- -- 786.4/835.1 kB 968.1 kB/s eta 0:00:01\n",
      "     --------------------------------------- 835.1/835.1 kB 998.7 kB/s  0:00:01\n",
      "  Installing build dependencies: started\n",
      "  Installing build dependencies: finished with status 'done'\n",
      "  Getting requirements to build wheel: started\n",
      "  Getting requirements to build wheel: finished with status 'error'\n"
     ]
    },
    {
     "name": "stderr",
     "output_type": "stream",
     "text": [
      "  error: subprocess-exited-with-error\n",
      "  \n",
      "  Getting requirements to build wheel did not run successfully.\n",
      "  exit code: 1\n",
      "  \n",
      "  [41 lines of output]\n",
      "  reading from setup.cfg...\n",
      "      HDF5_DIR environment variable not set, checking some standard locations ..\n",
      "  checking C:\\Users\\ARSENE\\.local\\share\\mamba\\envs\\wass2s-hydro-3\\include...\n",
      "  hdf5 headers not found in C:\\Users\\ARSENE\\.local\\share\\mamba\\envs\\wass2s-hydro-3\\include\n",
      "  checking C:\\Users\\ARSENE\\.local\\share\\mamba\\envs\\wass2s-hydro-3\\Library\\include...\n",
      "  hdf5 headers not found in C:\\Users\\ARSENE\\.local\\share\\mamba\\envs\\wass2s-hydro-3\\Library\\include\n",
      "  checking C:\\Users\\ARSENE\\include...\n",
      "  hdf5 headers not found in C:\\Users\\ARSENE\\include\n",
      "  checking /usr/local\\include...\n",
      "  hdf5 headers not found in /usr/local\\include\n",
      "  checking /sw\\include...\n",
      "  hdf5 headers not found in /sw\\include\n",
      "  checking /opt\\include...\n",
      "  hdf5 headers not found in /opt\\include\n",
      "  checking /opt/local\\include...\n",
      "  hdf5 headers not found in /opt/local\\include\n",
      "  checking /opt/homebrew\\include...\n",
      "  hdf5 headers not found in /opt/homebrew\\include\n",
      "  checking /usr\\include...\n",
      "  hdf5 headers not found in /usr\\include\n",
      "  Traceback (most recent call last):\n",
      "    File \u001b[35m\"C:\\Users\\ARSENE\\.local\\share\\mamba\\envs\\wass2s-hydro-3\\Lib\\site-packages\\pip\\_vendor\\pyproject_hooks\\_in_process\\_in_process.py\"\u001b[0m, line \u001b[35m389\u001b[0m, in \u001b[35m<module>\u001b[0m\n",
      "      \u001b[31mmain\u001b[0m\u001b[1;31m()\u001b[0m\n",
      "      \u001b[31m~~~~\u001b[0m\u001b[1;31m^^\u001b[0m\n",
      "    File \u001b[35m\"C:\\Users\\ARSENE\\.local\\share\\mamba\\envs\\wass2s-hydro-3\\Lib\\site-packages\\pip\\_vendor\\pyproject_hooks\\_in_process\\_in_process.py\"\u001b[0m, line \u001b[35m373\u001b[0m, in \u001b[35mmain\u001b[0m\n",
      "      json_out[\"return_val\"] = \u001b[31mhook\u001b[0m\u001b[1;31m(**hook_input[\"kwargs\"])\u001b[0m\n",
      "                               \u001b[31m~~~~\u001b[0m\u001b[1;31m^^^^^^^^^^^^^^^^^^^^^^^^\u001b[0m\n",
      "    File \u001b[35m\"C:\\Users\\ARSENE\\.local\\share\\mamba\\envs\\wass2s-hydro-3\\Lib\\site-packages\\pip\\_vendor\\pyproject_hooks\\_in_process\\_in_process.py\"\u001b[0m, line \u001b[35m143\u001b[0m, in \u001b[35mget_requires_for_build_wheel\u001b[0m\n",
      "      return hook(config_settings)\n",
      "    File \u001b[35m\"C:\\Users\\ARSENE\\AppData\\Local\\Temp\\pip-build-env-llq0zvwu\\overlay\\Lib\\site-packages\\setuptools\\build_meta.py\"\u001b[0m, line \u001b[35m331\u001b[0m, in \u001b[35mget_requires_for_build_wheel\u001b[0m\n",
      "      return \u001b[31mself._get_build_requires\u001b[0m\u001b[1;31m(config_settings, requirements=[])\u001b[0m\n",
      "             \u001b[31m~~~~~~~~~~~~~~~~~~~~~~~~\u001b[0m\u001b[1;31m^^^^^^^^^^^^^^^^^^^^^^^^^^^^^^^^^^\u001b[0m\n",
      "    File \u001b[35m\"C:\\Users\\ARSENE\\AppData\\Local\\Temp\\pip-build-env-llq0zvwu\\overlay\\Lib\\site-packages\\setuptools\\build_meta.py\"\u001b[0m, line \u001b[35m301\u001b[0m, in \u001b[35m_get_build_requires\u001b[0m\n",
      "      \u001b[31mself.run_setup\u001b[0m\u001b[1;31m()\u001b[0m\n",
      "      \u001b[31m~~~~~~~~~~~~~~\u001b[0m\u001b[1;31m^^\u001b[0m\n",
      "    File \u001b[35m\"C:\\Users\\ARSENE\\AppData\\Local\\Temp\\pip-build-env-llq0zvwu\\overlay\\Lib\\site-packages\\setuptools\\build_meta.py\"\u001b[0m, line \u001b[35m317\u001b[0m, in \u001b[35mrun_setup\u001b[0m\n",
      "      \u001b[31mexec\u001b[0m\u001b[1;31m(code, locals())\u001b[0m\n",
      "      \u001b[31m~~~~\u001b[0m\u001b[1;31m^^^^^^^^^^^^^^^^\u001b[0m\n",
      "    File \u001b[35m\"<string>\"\u001b[0m, line \u001b[35m277\u001b[0m, in \u001b[35m<module>\u001b[0m\n",
      "    File \u001b[35m\"<string>\"\u001b[0m, line \u001b[35m226\u001b[0m, in \u001b[35m_populate_hdf5_info\u001b[0m\n",
      "  \u001b[1;35mValueError\u001b[0m: \u001b[35mdid not find HDF5 headers\u001b[0m\n",
      "  [end of output]\n",
      "  \n",
      "  note: This error originates from a subprocess, and is likely not a problem with pip.\n",
      "error: subprocess-exited-with-error\n",
      "\n",
      "Getting requirements to build wheel did not run successfully.\n",
      "exit code: 1\n",
      "\n",
      "See above for output.\n",
      "\n",
      "note: This error originates from a subprocess, and is likely not a problem with pip.\n"
     ]
    }
   ],
   "source": [
    "!pip install netcdf4 h5netcdf"
   ]
  },
  {
   "cell_type": "code",
   "execution_count": null,
   "id": "b9af1c2a-6008-4f78-bdec-4cf977e8ade5",
   "metadata": {},
   "outputs": [],
   "source": []
  },
  {
   "cell_type": "code",
   "execution_count": null,
   "id": "b5509110-737d-40a8-a941-0136e5834362",
   "metadata": {},
   "outputs": [],
   "source": []
  }
 ],
 "metadata": {
  "kernelspec": {
   "display_name": "Python 3 (ipykernel)",
   "language": "python",
   "name": "python3"
  },
  "language_info": {
   "codemirror_mode": {
    "name": "ipython",
    "version": 3
   },
   "file_extension": ".py",
   "mimetype": "text/x-python",
   "name": "python",
   "nbconvert_exporter": "python",
   "pygments_lexer": "ipython3",
   "version": "3.14.0"
  }
 },
 "nbformat": 4,
 "nbformat_minor": 5
}
