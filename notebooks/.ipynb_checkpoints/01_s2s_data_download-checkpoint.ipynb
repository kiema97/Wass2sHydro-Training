{
 "cells": [
  {
   "cell_type": "markdown",
   "id": "7773d787",
   "metadata": {
    "editable": true,
    "slideshow": {
     "slide_type": ""
    },
    "tags": []
   },
   "source": [
    "<div style=\"width: 100%; text-align: center;\">\n",
    "    <div style=\"background-color:#007F00; padding: 0.5rem;\">\n",
    "        <h1 style=\"font-weight: bold; font-size: 2.5em; color: black;\"> AGRHYMET CENTRE CLIMATIQUE REGIONAL POUR L'AFRIQUE DE L'OUEST ET LE SAHEL</h1>\n",
    "   </div>\n",
    "\n",
    "   <div style=\"text-align: center;\">\n",
    "  <img src=\"https://www.sareco.org/wp-content/uploads/2017/07/plrDvYX1.jpg\" width=\"200\">\n",
    "</div>"
   ]
  },
  {
   "cell_type": "markdown",
   "id": "3d4b9afe",
   "metadata": {
    "editable": true,
    "slideshow": {
     "slide_type": ""
    },
    "tags": []
   },
   "source": [
    "<a id=\"1\"></a>\n",
    "# <p style=\"padding:10px;background-color:#FFFFFF ;margin:0;color:#007F00;font-family:newtimeroman;font-size:100%;text-align:center;border-radius: 15px 50px;overflow:hidden;font-weight:500\">Capacity Building in Seasonal Hydrological Forecasting </p>\n",
    "\n"
   ]
  },
  {
   "cell_type": "markdown",
   "id": "83dd3cd6-d43a-49c6-af0f-99bb96b1b7d5",
   "metadata": {},
   "source": [
    "<a id=\"1\"></a>\n",
    "### <p style=\"padding:10px;background-color:#000000 ;margin:0;color:#007F00;font-family:#newtimeroman;font-size:100%;text-align:center;border-radius: 15px 50px;overflow:hidden;font-weight:500\"> Download Data for WASS2SHydroR </p>"
   ]
  },
  {
   "cell_type": "code",
   "execution_count": 1,
   "id": "8f385eed",
   "metadata": {
    "editable": true,
    "slideshow": {
     "slide_type": ""
    },
    "tags": []
   },
   "outputs": [],
   "source": [
    "import pycpt\n",
    "import packaging\n",
    "min_version = '2.5.0'\n",
    "assert packaging.version.parse(pycpt.__version__) >= packaging.version.parse(min_version), f'This notebook requires version {min_version} or higher of the pycpt library, but you have version {pycpt.__version__}. Please close the notebook, update your environment, and load the notebook again. See https://iri-pycpt.github.io/installation/'\n",
    "\n",
    "import cptdl as dl \n",
    "from cptextras import get_colors_bars\n",
    "import cptextras as ce\n",
    "import datetime as dt\n",
    "import numpy as np\n",
    "from pathlib import Path\n",
    "import xarray as xr\n",
    "import pandas as pd\n",
    "import datetime\n",
    "\n",
    "import os\n",
    "import matplotlib.pyplot as plt\n",
    "import cartopy\n",
    "import cartopy.crs as ccrs\n",
    "import numpy as np"
   ]
  },
  {
   "cell_type": "markdown",
   "id": "96f3117a",
   "metadata": {},
   "source": [
    "#### Define Case Directory"
   ]
  },
  {
   "cell_type": "code",
   "execution_count": 2,
   "id": "ba1367ae-c8f6-4ff6-8b7b-b350ca9a3e49",
   "metadata": {},
   "outputs": [],
   "source": [
    "os.chdir(\"D:/CCR_AOS/WASS2SHydroR-training/data\")"
   ]
  },
  {
   "cell_type": "code",
   "execution_count": 3,
   "id": "87ca15d1",
   "metadata": {},
   "outputs": [],
   "source": [
    "case_directory =  Path.home() / \"D:/CCR_AOS/WASS2SHydroR-training/data\" / \"pycpt_HydroApr2025_SST_Nino_v3\"\n",
    "case_directory.mkdir(exist_ok=True, parents=True)"
   ]
  },
  {
   "cell_type": "markdown",
   "id": "67d7d66c",
   "metadata": {},
   "source": [
    "#### Display the list of available predictors"
   ]
  },
  {
   "cell_type": "code",
   "execution_count": 4,
   "id": "7b3871bd",
   "metadata": {},
   "outputs": [
    {
     "name": "stdout",
     "output_type": "stream",
     "text": [
      "['CanCM4i.PRCP', 'CanSIPSv2.PRCP', 'CanSIPSIC3.PRCP', 'CanSIPSIC4.PRCP', 'GEM5NEMO.PRCP', 'CCSM4.PRCP', 'CESM1.PRCP', 'CanCM3.PRCP', 'CanCM4.PRCP', 'FLORB01.PRCP', 'FLORA06.PRCP', 'SPEAR.PRCP', 'GEOSS2S.PRCP', 'CFSv2.PRCP', 'SPSv3p5.PRCP', 'SPSv3p0.PRCP', 'GCFS2p0.PRCP', 'GCFS2p1.PRCP', 'SEAS5.PRCP', 'SEAS51.PRCP', 'SEAS51b.PRCP', 'SEAS51c.PRCP', 'CPS2.PRCP', 'METEOFRANCE7.PRCP', 'METEOFRANCE8.PRCP', 'METEOFRANCE9.PRCP', 'GLOSEA5.PRCP', 'GLOSEA6.PRCP']\n"
     ]
    }
   ],
   "source": [
    "print([i for i in list(dl.hindcasts.keys()) if \"PRCP\" in i ])"
   ]
  },
  {
   "cell_type": "code",
   "execution_count": 5,
   "id": "87cef5ca",
   "metadata": {},
   "outputs": [],
   "source": [
    "#dl.observations.keys()"
   ]
  },
  {
   "cell_type": "markdown",
   "id": "0f2a6c36",
   "metadata": {},
   "source": [
    "#### Parameters - This cell defines the parameters of your analysis"
   ]
  },
  {
   "cell_type": "code",
   "execution_count": 6,
   "id": "1ca908f8-7afb-45ef-a69b-846ae90a1da1",
   "metadata": {},
   "outputs": [],
   "source": [
    "MOS = 'PCR' # must be one of 'CCA', 'PCR'\n",
    "local_predictand_file = None\n",
    "predictor_names = [ 'CCSM4.SST', \n",
    "                   'CFSv2.SST', 'SEAS51b.SST',\n",
    "                   'METEOFRANCE8.SST',  \n",
    "                   'GEM5NEMO.SST',  'SPSv3p5.SST']\n",
    "\n",
    "predictor_names = [i for i in list(dl.hindcasts.keys()) if \"PRCP\" in i ]\n",
    "# Gridded predictand data from the PyCPT catalog.\n",
    "# Run dl.observations.keys() to see all predefined options.\n",
    "predictand_name = 'UCSB.PRCP'\n",
    "\n",
    "# Using a a predictand dataset from the IRI Data Library that\n",
    "# is not predefined in the PyCPT catalog.\n",
    "# This dataset happens to be a weather station data product.\n",
    "# dl.observations['GHCN.PRCP'] = \"http://iridl.ldeo.columbia.edu/SOURCES/.NOAA/.NCDC/.GHCN/.v2beta/IWMO/grid%3A//name/(IWMO)/def//units/(ids)/def//long_name/(Station)/def/1/1/20590/%3Agrid/replaceGRID/lon/{predictand_extent['west']}/{predictand_extent['east']}/masknotrange/SELECT/lat/{predictand_extent['south']}/{predictand_extent['north']}/masknotrange/SELECT/dup/a%3A/.lat//name//Y/def/%3Aa%3A/.lon//name//X/def/%3Aa%3A/.Name/%3Aa%3A/.prcp/T/({target}%20{first_year}-{final_year})/seasonalAverage/-999/setmissing_value/%3Aa/%7BY/X/Name/prcp%7Dds/{'%5BIWMO%5D%5BT%5D/' + filetype if filetype == 'cptv10.tsv' else 'data.nc'}\"\n",
    "# predictand_name = 'GHCN.PRCP'\n",
    "\n",
    "# When using predictand data from the Data Library, set this to None\n",
    "local_predictand_file = None\n",
    "# To read predictand data from a local file instead of the Data Library,\n",
    "# set local_predictand_file to the full pathname of the file. e.g.\n",
    "# local_predictand_file = \"/home/aaron/src/pycpt_notebooks/obs_PRCP_Oct-Dec.tsv\"\n",
    "#\n",
    "# The file should be formatted according to the following guidelines:\n",
    "# https://cpthelp.iri.columbia.edu/CPT_use_input_gridded.html\n",
    "# https://cpthelp.iri.columbia.edu/CPT_use_input_stations.html\n",
    "\n",
    "\n",
    "download_args = { \n",
    "    # 'fdate':\n",
    "    #   The initialization date of the model forecasts / hindcasts.\n",
    "    #   This field is defined by a python datetime.datetime object,\n",
    "    #   for example: dt.datetime(2022, 5, 1) # YYYY, MM, DD as integers\n",
    "    #   The year field is only used for forecasts, otherwise ignored.\n",
    "    #   The day field is only used in subseasonal forecasts, otherwise ignored.\n",
    "    #   The month field is an integer representing a month - ie, May=5.\n",
    "    'fdate':  dt.datetime(2025, 5, 1),\n",
    "\n",
    "    # 'target_first_year':\n",
    "    #   The year of the earliest hindcast target season to use for training. **NOT ALL MODELS HAVE ALL YEARS**.\n",
    "    #   Double check that your model has hindcast data for all years in [first_year, final_year].\n",
    "    #   Note that the year of a season is the year of its midpoint, e.g. the season from\n",
    "    #   Dec 1999 to Feb 2000 has its midpoint in mid-Jan 2000, so we call it the 2000 season.\n",
    "    #   This field is defined by a python integer representing a year, e.g. 1993.\n",
    "    'first_year': 1990,\n",
    "\n",
    "    # 'target_final_year':\n",
    "    #   Double check that your model has hindcast data for all years in [first_year, final_year].\n",
    "    #   This field is defined by a python integer representing a year, e.g. 2016.\n",
    "    'final_year': 2024,\n",
    "\n",
    "    # 'target': \n",
    "    #   Mmm-Mmm indicating the months included in the target period of the forecast. \n",
    "    #   This field is defined by a python string, with two three-letter month name abbreviations \n",
    "    #   whose first letters are capitalized, and all other letters are lowercase\n",
    "    #   and who are separated by a dash character. \n",
    "    #   For example, if you wanted a JJA target period, you would use 'Jun-Aug'.\n",
    "    'target': 'Jun-Sep',\n",
    "\n",
    "    # 'predictor_extent':\n",
    "    #   The geographic bounding box of the climate model data you want to download.\n",
    "    #   This field is defined by a python dictionary with the keys \"north\", \"south\",\n",
    "    #   \"east\", and \"west\", each of which maps to a python integer representing the \n",
    "    #   edge of a bounding box. i.e., \"north\" will be the northernmost boundary,\n",
    "    #   \"south\" the southernmost boundary.\n",
    "    #   Example: {\"north\": 90, \"south\": -90, \"east\": 0, \"west\": 180}\n",
    "    'predictor_extent': {\n",
    "        # 'east':  -90,\n",
    "        # 'west': -150,  \n",
    "        # 'north': 10,  \n",
    "        # 'south': -10, \n",
    "\n",
    "         'east': 30,\n",
    "        'west': -27,  \n",
    "        'north': 34,  \n",
    "        'south': 0, \n",
    "    }, \n",
    "\n",
    "    # 'predictand_extent':\n",
    "    #   The geographic bounding box of the observation data you want to download.\n",
    "    #   This field is defined by a python dictionary with the keys \"north\", \"south\",\n",
    "    #   \"east\", and \"west\", each of which maps to a python integer representing the \n",
    "    #   edge of a bounding box. i.e., \"north\" will be the northernmost boundary,\n",
    "    #   \"south\" the southernmost boundary.\n",
    "    #   Example: {\"north\": 90, \"south\": -90, \"east\": 0, \"west\": 180}\n",
    "    'predictand_extent': {\n",
    "        'east': 28,\n",
    "        'west': -18,  \n",
    "        'north': 29,  \n",
    "        'south': 0, \n",
    "    },\n",
    "}\n"
   ]
  },
  {
   "cell_type": "markdown",
   "id": "549de1a1",
   "metadata": {},
   "source": [
    "### Show the working directory"
   ]
  },
  {
   "cell_type": "code",
   "execution_count": 7,
   "id": "e2369a09",
   "metadata": {},
   "outputs": [
    {
     "name": "stdout",
     "output_type": "stream",
     "text": [
      "Input data will be saved in D:\\CCR_AOS\\WASS2SHydroR-training\\data\\pycpt_HydroApr2025_SST_Nino_v3\\-18W-28E_to_0S-29N\\data\n",
      "Figures will be saved in D:\\CCR_AOS\\WASS2SHydroR-training\\data\\pycpt_HydroApr2025_SST_Nino_v3\\-18W-28E_to_0S-29N\\figures\n",
      "Output will be saved in D:\\CCR_AOS\\WASS2SHydroR-training\\data\\pycpt_HydroApr2025_SST_Nino_v3\\-18W-28E_to_0S-29N\\output\n"
     ]
    }
   ],
   "source": [
    "domain_dir = pycpt.setup(case_directory, download_args[\"predictor_extent\"])"
   ]
  },
  {
   "cell_type": "markdown",
   "id": "95b253c1",
   "metadata": {},
   "source": [
    "### Plot the predictors and the predictants extents"
   ]
  },
  {
   "cell_type": "code",
   "execution_count": 8,
   "id": "c7f71884",
   "metadata": {},
   "outputs": [],
   "source": [
    "e=download_args[\"predictor_extent\"]['east']\n",
    "w=download_args[\"predictor_extent\"]['west']\n",
    "n=download_args[\"predictor_extent\"]['north']\n",
    "s=download_args[\"predictor_extent\"]['south']\n",
    "e1=download_args[\"predictand_extent\"]['east']\n",
    "w1=download_args[\"predictand_extent\"]['west']\n",
    "n1=download_args[\"predictand_extent\"]['north']\n",
    "s1=download_args[\"predictand_extent\"]['south']\n",
    "domainFolder = str(w) + \"W-\" + str(e) + \"E\" + \"_to_\" + str(s) + \"S-\" + str(n) + \"N\"\n",
    "dataDir = domain_dir / \"data\""
   ]
  },
  {
   "cell_type": "code",
   "execution_count": 9,
   "id": "7ce4f34b",
   "metadata": {},
   "outputs": [
    {
     "data": {
      "image/png": "[encoded data removed]",
      "text/plain": [
       "<Figure size 500x500 with 2 Axes>"
      ]
     },
     "metadata": {},
     "output_type": "display_data"
    }
   ],
   "source": [
    "pycpt.plot_domains(download_args['predictor_extent'], download_args['predictand_extent'])"
   ]
  },
  {
   "cell_type": "markdown",
   "id": "cd3ba8ec",
   "metadata": {},
   "source": [
    "## Download Observations, Hindcasts, and Forecasts from IRI Data Library\n"
   ]
  },
  {
   "cell_type": "markdown",
   "id": "99888410-b943-4b6a-97f7-74dadb00562d",
   "metadata": {},
   "source": [
    "Set **force_download** = False to avoid re-downloading files you have already downloaded. Note: if you have changed anything in download_args since the data were last downloaded, you must set force_download = True, otherwise you will use the old data instead of the new."
   ]
  },
  {
   "cell_type": "code",
   "execution_count": 10,
   "id": "32d8fc3f",
   "metadata": {},
   "outputs": [],
   "source": [
    "force_download = False"
   ]
  },
  {
   "cell_type": "code",
   "execution_count": 11,
   "id": "7d01cb8a-69f0-4000-9767-09652129341a",
   "metadata": {},
   "outputs": [
    {
     "data": {
      "text/plain": [
       "WindowsPath('D:/CCR_AOS/WASS2SHydroR-training/data/pycpt_HydroApr2025_SST_Nino_v3/-18W-28E_to_0S-29N')"
      ]
     },
     "execution_count": 11,
     "metadata": {},
     "output_type": "execute_result"
    }
   ],
   "source": [
    "domain_dir"
   ]
  },
  {
   "cell_type": "code",
   "execution_count": 13,
   "id": "d7b32a66",
   "metadata": {
    "scrolled": true
   },
   "outputs": [
    {
     "name": "stdout",
     "output_type": "stream",
     "text": [
      "Downloading CanCM4i.PRCP_f2025\n",
      "URL: https://iridl.ldeo.columbia.edu/SOURCES/.Models/.NMME/.CanCM4i/.FORECAST/.MONTHLY/.prec/S/first/(1%20Sep%202021)/RANGEEDGES/SOURCES/.Models/.NMME/.CanSIPS-IC3/.CanCM4i-IC3/.FORECAST/.MONTHLY/.prec/appendstream/S/%280000%201%20May%202025%29/VALUES/L/1.5/4.5/RANGEEDGES/%5BL%5D//keepgrids/average/%5BM%5D/average/Y/0/29/RANGEEDGES/X/-18/28/RANGEEDGES/122/mul/-999/setmissing_value/%5BX/Y%5D%5BL/S/add%5D/cptv10.tsv\n",
      "Not found. Continuing without it.\n",
      "\n",
      "Downloading CanSIPSv2.PRCP_f2025\n",
      "URL: https://iridl.ldeo.columbia.edu/SOURCES/.Models/.NMME/.CanSIPSv2/.HINDCAST/.MONTHLY/.prec/SOURCES/.Models/.NMME/.CanSIPSv2/.FORECAST/.MONTHLY/.prec/appendstream/S/%280000%201%20May%202025%29/VALUES/L/1.5/4.5/RANGEEDGES/%5BL%5D//keepgrids/average/%5BM%5D/average/Y/0/29/RANGEEDGES/X/-18/28/RANGEEDGES/122/mul/-999/setmissing_value/%5BX/Y%5D%5BL/S/add%5D/cptv10.tsv\n",
      "Not found. Continuing without it.\n",
      "\n",
      "Downloading CanSIPSIC3.PRCP_f2025\n",
      "URL: https://iridl.ldeo.columbia.edu/SOURCES/.Models/.NMME/.CanSIPS-IC3/.FORECAST/.MONTHLY/.prec/S/%280000%201%20May%202025%29/VALUES/L/1.5/4.5/RANGEEDGES/%5BL%5D//keepgrids/average/%5BM%5D/average/Y/0/29/RANGEEDGES/X/-18/28/RANGEEDGES/122/mul/-999/setmissing_value/%5BX/Y%5D%5BL/S/add%5D/cptv10.tsv\n",
      "Not found. Continuing without it.\n",
      "\n",
      "Reusing already-downloaded CanSIPSIC4.PRCP_f2025\n",
      "\n",
      "Downloading GEM5NEMO.PRCP_f2025\n",
      "URL: https://iridl.ldeo.columbia.edu/SOURCES/.Models/.NMME/.CanSIPS-IC3/.GEM5-NEMO/.FORECAST/.MONTHLY/.prec/S/%280000%201%20May%202025%29/VALUES/L/1.5/4.5/RANGEEDGES/%5BL%5D//keepgrids/average/%5BM%5D/average/Y/0/29/RANGEEDGES/X/-18/28/RANGEEDGES/122/mul/-999/setmissing_value/%5BX/Y%5D%5BL/S/add%5D/cptv10.tsv\n",
      "Not found. Continuing without it.\n",
      "\n",
      "Reusing already-downloaded CCSM4.PRCP_f2025\n",
      "\n",
      "Reusing already-downloaded CESM1.PRCP_f2025\n",
      "\n",
      "Downloading CanCM3.PRCP_f2025\n",
      "URL: https://iridl.ldeo.columbia.edu/SOURCES/.Models/.NMME/.CMC1-CanCM3/.HINDCAST/.MONTHLY/.prec/SOURCES/.Models/.NMME/.CMC1-CanCM3/.FORECAST/.MONTHLY/.prec/appendstream/S/%280000%201%20May%202025%29/VALUES/L/1.5/4.5/RANGEEDGES/%5BL%5D//keepgrids/average/%5BM%5D/average/Y/0/29/RANGEEDGES/X/-18/28/RANGEEDGES/122/mul/-999/setmissing_value/%5BX/Y%5D%5BL/S/add%5D/cptv10.tsv\n",
      "Not found. Continuing without it.\n",
      "\n",
      "Downloading CanCM4.PRCP_f2025\n",
      "URL: https://iridl.ldeo.columbia.edu/SOURCES/.Models/.NMME/.CMC2-CanCM4/.HINDCAST/.MONTHLY/.prec/SOURCES/.Models/.NMME/.CMC2-CanCM4/.FORECAST/.MONTHLY/.prec/appendstream/S/%280000%201%20May%202025%29/VALUES/L/1.5/4.5/RANGEEDGES/%5BL%5D//keepgrids/average/%5BM%5D/average/Y/0/29/RANGEEDGES/X/-18/28/RANGEEDGES/122/mul/-999/setmissing_value/%5BX/Y%5D%5BL/S/add%5D/cptv10.tsv\n",
      "Not found. Continuing without it.\n",
      "\n",
      "Downloading FLORB01.PRCP_f2025\n",
      "URL: https://iridl.ldeo.columbia.edu/SOURCES/.Models/.NMME/.GFDL-CM2p5-FLOR-B01/.MONTHLY/.prec/S/%280000%201%20May%202025%29/VALUES/L/1.5/4.5/RANGEEDGES/%5BL%5D//keepgrids/average/Y/0/29/RANGEEDGES/X/-18/28/RANGEEDGES/%5BM%5D/average/122/mul/-999/setmissing_value/%5BX/Y%5D%5BL/S/add%5D/cptv10.tsv\n",
      "Not found. Continuing without it.\n",
      "\n",
      "Downloading FLORA06.PRCP_f2025\n",
      "URL: https://iridl.ldeo.columbia.edu/SOURCES/.Models/.NMME/.GFDL-CM2p5-FLOR-A06/.MONTHLY/.prec/S/%280000%201%20May%202025%29/VALUES/L/1.5/4.5/RANGEEDGES/%5BL%5D//keepgrids/average/Y/0/29/RANGEEDGES/X/-18/28/RANGEEDGES/%5BM%5D/average/122/mul/-999/setmissing_value/%5BX/Y%5D%5BL/S/add%5D/cptv10.tsv\n",
      "Not found. Continuing without it.\n",
      "\n",
      "Reusing already-downloaded SPEAR.PRCP_f2025\n",
      "\n",
      "Reusing already-downloaded GEOSS2S.PRCP_f2025\n",
      "\n",
      "Reusing already-downloaded CFSv2.PRCP_f2025\n",
      "\n",
      "Reusing already-downloaded SPSv3p5.PRCP_f2025\n",
      "\n",
      "Downloading SPSv3p0.PRCP_f2025\n",
      "URL: https://iridl.ldeo.columbia.edu/SOURCES/.EU/.Copernicus/.CDS/.C3S/.CMCC/.SPSv3/.forecast/.prcp/S/%280000%201%20May%202025%29/VALUES/L/1.5/4.5/RANGEEDGES/%5BL%5D//keepgrids/average/Y/0/29/RANGEEDGES/X/-18/28/RANGEEDGES/%5BM%5D/average/c%3A/1000/(mm%20m-1)/%3Ac/mul/c%3A/86400/(s%20day-1)/%3Ac/mul/c%3A/122//units/(days)/def/%3Ac/mul/-999/setmissing_value/%5BX/Y%5D%5BL/S/add%5D/cptv10.tsv\n",
      "Not found. Continuing without it.\n",
      "\n",
      "Downloading GCFS2p0.PRCP_f2025\n",
      "URL: https://iridl.ldeo.columbia.edu/SOURCES/.EU/.Copernicus/.CDS/.C3S/.DWD/.GCFS2p0/.forecast/.prcp/S/%280000%201%20May%202025%29/VALUES/L/1.5/4.5/RANGEEDGES/%5BL%5D//keepgrids/average/Y/0/29/RANGEEDGES/X/-18/28/RANGEEDGES/%5BM%5D/average/c%3A/1000/(mm%20m-1)/%3Ac/mul/c%3A/86400/(s%20day-1)/%3Ac/mul/c%3A/122//units/(days)/def/%3Ac/mul/-999/setmissing_value/%5BX/Y%5D%5BL/S/add%5D/cptv10.tsv\n",
      "Not found. Continuing without it.\n",
      "\n",
      "Downloading GCFS2p1.PRCP_f2025\n",
      "URL: https://iridl.ldeo.columbia.edu/SOURCES/.EU/.Copernicus/.CDS/.C3S/.DWD/.GCFS2p1/.forecast/.prcp/S/%280000%201%20May%202025%29/VALUES/L/1.5/4.5/RANGEEDGES/%5BL%5D//keepgrids/average/Y/0/29/RANGEEDGES/X/-18/28/RANGEEDGES/%5BM%5D/average/c%3A/1000/(mm%20m-1)/%3Ac/mul/c%3A/86400/(s%20day-1)/%3Ac/mul/c%3A/122//units/(days)/def/%3Ac/mul/-999/setmissing_value/%5BX/Y%5D%5BL/S/add%5D/cptv10.tsv\n",
      "Not found. Continuing without it.\n",
      "\n",
      "Downloading SEAS5.PRCP_f2025\n",
      "URL: https://iridl.ldeo.columbia.edu/SOURCES/.EU/.Copernicus/.CDS/.C3S/.ECMWF/.SEAS5/.forecast/.prcp/S/%280000%201%20May%202025%29/VALUES/L/1.5/4.5/RANGEEDGES/%5BL%5D//keepgrids/average/Y/0/29/RANGEEDGES/X/-18/28/RANGEEDGES/%5BM%5D/average/c%3A/1000/(mm%20m-1)/%3Ac/mul/c%3A/86400/(s%20day-1)/%3Ac/mul/c%3A/122//units/(days)/def/%3Ac/mul/-999/setmissing_value/%5BX/Y%5D%5BL/S/add%5D/cptv10.tsv\n",
      "Not found. Continuing without it.\n",
      "\n",
      "Reusing already-downloaded SEAS51.PRCP_f2025\n",
      "\n",
      "Reusing already-downloaded SEAS51b.PRCP_f2025\n",
      "\n",
      "Reusing already-downloaded SEAS51c.PRCP_f2025\n",
      "\n",
      "Downloading CPS2.PRCP_f2025\n",
      "URL: https://iridl.ldeo.columbia.edu/SOURCES/.EU/.Copernicus/.CDS/.C3S/.JMA/.CPS2/.forecast/.prec/S/%280000%201%20May%202025%29/VALUES/L/1.5/4.5/RANGEEDGES/%5BL%5D//keepgrids/average/Y/0/29/RANGEEDGES/X/-18/28/RANGEEDGES/%5BM%5D/average/c%3A/1000/(mm%20m-1)/%3Ac/mul/c%3A/86400/(s%20day-1)/%3Ac/mul/c%3A/122//units/(days)/def/%3Ac/mul/-999/setmissing_value/%5BX/Y%5D%5BL/S/add%5D/cptv10.tsv\n"
     ]
    },
    {
     "name": "stderr",
     "output_type": "stream",
     "text": [
      "C:\\Users\\ARSENE\\.local\\share\\mamba\\envs\\download_predictors\\Lib\\site-packages\\pycpt\\notebook.py:303: UserWarning: SEAS51.PRCP is deprecated. New configurations should use SEAS51c.PRCP instead. See https://iridl.ldeo.columbia.edu/SOURCES/.EU/.Copernicus/.CDS/.C3S/.ECMWF/.dataset_documentation.html .\n",
      "  warnings.warn(\n",
      "C:\\Users\\ARSENE\\.local\\share\\mamba\\envs\\download_predictors\\Lib\\site-packages\\pycpt\\notebook.py:303: UserWarning: SEAS51b.PRCP is deprecated. New configurations should use SEAS51c.PRCP instead. See https://iridl.ldeo.columbia.edu/SOURCES/.EU/.Copernicus/.CDS/.C3S/.ECMWF/.dataset_documentation.html .\n",
      "  warnings.warn(\n"
     ]
    },
    {
     "name": "stdout",
     "output_type": "stream",
     "text": [
      "Not found. Continuing without it.\n",
      "\n",
      "Downloading METEOFRANCE7.PRCP_f2025\n",
      "URL: https://iridl.ldeo.columbia.edu/SOURCES/.EU/.Copernicus/.CDS/.C3S/.Meteo_France/.System7/.forecast/.prcp/S/%280000%201%20May%202025%29/VALUES/L/1.5/4.5/RANGEEDGES/%5BL%5D//keepgrids/average/Y/0/29/RANGEEDGES/X/-18/28/RANGEEDGES/%5BM%5D/average/c%3A/1000/(mm%20m-1)/%3Ac/mul/c%3A/86400/(s%20day-1)/%3Ac/mul/c%3A/122//units/(days)/def/%3Ac/mul/-999/setmissing_value/%5BX/Y%5D%5BL/S/add%5D/cptv10.tsv\n"
     ]
    },
    {
     "ename": "KeyboardInterrupt",
     "evalue": "",
     "output_type": "error",
     "traceback": [
      "\u001b[1;31m---------------------------------------------------------------------------\u001b[0m",
      "\u001b[1;31mKeyboardInterrupt\u001b[0m                         Traceback (most recent call last)",
      "Cell \u001b[1;32mIn[13], line 1\u001b[0m\n\u001b[1;32m----> 1\u001b[0m Y, hindcast_data, forecast_data \u001b[38;5;241m=\u001b[39m \u001b[43mpycpt\u001b[49m\u001b[38;5;241;43m.\u001b[39;49m\u001b[43mdownload_data\u001b[49m\u001b[43m(\u001b[49m\u001b[43mpredictand_name\u001b[49m\u001b[43m,\u001b[49m\u001b[43m \u001b[49m\n\u001b[0;32m      2\u001b[0m \u001b[43m                                                      \u001b[49m\u001b[43mlocal_predictand_file\u001b[49m\u001b[43m,\u001b[49m\u001b[43m \u001b[49m\n\u001b[0;32m      3\u001b[0m \u001b[43m                                                      \u001b[49m\u001b[43mpredictor_names\u001b[49m\u001b[43m,\u001b[49m\u001b[43m \u001b[49m\n\u001b[0;32m      4\u001b[0m \u001b[43m                                                      \u001b[49m\u001b[43mdownload_args\u001b[49m\u001b[43m,\u001b[49m\u001b[43m \u001b[49m\n\u001b[0;32m      5\u001b[0m \u001b[43m                                                      \u001b[49m\u001b[43mdomain_dir\u001b[49m\u001b[43m,\u001b[49m\u001b[43m \u001b[49m\u001b[43mforce_download\u001b[49m\u001b[43m)\u001b[49m\n",
      "File \u001b[1;32m~\\.local\\share\\mamba\\envs\\download_predictors\\Lib\\site-packages\\pycpt\\notebook.py:65\u001b[0m, in \u001b[0;36mdownload_data\u001b[1;34m(predictand_name, local_predictand_file, predictor_names, download_args, files_root, force_download)\u001b[0m\n\u001b[0;32m     57\u001b[0m \u001b[38;5;28;01mdef\u001b[39;00m \u001b[38;5;21mdownload_data\u001b[39m(\n\u001b[0;32m     58\u001b[0m         predictand_name,\n\u001b[0;32m     59\u001b[0m         local_predictand_file,\n\u001b[1;32m   (...)\u001b[0m\n\u001b[0;32m     63\u001b[0m         force_download,\n\u001b[0;32m     64\u001b[0m ):\n\u001b[1;32m---> 65\u001b[0m     forecast_data \u001b[38;5;241m=\u001b[39m \u001b[43mdownload_forecasts\u001b[49m\u001b[43m(\u001b[49m\n\u001b[0;32m     66\u001b[0m \u001b[43m        \u001b[49m\u001b[43mpredictor_names\u001b[49m\u001b[43m,\u001b[49m\u001b[43m \u001b[49m\u001b[43mfiles_root\u001b[49m\u001b[43m,\u001b[49m\u001b[43m \u001b[49m\u001b[43mforce_download\u001b[49m\u001b[43m,\u001b[49m\u001b[43m \u001b[49m\u001b[43mdownload_args\u001b[49m\n\u001b[0;32m     67\u001b[0m \u001b[43m    \u001b[49m\u001b[43m)\u001b[49m\n\u001b[0;32m     68\u001b[0m     \u001b[38;5;28;01mif\u001b[39;00m local_predictand_file \u001b[38;5;129;01mis\u001b[39;00m \u001b[38;5;28;01mNone\u001b[39;00m:\n\u001b[0;32m     69\u001b[0m         Y \u001b[38;5;241m=\u001b[39m download_observations(\n\u001b[0;32m     70\u001b[0m             download_args, files_root, predictand_name, force_download\n\u001b[0;32m     71\u001b[0m         )\n",
      "File \u001b[1;32m~\\.local\\share\\mamba\\envs\\download_predictors\\Lib\\site-packages\\pycpt\\notebook.py:325\u001b[0m, in \u001b[0;36mdownload_forecasts\u001b[1;34m(predictor_names, files_root, force_download, download_args)\u001b[0m\n\u001b[0;32m    323\u001b[0m warn_if_deprecated(model)\n\u001b[0;32m    324\u001b[0m \u001b[38;5;28;01mtry\u001b[39;00m:\n\u001b[1;32m--> 325\u001b[0m     da \u001b[38;5;241m=\u001b[39m \u001b[43mcached_download\u001b[49m\u001b[43m(\u001b[49m\n\u001b[0;32m    326\u001b[0m \u001b[43m        \u001b[49m\u001b[43mdl\u001b[49m\u001b[38;5;241;43m.\u001b[39;49m\u001b[43mforecasts\u001b[49m\u001b[43m[\u001b[49m\u001b[43mmodel\u001b[49m\u001b[43m]\u001b[49m\u001b[43m,\u001b[49m\n\u001b[0;32m    327\u001b[0m \u001b[43m        \u001b[49m\u001b[43mfiles_root\u001b[49m\u001b[43m,\u001b[49m\n\u001b[0;32m    328\u001b[0m \u001b[43m        \u001b[49m\u001b[38;5;124;43mf\u001b[39;49m\u001b[38;5;124;43m'\u001b[39;49m\u001b[38;5;132;43;01m{\u001b[39;49;00m\u001b[43mmodel\u001b[49m\u001b[38;5;132;43;01m}\u001b[39;49;00m\u001b[38;5;124;43m_f\u001b[39;49m\u001b[38;5;132;43;01m{\u001b[39;49;00m\u001b[43mdownload_args\u001b[49m\u001b[43m[\u001b[49m\u001b[38;5;124;43m\"\u001b[39;49m\u001b[38;5;124;43mfdate\u001b[39;49m\u001b[38;5;124;43m\"\u001b[39;49m\u001b[43m]\u001b[49m\u001b[38;5;241;43m.\u001b[39;49m\u001b[43myear\u001b[49m\u001b[38;5;132;43;01m}\u001b[39;49;00m\u001b[38;5;124;43m'\u001b[39;49m\u001b[43m,\u001b[49m\n\u001b[0;32m    329\u001b[0m \u001b[43m        \u001b[49m\u001b[43mforce_download\u001b[49m\u001b[43m,\u001b[49m\n\u001b[0;32m    330\u001b[0m \u001b[43m        \u001b[49m\u001b[43mdownload_args\u001b[49m\u001b[43m,\u001b[49m\n\u001b[0;32m    331\u001b[0m \u001b[43m    \u001b[49m\u001b[43m)\u001b[49m\n\u001b[0;32m    332\u001b[0m \u001b[38;5;28;01mexcept\u001b[39;00m requests\u001b[38;5;241m.\u001b[39mexceptions\u001b[38;5;241m.\u001b[39mHTTPError \u001b[38;5;28;01mas\u001b[39;00m e:\n\u001b[0;32m    333\u001b[0m     \u001b[38;5;28;01mif\u001b[39;00m e\u001b[38;5;241m.\u001b[39mresponse\u001b[38;5;241m.\u001b[39mstatus_code \u001b[38;5;241m==\u001b[39m \u001b[38;5;241m404\u001b[39m:\n",
      "File \u001b[1;32m~\\.local\\share\\mamba\\envs\\download_predictors\\Lib\\site-packages\\pycpt\\notebook.py:351\u001b[0m, in \u001b[0;36mcached_download\u001b[1;34m(url_pattern, files_root, basename, force_download, download_args)\u001b[0m\n\u001b[0;32m    349\u001b[0m \u001b[38;5;28;01mif\u001b[39;00m \u001b[38;5;129;01mnot\u001b[39;00m ncfile\u001b[38;5;241m.\u001b[39mis_file() \u001b[38;5;129;01mor\u001b[39;00m force_download:\n\u001b[0;32m    350\u001b[0m     \u001b[38;5;28mprint\u001b[39m(\u001b[38;5;124mf\u001b[39m\u001b[38;5;124m'\u001b[39m\u001b[38;5;124mDownloading \u001b[39m\u001b[38;5;132;01m{\u001b[39;00mbasename\u001b[38;5;132;01m}\u001b[39;00m\u001b[38;5;124m'\u001b[39m)\n\u001b[1;32m--> 351\u001b[0m     ds \u001b[38;5;241m=\u001b[39m \u001b[43mdl\u001b[49m\u001b[38;5;241;43m.\u001b[39;49m\u001b[43mdownload\u001b[49m\u001b[43m(\u001b[49m\n\u001b[0;32m    352\u001b[0m \u001b[43m        \u001b[49m\u001b[43murl_pattern\u001b[49m\u001b[43m,\u001b[49m\n\u001b[0;32m    353\u001b[0m \u001b[43m        \u001b[49m\u001b[43mtsvfile\u001b[49m\u001b[43m,\u001b[49m\n\u001b[0;32m    354\u001b[0m \u001b[43m        \u001b[49m\u001b[38;5;241;43m*\u001b[39;49m\u001b[38;5;241;43m*\u001b[39;49m\u001b[43mfull_download_args\u001b[49m\u001b[43m,\u001b[49m\n\u001b[0;32m    355\u001b[0m \u001b[43m        \u001b[49m\u001b[43mverbose\u001b[49m\u001b[38;5;241;43m=\u001b[39;49m\u001b[38;5;28;43;01mTrue\u001b[39;49;00m\u001b[43m,\u001b[49m\n\u001b[0;32m    356\u001b[0m \u001b[43m    \u001b[49m\u001b[43m)\u001b[49m\n\u001b[0;32m    357\u001b[0m     ds\u001b[38;5;241m.\u001b[39mto_netcdf(ncfile)\n\u001b[0;32m    358\u001b[0m \u001b[38;5;28;01melse\u001b[39;00m:\n",
      "File \u001b[1;32m~\\.local\\share\\mamba\\envs\\download_predictors\\Lib\\site-packages\\cptdl\\utilities.py:128\u001b[0m, in \u001b[0;36mdownload\u001b[1;34m(baseurl, dest, verbose, use_dlauth, **kwargs)\u001b[0m\n\u001b[0;32m    125\u001b[0m \u001b[38;5;28;01mexcept\u001b[39;00m:\n\u001b[0;32m    126\u001b[0m     \u001b[38;5;28;01mraise\u001b[39;00m PyCPT_ERROR(\u001b[38;5;124m\"\u001b[39m\u001b[38;5;124mYou must pass all the required arguments for this URL as keyword arguments in .download(...). \u001b[39m\u001b[38;5;130;01m\\n\u001b[39;00m\u001b[38;5;124m URL: \u001b[39m\u001b[38;5;132;01m{}\u001b[39;00m\u001b[38;5;130;01m\\n\u001b[39;00m\u001b[38;5;124m ARGS: \u001b[39m\u001b[38;5;132;01m{}\u001b[39;00m\u001b[38;5;124m\"\u001b[39m\u001b[38;5;241m.\u001b[39mformat(baseurl, kwargs))\n\u001b[1;32m--> 128\u001b[0m path \u001b[38;5;241m=\u001b[39m \u001b[43msimple_download\u001b[49m\u001b[43m(\u001b[49m\u001b[43murl\u001b[49m\u001b[43m,\u001b[49m\u001b[43m \u001b[49m\u001b[43mdest\u001b[49m\u001b[43m,\u001b[49m\u001b[43m \u001b[49m\u001b[43mverbose\u001b[49m\u001b[38;5;241;43m=\u001b[39;49m\u001b[43mverbose\u001b[49m\u001b[43m,\u001b[49m\u001b[43m \u001b[49m\u001b[43muse_dlauth\u001b[49m\u001b[38;5;241;43m=\u001b[39;49m\u001b[43muse_dlauth\u001b[49m\u001b[43m)\u001b[49m\n\u001b[0;32m    130\u001b[0m \u001b[38;5;28;01mtry\u001b[39;00m: \n\u001b[0;32m    131\u001b[0m     ds \u001b[38;5;241m=\u001b[39m cio\u001b[38;5;241m.\u001b[39mopen_cptdataset(path) \u001b[38;5;28;01mif\u001b[39;00m \u001b[38;5;28mformat\u001b[39m \u001b[38;5;241m==\u001b[39m \u001b[38;5;124m'\u001b[39m\u001b[38;5;124mcptv10.tsv\u001b[39m\u001b[38;5;124m'\u001b[39m \u001b[38;5;28;01melse\u001b[39;00m xr\u001b[38;5;241m.\u001b[39mopen_dataset(path, decode_times\u001b[38;5;241m=\u001b[39m\u001b[38;5;28;01mFalse\u001b[39;00m) \n",
      "File \u001b[1;32m~\\.local\\share\\mamba\\envs\\download_predictors\\Lib\\site-packages\\cptdl\\utilities.py:96\u001b[0m, in \u001b[0;36msimple_download\u001b[1;34m(url, dest, verbose, use_dlauth)\u001b[0m\n\u001b[0;32m     94\u001b[0m \u001b[38;5;28;01melse\u001b[39;00m:\n\u001b[0;32m     95\u001b[0m     cookies\u001b[38;5;241m=\u001b[39m{}\n\u001b[1;32m---> 96\u001b[0m \u001b[38;5;28;01mwith\u001b[39;00m \u001b[43mrequests\u001b[49m\u001b[38;5;241;43m.\u001b[39;49m\u001b[43mpost\u001b[49m\u001b[43m(\u001b[49m\u001b[43murl\u001b[49m\u001b[43m,\u001b[49m\u001b[43m \u001b[49m\u001b[43mstream\u001b[49m\u001b[38;5;241;43m=\u001b[39;49m\u001b[38;5;28;43;01mTrue\u001b[39;49;00m\u001b[43m,\u001b[49m\u001b[43m \u001b[49m\u001b[43mallow_redirects\u001b[49m\u001b[38;5;241;43m=\u001b[39;49m\u001b[38;5;28;43;01mTrue\u001b[39;49;00m\u001b[43m,\u001b[49m\u001b[43m \u001b[49m\u001b[43mcookies\u001b[49m\u001b[38;5;241;43m=\u001b[39;49m\u001b[43mcookies\u001b[49m\u001b[43m)\u001b[49m \u001b[38;5;28;01mas\u001b[39;00m r:\n\u001b[0;32m     97\u001b[0m     r\u001b[38;5;241m.\u001b[39mraise_for_status()  \n\u001b[0;32m     98\u001b[0m     path \u001b[38;5;241m=\u001b[39m Path(dest)\u001b[38;5;241m.\u001b[39mexpanduser()\u001b[38;5;241m.\u001b[39mresolve()\n",
      "File \u001b[1;32m~\\.local\\share\\mamba\\envs\\download_predictors\\Lib\\site-packages\\requests\\api.py:115\u001b[0m, in \u001b[0;36mpost\u001b[1;34m(url, data, json, **kwargs)\u001b[0m\n\u001b[0;32m    103\u001b[0m \u001b[38;5;28;01mdef\u001b[39;00m \u001b[38;5;21mpost\u001b[39m(url, data\u001b[38;5;241m=\u001b[39m\u001b[38;5;28;01mNone\u001b[39;00m, json\u001b[38;5;241m=\u001b[39m\u001b[38;5;28;01mNone\u001b[39;00m, \u001b[38;5;241m*\u001b[39m\u001b[38;5;241m*\u001b[39mkwargs):\n\u001b[0;32m    104\u001b[0m \u001b[38;5;250m    \u001b[39m\u001b[38;5;124mr\u001b[39m\u001b[38;5;124;03m\"\"\"Sends a POST request.\u001b[39;00m\n\u001b[0;32m    105\u001b[0m \n\u001b[0;32m    106\u001b[0m \u001b[38;5;124;03m    :param url: URL for the new :class:`Request` object.\u001b[39;00m\n\u001b[1;32m   (...)\u001b[0m\n\u001b[0;32m    112\u001b[0m \u001b[38;5;124;03m    :rtype: requests.Response\u001b[39;00m\n\u001b[0;32m    113\u001b[0m \u001b[38;5;124;03m    \"\"\"\u001b[39;00m\n\u001b[1;32m--> 115\u001b[0m     \u001b[38;5;28;01mreturn\u001b[39;00m \u001b[43mrequest\u001b[49m\u001b[43m(\u001b[49m\u001b[38;5;124;43m\"\u001b[39;49m\u001b[38;5;124;43mpost\u001b[39;49m\u001b[38;5;124;43m\"\u001b[39;49m\u001b[43m,\u001b[49m\u001b[43m \u001b[49m\u001b[43murl\u001b[49m\u001b[43m,\u001b[49m\u001b[43m \u001b[49m\u001b[43mdata\u001b[49m\u001b[38;5;241;43m=\u001b[39;49m\u001b[43mdata\u001b[49m\u001b[43m,\u001b[49m\u001b[43m \u001b[49m\u001b[43mjson\u001b[49m\u001b[38;5;241;43m=\u001b[39;49m\u001b[43mjson\u001b[49m\u001b[43m,\u001b[49m\u001b[43m \u001b[49m\u001b[38;5;241;43m*\u001b[39;49m\u001b[38;5;241;43m*\u001b[39;49m\u001b[43mkwargs\u001b[49m\u001b[43m)\u001b[49m\n",
      "File \u001b[1;32m~\\.local\\share\\mamba\\envs\\download_predictors\\Lib\\site-packages\\requests\\api.py:59\u001b[0m, in \u001b[0;36mrequest\u001b[1;34m(method, url, **kwargs)\u001b[0m\n\u001b[0;32m     55\u001b[0m \u001b[38;5;66;03m# By using the 'with' statement we are sure the session is closed, thus we\u001b[39;00m\n\u001b[0;32m     56\u001b[0m \u001b[38;5;66;03m# avoid leaving sockets open which can trigger a ResourceWarning in some\u001b[39;00m\n\u001b[0;32m     57\u001b[0m \u001b[38;5;66;03m# cases, and look like a memory leak in others.\u001b[39;00m\n\u001b[0;32m     58\u001b[0m \u001b[38;5;28;01mwith\u001b[39;00m sessions\u001b[38;5;241m.\u001b[39mSession() \u001b[38;5;28;01mas\u001b[39;00m session:\n\u001b[1;32m---> 59\u001b[0m     \u001b[38;5;28;01mreturn\u001b[39;00m \u001b[43msession\u001b[49m\u001b[38;5;241;43m.\u001b[39;49m\u001b[43mrequest\u001b[49m\u001b[43m(\u001b[49m\u001b[43mmethod\u001b[49m\u001b[38;5;241;43m=\u001b[39;49m\u001b[43mmethod\u001b[49m\u001b[43m,\u001b[49m\u001b[43m \u001b[49m\u001b[43murl\u001b[49m\u001b[38;5;241;43m=\u001b[39;49m\u001b[43murl\u001b[49m\u001b[43m,\u001b[49m\u001b[43m \u001b[49m\u001b[38;5;241;43m*\u001b[39;49m\u001b[38;5;241;43m*\u001b[39;49m\u001b[43mkwargs\u001b[49m\u001b[43m)\u001b[49m\n",
      "File \u001b[1;32m~\\.local\\share\\mamba\\envs\\download_predictors\\Lib\\site-packages\\requests\\sessions.py:589\u001b[0m, in \u001b[0;36mSession.request\u001b[1;34m(self, method, url, params, data, headers, cookies, files, auth, timeout, allow_redirects, proxies, hooks, stream, verify, cert, json)\u001b[0m\n\u001b[0;32m    584\u001b[0m send_kwargs \u001b[38;5;241m=\u001b[39m {\n\u001b[0;32m    585\u001b[0m     \u001b[38;5;124m\"\u001b[39m\u001b[38;5;124mtimeout\u001b[39m\u001b[38;5;124m\"\u001b[39m: timeout,\n\u001b[0;32m    586\u001b[0m     \u001b[38;5;124m\"\u001b[39m\u001b[38;5;124mallow_redirects\u001b[39m\u001b[38;5;124m\"\u001b[39m: allow_redirects,\n\u001b[0;32m    587\u001b[0m }\n\u001b[0;32m    588\u001b[0m send_kwargs\u001b[38;5;241m.\u001b[39mupdate(settings)\n\u001b[1;32m--> 589\u001b[0m resp \u001b[38;5;241m=\u001b[39m \u001b[38;5;28;43mself\u001b[39;49m\u001b[38;5;241;43m.\u001b[39;49m\u001b[43msend\u001b[49m\u001b[43m(\u001b[49m\u001b[43mprep\u001b[49m\u001b[43m,\u001b[49m\u001b[43m \u001b[49m\u001b[38;5;241;43m*\u001b[39;49m\u001b[38;5;241;43m*\u001b[39;49m\u001b[43msend_kwargs\u001b[49m\u001b[43m)\u001b[49m\n\u001b[0;32m    591\u001b[0m \u001b[38;5;28;01mreturn\u001b[39;00m resp\n",
      "File \u001b[1;32m~\\.local\\share\\mamba\\envs\\download_predictors\\Lib\\site-packages\\requests\\sessions.py:703\u001b[0m, in \u001b[0;36mSession.send\u001b[1;34m(self, request, **kwargs)\u001b[0m\n\u001b[0;32m    700\u001b[0m start \u001b[38;5;241m=\u001b[39m preferred_clock()\n\u001b[0;32m    702\u001b[0m \u001b[38;5;66;03m# Send the request\u001b[39;00m\n\u001b[1;32m--> 703\u001b[0m r \u001b[38;5;241m=\u001b[39m \u001b[43madapter\u001b[49m\u001b[38;5;241;43m.\u001b[39;49m\u001b[43msend\u001b[49m\u001b[43m(\u001b[49m\u001b[43mrequest\u001b[49m\u001b[43m,\u001b[49m\u001b[43m \u001b[49m\u001b[38;5;241;43m*\u001b[39;49m\u001b[38;5;241;43m*\u001b[39;49m\u001b[43mkwargs\u001b[49m\u001b[43m)\u001b[49m\n\u001b[0;32m    705\u001b[0m \u001b[38;5;66;03m# Total elapsed time of the request (approximately)\u001b[39;00m\n\u001b[0;32m    706\u001b[0m elapsed \u001b[38;5;241m=\u001b[39m preferred_clock() \u001b[38;5;241m-\u001b[39m start\n",
      "File \u001b[1;32m~\\.local\\share\\mamba\\envs\\download_predictors\\Lib\\site-packages\\requests\\adapters.py:667\u001b[0m, in \u001b[0;36mHTTPAdapter.send\u001b[1;34m(self, request, stream, timeout, verify, cert, proxies)\u001b[0m\n\u001b[0;32m    664\u001b[0m     timeout \u001b[38;5;241m=\u001b[39m TimeoutSauce(connect\u001b[38;5;241m=\u001b[39mtimeout, read\u001b[38;5;241m=\u001b[39mtimeout)\n\u001b[0;32m    666\u001b[0m \u001b[38;5;28;01mtry\u001b[39;00m:\n\u001b[1;32m--> 667\u001b[0m     resp \u001b[38;5;241m=\u001b[39m \u001b[43mconn\u001b[49m\u001b[38;5;241;43m.\u001b[39;49m\u001b[43murlopen\u001b[49m\u001b[43m(\u001b[49m\n\u001b[0;32m    668\u001b[0m \u001b[43m        \u001b[49m\u001b[43mmethod\u001b[49m\u001b[38;5;241;43m=\u001b[39;49m\u001b[43mrequest\u001b[49m\u001b[38;5;241;43m.\u001b[39;49m\u001b[43mmethod\u001b[49m\u001b[43m,\u001b[49m\n\u001b[0;32m    669\u001b[0m \u001b[43m        \u001b[49m\u001b[43murl\u001b[49m\u001b[38;5;241;43m=\u001b[39;49m\u001b[43murl\u001b[49m\u001b[43m,\u001b[49m\n\u001b[0;32m    670\u001b[0m \u001b[43m        \u001b[49m\u001b[43mbody\u001b[49m\u001b[38;5;241;43m=\u001b[39;49m\u001b[43mrequest\u001b[49m\u001b[38;5;241;43m.\u001b[39;49m\u001b[43mbody\u001b[49m\u001b[43m,\u001b[49m\n\u001b[0;32m    671\u001b[0m \u001b[43m        \u001b[49m\u001b[43mheaders\u001b[49m\u001b[38;5;241;43m=\u001b[39;49m\u001b[43mrequest\u001b[49m\u001b[38;5;241;43m.\u001b[39;49m\u001b[43mheaders\u001b[49m\u001b[43m,\u001b[49m\n\u001b[0;32m    672\u001b[0m \u001b[43m        \u001b[49m\u001b[43mredirect\u001b[49m\u001b[38;5;241;43m=\u001b[39;49m\u001b[38;5;28;43;01mFalse\u001b[39;49;00m\u001b[43m,\u001b[49m\n\u001b[0;32m    673\u001b[0m \u001b[43m        \u001b[49m\u001b[43massert_same_host\u001b[49m\u001b[38;5;241;43m=\u001b[39;49m\u001b[38;5;28;43;01mFalse\u001b[39;49;00m\u001b[43m,\u001b[49m\n\u001b[0;32m    674\u001b[0m \u001b[43m        \u001b[49m\u001b[43mpreload_content\u001b[49m\u001b[38;5;241;43m=\u001b[39;49m\u001b[38;5;28;43;01mFalse\u001b[39;49;00m\u001b[43m,\u001b[49m\n\u001b[0;32m    675\u001b[0m \u001b[43m        \u001b[49m\u001b[43mdecode_content\u001b[49m\u001b[38;5;241;43m=\u001b[39;49m\u001b[38;5;28;43;01mFalse\u001b[39;49;00m\u001b[43m,\u001b[49m\n\u001b[0;32m    676\u001b[0m \u001b[43m        \u001b[49m\u001b[43mretries\u001b[49m\u001b[38;5;241;43m=\u001b[39;49m\u001b[38;5;28;43mself\u001b[39;49m\u001b[38;5;241;43m.\u001b[39;49m\u001b[43mmax_retries\u001b[49m\u001b[43m,\u001b[49m\n\u001b[0;32m    677\u001b[0m \u001b[43m        \u001b[49m\u001b[43mtimeout\u001b[49m\u001b[38;5;241;43m=\u001b[39;49m\u001b[43mtimeout\u001b[49m\u001b[43m,\u001b[49m\n\u001b[0;32m    678\u001b[0m \u001b[43m        \u001b[49m\u001b[43mchunked\u001b[49m\u001b[38;5;241;43m=\u001b[39;49m\u001b[43mchunked\u001b[49m\u001b[43m,\u001b[49m\n\u001b[0;32m    679\u001b[0m \u001b[43m    \u001b[49m\u001b[43m)\u001b[49m\n\u001b[0;32m    681\u001b[0m \u001b[38;5;28;01mexcept\u001b[39;00m (ProtocolError, \u001b[38;5;167;01mOSError\u001b[39;00m) \u001b[38;5;28;01mas\u001b[39;00m err:\n\u001b[0;32m    682\u001b[0m     \u001b[38;5;28;01mraise\u001b[39;00m \u001b[38;5;167;01mConnectionError\u001b[39;00m(err, request\u001b[38;5;241m=\u001b[39mrequest)\n",
      "File \u001b[1;32m~\\.local\\share\\mamba\\envs\\download_predictors\\Lib\\site-packages\\urllib3\\connectionpool.py:715\u001b[0m, in \u001b[0;36mHTTPConnectionPool.urlopen\u001b[1;34m(self, method, url, body, headers, retries, redirect, assert_same_host, timeout, pool_timeout, release_conn, chunked, body_pos, **response_kw)\u001b[0m\n\u001b[0;32m    712\u001b[0m     \u001b[38;5;28mself\u001b[39m\u001b[38;5;241m.\u001b[39m_prepare_proxy(conn)\n\u001b[0;32m    714\u001b[0m \u001b[38;5;66;03m# Make the request on the httplib connection object.\u001b[39;00m\n\u001b[1;32m--> 715\u001b[0m httplib_response \u001b[38;5;241m=\u001b[39m \u001b[38;5;28;43mself\u001b[39;49m\u001b[38;5;241;43m.\u001b[39;49m\u001b[43m_make_request\u001b[49m\u001b[43m(\u001b[49m\n\u001b[0;32m    716\u001b[0m \u001b[43m    \u001b[49m\u001b[43mconn\u001b[49m\u001b[43m,\u001b[49m\n\u001b[0;32m    717\u001b[0m \u001b[43m    \u001b[49m\u001b[43mmethod\u001b[49m\u001b[43m,\u001b[49m\n\u001b[0;32m    718\u001b[0m \u001b[43m    \u001b[49m\u001b[43murl\u001b[49m\u001b[43m,\u001b[49m\n\u001b[0;32m    719\u001b[0m \u001b[43m    \u001b[49m\u001b[43mtimeout\u001b[49m\u001b[38;5;241;43m=\u001b[39;49m\u001b[43mtimeout_obj\u001b[49m\u001b[43m,\u001b[49m\n\u001b[0;32m    720\u001b[0m \u001b[43m    \u001b[49m\u001b[43mbody\u001b[49m\u001b[38;5;241;43m=\u001b[39;49m\u001b[43mbody\u001b[49m\u001b[43m,\u001b[49m\n\u001b[0;32m    721\u001b[0m \u001b[43m    \u001b[49m\u001b[43mheaders\u001b[49m\u001b[38;5;241;43m=\u001b[39;49m\u001b[43mheaders\u001b[49m\u001b[43m,\u001b[49m\n\u001b[0;32m    722\u001b[0m \u001b[43m    \u001b[49m\u001b[43mchunked\u001b[49m\u001b[38;5;241;43m=\u001b[39;49m\u001b[43mchunked\u001b[49m\u001b[43m,\u001b[49m\n\u001b[0;32m    723\u001b[0m \u001b[43m\u001b[49m\u001b[43m)\u001b[49m\n\u001b[0;32m    725\u001b[0m \u001b[38;5;66;03m# If we're going to release the connection in ``finally:``, then\u001b[39;00m\n\u001b[0;32m    726\u001b[0m \u001b[38;5;66;03m# the response doesn't need to know about the connection. Otherwise\u001b[39;00m\n\u001b[0;32m    727\u001b[0m \u001b[38;5;66;03m# it will also try to release it and we'll have a double-release\u001b[39;00m\n\u001b[0;32m    728\u001b[0m \u001b[38;5;66;03m# mess.\u001b[39;00m\n\u001b[0;32m    729\u001b[0m response_conn \u001b[38;5;241m=\u001b[39m conn \u001b[38;5;28;01mif\u001b[39;00m \u001b[38;5;129;01mnot\u001b[39;00m release_conn \u001b[38;5;28;01melse\u001b[39;00m \u001b[38;5;28;01mNone\u001b[39;00m\n",
      "File \u001b[1;32m~\\.local\\share\\mamba\\envs\\download_predictors\\Lib\\site-packages\\urllib3\\connectionpool.py:467\u001b[0m, in \u001b[0;36mHTTPConnectionPool._make_request\u001b[1;34m(self, conn, method, url, timeout, chunked, **httplib_request_kw)\u001b[0m\n\u001b[0;32m    462\u001b[0m             httplib_response \u001b[38;5;241m=\u001b[39m conn\u001b[38;5;241m.\u001b[39mgetresponse()\n\u001b[0;32m    463\u001b[0m         \u001b[38;5;28;01mexcept\u001b[39;00m \u001b[38;5;167;01mBaseException\u001b[39;00m \u001b[38;5;28;01mas\u001b[39;00m e:\n\u001b[0;32m    464\u001b[0m             \u001b[38;5;66;03m# Remove the TypeError from the exception chain in\u001b[39;00m\n\u001b[0;32m    465\u001b[0m             \u001b[38;5;66;03m# Python 3 (including for exceptions like SystemExit).\u001b[39;00m\n\u001b[0;32m    466\u001b[0m             \u001b[38;5;66;03m# Otherwise it looks like a bug in the code.\u001b[39;00m\n\u001b[1;32m--> 467\u001b[0m             \u001b[43msix\u001b[49m\u001b[38;5;241;43m.\u001b[39;49m\u001b[43mraise_from\u001b[49m\u001b[43m(\u001b[49m\u001b[43me\u001b[49m\u001b[43m,\u001b[49m\u001b[43m \u001b[49m\u001b[38;5;28;43;01mNone\u001b[39;49;00m\u001b[43m)\u001b[49m\n\u001b[0;32m    468\u001b[0m \u001b[38;5;28;01mexcept\u001b[39;00m (SocketTimeout, BaseSSLError, SocketError) \u001b[38;5;28;01mas\u001b[39;00m e:\n\u001b[0;32m    469\u001b[0m     \u001b[38;5;28mself\u001b[39m\u001b[38;5;241m.\u001b[39m_raise_timeout(err\u001b[38;5;241m=\u001b[39me, url\u001b[38;5;241m=\u001b[39murl, timeout_value\u001b[38;5;241m=\u001b[39mread_timeout)\n",
      "File \u001b[1;32m<string>:3\u001b[0m, in \u001b[0;36mraise_from\u001b[1;34m(value, from_value)\u001b[0m\n",
      "File \u001b[1;32m~\\.local\\share\\mamba\\envs\\download_predictors\\Lib\\site-packages\\urllib3\\connectionpool.py:462\u001b[0m, in \u001b[0;36mHTTPConnectionPool._make_request\u001b[1;34m(self, conn, method, url, timeout, chunked, **httplib_request_kw)\u001b[0m\n\u001b[0;32m    459\u001b[0m \u001b[38;5;28;01mexcept\u001b[39;00m \u001b[38;5;167;01mTypeError\u001b[39;00m:\n\u001b[0;32m    460\u001b[0m     \u001b[38;5;66;03m# Python 3\u001b[39;00m\n\u001b[0;32m    461\u001b[0m     \u001b[38;5;28;01mtry\u001b[39;00m:\n\u001b[1;32m--> 462\u001b[0m         httplib_response \u001b[38;5;241m=\u001b[39m \u001b[43mconn\u001b[49m\u001b[38;5;241;43m.\u001b[39;49m\u001b[43mgetresponse\u001b[49m\u001b[43m(\u001b[49m\u001b[43m)\u001b[49m\n\u001b[0;32m    463\u001b[0m     \u001b[38;5;28;01mexcept\u001b[39;00m \u001b[38;5;167;01mBaseException\u001b[39;00m \u001b[38;5;28;01mas\u001b[39;00m e:\n\u001b[0;32m    464\u001b[0m         \u001b[38;5;66;03m# Remove the TypeError from the exception chain in\u001b[39;00m\n\u001b[0;32m    465\u001b[0m         \u001b[38;5;66;03m# Python 3 (including for exceptions like SystemExit).\u001b[39;00m\n\u001b[0;32m    466\u001b[0m         \u001b[38;5;66;03m# Otherwise it looks like a bug in the code.\u001b[39;00m\n\u001b[0;32m    467\u001b[0m         six\u001b[38;5;241m.\u001b[39mraise_from(e, \u001b[38;5;28;01mNone\u001b[39;00m)\n",
      "File \u001b[1;32m~\\.local\\share\\mamba\\envs\\download_predictors\\Lib\\http\\client.py:1428\u001b[0m, in \u001b[0;36mHTTPConnection.getresponse\u001b[1;34m(self)\u001b[0m\n\u001b[0;32m   1426\u001b[0m \u001b[38;5;28;01mtry\u001b[39;00m:\n\u001b[0;32m   1427\u001b[0m     \u001b[38;5;28;01mtry\u001b[39;00m:\n\u001b[1;32m-> 1428\u001b[0m         \u001b[43mresponse\u001b[49m\u001b[38;5;241;43m.\u001b[39;49m\u001b[43mbegin\u001b[49m\u001b[43m(\u001b[49m\u001b[43m)\u001b[49m\n\u001b[0;32m   1429\u001b[0m     \u001b[38;5;28;01mexcept\u001b[39;00m \u001b[38;5;167;01mConnectionError\u001b[39;00m:\n\u001b[0;32m   1430\u001b[0m         \u001b[38;5;28mself\u001b[39m\u001b[38;5;241m.\u001b[39mclose()\n",
      "File \u001b[1;32m~\\.local\\share\\mamba\\envs\\download_predictors\\Lib\\http\\client.py:331\u001b[0m, in \u001b[0;36mHTTPResponse.begin\u001b[1;34m(self)\u001b[0m\n\u001b[0;32m    329\u001b[0m \u001b[38;5;66;03m# read until we get a non-100 response\u001b[39;00m\n\u001b[0;32m    330\u001b[0m \u001b[38;5;28;01mwhile\u001b[39;00m \u001b[38;5;28;01mTrue\u001b[39;00m:\n\u001b[1;32m--> 331\u001b[0m     version, status, reason \u001b[38;5;241m=\u001b[39m \u001b[38;5;28;43mself\u001b[39;49m\u001b[38;5;241;43m.\u001b[39;49m\u001b[43m_read_status\u001b[49m\u001b[43m(\u001b[49m\u001b[43m)\u001b[49m\n\u001b[0;32m    332\u001b[0m     \u001b[38;5;28;01mif\u001b[39;00m status \u001b[38;5;241m!=\u001b[39m CONTINUE:\n\u001b[0;32m    333\u001b[0m         \u001b[38;5;28;01mbreak\u001b[39;00m\n",
      "File \u001b[1;32m~\\.local\\share\\mamba\\envs\\download_predictors\\Lib\\http\\client.py:292\u001b[0m, in \u001b[0;36mHTTPResponse._read_status\u001b[1;34m(self)\u001b[0m\n\u001b[0;32m    291\u001b[0m \u001b[38;5;28;01mdef\u001b[39;00m \u001b[38;5;21m_read_status\u001b[39m(\u001b[38;5;28mself\u001b[39m):\n\u001b[1;32m--> 292\u001b[0m     line \u001b[38;5;241m=\u001b[39m \u001b[38;5;28mstr\u001b[39m(\u001b[38;5;28;43mself\u001b[39;49m\u001b[38;5;241;43m.\u001b[39;49m\u001b[43mfp\u001b[49m\u001b[38;5;241;43m.\u001b[39;49m\u001b[43mreadline\u001b[49m\u001b[43m(\u001b[49m\u001b[43m_MAXLINE\u001b[49m\u001b[43m \u001b[49m\u001b[38;5;241;43m+\u001b[39;49m\u001b[43m \u001b[49m\u001b[38;5;241;43m1\u001b[39;49m\u001b[43m)\u001b[49m, \u001b[38;5;124m\"\u001b[39m\u001b[38;5;124miso-8859-1\u001b[39m\u001b[38;5;124m\"\u001b[39m)\n\u001b[0;32m    293\u001b[0m     \u001b[38;5;28;01mif\u001b[39;00m \u001b[38;5;28mlen\u001b[39m(line) \u001b[38;5;241m>\u001b[39m _MAXLINE:\n\u001b[0;32m    294\u001b[0m         \u001b[38;5;28;01mraise\u001b[39;00m LineTooLong(\u001b[38;5;124m\"\u001b[39m\u001b[38;5;124mstatus line\u001b[39m\u001b[38;5;124m\"\u001b[39m)\n",
      "File \u001b[1;32m~\\.local\\share\\mamba\\envs\\download_predictors\\Lib\\socket.py:720\u001b[0m, in \u001b[0;36mSocketIO.readinto\u001b[1;34m(self, b)\u001b[0m\n\u001b[0;32m    718\u001b[0m \u001b[38;5;28;01mwhile\u001b[39;00m \u001b[38;5;28;01mTrue\u001b[39;00m:\n\u001b[0;32m    719\u001b[0m     \u001b[38;5;28;01mtry\u001b[39;00m:\n\u001b[1;32m--> 720\u001b[0m         \u001b[38;5;28;01mreturn\u001b[39;00m \u001b[38;5;28;43mself\u001b[39;49m\u001b[38;5;241;43m.\u001b[39;49m\u001b[43m_sock\u001b[49m\u001b[38;5;241;43m.\u001b[39;49m\u001b[43mrecv_into\u001b[49m\u001b[43m(\u001b[49m\u001b[43mb\u001b[49m\u001b[43m)\u001b[49m\n\u001b[0;32m    721\u001b[0m     \u001b[38;5;28;01mexcept\u001b[39;00m timeout:\n\u001b[0;32m    722\u001b[0m         \u001b[38;5;28mself\u001b[39m\u001b[38;5;241m.\u001b[39m_timeout_occurred \u001b[38;5;241m=\u001b[39m \u001b[38;5;28;01mTrue\u001b[39;00m\n",
      "File \u001b[1;32m~\\.local\\share\\mamba\\envs\\download_predictors\\Lib\\ssl.py:1251\u001b[0m, in \u001b[0;36mSSLSocket.recv_into\u001b[1;34m(self, buffer, nbytes, flags)\u001b[0m\n\u001b[0;32m   1247\u001b[0m     \u001b[38;5;28;01mif\u001b[39;00m flags \u001b[38;5;241m!=\u001b[39m \u001b[38;5;241m0\u001b[39m:\n\u001b[0;32m   1248\u001b[0m         \u001b[38;5;28;01mraise\u001b[39;00m \u001b[38;5;167;01mValueError\u001b[39;00m(\n\u001b[0;32m   1249\u001b[0m           \u001b[38;5;124m\"\u001b[39m\u001b[38;5;124mnon-zero flags not allowed in calls to recv_into() on \u001b[39m\u001b[38;5;132;01m%s\u001b[39;00m\u001b[38;5;124m\"\u001b[39m \u001b[38;5;241m%\u001b[39m\n\u001b[0;32m   1250\u001b[0m           \u001b[38;5;28mself\u001b[39m\u001b[38;5;241m.\u001b[39m\u001b[38;5;18m__class__\u001b[39m)\n\u001b[1;32m-> 1251\u001b[0m     \u001b[38;5;28;01mreturn\u001b[39;00m \u001b[38;5;28;43mself\u001b[39;49m\u001b[38;5;241;43m.\u001b[39;49m\u001b[43mread\u001b[49m\u001b[43m(\u001b[49m\u001b[43mnbytes\u001b[49m\u001b[43m,\u001b[49m\u001b[43m \u001b[49m\u001b[43mbuffer\u001b[49m\u001b[43m)\u001b[49m\n\u001b[0;32m   1252\u001b[0m \u001b[38;5;28;01melse\u001b[39;00m:\n\u001b[0;32m   1253\u001b[0m     \u001b[38;5;28;01mreturn\u001b[39;00m \u001b[38;5;28msuper\u001b[39m()\u001b[38;5;241m.\u001b[39mrecv_into(buffer, nbytes, flags)\n",
      "File \u001b[1;32m~\\.local\\share\\mamba\\envs\\download_predictors\\Lib\\ssl.py:1103\u001b[0m, in \u001b[0;36mSSLSocket.read\u001b[1;34m(self, len, buffer)\u001b[0m\n\u001b[0;32m   1101\u001b[0m \u001b[38;5;28;01mtry\u001b[39;00m:\n\u001b[0;32m   1102\u001b[0m     \u001b[38;5;28;01mif\u001b[39;00m buffer \u001b[38;5;129;01mis\u001b[39;00m \u001b[38;5;129;01mnot\u001b[39;00m \u001b[38;5;28;01mNone\u001b[39;00m:\n\u001b[1;32m-> 1103\u001b[0m         \u001b[38;5;28;01mreturn\u001b[39;00m \u001b[38;5;28;43mself\u001b[39;49m\u001b[38;5;241;43m.\u001b[39;49m\u001b[43m_sslobj\u001b[49m\u001b[38;5;241;43m.\u001b[39;49m\u001b[43mread\u001b[49m\u001b[43m(\u001b[49m\u001b[38;5;28;43mlen\u001b[39;49m\u001b[43m,\u001b[49m\u001b[43m \u001b[49m\u001b[43mbuffer\u001b[49m\u001b[43m)\u001b[49m\n\u001b[0;32m   1104\u001b[0m     \u001b[38;5;28;01melse\u001b[39;00m:\n\u001b[0;32m   1105\u001b[0m         \u001b[38;5;28;01mreturn\u001b[39;00m \u001b[38;5;28mself\u001b[39m\u001b[38;5;241m.\u001b[39m_sslobj\u001b[38;5;241m.\u001b[39mread(\u001b[38;5;28mlen\u001b[39m)\n",
      "\u001b[1;31mKeyboardInterrupt\u001b[0m: "
     ]
    }
   ],
   "source": [
    "Y, hindcast_data, forecast_data = pycpt.download_data(predictand_name, \n",
    "                                                      local_predictand_file, \n",
    "                                                      predictor_names, \n",
    "                                                      download_args, \n",
    "                                                      domain_dir, force_download)"
   ]
  },
  {
   "cell_type": "code",
   "execution_count": 63,
   "id": "61e6a970-81a4-421e-9411-8a610ae9f06e",
   "metadata": {
    "editable": true,
    "slideshow": {
     "slide_type": ""
    },
    "tags": []
   },
   "outputs": [
    {
     "data": {
      "text/html": [
       "<H1>Training data</H1>"
      ],
      "text/plain": [
       "<IPython.core.display.HTML object>"
      ]
     },
     "metadata": {},
     "output_type": "display_data"
    },
    {
     "data": {
      "text/html": [
       "Observations were retrieved for all years of the training period."
      ],
      "text/plain": [
       "<IPython.core.display.HTML object>"
      ]
     },
     "metadata": {},
     "output_type": "display_data"
    },
    {
     "data": {
      "text/html": [
       "Some hindcasts were missing for some years of the training period. Missing hindcasts are noted below. If you continue, missing hindcasts will be replaced with the missing model's climatology. "
      ],
      "text/plain": [
       "<IPython.core.display.HTML object>"
      ]
     },
     "metadata": {},
     "output_type": "display_data"
    },
    {
     "data": {
      "text/html": [
       "<style type=\"text/css\">\n",
       "#T_ee4ca_row0_col0, #T_ee4ca_row0_col1, #T_ee4ca_row0_col2, #T_ee4ca_row0_col3, #T_ee4ca_row0_col5, #T_ee4ca_row1_col0, #T_ee4ca_row1_col1, #T_ee4ca_row1_col2, #T_ee4ca_row1_col3, #T_ee4ca_row1_col5, #T_ee4ca_row2_col0, #T_ee4ca_row2_col1, #T_ee4ca_row2_col2, #T_ee4ca_row2_col3, #T_ee4ca_row2_col5, #T_ee4ca_row3_col0, #T_ee4ca_row3_col1, #T_ee4ca_row3_col2, #T_ee4ca_row3_col3, #T_ee4ca_row3_col4, #T_ee4ca_row3_col5, #T_ee4ca_row3_col6, #T_ee4ca_row4_col0, #T_ee4ca_row4_col1, #T_ee4ca_row4_col2, #T_ee4ca_row4_col3, #T_ee4ca_row4_col4, #T_ee4ca_row4_col5, #T_ee4ca_row4_col6, #T_ee4ca_row5_col0, #T_ee4ca_row5_col1, #T_ee4ca_row5_col2, #T_ee4ca_row5_col3, #T_ee4ca_row5_col4, #T_ee4ca_row5_col5, #T_ee4ca_row5_col6, #T_ee4ca_row6_col0, #T_ee4ca_row6_col1, #T_ee4ca_row6_col2, #T_ee4ca_row6_col3, #T_ee4ca_row6_col4, #T_ee4ca_row6_col5, #T_ee4ca_row6_col6, #T_ee4ca_row7_col0, #T_ee4ca_row7_col1, #T_ee4ca_row7_col2, #T_ee4ca_row7_col3, #T_ee4ca_row7_col4, #T_ee4ca_row7_col5, #T_ee4ca_row7_col6, #T_ee4ca_row8_col0, #T_ee4ca_row8_col1, #T_ee4ca_row8_col2, #T_ee4ca_row8_col3, #T_ee4ca_row8_col4, #T_ee4ca_row8_col5, #T_ee4ca_row8_col6, #T_ee4ca_row9_col0, #T_ee4ca_row9_col1, #T_ee4ca_row9_col2, #T_ee4ca_row9_col3, #T_ee4ca_row9_col4, #T_ee4ca_row9_col5, #T_ee4ca_row9_col6, #T_ee4ca_row10_col0, #T_ee4ca_row10_col1, #T_ee4ca_row10_col2, #T_ee4ca_row10_col3, #T_ee4ca_row10_col4, #T_ee4ca_row10_col5, #T_ee4ca_row10_col6, #T_ee4ca_row11_col0, #T_ee4ca_row11_col1, #T_ee4ca_row11_col2, #T_ee4ca_row11_col3, #T_ee4ca_row11_col4, #T_ee4ca_row11_col5, #T_ee4ca_row11_col6, #T_ee4ca_row12_col0, #T_ee4ca_row12_col1, #T_ee4ca_row12_col2, #T_ee4ca_row12_col3, #T_ee4ca_row12_col4, #T_ee4ca_row12_col5, #T_ee4ca_row12_col6, #T_ee4ca_row13_col0, #T_ee4ca_row13_col1, #T_ee4ca_row13_col2, #T_ee4ca_row13_col3, #T_ee4ca_row13_col4, #T_ee4ca_row13_col5, #T_ee4ca_row13_col6, #T_ee4ca_row14_col0, #T_ee4ca_row14_col1, #T_ee4ca_row14_col2, #T_ee4ca_row14_col3, #T_ee4ca_row14_col4, #T_ee4ca_row14_col5, #T_ee4ca_row14_col6, #T_ee4ca_row15_col0, #T_ee4ca_row15_col1, #T_ee4ca_row15_col2, #T_ee4ca_row15_col3, #T_ee4ca_row15_col4, #T_ee4ca_row15_col5, #T_ee4ca_row15_col6, #T_ee4ca_row16_col0, #T_ee4ca_row16_col1, #T_ee4ca_row16_col2, #T_ee4ca_row16_col3, #T_ee4ca_row16_col4, #T_ee4ca_row16_col5, #T_ee4ca_row16_col6, #T_ee4ca_row17_col0, #T_ee4ca_row17_col1, #T_ee4ca_row17_col2, #T_ee4ca_row17_col3, #T_ee4ca_row17_col4, #T_ee4ca_row17_col5, #T_ee4ca_row17_col6, #T_ee4ca_row18_col0, #T_ee4ca_row18_col1, #T_ee4ca_row18_col2, #T_ee4ca_row18_col3, #T_ee4ca_row18_col4, #T_ee4ca_row18_col5, #T_ee4ca_row18_col6, #T_ee4ca_row19_col0, #T_ee4ca_row19_col1, #T_ee4ca_row19_col2, #T_ee4ca_row19_col3, #T_ee4ca_row19_col4, #T_ee4ca_row19_col5, #T_ee4ca_row19_col6, #T_ee4ca_row20_col0, #T_ee4ca_row20_col1, #T_ee4ca_row20_col2, #T_ee4ca_row20_col3, #T_ee4ca_row20_col4, #T_ee4ca_row20_col5, #T_ee4ca_row20_col6, #T_ee4ca_row21_col0, #T_ee4ca_row21_col1, #T_ee4ca_row21_col2, #T_ee4ca_row21_col3, #T_ee4ca_row21_col4, #T_ee4ca_row21_col5, #T_ee4ca_row21_col6, #T_ee4ca_row22_col0, #T_ee4ca_row22_col1, #T_ee4ca_row22_col2, #T_ee4ca_row22_col3, #T_ee4ca_row22_col4, #T_ee4ca_row22_col5, #T_ee4ca_row22_col6, #T_ee4ca_row23_col0, #T_ee4ca_row23_col1, #T_ee4ca_row23_col2, #T_ee4ca_row23_col3, #T_ee4ca_row23_col4, #T_ee4ca_row23_col5, #T_ee4ca_row23_col6, #T_ee4ca_row24_col0, #T_ee4ca_row24_col1, #T_ee4ca_row24_col2, #T_ee4ca_row24_col3, #T_ee4ca_row24_col4, #T_ee4ca_row24_col5, #T_ee4ca_row24_col6, #T_ee4ca_row25_col0, #T_ee4ca_row25_col1, #T_ee4ca_row25_col2, #T_ee4ca_row25_col3, #T_ee4ca_row25_col4, #T_ee4ca_row25_col5, #T_ee4ca_row25_col6, #T_ee4ca_row26_col0, #T_ee4ca_row26_col1, #T_ee4ca_row26_col2, #T_ee4ca_row26_col3, #T_ee4ca_row26_col4, #T_ee4ca_row26_col5, #T_ee4ca_row26_col6, #T_ee4ca_row27_col0, #T_ee4ca_row27_col1, #T_ee4ca_row27_col2, #T_ee4ca_row27_col4, #T_ee4ca_row27_col5, #T_ee4ca_row28_col0, #T_ee4ca_row28_col1, #T_ee4ca_row28_col2, #T_ee4ca_row28_col4, #T_ee4ca_row28_col5, #T_ee4ca_row29_col0, #T_ee4ca_row29_col1, #T_ee4ca_row29_col2, #T_ee4ca_row29_col5, #T_ee4ca_row30_col0, #T_ee4ca_row30_col1, #T_ee4ca_row30_col2, #T_ee4ca_row30_col5, #T_ee4ca_row31_col0, #T_ee4ca_row31_col1, #T_ee4ca_row31_col2, #T_ee4ca_row31_col5, #T_ee4ca_row32_col0, #T_ee4ca_row32_col1, #T_ee4ca_row32_col2, #T_ee4ca_row33_col0, #T_ee4ca_row33_col1, #T_ee4ca_row33_col2 {\n",
       "  text-align: center;\n",
       "}\n",
       "#T_ee4ca_row0_col4, #T_ee4ca_row0_col6, #T_ee4ca_row1_col4, #T_ee4ca_row1_col6, #T_ee4ca_row2_col4, #T_ee4ca_row2_col6, #T_ee4ca_row27_col3, #T_ee4ca_row27_col6, #T_ee4ca_row28_col3, #T_ee4ca_row28_col6, #T_ee4ca_row29_col3, #T_ee4ca_row29_col4, #T_ee4ca_row29_col6, #T_ee4ca_row30_col3, #T_ee4ca_row30_col4, #T_ee4ca_row30_col6, #T_ee4ca_row31_col3, #T_ee4ca_row31_col4, #T_ee4ca_row31_col6, #T_ee4ca_row32_col3, #T_ee4ca_row32_col4, #T_ee4ca_row32_col5, #T_ee4ca_row32_col6, #T_ee4ca_row33_col3, #T_ee4ca_row33_col4, #T_ee4ca_row33_col5, #T_ee4ca_row33_col6 {\n",
       "  background: yellow;\n",
       "  text-align: center;\n",
       "}\n",
       "</style>\n",
       "<table id=\"T_ee4ca\">\n",
       "  <thead>\n",
       "    <tr>\n",
       "      <th class=\"blank level0\" >&nbsp;</th>\n",
       "      <th id=\"T_ee4ca_level0_col0\" class=\"col_heading level0 col0\" >UCSB.PRCP</th>\n",
       "      <th id=\"T_ee4ca_level0_col1\" class=\"col_heading level0 col1\" >CCSM4.SST</th>\n",
       "      <th id=\"T_ee4ca_level0_col2\" class=\"col_heading level0 col2\" >CFSv2.SST</th>\n",
       "      <th id=\"T_ee4ca_level0_col3\" class=\"col_heading level0 col3\" >SEAS51b.SST</th>\n",
       "      <th id=\"T_ee4ca_level0_col4\" class=\"col_heading level0 col4\" >METEOFRANCE8.SST</th>\n",
       "      <th id=\"T_ee4ca_level0_col5\" class=\"col_heading level0 col5\" >GEM5NEMO.SST</th>\n",
       "      <th id=\"T_ee4ca_level0_col6\" class=\"col_heading level0 col6\" >SPSv3p5.SST</th>\n",
       "    </tr>\n",
       "  </thead>\n",
       "  <tbody>\n",
       "    <tr>\n",
       "      <th id=\"T_ee4ca_level0_row0\" class=\"row_heading level0 row0\" >1990</th>\n",
       "      <td id=\"T_ee4ca_row0_col0\" class=\"data row0 col0\" >ok</td>\n",
       "      <td id=\"T_ee4ca_row0_col1\" class=\"data row0 col1\" >ok</td>\n",
       "      <td id=\"T_ee4ca_row0_col2\" class=\"data row0 col2\" >ok</td>\n",
       "      <td id=\"T_ee4ca_row0_col3\" class=\"data row0 col3\" >ok</td>\n",
       "      <td id=\"T_ee4ca_row0_col4\" class=\"data row0 col4\" >missing</td>\n",
       "      <td id=\"T_ee4ca_row0_col5\" class=\"data row0 col5\" >ok</td>\n",
       "      <td id=\"T_ee4ca_row0_col6\" class=\"data row0 col6\" >missing</td>\n",
       "    </tr>\n",
       "    <tr>\n",
       "      <th id=\"T_ee4ca_level0_row1\" class=\"row_heading level0 row1\" >1991</th>\n",
       "      <td id=\"T_ee4ca_row1_col0\" class=\"data row1 col0\" >ok</td>\n",
       "      <td id=\"T_ee4ca_row1_col1\" class=\"data row1 col1\" >ok</td>\n",
       "      <td id=\"T_ee4ca_row1_col2\" class=\"data row1 col2\" >ok</td>\n",
       "      <td id=\"T_ee4ca_row1_col3\" class=\"data row1 col3\" >ok</td>\n",
       "      <td id=\"T_ee4ca_row1_col4\" class=\"data row1 col4\" >missing</td>\n",
       "      <td id=\"T_ee4ca_row1_col5\" class=\"data row1 col5\" >ok</td>\n",
       "      <td id=\"T_ee4ca_row1_col6\" class=\"data row1 col6\" >missing</td>\n",
       "    </tr>\n",
       "    <tr>\n",
       "      <th id=\"T_ee4ca_level0_row2\" class=\"row_heading level0 row2\" >1992</th>\n",
       "      <td id=\"T_ee4ca_row2_col0\" class=\"data row2 col0\" >ok</td>\n",
       "      <td id=\"T_ee4ca_row2_col1\" class=\"data row2 col1\" >ok</td>\n",
       "      <td id=\"T_ee4ca_row2_col2\" class=\"data row2 col2\" >ok</td>\n",
       "      <td id=\"T_ee4ca_row2_col3\" class=\"data row2 col3\" >ok</td>\n",
       "      <td id=\"T_ee4ca_row2_col4\" class=\"data row2 col4\" >missing</td>\n",
       "      <td id=\"T_ee4ca_row2_col5\" class=\"data row2 col5\" >ok</td>\n",
       "      <td id=\"T_ee4ca_row2_col6\" class=\"data row2 col6\" >missing</td>\n",
       "    </tr>\n",
       "    <tr>\n",
       "      <th id=\"T_ee4ca_level0_row3\" class=\"row_heading level0 row3\" >1993</th>\n",
       "      <td id=\"T_ee4ca_row3_col0\" class=\"data row3 col0\" >ok</td>\n",
       "      <td id=\"T_ee4ca_row3_col1\" class=\"data row3 col1\" >ok</td>\n",
       "      <td id=\"T_ee4ca_row3_col2\" class=\"data row3 col2\" >ok</td>\n",
       "      <td id=\"T_ee4ca_row3_col3\" class=\"data row3 col3\" >ok</td>\n",
       "      <td id=\"T_ee4ca_row3_col4\" class=\"data row3 col4\" >ok</td>\n",
       "      <td id=\"T_ee4ca_row3_col5\" class=\"data row3 col5\" >ok</td>\n",
       "      <td id=\"T_ee4ca_row3_col6\" class=\"data row3 col6\" >ok</td>\n",
       "    </tr>\n",
       "    <tr>\n",
       "      <th id=\"T_ee4ca_level0_row4\" class=\"row_heading level0 row4\" >1994</th>\n",
       "      <td id=\"T_ee4ca_row4_col0\" class=\"data row4 col0\" >ok</td>\n",
       "      <td id=\"T_ee4ca_row4_col1\" class=\"data row4 col1\" >ok</td>\n",
       "      <td id=\"T_ee4ca_row4_col2\" class=\"data row4 col2\" >ok</td>\n",
       "      <td id=\"T_ee4ca_row4_col3\" class=\"data row4 col3\" >ok</td>\n",
       "      <td id=\"T_ee4ca_row4_col4\" class=\"data row4 col4\" >ok</td>\n",
       "      <td id=\"T_ee4ca_row4_col5\" class=\"data row4 col5\" >ok</td>\n",
       "      <td id=\"T_ee4ca_row4_col6\" class=\"data row4 col6\" >ok</td>\n",
       "    </tr>\n",
       "    <tr>\n",
       "      <th id=\"T_ee4ca_level0_row5\" class=\"row_heading level0 row5\" >1995</th>\n",
       "      <td id=\"T_ee4ca_row5_col0\" class=\"data row5 col0\" >ok</td>\n",
       "      <td id=\"T_ee4ca_row5_col1\" class=\"data row5 col1\" >ok</td>\n",
       "      <td id=\"T_ee4ca_row5_col2\" class=\"data row5 col2\" >ok</td>\n",
       "      <td id=\"T_ee4ca_row5_col3\" class=\"data row5 col3\" >ok</td>\n",
       "      <td id=\"T_ee4ca_row5_col4\" class=\"data row5 col4\" >ok</td>\n",
       "      <td id=\"T_ee4ca_row5_col5\" class=\"data row5 col5\" >ok</td>\n",
       "      <td id=\"T_ee4ca_row5_col6\" class=\"data row5 col6\" >ok</td>\n",
       "    </tr>\n",
       "    <tr>\n",
       "      <th id=\"T_ee4ca_level0_row6\" class=\"row_heading level0 row6\" >1996</th>\n",
       "      <td id=\"T_ee4ca_row6_col0\" class=\"data row6 col0\" >ok</td>\n",
       "      <td id=\"T_ee4ca_row6_col1\" class=\"data row6 col1\" >ok</td>\n",
       "      <td id=\"T_ee4ca_row6_col2\" class=\"data row6 col2\" >ok</td>\n",
       "      <td id=\"T_ee4ca_row6_col3\" class=\"data row6 col3\" >ok</td>\n",
       "      <td id=\"T_ee4ca_row6_col4\" class=\"data row6 col4\" >ok</td>\n",
       "      <td id=\"T_ee4ca_row6_col5\" class=\"data row6 col5\" >ok</td>\n",
       "      <td id=\"T_ee4ca_row6_col6\" class=\"data row6 col6\" >ok</td>\n",
       "    </tr>\n",
       "    <tr>\n",
       "      <th id=\"T_ee4ca_level0_row7\" class=\"row_heading level0 row7\" >1997</th>\n",
       "      <td id=\"T_ee4ca_row7_col0\" class=\"data row7 col0\" >ok</td>\n",
       "      <td id=\"T_ee4ca_row7_col1\" class=\"data row7 col1\" >ok</td>\n",
       "      <td id=\"T_ee4ca_row7_col2\" class=\"data row7 col2\" >ok</td>\n",
       "      <td id=\"T_ee4ca_row7_col3\" class=\"data row7 col3\" >ok</td>\n",
       "      <td id=\"T_ee4ca_row7_col4\" class=\"data row7 col4\" >ok</td>\n",
       "      <td id=\"T_ee4ca_row7_col5\" class=\"data row7 col5\" >ok</td>\n",
       "      <td id=\"T_ee4ca_row7_col6\" class=\"data row7 col6\" >ok</td>\n",
       "    </tr>\n",
       "    <tr>\n",
       "      <th id=\"T_ee4ca_level0_row8\" class=\"row_heading level0 row8\" >1998</th>\n",
       "      <td id=\"T_ee4ca_row8_col0\" class=\"data row8 col0\" >ok</td>\n",
       "      <td id=\"T_ee4ca_row8_col1\" class=\"data row8 col1\" >ok</td>\n",
       "      <td id=\"T_ee4ca_row8_col2\" class=\"data row8 col2\" >ok</td>\n",
       "      <td id=\"T_ee4ca_row8_col3\" class=\"data row8 col3\" >ok</td>\n",
       "      <td id=\"T_ee4ca_row8_col4\" class=\"data row8 col4\" >ok</td>\n",
       "      <td id=\"T_ee4ca_row8_col5\" class=\"data row8 col5\" >ok</td>\n",
       "      <td id=\"T_ee4ca_row8_col6\" class=\"data row8 col6\" >ok</td>\n",
       "    </tr>\n",
       "    <tr>\n",
       "      <th id=\"T_ee4ca_level0_row9\" class=\"row_heading level0 row9\" >1999</th>\n",
       "      <td id=\"T_ee4ca_row9_col0\" class=\"data row9 col0\" >ok</td>\n",
       "      <td id=\"T_ee4ca_row9_col1\" class=\"data row9 col1\" >ok</td>\n",
       "      <td id=\"T_ee4ca_row9_col2\" class=\"data row9 col2\" >ok</td>\n",
       "      <td id=\"T_ee4ca_row9_col3\" class=\"data row9 col3\" >ok</td>\n",
       "      <td id=\"T_ee4ca_row9_col4\" class=\"data row9 col4\" >ok</td>\n",
       "      <td id=\"T_ee4ca_row9_col5\" class=\"data row9 col5\" >ok</td>\n",
       "      <td id=\"T_ee4ca_row9_col6\" class=\"data row9 col6\" >ok</td>\n",
       "    </tr>\n",
       "    <tr>\n",
       "      <th id=\"T_ee4ca_level0_row10\" class=\"row_heading level0 row10\" >2000</th>\n",
       "      <td id=\"T_ee4ca_row10_col0\" class=\"data row10 col0\" >ok</td>\n",
       "      <td id=\"T_ee4ca_row10_col1\" class=\"data row10 col1\" >ok</td>\n",
       "      <td id=\"T_ee4ca_row10_col2\" class=\"data row10 col2\" >ok</td>\n",
       "      <td id=\"T_ee4ca_row10_col3\" class=\"data row10 col3\" >ok</td>\n",
       "      <td id=\"T_ee4ca_row10_col4\" class=\"data row10 col4\" >ok</td>\n",
       "      <td id=\"T_ee4ca_row10_col5\" class=\"data row10 col5\" >ok</td>\n",
       "      <td id=\"T_ee4ca_row10_col6\" class=\"data row10 col6\" >ok</td>\n",
       "    </tr>\n",
       "    <tr>\n",
       "      <th id=\"T_ee4ca_level0_row11\" class=\"row_heading level0 row11\" >2001</th>\n",
       "      <td id=\"T_ee4ca_row11_col0\" class=\"data row11 col0\" >ok</td>\n",
       "      <td id=\"T_ee4ca_row11_col1\" class=\"data row11 col1\" >ok</td>\n",
       "      <td id=\"T_ee4ca_row11_col2\" class=\"data row11 col2\" >ok</td>\n",
       "      <td id=\"T_ee4ca_row11_col3\" class=\"data row11 col3\" >ok</td>\n",
       "      <td id=\"T_ee4ca_row11_col4\" class=\"data row11 col4\" >ok</td>\n",
       "      <td id=\"T_ee4ca_row11_col5\" class=\"data row11 col5\" >ok</td>\n",
       "      <td id=\"T_ee4ca_row11_col6\" class=\"data row11 col6\" >ok</td>\n",
       "    </tr>\n",
       "    <tr>\n",
       "      <th id=\"T_ee4ca_level0_row12\" class=\"row_heading level0 row12\" >2002</th>\n",
       "      <td id=\"T_ee4ca_row12_col0\" class=\"data row12 col0\" >ok</td>\n",
       "      <td id=\"T_ee4ca_row12_col1\" class=\"data row12 col1\" >ok</td>\n",
       "      <td id=\"T_ee4ca_row12_col2\" class=\"data row12 col2\" >ok</td>\n",
       "      <td id=\"T_ee4ca_row12_col3\" class=\"data row12 col3\" >ok</td>\n",
       "      <td id=\"T_ee4ca_row12_col4\" class=\"data row12 col4\" >ok</td>\n",
       "      <td id=\"T_ee4ca_row12_col5\" class=\"data row12 col5\" >ok</td>\n",
       "      <td id=\"T_ee4ca_row12_col6\" class=\"data row12 col6\" >ok</td>\n",
       "    </tr>\n",
       "    <tr>\n",
       "      <th id=\"T_ee4ca_level0_row13\" class=\"row_heading level0 row13\" >2003</th>\n",
       "      <td id=\"T_ee4ca_row13_col0\" class=\"data row13 col0\" >ok</td>\n",
       "      <td id=\"T_ee4ca_row13_col1\" class=\"data row13 col1\" >ok</td>\n",
       "      <td id=\"T_ee4ca_row13_col2\" class=\"data row13 col2\" >ok</td>\n",
       "      <td id=\"T_ee4ca_row13_col3\" class=\"data row13 col3\" >ok</td>\n",
       "      <td id=\"T_ee4ca_row13_col4\" class=\"data row13 col4\" >ok</td>\n",
       "      <td id=\"T_ee4ca_row13_col5\" class=\"data row13 col5\" >ok</td>\n",
       "      <td id=\"T_ee4ca_row13_col6\" class=\"data row13 col6\" >ok</td>\n",
       "    </tr>\n",
       "    <tr>\n",
       "      <th id=\"T_ee4ca_level0_row14\" class=\"row_heading level0 row14\" >2004</th>\n",
       "      <td id=\"T_ee4ca_row14_col0\" class=\"data row14 col0\" >ok</td>\n",
       "      <td id=\"T_ee4ca_row14_col1\" class=\"data row14 col1\" >ok</td>\n",
       "      <td id=\"T_ee4ca_row14_col2\" class=\"data row14 col2\" >ok</td>\n",
       "      <td id=\"T_ee4ca_row14_col3\" class=\"data row14 col3\" >ok</td>\n",
       "      <td id=\"T_ee4ca_row14_col4\" class=\"data row14 col4\" >ok</td>\n",
       "      <td id=\"T_ee4ca_row14_col5\" class=\"data row14 col5\" >ok</td>\n",
       "      <td id=\"T_ee4ca_row14_col6\" class=\"data row14 col6\" >ok</td>\n",
       "    </tr>\n",
       "    <tr>\n",
       "      <th id=\"T_ee4ca_level0_row15\" class=\"row_heading level0 row15\" >2005</th>\n",
       "      <td id=\"T_ee4ca_row15_col0\" class=\"data row15 col0\" >ok</td>\n",
       "      <td id=\"T_ee4ca_row15_col1\" class=\"data row15 col1\" >ok</td>\n",
       "      <td id=\"T_ee4ca_row15_col2\" class=\"data row15 col2\" >ok</td>\n",
       "      <td id=\"T_ee4ca_row15_col3\" class=\"data row15 col3\" >ok</td>\n",
       "      <td id=\"T_ee4ca_row15_col4\" class=\"data row15 col4\" >ok</td>\n",
       "      <td id=\"T_ee4ca_row15_col5\" class=\"data row15 col5\" >ok</td>\n",
       "      <td id=\"T_ee4ca_row15_col6\" class=\"data row15 col6\" >ok</td>\n",
       "    </tr>\n",
       "    <tr>\n",
       "      <th id=\"T_ee4ca_level0_row16\" class=\"row_heading level0 row16\" >2006</th>\n",
       "      <td id=\"T_ee4ca_row16_col0\" class=\"data row16 col0\" >ok</td>\n",
       "      <td id=\"T_ee4ca_row16_col1\" class=\"data row16 col1\" >ok</td>\n",
       "      <td id=\"T_ee4ca_row16_col2\" class=\"data row16 col2\" >ok</td>\n",
       "      <td id=\"T_ee4ca_row16_col3\" class=\"data row16 col3\" >ok</td>\n",
       "      <td id=\"T_ee4ca_row16_col4\" class=\"data row16 col4\" >ok</td>\n",
       "      <td id=\"T_ee4ca_row16_col5\" class=\"data row16 col5\" >ok</td>\n",
       "      <td id=\"T_ee4ca_row16_col6\" class=\"data row16 col6\" >ok</td>\n",
       "    </tr>\n",
       "    <tr>\n",
       "      <th id=\"T_ee4ca_level0_row17\" class=\"row_heading level0 row17\" >2007</th>\n",
       "      <td id=\"T_ee4ca_row17_col0\" class=\"data row17 col0\" >ok</td>\n",
       "      <td id=\"T_ee4ca_row17_col1\" class=\"data row17 col1\" >ok</td>\n",
       "      <td id=\"T_ee4ca_row17_col2\" class=\"data row17 col2\" >ok</td>\n",
       "      <td id=\"T_ee4ca_row17_col3\" class=\"data row17 col3\" >ok</td>\n",
       "      <td id=\"T_ee4ca_row17_col4\" class=\"data row17 col4\" >ok</td>\n",
       "      <td id=\"T_ee4ca_row17_col5\" class=\"data row17 col5\" >ok</td>\n",
       "      <td id=\"T_ee4ca_row17_col6\" class=\"data row17 col6\" >ok</td>\n",
       "    </tr>\n",
       "    <tr>\n",
       "      <th id=\"T_ee4ca_level0_row18\" class=\"row_heading level0 row18\" >2008</th>\n",
       "      <td id=\"T_ee4ca_row18_col0\" class=\"data row18 col0\" >ok</td>\n",
       "      <td id=\"T_ee4ca_row18_col1\" class=\"data row18 col1\" >ok</td>\n",
       "      <td id=\"T_ee4ca_row18_col2\" class=\"data row18 col2\" >ok</td>\n",
       "      <td id=\"T_ee4ca_row18_col3\" class=\"data row18 col3\" >ok</td>\n",
       "      <td id=\"T_ee4ca_row18_col4\" class=\"data row18 col4\" >ok</td>\n",
       "      <td id=\"T_ee4ca_row18_col5\" class=\"data row18 col5\" >ok</td>\n",
       "      <td id=\"T_ee4ca_row18_col6\" class=\"data row18 col6\" >ok</td>\n",
       "    </tr>\n",
       "    <tr>\n",
       "      <th id=\"T_ee4ca_level0_row19\" class=\"row_heading level0 row19\" >2009</th>\n",
       "      <td id=\"T_ee4ca_row19_col0\" class=\"data row19 col0\" >ok</td>\n",
       "      <td id=\"T_ee4ca_row19_col1\" class=\"data row19 col1\" >ok</td>\n",
       "      <td id=\"T_ee4ca_row19_col2\" class=\"data row19 col2\" >ok</td>\n",
       "      <td id=\"T_ee4ca_row19_col3\" class=\"data row19 col3\" >ok</td>\n",
       "      <td id=\"T_ee4ca_row19_col4\" class=\"data row19 col4\" >ok</td>\n",
       "      <td id=\"T_ee4ca_row19_col5\" class=\"data row19 col5\" >ok</td>\n",
       "      <td id=\"T_ee4ca_row19_col6\" class=\"data row19 col6\" >ok</td>\n",
       "    </tr>\n",
       "    <tr>\n",
       "      <th id=\"T_ee4ca_level0_row20\" class=\"row_heading level0 row20\" >2010</th>\n",
       "      <td id=\"T_ee4ca_row20_col0\" class=\"data row20 col0\" >ok</td>\n",
       "      <td id=\"T_ee4ca_row20_col1\" class=\"data row20 col1\" >ok</td>\n",
       "      <td id=\"T_ee4ca_row20_col2\" class=\"data row20 col2\" >ok</td>\n",
       "      <td id=\"T_ee4ca_row20_col3\" class=\"data row20 col3\" >ok</td>\n",
       "      <td id=\"T_ee4ca_row20_col4\" class=\"data row20 col4\" >ok</td>\n",
       "      <td id=\"T_ee4ca_row20_col5\" class=\"data row20 col5\" >ok</td>\n",
       "      <td id=\"T_ee4ca_row20_col6\" class=\"data row20 col6\" >ok</td>\n",
       "    </tr>\n",
       "    <tr>\n",
       "      <th id=\"T_ee4ca_level0_row21\" class=\"row_heading level0 row21\" >2011</th>\n",
       "      <td id=\"T_ee4ca_row21_col0\" class=\"data row21 col0\" >ok</td>\n",
       "      <td id=\"T_ee4ca_row21_col1\" class=\"data row21 col1\" >ok</td>\n",
       "      <td id=\"T_ee4ca_row21_col2\" class=\"data row21 col2\" >ok</td>\n",
       "      <td id=\"T_ee4ca_row21_col3\" class=\"data row21 col3\" >ok</td>\n",
       "      <td id=\"T_ee4ca_row21_col4\" class=\"data row21 col4\" >ok</td>\n",
       "      <td id=\"T_ee4ca_row21_col5\" class=\"data row21 col5\" >ok</td>\n",
       "      <td id=\"T_ee4ca_row21_col6\" class=\"data row21 col6\" >ok</td>\n",
       "    </tr>\n",
       "    <tr>\n",
       "      <th id=\"T_ee4ca_level0_row22\" class=\"row_heading level0 row22\" >2012</th>\n",
       "      <td id=\"T_ee4ca_row22_col0\" class=\"data row22 col0\" >ok</td>\n",
       "      <td id=\"T_ee4ca_row22_col1\" class=\"data row22 col1\" >ok</td>\n",
       "      <td id=\"T_ee4ca_row22_col2\" class=\"data row22 col2\" >ok</td>\n",
       "      <td id=\"T_ee4ca_row22_col3\" class=\"data row22 col3\" >ok</td>\n",
       "      <td id=\"T_ee4ca_row22_col4\" class=\"data row22 col4\" >ok</td>\n",
       "      <td id=\"T_ee4ca_row22_col5\" class=\"data row22 col5\" >ok</td>\n",
       "      <td id=\"T_ee4ca_row22_col6\" class=\"data row22 col6\" >ok</td>\n",
       "    </tr>\n",
       "    <tr>\n",
       "      <th id=\"T_ee4ca_level0_row23\" class=\"row_heading level0 row23\" >2013</th>\n",
       "      <td id=\"T_ee4ca_row23_col0\" class=\"data row23 col0\" >ok</td>\n",
       "      <td id=\"T_ee4ca_row23_col1\" class=\"data row23 col1\" >ok</td>\n",
       "      <td id=\"T_ee4ca_row23_col2\" class=\"data row23 col2\" >ok</td>\n",
       "      <td id=\"T_ee4ca_row23_col3\" class=\"data row23 col3\" >ok</td>\n",
       "      <td id=\"T_ee4ca_row23_col4\" class=\"data row23 col4\" >ok</td>\n",
       "      <td id=\"T_ee4ca_row23_col5\" class=\"data row23 col5\" >ok</td>\n",
       "      <td id=\"T_ee4ca_row23_col6\" class=\"data row23 col6\" >ok</td>\n",
       "    </tr>\n",
       "    <tr>\n",
       "      <th id=\"T_ee4ca_level0_row24\" class=\"row_heading level0 row24\" >2014</th>\n",
       "      <td id=\"T_ee4ca_row24_col0\" class=\"data row24 col0\" >ok</td>\n",
       "      <td id=\"T_ee4ca_row24_col1\" class=\"data row24 col1\" >ok</td>\n",
       "      <td id=\"T_ee4ca_row24_col2\" class=\"data row24 col2\" >ok</td>\n",
       "      <td id=\"T_ee4ca_row24_col3\" class=\"data row24 col3\" >ok</td>\n",
       "      <td id=\"T_ee4ca_row24_col4\" class=\"data row24 col4\" >ok</td>\n",
       "      <td id=\"T_ee4ca_row24_col5\" class=\"data row24 col5\" >ok</td>\n",
       "      <td id=\"T_ee4ca_row24_col6\" class=\"data row24 col6\" >ok</td>\n",
       "    </tr>\n",
       "    <tr>\n",
       "      <th id=\"T_ee4ca_level0_row25\" class=\"row_heading level0 row25\" >2015</th>\n",
       "      <td id=\"T_ee4ca_row25_col0\" class=\"data row25 col0\" >ok</td>\n",
       "      <td id=\"T_ee4ca_row25_col1\" class=\"data row25 col1\" >ok</td>\n",
       "      <td id=\"T_ee4ca_row25_col2\" class=\"data row25 col2\" >ok</td>\n",
       "      <td id=\"T_ee4ca_row25_col3\" class=\"data row25 col3\" >ok</td>\n",
       "      <td id=\"T_ee4ca_row25_col4\" class=\"data row25 col4\" >ok</td>\n",
       "      <td id=\"T_ee4ca_row25_col5\" class=\"data row25 col5\" >ok</td>\n",
       "      <td id=\"T_ee4ca_row25_col6\" class=\"data row25 col6\" >ok</td>\n",
       "    </tr>\n",
       "    <tr>\n",
       "      <th id=\"T_ee4ca_level0_row26\" class=\"row_heading level0 row26\" >2016</th>\n",
       "      <td id=\"T_ee4ca_row26_col0\" class=\"data row26 col0\" >ok</td>\n",
       "      <td id=\"T_ee4ca_row26_col1\" class=\"data row26 col1\" >ok</td>\n",
       "      <td id=\"T_ee4ca_row26_col2\" class=\"data row26 col2\" >ok</td>\n",
       "      <td id=\"T_ee4ca_row26_col3\" class=\"data row26 col3\" >ok</td>\n",
       "      <td id=\"T_ee4ca_row26_col4\" class=\"data row26 col4\" >ok</td>\n",
       "      <td id=\"T_ee4ca_row26_col5\" class=\"data row26 col5\" >ok</td>\n",
       "      <td id=\"T_ee4ca_row26_col6\" class=\"data row26 col6\" >ok</td>\n",
       "    </tr>\n",
       "    <tr>\n",
       "      <th id=\"T_ee4ca_level0_row27\" class=\"row_heading level0 row27\" >2017</th>\n",
       "      <td id=\"T_ee4ca_row27_col0\" class=\"data row27 col0\" >ok</td>\n",
       "      <td id=\"T_ee4ca_row27_col1\" class=\"data row27 col1\" >ok</td>\n",
       "      <td id=\"T_ee4ca_row27_col2\" class=\"data row27 col2\" >ok</td>\n",
       "      <td id=\"T_ee4ca_row27_col3\" class=\"data row27 col3\" >missing</td>\n",
       "      <td id=\"T_ee4ca_row27_col4\" class=\"data row27 col4\" >ok</td>\n",
       "      <td id=\"T_ee4ca_row27_col5\" class=\"data row27 col5\" >ok</td>\n",
       "      <td id=\"T_ee4ca_row27_col6\" class=\"data row27 col6\" >missing</td>\n",
       "    </tr>\n",
       "    <tr>\n",
       "      <th id=\"T_ee4ca_level0_row28\" class=\"row_heading level0 row28\" >2018</th>\n",
       "      <td id=\"T_ee4ca_row28_col0\" class=\"data row28 col0\" >ok</td>\n",
       "      <td id=\"T_ee4ca_row28_col1\" class=\"data row28 col1\" >ok</td>\n",
       "      <td id=\"T_ee4ca_row28_col2\" class=\"data row28 col2\" >ok</td>\n",
       "      <td id=\"T_ee4ca_row28_col3\" class=\"data row28 col3\" >missing</td>\n",
       "      <td id=\"T_ee4ca_row28_col4\" class=\"data row28 col4\" >ok</td>\n",
       "      <td id=\"T_ee4ca_row28_col5\" class=\"data row28 col5\" >ok</td>\n",
       "      <td id=\"T_ee4ca_row28_col6\" class=\"data row28 col6\" >missing</td>\n",
       "    </tr>\n",
       "    <tr>\n",
       "      <th id=\"T_ee4ca_level0_row29\" class=\"row_heading level0 row29\" >2019</th>\n",
       "      <td id=\"T_ee4ca_row29_col0\" class=\"data row29 col0\" >ok</td>\n",
       "      <td id=\"T_ee4ca_row29_col1\" class=\"data row29 col1\" >ok</td>\n",
       "      <td id=\"T_ee4ca_row29_col2\" class=\"data row29 col2\" >ok</td>\n",
       "      <td id=\"T_ee4ca_row29_col3\" class=\"data row29 col3\" >missing</td>\n",
       "      <td id=\"T_ee4ca_row29_col4\" class=\"data row29 col4\" >missing</td>\n",
       "      <td id=\"T_ee4ca_row29_col5\" class=\"data row29 col5\" >ok</td>\n",
       "      <td id=\"T_ee4ca_row29_col6\" class=\"data row29 col6\" >missing</td>\n",
       "    </tr>\n",
       "    <tr>\n",
       "      <th id=\"T_ee4ca_level0_row30\" class=\"row_heading level0 row30\" >2020</th>\n",
       "      <td id=\"T_ee4ca_row30_col0\" class=\"data row30 col0\" >ok</td>\n",
       "      <td id=\"T_ee4ca_row30_col1\" class=\"data row30 col1\" >ok</td>\n",
       "      <td id=\"T_ee4ca_row30_col2\" class=\"data row30 col2\" >ok</td>\n",
       "      <td id=\"T_ee4ca_row30_col3\" class=\"data row30 col3\" >missing</td>\n",
       "      <td id=\"T_ee4ca_row30_col4\" class=\"data row30 col4\" >missing</td>\n",
       "      <td id=\"T_ee4ca_row30_col5\" class=\"data row30 col5\" >ok</td>\n",
       "      <td id=\"T_ee4ca_row30_col6\" class=\"data row30 col6\" >missing</td>\n",
       "    </tr>\n",
       "    <tr>\n",
       "      <th id=\"T_ee4ca_level0_row31\" class=\"row_heading level0 row31\" >2021</th>\n",
       "      <td id=\"T_ee4ca_row31_col0\" class=\"data row31 col0\" >ok</td>\n",
       "      <td id=\"T_ee4ca_row31_col1\" class=\"data row31 col1\" >ok</td>\n",
       "      <td id=\"T_ee4ca_row31_col2\" class=\"data row31 col2\" >ok</td>\n",
       "      <td id=\"T_ee4ca_row31_col3\" class=\"data row31 col3\" >missing</td>\n",
       "      <td id=\"T_ee4ca_row31_col4\" class=\"data row31 col4\" >missing</td>\n",
       "      <td id=\"T_ee4ca_row31_col5\" class=\"data row31 col5\" >ok</td>\n",
       "      <td id=\"T_ee4ca_row31_col6\" class=\"data row31 col6\" >missing</td>\n",
       "    </tr>\n",
       "    <tr>\n",
       "      <th id=\"T_ee4ca_level0_row32\" class=\"row_heading level0 row32\" >2022</th>\n",
       "      <td id=\"T_ee4ca_row32_col0\" class=\"data row32 col0\" >ok</td>\n",
       "      <td id=\"T_ee4ca_row32_col1\" class=\"data row32 col1\" >ok</td>\n",
       "      <td id=\"T_ee4ca_row32_col2\" class=\"data row32 col2\" >ok</td>\n",
       "      <td id=\"T_ee4ca_row32_col3\" class=\"data row32 col3\" >missing</td>\n",
       "      <td id=\"T_ee4ca_row32_col4\" class=\"data row32 col4\" >missing</td>\n",
       "      <td id=\"T_ee4ca_row32_col5\" class=\"data row32 col5\" >missing</td>\n",
       "      <td id=\"T_ee4ca_row32_col6\" class=\"data row32 col6\" >missing</td>\n",
       "    </tr>\n",
       "    <tr>\n",
       "      <th id=\"T_ee4ca_level0_row33\" class=\"row_heading level0 row33\" >2023</th>\n",
       "      <td id=\"T_ee4ca_row33_col0\" class=\"data row33 col0\" >ok</td>\n",
       "      <td id=\"T_ee4ca_row33_col1\" class=\"data row33 col1\" >ok</td>\n",
       "      <td id=\"T_ee4ca_row33_col2\" class=\"data row33 col2\" >ok</td>\n",
       "      <td id=\"T_ee4ca_row33_col3\" class=\"data row33 col3\" >missing</td>\n",
       "      <td id=\"T_ee4ca_row33_col4\" class=\"data row33 col4\" >missing</td>\n",
       "      <td id=\"T_ee4ca_row33_col5\" class=\"data row33 col5\" >missing</td>\n",
       "      <td id=\"T_ee4ca_row33_col6\" class=\"data row33 col6\" >missing</td>\n",
       "    </tr>\n",
       "  </tbody>\n",
       "</table>\n"
      ],
      "text/plain": [
       "<pandas.io.formats.style.Styler at 0x211c916ce60>"
      ]
     },
     "metadata": {},
     "output_type": "display_data"
    },
    {
     "data": {
      "text/html": [
       "<H1>Forecast data</H1>"
      ],
      "text/plain": [
       "<IPython.core.display.HTML object>"
      ]
     },
     "metadata": {},
     "output_type": "display_data"
    },
    {
     "data": {
      "text/html": [
       "All forecasts were retrieved."
      ],
      "text/plain": [
       "<IPython.core.display.HTML object>"
      ]
     },
     "metadata": {},
     "output_type": "display_data"
    },
    {
     "data": {
      "text/html": [
       "<style type=\"text/css\">\n",
       "#T_0d108_row0_col0, #T_0d108_row0_col1, #T_0d108_row0_col2, #T_0d108_row0_col3, #T_0d108_row0_col4, #T_0d108_row0_col5 {\n",
       "  text-align: center;\n",
       "}\n",
       "</style>\n",
       "<table id=\"T_0d108\">\n",
       "  <thead>\n",
       "    <tr>\n",
       "      <th class=\"blank level0\" >&nbsp;</th>\n",
       "      <th id=\"T_0d108_level0_col0\" class=\"col_heading level0 col0\" >CCSM4.SST</th>\n",
       "      <th id=\"T_0d108_level0_col1\" class=\"col_heading level0 col1\" >CFSv2.SST</th>\n",
       "      <th id=\"T_0d108_level0_col2\" class=\"col_heading level0 col2\" >SEAS51b.SST</th>\n",
       "      <th id=\"T_0d108_level0_col3\" class=\"col_heading level0 col3\" >METEOFRANCE8.SST</th>\n",
       "      <th id=\"T_0d108_level0_col4\" class=\"col_heading level0 col4\" >GEM5NEMO.SST</th>\n",
       "      <th id=\"T_0d108_level0_col5\" class=\"col_heading level0 col5\" >SPSv3p5.SST</th>\n",
       "    </tr>\n",
       "  </thead>\n",
       "  <tbody>\n",
       "    <tr>\n",
       "      <th id=\"T_0d108_level0_row0\" class=\"row_heading level0 row0\" >2024</th>\n",
       "      <td id=\"T_0d108_row0_col0\" class=\"data row0 col0\" >ok</td>\n",
       "      <td id=\"T_0d108_row0_col1\" class=\"data row0 col1\" >ok</td>\n",
       "      <td id=\"T_0d108_row0_col2\" class=\"data row0 col2\" >ok</td>\n",
       "      <td id=\"T_0d108_row0_col3\" class=\"data row0 col3\" >ok</td>\n",
       "      <td id=\"T_0d108_row0_col4\" class=\"data row0 col4\" >ok</td>\n",
       "      <td id=\"T_0d108_row0_col5\" class=\"data row0 col5\" >ok</td>\n",
       "    </tr>\n",
       "  </tbody>\n",
       "</table>\n"
      ],
      "text/plain": [
       "<pandas.io.formats.style.Styler at 0x211c8f3a060>"
      ]
     },
     "metadata": {},
     "output_type": "display_data"
    }
   ],
   "source": [
    "pycpt.summarize_available_years(predictor_names, predictand_name, download_args, Y, hindcast_data, forecast_data)"
   ]
  }
 ],
 "metadata": {
  "kernelspec": {
   "display_name": "Python 3 (ipykernel)",
   "language": "python",
   "name": "python3"
  },
  "language_info": {
   "codemirror_mode": {
    "name": "ipython",
    "version": 3
   },
   "file_extension": ".py",
   "mimetype": "text/x-python",
   "name": "python",
   "nbconvert_exporter": "python",
   "pygments_lexer": "ipython3",
   "version": "3.14.0"
  }
 },
 "nbformat": 4,
 "nbformat_minor": 5
}
