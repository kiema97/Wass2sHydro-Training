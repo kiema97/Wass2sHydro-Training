{
 "cells": [
  {
   "cell_type": "markdown",
   "id": "1dbd497c-1869-47ed-b362-1fcb259d3127",
   "metadata": {},
   "source": [
    "<div style=\"width: 100%; text-align: center;\">\n",
    "    <div style=\"background-color:#007F00; padding: 0.5rem;\">\n",
    "        <h1 style=\"font-weight: bold; font-size: 2.5em; color: black;\"> AGRHYMET CENTRE CLIMATIQUE REGIONAL POUR L'AFRIQUE DE L'OUEST ET LE SAHEL</h1>\n",
    "   </div>\n",
    "\n",
    "   <div style=\"text-align: center;\">\n",
    "  <img src=\"https://www.sareco.org/wp-content/uploads/2017/07/plrDvYX1.jpg\" width=\"200\">\n",
    "</div>"
   ]
  },
  {
   "cell_type": "markdown",
   "id": "2c18d722-b0b8-4596-851d-75f6e501deab",
   "metadata": {},
   "source": [
    "<a id=\"1\"></a>\n",
    "# <p style=\"padding:10px;background-color:#FFFFFF ;margin:0;color:#007F00;font-family:newtimeroman;font-size:100%;text-align:center;border-radius: 15px 50px;overflow:hidden;font-weight:500\">Capacity Building in Seasonal Hydrological Forecasting </p>"
   ]
  },
  {
   "cell_type": "markdown",
   "id": "05b8dc02-a2f7-49c0-8970-50b0380ca250",
   "metadata": {
    "editable": true,
    "slideshow": {
     "slide_type": ""
    },
    "tags": []
   },
   "source": [
    "<a id=\"1\"></a>\n",
    "### <p style=\"padding:10px;background-color:#000000 ;margin:0;color:#007F00;font-family:#newtimeroman;font-size:100%;text-align:center;border-radius: 15px 50px;overflow:hidden;font-weight:500\">Introduction to R and Programming Basics </p>"
   ]
  },
  {
   "cell_type": "markdown",
   "id": "461f8530-03dd-47a4-a71f-cb308115ec58",
   "metadata": {},
   "source": [
    "## 🎯 Learning Objectives\n",
    "- Run R interactively (console, scripts, notebooks).\n",
    "- Manipulate basic R objects: vectors, matrices, data frames, lists.\n",
    "- Use simple functions and control structures (conditions, loops).\n",
    "- Perform basic data manipulation with `dplyr`.\n",
    "- Apply knowledge in a mini-project using hydrological flow data."
   ]
  },
  {
   "cell_type": "markdown",
   "id": "6bf1582f-164b-458f-8df2-487374e5f8ed",
   "metadata": {},
   "source": [
    "## 📝 Syntax Rules in R"
   ]
  },
  {
   "cell_type": "markdown",
   "id": "649a4d37-ec5b-4cc9-bd41-6436a0bba348",
   "metadata": {},
   "source": [
    "- **Case sensitive**: `Flow` ≠ `flow`  \n",
    "- **Assignment operators**:  \n",
    "  - `<-` (recommended) or `=`  \n",
    "  - Example: `x <- 10`\n",
    "- **Comments**: use `#` to add a comment  \n",
    "- **Functions**: always end with `()` even if no argument (`mean(x)`)\n",
    "- **Vectors**: created with `c()`\n",
    "- **Indexing**: `[ ]` to extract elements from vectors/data frames"
   ]
  },
  {
   "cell_type": "markdown",
   "id": "c90686c7-a4f8-4b47-806d-4762149ac780",
   "metadata": {},
   "source": [
    "## 📛 Naming Conventions"
   ]
  },
  {
   "cell_type": "markdown",
   "id": "3008d440-fcc8-4bf4-9d44-6320405da502",
   "metadata": {},
   "source": [
    "To keep code clear and readable, follow these guidelines:\n",
    "\n",
    "- Use **lowercase_with_underscores** for variables.  \n",
    "  Example: `mean_flow`, `daily_precip`  \n",
    "- Use **UpperCamelCase** or verbs for functions.  \n",
    "  Example: `CalculateDischarge()`  \n",
    "- Names must start with a letter (not a number).  \n",
    "- Avoid spaces or special characters (`#`, `%`, `-`).\n",
    "- Keep names **short but descriptive**:  \n",
    "  - Good: `q_obs` (observed discharge)  \n",
    "  - Bad: `qqqq123`  "
   ]
  },
  {
   "cell_type": "markdown",
   "id": "036fc4f0-8531-448e-abe0-db061fd09cf9",
   "metadata": {},
   "source": [
    "## 🔤 Data Types in R\n",
    "\n",
    "R supports several fundamental data types:\n",
    "\n",
    "- **Numeric**: real numbers (e.g. `3.14`, `-10`, `1000`)\n",
    "- **Integer**: whole numbers (e.g. `1L`, `25L`)\n",
    "- **Character**: text strings (e.g. `\"River\"`, `\"Hydrology\"`)\n",
    "- **Logical**: Boolean values (`TRUE`, `FALSE`)\n",
    "- **Date/Time**: calendar dates (`as.Date(\"2020-01-01\")`)"
   ]
  },
  {
   "cell_type": "code",
   "execution_count": 2,
   "id": "40627125-c1e1-4c0c-8471-74706d70deb4",
   "metadata": {},
   "outputs": [],
   "source": [
    "# Examples\n",
    "num <- 12.5         # numeric\n",
    "int <- 10L          # integer\n",
    "txt <- \"River\"      # character\n",
    "flag <- TRUE        # logical\n",
    "today <- as.Date(\"2023-05-01\")"
   ]
  },
  {
   "cell_type": "markdown",
   "id": "665ef7ec-59fa-4938-9084-8d974719cd7e",
   "metadata": {},
   "source": [
    "# 🧮 Basic R Objects"
   ]
  },
  {
   "cell_type": "markdown",
   "id": "ca59d4f1-67b1-43ee-acca-b74c10d38894",
   "metadata": {},
   "source": [
    "R provides several object types. The most common are:\n",
    "- **Vector**: sequence of values of the same type.\n",
    "- **Matrix**: 2D array of numbers.\n",
    "- **Data frame**: tabular data, similar to Excel.\n",
    "- **List**: heterogeneous collection (can contain data frames, vectors, etc.)."
   ]
  },
  {
   "cell_type": "code",
   "execution_count": 3,
   "id": "bcc1f142-19cf-4694-808b-d1ef7ad43260",
   "metadata": {},
   "outputs": [
    {
     "data": {
      "text/html": [
       "<style>\n",
       ".list-inline {list-style: none; margin:0; padding: 0}\n",
       ".list-inline>li {display: inline-block}\n",
       ".list-inline>li:not(:last-child)::after {content: \"\\00b7\"; padding: 0 .5ex}\n",
       "</style>\n",
       "<ol class=list-inline><li>12</li><li>25</li><li>33</li><li>8</li><li>54</li></ol>\n"
      ],
      "text/latex": [
       "\\begin{enumerate*}\n",
       "\\item 12\n",
       "\\item 25\n",
       "\\item 33\n",
       "\\item 8\n",
       "\\item 54\n",
       "\\end{enumerate*}\n"
      ],
      "text/markdown": [
       "1. 12\n",
       "2. 25\n",
       "3. 33\n",
       "4. 8\n",
       "5. 54\n",
       "\n",
       "\n"
      ],
      "text/plain": [
       "[1] 12 25 33  8 54"
      ]
     },
     "metadata": {},
     "output_type": "display_data"
    }
   ],
   "source": [
    "# Vector\n",
    "flows <- c(12, 25, 33, 8, 54)\n",
    "flows"
   ]
  },
  {
   "cell_type": "code",
   "execution_count": null,
   "id": "6d0c5fc4-d41c-4017-989f-066e72748ef5",
   "metadata": {},
   "outputs": [],
   "source": [
    "# Matrix\n",
    "mat <- matrix(1:6, nrow = 2, ncol = 3)\n",
    "mat"
   ]
  },
  {
   "cell_type": "code",
   "execution_count": 4,
   "id": "f53d9694-5034-4649-be9a-5ad9783bdfa2",
   "metadata": {},
   "outputs": [
    {
     "data": {
      "text/html": [
       "<table class=\"dataframe\">\n",
       "<caption>A data.frame: 5 × 2</caption>\n",
       "<thead>\n",
       "\t<tr><th scope=col>Date</th><th scope=col>Qobs</th></tr>\n",
       "\t<tr><th scope=col>&lt;date&gt;</th><th scope=col>&lt;dbl&gt;</th></tr>\n",
       "</thead>\n",
       "<tbody>\n",
       "\t<tr><td>2020-01-01</td><td>12</td></tr>\n",
       "\t<tr><td>2020-01-02</td><td>25</td></tr>\n",
       "\t<tr><td>2020-01-03</td><td>33</td></tr>\n",
       "\t<tr><td>2020-01-04</td><td> 8</td></tr>\n",
       "\t<tr><td>2020-01-05</td><td>54</td></tr>\n",
       "</tbody>\n",
       "</table>\n"
      ],
      "text/latex": [
       "A data.frame: 5 × 2\n",
       "\\begin{tabular}{ll}\n",
       " Date & Qobs\\\\\n",
       " <date> & <dbl>\\\\\n",
       "\\hline\n",
       "\t 2020-01-01 & 12\\\\\n",
       "\t 2020-01-02 & 25\\\\\n",
       "\t 2020-01-03 & 33\\\\\n",
       "\t 2020-01-04 &  8\\\\\n",
       "\t 2020-01-05 & 54\\\\\n",
       "\\end{tabular}\n"
      ],
      "text/markdown": [
       "\n",
       "A data.frame: 5 × 2\n",
       "\n",
       "| Date &lt;date&gt; | Qobs &lt;dbl&gt; |\n",
       "|---|---|\n",
       "| 2020-01-01 | 12 |\n",
       "| 2020-01-02 | 25 |\n",
       "| 2020-01-03 | 33 |\n",
       "| 2020-01-04 |  8 |\n",
       "| 2020-01-05 | 54 |\n",
       "\n"
      ],
      "text/plain": [
       "  Date       Qobs\n",
       "1 2020-01-01 12  \n",
       "2 2020-01-02 25  \n",
       "3 2020-01-03 33  \n",
       "4 2020-01-04  8  \n",
       "5 2020-01-05 54  "
      ]
     },
     "metadata": {},
     "output_type": "display_data"
    }
   ],
   "source": [
    "# Data frame\n",
    "df <- data.frame(\n",
    "  Date = as.Date(\"2020-01-01\") + 0:4,\n",
    "  Qobs = flows\n",
    ")\n",
    "df"
   ]
  },
  {
   "cell_type": "code",
   "execution_count": 5,
   "id": "17ea8576-0477-42ff-9c97-298a25ecd415",
   "metadata": {},
   "outputs": [
    {
     "data": {
      "text/html": [
       "<dl>\n",
       "\t<dt>$station</dt>\n",
       "\t\t<dd>'A'</dd>\n",
       "\t<dt>$records</dt>\n",
       "\t\t<dd><table class=\"dataframe\">\n",
       "<caption>A data.frame: 5 × 2</caption>\n",
       "<thead>\n",
       "\t<tr><th scope=col>Date</th><th scope=col>Qobs</th></tr>\n",
       "\t<tr><th scope=col>&lt;date&gt;</th><th scope=col>&lt;dbl&gt;</th></tr>\n",
       "</thead>\n",
       "<tbody>\n",
       "\t<tr><td>2020-01-01</td><td>12</td></tr>\n",
       "\t<tr><td>2020-01-02</td><td>25</td></tr>\n",
       "\t<tr><td>2020-01-03</td><td>33</td></tr>\n",
       "\t<tr><td>2020-01-04</td><td> 8</td></tr>\n",
       "\t<tr><td>2020-01-05</td><td>54</td></tr>\n",
       "</tbody>\n",
       "</table>\n",
       "</dd>\n",
       "\t<dt>$area_km2</dt>\n",
       "\t\t<dd>1500</dd>\n",
       "</dl>\n"
      ],
      "text/latex": [
       "\\begin{description}\n",
       "\\item[\\$station] 'A'\n",
       "\\item[\\$records] A data.frame: 5 × 2\n",
       "\\begin{tabular}{ll}\n",
       " Date & Qobs\\\\\n",
       " <date> & <dbl>\\\\\n",
       "\\hline\n",
       "\t 2020-01-01 & 12\\\\\n",
       "\t 2020-01-02 & 25\\\\\n",
       "\t 2020-01-03 & 33\\\\\n",
       "\t 2020-01-04 &  8\\\\\n",
       "\t 2020-01-05 & 54\\\\\n",
       "\\end{tabular}\n",
       "\n",
       "\\item[\\$area\\_km2] 1500\n",
       "\\end{description}\n"
      ],
      "text/markdown": [
       "$station\n",
       ":   'A'\n",
       "$records\n",
       ":   \n",
       "A data.frame: 5 × 2\n",
       "\n",
       "| Date &lt;date&gt; | Qobs &lt;dbl&gt; |\n",
       "|---|---|\n",
       "| 2020-01-01 | 12 |\n",
       "| 2020-01-02 | 25 |\n",
       "| 2020-01-03 | 33 |\n",
       "| 2020-01-04 |  8 |\n",
       "| 2020-01-05 | 54 |\n",
       "\n",
       "\n",
       "$area_km2\n",
       ":   1500\n",
       "\n",
       "\n"
      ],
      "text/plain": [
       "$station\n",
       "[1] \"A\"\n",
       "\n",
       "$records\n",
       "        Date Qobs\n",
       "1 2020-01-01   12\n",
       "2 2020-01-02   25\n",
       "3 2020-01-03   33\n",
       "4 2020-01-04    8\n",
       "5 2020-01-05   54\n",
       "\n",
       "$area_km2\n",
       "[1] 1500\n"
      ]
     },
     "metadata": {},
     "output_type": "display_data"
    }
   ],
   "source": [
    "# List\n",
    "my_list <- list(station = \"A\", records = df, area_km2 = 1500)\n",
    "my_list"
   ]
  },
  {
   "cell_type": "markdown",
   "id": "d9f120e9-4d6a-410d-a1c6-6b9048b3ddc5",
   "metadata": {},
   "source": [
    "We can extract and explore objects with **indexing** and built-in functions."
   ]
  },
  {
   "cell_type": "code",
   "execution_count": 6,
   "id": "da1626a3-eaf7-4755-8fca-cca1b3d2b3ae",
   "metadata": {},
   "outputs": [
    {
     "data": {
      "text/html": [
       "26.4"
      ],
      "text/latex": [
       "26.4"
      ],
      "text/markdown": [
       "26.4"
      ],
      "text/plain": [
       "[1] 26.4"
      ]
     },
     "metadata": {},
     "output_type": "display_data"
    },
    {
     "data": {
      "text/html": [
       "54"
      ],
      "text/latex": [
       "54"
      ],
      "text/markdown": [
       "54"
      ],
      "text/plain": [
       "[1] 54"
      ]
     },
     "metadata": {},
     "output_type": "display_data"
    },
    {
     "data": {
      "text/html": [
       "5"
      ],
      "text/latex": [
       "5"
      ],
      "text/markdown": [
       "5"
      ],
      "text/plain": [
       "[1] 5"
      ]
     },
     "metadata": {},
     "output_type": "display_data"
    },
    {
     "data": {
      "text/html": [
       "<style>\n",
       ".list-inline {list-style: none; margin:0; padding: 0}\n",
       ".list-inline>li {display: inline-block}\n",
       ".list-inline>li:not(:last-child)::after {content: \"\\00b7\"; padding: 0 .5ex}\n",
       "</style>\n",
       "<ol class=list-inline><li>12</li><li>25</li><li>33</li></ol>\n"
      ],
      "text/latex": [
       "\\begin{enumerate*}\n",
       "\\item 12\n",
       "\\item 25\n",
       "\\item 33\n",
       "\\end{enumerate*}\n"
      ],
      "text/markdown": [
       "1. 12\n",
       "2. 25\n",
       "3. 33\n",
       "\n",
       "\n"
      ],
      "text/plain": [
       "[1] 12 25 33"
      ]
     },
     "metadata": {},
     "output_type": "display_data"
    },
    {
     "data": {
      "text/html": [
       "<style>\n",
       ".list-inline {list-style: none; margin:0; padding: 0}\n",
       ".list-inline>li {display: inline-block}\n",
       ".list-inline>li:not(:last-child)::after {content: \"\\00b7\"; padding: 0 .5ex}\n",
       "</style>\n",
       "<ol class=list-inline><li>12</li><li>25</li><li>33</li><li>8</li><li>54</li></ol>\n"
      ],
      "text/latex": [
       "\\begin{enumerate*}\n",
       "\\item 12\n",
       "\\item 25\n",
       "\\item 33\n",
       "\\item 8\n",
       "\\item 54\n",
       "\\end{enumerate*}\n"
      ],
      "text/markdown": [
       "1. 12\n",
       "2. 25\n",
       "3. 33\n",
       "4. 8\n",
       "5. 54\n",
       "\n",
       "\n"
      ],
      "text/plain": [
       "[1] 12 25 33  8 54"
      ]
     },
     "metadata": {},
     "output_type": "display_data"
    },
    {
     "data": {
      "text/html": [
       "<table class=\"dataframe\">\n",
       "<caption>A data.frame: 3 × 2</caption>\n",
       "<thead>\n",
       "\t<tr><th></th><th scope=col>Date</th><th scope=col>Qobs</th></tr>\n",
       "\t<tr><th></th><th scope=col>&lt;date&gt;</th><th scope=col>&lt;dbl&gt;</th></tr>\n",
       "</thead>\n",
       "<tbody>\n",
       "\t<tr><th scope=row>2</th><td>2020-01-02</td><td>25</td></tr>\n",
       "\t<tr><th scope=row>3</th><td>2020-01-03</td><td>33</td></tr>\n",
       "\t<tr><th scope=row>4</th><td>2020-01-04</td><td> 8</td></tr>\n",
       "</tbody>\n",
       "</table>\n"
      ],
      "text/latex": [
       "A data.frame: 3 × 2\n",
       "\\begin{tabular}{r|ll}\n",
       "  & Date & Qobs\\\\\n",
       "  & <date> & <dbl>\\\\\n",
       "\\hline\n",
       "\t2 & 2020-01-02 & 25\\\\\n",
       "\t3 & 2020-01-03 & 33\\\\\n",
       "\t4 & 2020-01-04 &  8\\\\\n",
       "\\end{tabular}\n"
      ],
      "text/markdown": [
       "\n",
       "A data.frame: 3 × 2\n",
       "\n",
       "| <!--/--> | Date &lt;date&gt; | Qobs &lt;dbl&gt; |\n",
       "|---|---|---|\n",
       "| 2 | 2020-01-02 | 25 |\n",
       "| 3 | 2020-01-03 | 33 |\n",
       "| 4 | 2020-01-04 |  8 |\n",
       "\n"
      ],
      "text/plain": [
       "  Date       Qobs\n",
       "2 2020-01-02 25  \n",
       "3 2020-01-03 33  \n",
       "4 2020-01-04  8  "
      ]
     },
     "metadata": {},
     "output_type": "display_data"
    }
   ],
   "source": [
    "mean(flows)       # mean flow\n",
    "max(flows)        # maximum\n",
    "length(flows)     # length of vector\n",
    "\n",
    "flows[1:3]        # first three values\n",
    "df$Qobs           # Qobs column\n",
    "df[2:4, ]         # rows 2 to 4\n"
   ]
  },
  {
   "cell_type": "markdown",
   "id": "257046ba-f3da-4909-98d0-cfe22048d7ff",
   "metadata": {},
   "source": [
    "# 🔄 Control Structures"
   ]
  },
  {
   "cell_type": "markdown",
   "id": "ceb47226-d481-4c4d-99cf-296159eae4a3",
   "metadata": {},
   "source": [
    "Conditions and loops allow automation in R."
   ]
  },
  {
   "cell_type": "code",
   "execution_count": 7,
   "id": "2323c15f-d7f9-4bbd-b417-81a39cdd1e5a",
   "metadata": {},
   "outputs": [
    {
     "name": "stdout",
     "output_type": "stream",
     "text": [
      "[1] \"High flow\"\n"
     ]
    }
   ],
   "source": [
    "# Condition\n",
    "Q <- 120\n",
    "if (Q > 100) {\n",
    "  print(\"High flow\")\n",
    "} else {\n",
    "  print(\"Normal flow\")\n",
    "}"
   ]
  },
  {
   "cell_type": "code",
   "execution_count": null,
   "id": "dfe774b1-f2ec-43cf-8579-91548529cf40",
   "metadata": {},
   "outputs": [],
   "source": [
    "# Vectorized condition\n",
    "df$State <- ifelse(df$Qobs > 30, \"Flood\", \"Normal\")\n",
    "df"
   ]
  },
  {
   "cell_type": "code",
   "execution_count": null,
   "id": "25948fb4-72b8-4ba5-a904-14ee174db874",
   "metadata": {},
   "outputs": [],
   "source": [
    "# For loop\n",
    "for (q in flows) {\n",
    "  print(q * 2)\n",
    "}"
   ]
  },
  {
   "cell_type": "markdown",
   "id": "41472d30-0cf3-4a1d-ae8c-5545c541e060",
   "metadata": {},
   "source": [
    "# ⚙️ Functions"
   ]
  },
  {
   "cell_type": "markdown",
   "id": "7cb8df02-15bc-49a0-aa62-158de137fc0b",
   "metadata": {},
   "source": [
    "Functions make code reusable."
   ]
  },
  {
   "cell_type": "code",
   "execution_count": 8,
   "id": "231c58be-0069-4a8c-b945-b0184b511a92",
   "metadata": {},
   "outputs": [
    {
     "data": {
      "text/html": [
       "0.5"
      ],
      "text/latex": [
       "0.5"
      ],
      "text/markdown": [
       "0.5"
      ],
      "text/plain": [
       "[1] 0.5"
      ]
     },
     "metadata": {},
     "output_type": "display_data"
    }
   ],
   "source": [
    "# Example: specific discharge\n",
    "specific_discharge <- function(Q, area_km2) {\n",
    "  return(Q / area_km2)\n",
    "}\n",
    "\n",
    "specific_discharge(150, 300)  # 0.5 m³/s/km²\n"
   ]
  },
  {
   "cell_type": "markdown",
   "id": "53e68f62-c344-4231-a399-ba5244d91660",
   "metadata": {},
   "source": [
    "# 📊 Data Manipulation with dplyr"
   ]
  },
  {
   "cell_type": "markdown",
   "id": "ec0d79db-bc1b-46fd-aa25-ff6d1e57deee",
   "metadata": {},
   "source": [
    "`dplyr` is part of the **tidyverse**.  \n",
    "Key functions:\n",
    "- `filter()` → filter rows\n",
    "- `select()` → select columns\n",
    "- `mutate()` → create new columns\n",
    "- `group_by()` + `summarise()` → aggregation\n"
   ]
  },
  {
   "cell_type": "code",
   "execution_count": null,
   "id": "617c16a3-f840-4584-b0db-b30a555f0e3d",
   "metadata": {},
   "outputs": [],
   "source": [
    "# Install package dplyr if doesn't exist yet"
   ]
  },
  {
   "cell_type": "code",
   "execution_count": 9,
   "id": "f8a6b832-42b9-489b-a1d9-3dca41f50078",
   "metadata": {},
   "outputs": [
    {
     "name": "stderr",
     "output_type": "stream",
     "text": [
      "\n",
      "Attaching package: 'dplyr'\n",
      "\n",
      "\n",
      "The following objects are masked from 'package:stats':\n",
      "\n",
      "    filter, lag\n",
      "\n",
      "\n",
      "The following objects are masked from 'package:base':\n",
      "\n",
      "    intersect, setdiff, setequal, union\n",
      "\n",
      "\n"
     ]
    },
    {
     "data": {
      "text/html": [
       "<table class=\"dataframe\">\n",
       "<caption>A tibble: 2 × 4</caption>\n",
       "<thead>\n",
       "\t<tr><th scope=col>Class</th><th scope=col>Mean</th><th scope=col>Max</th><th scope=col>n</th></tr>\n",
       "\t<tr><th scope=col>&lt;chr&gt;</th><th scope=col>&lt;dbl&gt;</th><th scope=col>&lt;dbl&gt;</th><th scope=col>&lt;int&gt;</th></tr>\n",
       "</thead>\n",
       "<tbody>\n",
       "\t<tr><td>Flood </td><td>43.5</td><td>54</td><td>2</td></tr>\n",
       "\t<tr><td>Normal</td><td>15.0</td><td>25</td><td>3</td></tr>\n",
       "</tbody>\n",
       "</table>\n"
      ],
      "text/latex": [
       "A tibble: 2 × 4\n",
       "\\begin{tabular}{llll}\n",
       " Class & Mean & Max & n\\\\\n",
       " <chr> & <dbl> & <dbl> & <int>\\\\\n",
       "\\hline\n",
       "\t Flood  & 43.5 & 54 & 2\\\\\n",
       "\t Normal & 15.0 & 25 & 3\\\\\n",
       "\\end{tabular}\n"
      ],
      "text/markdown": [
       "\n",
       "A tibble: 2 × 4\n",
       "\n",
       "| Class &lt;chr&gt; | Mean &lt;dbl&gt; | Max &lt;dbl&gt; | n &lt;int&gt; |\n",
       "|---|---|---|---|\n",
       "| Flood  | 43.5 | 54 | 2 |\n",
       "| Normal | 15.0 | 25 | 3 |\n",
       "\n"
      ],
      "text/plain": [
       "  Class  Mean Max n\n",
       "1 Flood  43.5 54  2\n",
       "2 Normal 15.0 25  3"
      ]
     },
     "metadata": {},
     "output_type": "display_data"
    }
   ],
   "source": [
    "library(dplyr)\n",
    "\n",
    "df |>\n",
    "  mutate(Class = ifelse(Qobs > 30, \"Flood\", \"Normal\")) |>\n",
    "  group_by(Class) |>\n",
    "  summarise(\n",
    "    Mean = mean(Qobs),\n",
    "    Max = max(Qobs),\n",
    "    n = n()\n",
    "  )\n"
   ]
  },
  {
   "cell_type": "markdown",
   "id": "9171f96c-e919-431f-b410-04837855e749",
   "metadata": {},
   "source": [
    "# Mini-project: Flow Data Analysis"
   ]
  },
  {
   "cell_type": "markdown",
   "id": "0edf9eaa-7266-4012-811e-2d9d5b6cdc68",
   "metadata": {},
   "source": [
    "### Dataset\n",
    "You have a CSV file `flows_station.csv` with two columns:\n",
    "- `Date` (YYYY-MM-DD)\n",
    "- `Qobs` (observed flow, m³/s)\n",
    "\n",
    "### Tasks\n",
    "1. Import the file.  \n",
    "2. Compute: annual mean, annual maximum, number of flood days (Q > 80).  \n",
    "3. Categorize each day:  \n",
    "   - Flood if Q > 80  \n",
    "   - Normal if 20 < Q ≤ 80  \n",
    "   - Low flow if Q ≤ 20  \n",
    "4. Save results as `outputs/flows_categorized.csv`.\n"
   ]
  },
  {
   "cell_type": "markdown",
   "id": "d80410e1-055a-444a-a19a-58bde2bd2c0b",
   "metadata": {},
   "source": [
    "<div style=\"text-align: center;\">\n",
    "  <img src=\"https://previews.123rf.com/images/ribah/ribah1504/ribah150400016/38935644-3d-illustration-of-man-holding-cloth-banner-of-word-text-thank-you-3d-rendering-of-human-people.jpg\" width=\"200\">\n",
    "</div>"
   ]
  },
  {
   "cell_type": "code",
   "execution_count": null,
   "id": "84d3634d-c537-40bf-884c-653f82a5a1c0",
   "metadata": {},
   "outputs": [],
   "source": []
  }
 ],
 "metadata": {
  "kernelspec": {
   "display_name": "R",
   "language": "R",
   "name": "ir"
  },
  "language_info": {
   "codemirror_mode": "r",
   "file_extension": ".r",
   "mimetype": "text/x-r-source",
   "name": "R",
   "pygments_lexer": "r",
   "version": "4.3.3"
  }
 },
 "nbformat": 4,
 "nbformat_minor": 5
}
