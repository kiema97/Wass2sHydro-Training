{
 "cells": [
  {
   "cell_type": "markdown",
   "id": "98390071-c67d-46ef-a3c0-8ba7ee78462c",
   "metadata": {},
   "source": [
    "<div style=\"width: 100%; text-align: center;\">\n",
    "    <div style=\"background-color:#007F00; padding: 0.5rem;\">\n",
    "        <h1 style=\"font-weight: bold; font-size: 2.5em; color: black;\"> AGRHYMET CENTRE CLIMATIQUE REGIONAL POUR L'AFRIQUE DE L'OUEST ET LE SAHEL</h1>\n",
    "   </div>\n",
    "\n",
    "   <div style=\"text-align: center;\">\n",
    "  <img src=\"https://www.sareco.org/wp-content/uploads/2017/07/plrDvYX1.jpg\" width=\"200\">\n",
    "</div>"
   ]
  },
  {
   "cell_type": "markdown",
   "id": "be07fdfd-9207-48a6-9b89-4f98bedb7ae3",
   "metadata": {},
   "source": [
    "<a id=\"1\"></a>\n",
    "# <p style=\"padding:10px;background-color:#FFFFFF ;margin:0;color:#007F00;font-family:newtimeroman;font-size:100%;text-align:center;border-radius: 15px 50px;overflow:hidden;font-weight:500\">Capacity Building in Seasonal Hydrological Forecasting </p>"
   ]
  },
  {
   "cell_type": "markdown",
   "id": "e1dfcfd0-d090-492f-8cdf-9927ec77d056",
   "metadata": {},
   "source": [
    "<a id=\"1\"></a>\n",
    "### <p style=\"padding:10px;background-color:#000000 ;margin:0;color:#007F00;font-family:#newtimeroman;font-size:100%;text-align:center;border-radius: 15px 50px;overflow:hidden;font-weight:500\">Working with Tabular Data </p>"
   ]
  },
  {
   "cell_type": "code",
   "execution_count": null,
   "id": "f7d56a05-77c0-4913-8ae8-2fa86fd0cdaf",
   "metadata": {},
   "outputs": [],
   "source": []
  }
 ],
 "metadata": {
  "kernelspec": {
   "display_name": "R",
   "language": "R",
   "name": "ir"
  },
  "language_info": {
   "codemirror_mode": "r",
   "file_extension": ".r",
   "mimetype": "text/x-r-source",
   "name": "R",
   "pygments_lexer": "r",
   "version": "4.4.3"
  }
 },
 "nbformat": 4,
 "nbformat_minor": 5
}
