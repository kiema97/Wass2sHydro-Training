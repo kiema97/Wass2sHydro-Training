{
 "cells": [
  {
   "cell_type": "markdown",
   "id": "f8a837d1-d421-4461-a17e-7b0bb959ba2f",
   "metadata": {},
   "source": [
    "<div style=\"width: 100%; text-align: center;\">\n",
    "    <div style=\"background-color:#007F00; padding: 0.5rem;\">\n",
    "        <h1 style=\"font-weight: bold; font-size: 2.5em; color: black;\"> AGRHYMET CENTRE CLIMATIQUE REGIONAL POUR L'AFRIQUE DE L'OUEST ET LE SAHEL</h1>\n",
    "   </div>"
   ]
  },
  {
   "cell_type": "markdown",
   "id": "23677e66-3782-4961-820c-4f5d5be3b054",
   "metadata": {},
   "source": [
    "<div style=\"text-align: center;\">\n",
    "  <img src=\"https://www.sareco.org/wp-content/uploads/2017/07/plrDvYX1.jpg\" width=\"200\">\n",
    "</div>\n"
   ]
  },
  {
   "cell_type": "markdown",
   "id": "f925ccd7-4399-4f9b-a0b5-afb242204a48",
   "metadata": {},
   "source": [
    "<a id=\"1\"></a>\n",
    "# <p style=\"padding:10px;background-color:#FFFFFF ;margin:0;color:#007F00;font-family:newtimeroman;font-size:100%;text-align:center;border-radius: 15px 50px;overflow:hidden;font-weight:500\">FORMATION SAPCI-HYDROSERVER </p>"
   ]
  },
  {
   "cell_type": "markdown",
   "id": "5f6f8503-bf87-424a-8099-902305e0c9c9",
   "metadata": {},
   "source": [
    "# Importation des bibliothèques"
   ]
  },
  {
   "cell_type": "code",
   "execution_count": 1,
   "id": "cb2fa6f8-8b05-4c2a-8a8f-7451116de894",
   "metadata": {},
   "outputs": [],
   "source": [
    "from pprint import pprint\n",
    "from hydroserverpy import HydroServer\n",
    "import pandas as pd\n",
    "from getpass import getpass\n",
    "from folium.plugins import MarkerCluster\n",
    "import folium"
   ]
  },
  {
   "cell_type": "markdown",
   "id": "d285d675-e2cf-4a96-b099-289263517c0b",
   "metadata": {},
   "source": [
    "# Configuration de connexion "
   ]
  },
  {
   "cell_type": "code",
   "execution_count": 2,
   "id": "b7bfac86-9fe6-4b39-9ab5-fe4415b1ac82",
   "metadata": {},
   "outputs": [
    {
     "name": "stdin",
     "output_type": "stream",
     "text": [
      "Nom d'utilisateur Earthdata :  kiemaarsene@gmail.com\n",
      "Mot de passe Earthdata :  ········\n"
     ]
    }
   ],
   "source": [
    "host = 'https://playground.hydroserver.org'\n",
    "username = input(\"Nom d'utilisateur Earthdata : \")\n",
    "password = getpass(\"Mot de passe Earthdata : \")"
   ]
  },
  {
   "cell_type": "code",
   "execution_count": 3,
   "id": "13d1edfe-25f0-4852-87e6-83fc22b13285",
   "metadata": {},
   "outputs": [],
   "source": [
    "hs_api = HydroServer(\n",
    "    host=host,\n",
    "    email=username,\n",
    "    password=password\n",
    ")"
   ]
  },
  {
   "cell_type": "markdown",
   "id": "b481c18b-e932-46f1-b437-f9b28f4a049f",
   "metadata": {},
   "source": [
    "## Importation des données des stations "
   ]
  },
  {
   "cell_type": "code",
   "execution_count": 4,
   "id": "a7a3738f-c66b-407f-8cfa-1f298f6f1f68",
   "metadata": {},
   "outputs": [
    {
     "data": {
      "text/html": [
       "<div>\n",
       "<style scoped>\n",
       "    .dataframe tbody tr th:only-of-type {\n",
       "        vertical-align: middle;\n",
       "    }\n",
       "\n",
       "    .dataframe tbody tr th {\n",
       "        vertical-align: top;\n",
       "    }\n",
       "\n",
       "    .dataframe thead th {\n",
       "        text-align: right;\n",
       "    }\n",
       "</style>\n",
       "<table border=\"1\" class=\"dataframe\">\n",
       "  <thead>\n",
       "    <tr style=\"text-align: right;\">\n",
       "      <th></th>\n",
       "      <th>name</th>\n",
       "      <th>description</th>\n",
       "      <th>samplingFeatureType</th>\n",
       "      <th>samplingFeatureCode</th>\n",
       "      <th>siteType</th>\n",
       "      <th>latitude</th>\n",
       "      <th>longitude</th>\n",
       "      <th>elevation_m</th>\n",
       "      <th>state</th>\n",
       "      <th>county</th>\n",
       "      <th>country</th>\n",
       "      <th>dataDisclaimer</th>\n",
       "      <th>River</th>\n",
       "    </tr>\n",
       "  </thead>\n",
       "  <tbody>\n",
       "    <tr>\n",
       "      <th>0</th>\n",
       "      <td>Station 1</td>\n",
       "      <td>Station de mesure numéro 1 sur un cours d'eau.</td>\n",
       "      <td>Site</td>\n",
       "      <td>CDE001</td>\n",
       "      <td>Stream</td>\n",
       "      <td>10.0</td>\n",
       "      <td>-1.00</td>\n",
       "      <td>300</td>\n",
       "      <td>Région Test</td>\n",
       "      <td>Département 1</td>\n",
       "      <td>Burkina Faso</td>\n",
       "      <td>Ces données sont fournies à des fins de test u...</td>\n",
       "      <td>Mouhoun</td>\n",
       "    </tr>\n",
       "    <tr>\n",
       "      <th>1</th>\n",
       "      <td>Station 2</td>\n",
       "      <td>Station de mesure numéro 2 sur un cours d'eau.</td>\n",
       "      <td>Site</td>\n",
       "      <td>CDE002</td>\n",
       "      <td>Stream</td>\n",
       "      <td>10.1</td>\n",
       "      <td>-1.05</td>\n",
       "      <td>305</td>\n",
       "      <td>Région Test</td>\n",
       "      <td>Département 2</td>\n",
       "      <td>Burkina Faso</td>\n",
       "      <td>Ces données sont fournies à des fins de test u...</td>\n",
       "      <td>Mouhoun</td>\n",
       "    </tr>\n",
       "  </tbody>\n",
       "</table>\n",
       "</div>"
      ],
      "text/plain": [
       "        name                                     description  \\\n",
       "0  Station 1  Station de mesure numéro 1 sur un cours d'eau.   \n",
       "1  Station 2  Station de mesure numéro 2 sur un cours d'eau.   \n",
       "\n",
       "  samplingFeatureType samplingFeatureCode siteType  latitude  longitude  \\\n",
       "0                Site              CDE001   Stream      10.0      -1.00   \n",
       "1                Site              CDE002   Stream      10.1      -1.05   \n",
       "\n",
       "   elevation_m        state         county       country  \\\n",
       "0          300  Région Test  Département 1  Burkina Faso   \n",
       "1          305  Région Test  Département 2  Burkina Faso   \n",
       "\n",
       "                                      dataDisclaimer    River  \n",
       "0  Ces données sont fournies à des fins de test u...  Mouhoun  \n",
       "1  Ces données sont fournies à des fins de test u...  Mouhoun  "
      ]
     },
     "execution_count": 4,
     "metadata": {},
     "output_type": "execute_result"
    }
   ],
   "source": [
    "# --- Lecture de fichier CSV local ---\n",
    "stations_df = pd.read_csv(\"data/stations_v2.csv\")  \n",
    "stations_df = stations_df.dropna()\n",
    "stations_df.head(2)"
   ]
  },
  {
   "cell_type": "code",
   "execution_count": 6,
   "id": "d1f8a521-adbd-4102-95ec-c7599d18a2ec",
   "metadata": {},
   "outputs": [
    {
     "data": {
      "text/html": [
       "<div style=\"width:100%;\"><div style=\"position:relative;width:100%;height:0;padding-bottom:60%;\"><span style=\"color:#565656\">Make this Notebook Trusted to load map: File -> Trust Notebook</span><iframe srcdoc=\"&lt;!DOCTYPE html&gt;\n",
       "&lt;html&gt;\n",
       "&lt;head&gt;\n",
       "    \n",
       "    &lt;meta http-equiv=&quot;content-type&quot; content=&quot;text/html; charset=UTF-8&quot; /&gt;\n",
       "    &lt;script src=&quot;https://cdn.jsdelivr.net/npm/leaflet@1.9.3/dist/leaflet.js&quot;&gt;&lt;/script&gt;\n",
       "    &lt;script src=&quot;https://code.jquery.com/jquery-3.7.1.min.js&quot;&gt;&lt;/script&gt;\n",
       "    &lt;script src=&quot;https://cdn.jsdelivr.net/npm/bootstrap@5.2.2/dist/js/bootstrap.bundle.min.js&quot;&gt;&lt;/script&gt;\n",
       "    &lt;script src=&quot;https://cdnjs.cloudflare.com/ajax/libs/Leaflet.awesome-markers/2.0.2/leaflet.awesome-markers.js&quot;&gt;&lt;/script&gt;\n",
       "    &lt;link rel=&quot;stylesheet&quot; href=&quot;https://cdn.jsdelivr.net/npm/leaflet@1.9.3/dist/leaflet.css&quot;/&gt;\n",
       "    &lt;link rel=&quot;stylesheet&quot; href=&quot;https://cdn.jsdelivr.net/npm/bootstrap@5.2.2/dist/css/bootstrap.min.css&quot;/&gt;\n",
       "    &lt;link rel=&quot;stylesheet&quot; href=&quot;https://netdna.bootstrapcdn.com/bootstrap/3.0.0/css/bootstrap-glyphicons.css&quot;/&gt;\n",
       "    &lt;link rel=&quot;stylesheet&quot; href=&quot;https://cdn.jsdelivr.net/npm/@fortawesome/fontawesome-free@6.2.0/css/all.min.css&quot;/&gt;\n",
       "    &lt;link rel=&quot;stylesheet&quot; href=&quot;https://cdnjs.cloudflare.com/ajax/libs/Leaflet.awesome-markers/2.0.2/leaflet.awesome-markers.css&quot;/&gt;\n",
       "    &lt;link rel=&quot;stylesheet&quot; href=&quot;https://cdn.jsdelivr.net/gh/python-visualization/folium/folium/templates/leaflet.awesome.rotate.min.css&quot;/&gt;\n",
       "    \n",
       "            &lt;meta name=&quot;viewport&quot; content=&quot;width=device-width,\n",
       "                initial-scale=1.0, maximum-scale=1.0, user-scalable=no&quot; /&gt;\n",
       "            &lt;style&gt;\n",
       "                #map_e94b6130e4a0e1b678275f54f1e6d13e {\n",
       "                    position: relative;\n",
       "                    width: 100.0%;\n",
       "                    height: 100.0%;\n",
       "                    left: 0.0%;\n",
       "                    top: 0.0%;\n",
       "                }\n",
       "                .leaflet-container { font-size: 1rem; }\n",
       "            &lt;/style&gt;\n",
       "\n",
       "            &lt;style&gt;html, body {\n",
       "                width: 100%;\n",
       "                height: 100%;\n",
       "                margin: 0;\n",
       "                padding: 0;\n",
       "            }\n",
       "            &lt;/style&gt;\n",
       "\n",
       "            &lt;style&gt;#map {\n",
       "                position:absolute;\n",
       "                top:0;\n",
       "                bottom:0;\n",
       "                right:0;\n",
       "                left:0;\n",
       "                }\n",
       "            &lt;/style&gt;\n",
       "\n",
       "            &lt;script&gt;\n",
       "                L_NO_TOUCH = false;\n",
       "                L_DISABLE_3D = false;\n",
       "            &lt;/script&gt;\n",
       "\n",
       "        \n",
       "    &lt;script src=&quot;https://cdnjs.cloudflare.com/ajax/libs/leaflet.markercluster/1.1.0/leaflet.markercluster.js&quot;&gt;&lt;/script&gt;\n",
       "    &lt;link rel=&quot;stylesheet&quot; href=&quot;https://cdnjs.cloudflare.com/ajax/libs/leaflet.markercluster/1.1.0/MarkerCluster.css&quot;/&gt;\n",
       "    &lt;link rel=&quot;stylesheet&quot; href=&quot;https://cdnjs.cloudflare.com/ajax/libs/leaflet.markercluster/1.1.0/MarkerCluster.Default.css&quot;/&gt;\n",
       "&lt;/head&gt;\n",
       "&lt;body&gt;\n",
       "    \n",
       "    \n",
       "            &lt;div class=&quot;folium-map&quot; id=&quot;map_e94b6130e4a0e1b678275f54f1e6d13e&quot; &gt;&lt;/div&gt;\n",
       "        \n",
       "&lt;/body&gt;\n",
       "&lt;script&gt;\n",
       "    \n",
       "    \n",
       "            var map_e94b6130e4a0e1b678275f54f1e6d13e = L.map(\n",
       "                &quot;map_e94b6130e4a0e1b678275f54f1e6d13e&quot;,\n",
       "                {\n",
       "                    center: [11.449999999999998, -1.7250000000000003],\n",
       "                    crs: L.CRS.EPSG3857,\n",
       "                    ...{\n",
       "  &quot;zoom&quot;: 5,\n",
       "  &quot;zoomControl&quot;: true,\n",
       "  &quot;preferCanvas&quot;: false,\n",
       "}\n",
       "\n",
       "                }\n",
       "            );\n",
       "\n",
       "            \n",
       "\n",
       "        \n",
       "    \n",
       "            var tile_layer_3a5258a082c46167d0a72ff81de5138b = L.tileLayer(\n",
       "                &quot;https://tile.openstreetmap.org/{z}/{x}/{y}.png&quot;,\n",
       "                {\n",
       "  &quot;minZoom&quot;: 0,\n",
       "  &quot;maxZoom&quot;: 19,\n",
       "  &quot;maxNativeZoom&quot;: 19,\n",
       "  &quot;noWrap&quot;: false,\n",
       "  &quot;attribution&quot;: &quot;\\u0026copy; \\u003ca href=\\&quot;https://www.openstreetmap.org/copyright\\&quot;\\u003eOpenStreetMap\\u003c/a\\u003e contributors&quot;,\n",
       "  &quot;subdomains&quot;: &quot;abc&quot;,\n",
       "  &quot;detectRetina&quot;: false,\n",
       "  &quot;tms&quot;: false,\n",
       "  &quot;opacity&quot;: 1,\n",
       "}\n",
       "\n",
       "            );\n",
       "        \n",
       "    \n",
       "            tile_layer_3a5258a082c46167d0a72ff81de5138b.addTo(map_e94b6130e4a0e1b678275f54f1e6d13e);\n",
       "        \n",
       "    \n",
       "            var marker_cluster_9d660dadd0643ff3d199507a388e31c2 = L.markerClusterGroup(\n",
       "                {\n",
       "}\n",
       "            );\n",
       "        \n",
       "    \n",
       "            var marker_ee3a21c5ceb933e9b957e63418b251a4 = L.marker(\n",
       "                [10.0, -1.0],\n",
       "                {\n",
       "}\n",
       "            ).addTo(marker_cluster_9d660dadd0643ff3d199507a388e31c2);\n",
       "        \n",
       "    \n",
       "        var popup_abd0d65411bbdadcb4d93971e327f592 = L.popup({\n",
       "  &quot;maxWidth&quot;: &quot;100%&quot;,\n",
       "});\n",
       "\n",
       "        \n",
       "            \n",
       "                var html_1e5176724b36da1f17adf9292ef8e69b = $(`&lt;div id=&quot;html_1e5176724b36da1f17adf9292ef8e69b&quot; style=&quot;width: 100.0%; height: 100.0%;&quot;&gt;River: Mouhoun&lt;br&gt;Station: Station 1&lt;/div&gt;`)[0];\n",
       "                popup_abd0d65411bbdadcb4d93971e327f592.setContent(html_1e5176724b36da1f17adf9292ef8e69b);\n",
       "            \n",
       "        \n",
       "\n",
       "        marker_ee3a21c5ceb933e9b957e63418b251a4.bindPopup(popup_abd0d65411bbdadcb4d93971e327f592)\n",
       "        ;\n",
       "\n",
       "        \n",
       "    \n",
       "    \n",
       "            var marker_fdf1366d1ce0d31cc1cd03e4a3a37ecc = L.marker(\n",
       "                [10.1, -1.05],\n",
       "                {\n",
       "}\n",
       "            ).addTo(marker_cluster_9d660dadd0643ff3d199507a388e31c2);\n",
       "        \n",
       "    \n",
       "        var popup_e319072b0bf796737f75b466d2f6cd3c = L.popup({\n",
       "  &quot;maxWidth&quot;: &quot;100%&quot;,\n",
       "});\n",
       "\n",
       "        \n",
       "            \n",
       "                var html_e9be02de83ac45a9f635880284119899 = $(`&lt;div id=&quot;html_e9be02de83ac45a9f635880284119899&quot; style=&quot;width: 100.0%; height: 100.0%;&quot;&gt;River: Mouhoun&lt;br&gt;Station: Station 2&lt;/div&gt;`)[0];\n",
       "                popup_e319072b0bf796737f75b466d2f6cd3c.setContent(html_e9be02de83ac45a9f635880284119899);\n",
       "            \n",
       "        \n",
       "\n",
       "        marker_fdf1366d1ce0d31cc1cd03e4a3a37ecc.bindPopup(popup_e319072b0bf796737f75b466d2f6cd3c)\n",
       "        ;\n",
       "\n",
       "        \n",
       "    \n",
       "    \n",
       "            var marker_fc2ab8c9fce03b0650c0cc0e68edbfc1 = L.marker(\n",
       "                [10.2, -1.1],\n",
       "                {\n",
       "}\n",
       "            ).addTo(marker_cluster_9d660dadd0643ff3d199507a388e31c2);\n",
       "        \n",
       "    \n",
       "        var popup_2580d03cb002e40d3b94ce6351aa3919 = L.popup({\n",
       "  &quot;maxWidth&quot;: &quot;100%&quot;,\n",
       "});\n",
       "\n",
       "        \n",
       "            \n",
       "                var html_b01be004e3d8cc0d72262b03e79b268e = $(`&lt;div id=&quot;html_b01be004e3d8cc0d72262b03e79b268e&quot; style=&quot;width: 100.0%; height: 100.0%;&quot;&gt;River: Mouhoun&lt;br&gt;Station: Station 3&lt;/div&gt;`)[0];\n",
       "                popup_2580d03cb002e40d3b94ce6351aa3919.setContent(html_b01be004e3d8cc0d72262b03e79b268e);\n",
       "            \n",
       "        \n",
       "\n",
       "        marker_fc2ab8c9fce03b0650c0cc0e68edbfc1.bindPopup(popup_2580d03cb002e40d3b94ce6351aa3919)\n",
       "        ;\n",
       "\n",
       "        \n",
       "    \n",
       "    \n",
       "            var marker_ad711f663c8f49d585f78401dfe90829 = L.marker(\n",
       "                [10.3, -1.15],\n",
       "                {\n",
       "}\n",
       "            ).addTo(marker_cluster_9d660dadd0643ff3d199507a388e31c2);\n",
       "        \n",
       "    \n",
       "        var popup_2cc7f28fd6eb4a08d217023a792b5616 = L.popup({\n",
       "  &quot;maxWidth&quot;: &quot;100%&quot;,\n",
       "});\n",
       "\n",
       "        \n",
       "            \n",
       "                var html_0b88630770609eb4ce9dbdb150143aa3 = $(`&lt;div id=&quot;html_0b88630770609eb4ce9dbdb150143aa3&quot; style=&quot;width: 100.0%; height: 100.0%;&quot;&gt;River: Mouhoun&lt;br&gt;Station: Station 4&lt;/div&gt;`)[0];\n",
       "                popup_2cc7f28fd6eb4a08d217023a792b5616.setContent(html_0b88630770609eb4ce9dbdb150143aa3);\n",
       "            \n",
       "        \n",
       "\n",
       "        marker_ad711f663c8f49d585f78401dfe90829.bindPopup(popup_2cc7f28fd6eb4a08d217023a792b5616)\n",
       "        ;\n",
       "\n",
       "        \n",
       "    \n",
       "    \n",
       "            var marker_c16a3767341a2cacb372c2d5f4c7ca3b = L.marker(\n",
       "                [10.4, -1.2],\n",
       "                {\n",
       "}\n",
       "            ).addTo(marker_cluster_9d660dadd0643ff3d199507a388e31c2);\n",
       "        \n",
       "    \n",
       "        var popup_0e235698b5ab193259b9177babcdb2ce = L.popup({\n",
       "  &quot;maxWidth&quot;: &quot;100%&quot;,\n",
       "});\n",
       "\n",
       "        \n",
       "            \n",
       "                var html_d3884f9eac2b69ad13ab35001986c1cf = $(`&lt;div id=&quot;html_d3884f9eac2b69ad13ab35001986c1cf&quot; style=&quot;width: 100.0%; height: 100.0%;&quot;&gt;River: Mouhoun&lt;br&gt;Station: Station 5&lt;/div&gt;`)[0];\n",
       "                popup_0e235698b5ab193259b9177babcdb2ce.setContent(html_d3884f9eac2b69ad13ab35001986c1cf);\n",
       "            \n",
       "        \n",
       "\n",
       "        marker_c16a3767341a2cacb372c2d5f4c7ca3b.bindPopup(popup_0e235698b5ab193259b9177babcdb2ce)\n",
       "        ;\n",
       "\n",
       "        \n",
       "    \n",
       "    \n",
       "            var marker_f258ad8f49ae86a650090b8856c32d1f = L.marker(\n",
       "                [10.5, -1.25],\n",
       "                {\n",
       "}\n",
       "            ).addTo(marker_cluster_9d660dadd0643ff3d199507a388e31c2);\n",
       "        \n",
       "    \n",
       "        var popup_9ce094f5676b22efa67eac47a715140e = L.popup({\n",
       "  &quot;maxWidth&quot;: &quot;100%&quot;,\n",
       "});\n",
       "\n",
       "        \n",
       "            \n",
       "                var html_4c90b838ea88833c1358197b4137f4df = $(`&lt;div id=&quot;html_4c90b838ea88833c1358197b4137f4df&quot; style=&quot;width: 100.0%; height: 100.0%;&quot;&gt;River: Mouhoun&lt;br&gt;Station: Station 6&lt;/div&gt;`)[0];\n",
       "                popup_9ce094f5676b22efa67eac47a715140e.setContent(html_4c90b838ea88833c1358197b4137f4df);\n",
       "            \n",
       "        \n",
       "\n",
       "        marker_f258ad8f49ae86a650090b8856c32d1f.bindPopup(popup_9ce094f5676b22efa67eac47a715140e)\n",
       "        ;\n",
       "\n",
       "        \n",
       "    \n",
       "    \n",
       "            var marker_7486819d8f0cac323a3ee85bb319c2da = L.marker(\n",
       "                [10.6, -1.3],\n",
       "                {\n",
       "}\n",
       "            ).addTo(marker_cluster_9d660dadd0643ff3d199507a388e31c2);\n",
       "        \n",
       "    \n",
       "        var popup_9b7c67707b1ef0291cc360b0f33ac9fd = L.popup({\n",
       "  &quot;maxWidth&quot;: &quot;100%&quot;,\n",
       "});\n",
       "\n",
       "        \n",
       "            \n",
       "                var html_af2179a2bb742dc076104f4d0bdabe0f = $(`&lt;div id=&quot;html_af2179a2bb742dc076104f4d0bdabe0f&quot; style=&quot;width: 100.0%; height: 100.0%;&quot;&gt;River: Mouhoun&lt;br&gt;Station: Station 7&lt;/div&gt;`)[0];\n",
       "                popup_9b7c67707b1ef0291cc360b0f33ac9fd.setContent(html_af2179a2bb742dc076104f4d0bdabe0f);\n",
       "            \n",
       "        \n",
       "\n",
       "        marker_7486819d8f0cac323a3ee85bb319c2da.bindPopup(popup_9b7c67707b1ef0291cc360b0f33ac9fd)\n",
       "        ;\n",
       "\n",
       "        \n",
       "    \n",
       "    \n",
       "            var marker_f7c9370bf1b6af67b84197980560000a = L.marker(\n",
       "                [10.7, -1.35],\n",
       "                {\n",
       "}\n",
       "            ).addTo(marker_cluster_9d660dadd0643ff3d199507a388e31c2);\n",
       "        \n",
       "    \n",
       "        var popup_c74ffb8f1753d2ddfda41f84c544735b = L.popup({\n",
       "  &quot;maxWidth&quot;: &quot;100%&quot;,\n",
       "});\n",
       "\n",
       "        \n",
       "            \n",
       "                var html_47d11abcb7974cbe154413e2abfb94b6 = $(`&lt;div id=&quot;html_47d11abcb7974cbe154413e2abfb94b6&quot; style=&quot;width: 100.0%; height: 100.0%;&quot;&gt;River: Mouhoun&lt;br&gt;Station: Station 8&lt;/div&gt;`)[0];\n",
       "                popup_c74ffb8f1753d2ddfda41f84c544735b.setContent(html_47d11abcb7974cbe154413e2abfb94b6);\n",
       "            \n",
       "        \n",
       "\n",
       "        marker_f7c9370bf1b6af67b84197980560000a.bindPopup(popup_c74ffb8f1753d2ddfda41f84c544735b)\n",
       "        ;\n",
       "\n",
       "        \n",
       "    \n",
       "    \n",
       "            var marker_5db704b3b56ed53f4d305fe017ba6689 = L.marker(\n",
       "                [10.8, -1.4],\n",
       "                {\n",
       "}\n",
       "            ).addTo(marker_cluster_9d660dadd0643ff3d199507a388e31c2);\n",
       "        \n",
       "    \n",
       "        var popup_3c5095f47067f24fb28bf6cc5b119d52 = L.popup({\n",
       "  &quot;maxWidth&quot;: &quot;100%&quot;,\n",
       "});\n",
       "\n",
       "        \n",
       "            \n",
       "                var html_7fb2b0be2501df86353ab07f9c1372ae = $(`&lt;div id=&quot;html_7fb2b0be2501df86353ab07f9c1372ae&quot; style=&quot;width: 100.0%; height: 100.0%;&quot;&gt;River: Mouhoun&lt;br&gt;Station: Station 9&lt;/div&gt;`)[0];\n",
       "                popup_3c5095f47067f24fb28bf6cc5b119d52.setContent(html_7fb2b0be2501df86353ab07f9c1372ae);\n",
       "            \n",
       "        \n",
       "\n",
       "        marker_5db704b3b56ed53f4d305fe017ba6689.bindPopup(popup_3c5095f47067f24fb28bf6cc5b119d52)\n",
       "        ;\n",
       "\n",
       "        \n",
       "    \n",
       "    \n",
       "            var marker_14744a210f5026eedd2612581952cf2d = L.marker(\n",
       "                [10.9, -1.45],\n",
       "                {\n",
       "}\n",
       "            ).addTo(marker_cluster_9d660dadd0643ff3d199507a388e31c2);\n",
       "        \n",
       "    \n",
       "        var popup_93140519311c2df548d3e57d22ce0b43 = L.popup({\n",
       "  &quot;maxWidth&quot;: &quot;100%&quot;,\n",
       "});\n",
       "\n",
       "        \n",
       "            \n",
       "                var html_dd920f9de51122b0ca5c9db7951f2e8c = $(`&lt;div id=&quot;html_dd920f9de51122b0ca5c9db7951f2e8c&quot; style=&quot;width: 100.0%; height: 100.0%;&quot;&gt;River: Mouhoun&lt;br&gt;Station: Station 10&lt;/div&gt;`)[0];\n",
       "                popup_93140519311c2df548d3e57d22ce0b43.setContent(html_dd920f9de51122b0ca5c9db7951f2e8c);\n",
       "            \n",
       "        \n",
       "\n",
       "        marker_14744a210f5026eedd2612581952cf2d.bindPopup(popup_93140519311c2df548d3e57d22ce0b43)\n",
       "        ;\n",
       "\n",
       "        \n",
       "    \n",
       "    \n",
       "            var marker_38d8919cbf852bc9ab9d4090a48424cb = L.marker(\n",
       "                [11.0, -1.5],\n",
       "                {\n",
       "}\n",
       "            ).addTo(marker_cluster_9d660dadd0643ff3d199507a388e31c2);\n",
       "        \n",
       "    \n",
       "        var popup_c07734b37afd3a1483a42a32b5ee2629 = L.popup({\n",
       "  &quot;maxWidth&quot;: &quot;100%&quot;,\n",
       "});\n",
       "\n",
       "        \n",
       "            \n",
       "                var html_801024e1d2eeeb838e093a653213f06c = $(`&lt;div id=&quot;html_801024e1d2eeeb838e093a653213f06c&quot; style=&quot;width: 100.0%; height: 100.0%;&quot;&gt;River: Mouhoun&lt;br&gt;Station: Station 11&lt;/div&gt;`)[0];\n",
       "                popup_c07734b37afd3a1483a42a32b5ee2629.setContent(html_801024e1d2eeeb838e093a653213f06c);\n",
       "            \n",
       "        \n",
       "\n",
       "        marker_38d8919cbf852bc9ab9d4090a48424cb.bindPopup(popup_c07734b37afd3a1483a42a32b5ee2629)\n",
       "        ;\n",
       "\n",
       "        \n",
       "    \n",
       "    \n",
       "            var marker_2ba3181d5613cd1bdfe50aba14cf58bf = L.marker(\n",
       "                [11.1, -1.55],\n",
       "                {\n",
       "}\n",
       "            ).addTo(marker_cluster_9d660dadd0643ff3d199507a388e31c2);\n",
       "        \n",
       "    \n",
       "        var popup_3e297197383e0ce30ccd7e93a4d6b09a = L.popup({\n",
       "  &quot;maxWidth&quot;: &quot;100%&quot;,\n",
       "});\n",
       "\n",
       "        \n",
       "            \n",
       "                var html_0156d97fc151ae9deaaf5ff20b190a61 = $(`&lt;div id=&quot;html_0156d97fc151ae9deaaf5ff20b190a61&quot; style=&quot;width: 100.0%; height: 100.0%;&quot;&gt;River: Nakanbe&lt;br&gt;Station: Station 12&lt;/div&gt;`)[0];\n",
       "                popup_3e297197383e0ce30ccd7e93a4d6b09a.setContent(html_0156d97fc151ae9deaaf5ff20b190a61);\n",
       "            \n",
       "        \n",
       "\n",
       "        marker_2ba3181d5613cd1bdfe50aba14cf58bf.bindPopup(popup_3e297197383e0ce30ccd7e93a4d6b09a)\n",
       "        ;\n",
       "\n",
       "        \n",
       "    \n",
       "    \n",
       "            var marker_bcbca2a1896ec7c2ce8c61d5ff27136c = L.marker(\n",
       "                [11.2, -1.6],\n",
       "                {\n",
       "}\n",
       "            ).addTo(marker_cluster_9d660dadd0643ff3d199507a388e31c2);\n",
       "        \n",
       "    \n",
       "        var popup_c81cd4effbc6cd9600208300d408d3c0 = L.popup({\n",
       "  &quot;maxWidth&quot;: &quot;100%&quot;,\n",
       "});\n",
       "\n",
       "        \n",
       "            \n",
       "                var html_1ff029189f2463f4b64792ebba4f5901 = $(`&lt;div id=&quot;html_1ff029189f2463f4b64792ebba4f5901&quot; style=&quot;width: 100.0%; height: 100.0%;&quot;&gt;River: Nakanbe&lt;br&gt;Station: Station 13&lt;/div&gt;`)[0];\n",
       "                popup_c81cd4effbc6cd9600208300d408d3c0.setContent(html_1ff029189f2463f4b64792ebba4f5901);\n",
       "            \n",
       "        \n",
       "\n",
       "        marker_bcbca2a1896ec7c2ce8c61d5ff27136c.bindPopup(popup_c81cd4effbc6cd9600208300d408d3c0)\n",
       "        ;\n",
       "\n",
       "        \n",
       "    \n",
       "    \n",
       "            var marker_c3ec8c2f1066798ec68ab2839feaac69 = L.marker(\n",
       "                [11.3, -1.65],\n",
       "                {\n",
       "}\n",
       "            ).addTo(marker_cluster_9d660dadd0643ff3d199507a388e31c2);\n",
       "        \n",
       "    \n",
       "        var popup_4107f69b27567df7bc5396ed89a8e9db = L.popup({\n",
       "  &quot;maxWidth&quot;: &quot;100%&quot;,\n",
       "});\n",
       "\n",
       "        \n",
       "            \n",
       "                var html_d3899745053b2e4ca33940c744aa10f9 = $(`&lt;div id=&quot;html_d3899745053b2e4ca33940c744aa10f9&quot; style=&quot;width: 100.0%; height: 100.0%;&quot;&gt;River: Nakanbe&lt;br&gt;Station: Station 14&lt;/div&gt;`)[0];\n",
       "                popup_4107f69b27567df7bc5396ed89a8e9db.setContent(html_d3899745053b2e4ca33940c744aa10f9);\n",
       "            \n",
       "        \n",
       "\n",
       "        marker_c3ec8c2f1066798ec68ab2839feaac69.bindPopup(popup_4107f69b27567df7bc5396ed89a8e9db)\n",
       "        ;\n",
       "\n",
       "        \n",
       "    \n",
       "    \n",
       "            var marker_2f6cdb38278d83f1fd45a19549f186ce = L.marker(\n",
       "                [11.4, -1.7],\n",
       "                {\n",
       "}\n",
       "            ).addTo(marker_cluster_9d660dadd0643ff3d199507a388e31c2);\n",
       "        \n",
       "    \n",
       "        var popup_cbd2ac461b0f7769122504f3597004f7 = L.popup({\n",
       "  &quot;maxWidth&quot;: &quot;100%&quot;,\n",
       "});\n",
       "\n",
       "        \n",
       "            \n",
       "                var html_2408338937520ec77a917c2fec9a36ef = $(`&lt;div id=&quot;html_2408338937520ec77a917c2fec9a36ef&quot; style=&quot;width: 100.0%; height: 100.0%;&quot;&gt;River: Nakanbe&lt;br&gt;Station: Station 15&lt;/div&gt;`)[0];\n",
       "                popup_cbd2ac461b0f7769122504f3597004f7.setContent(html_2408338937520ec77a917c2fec9a36ef);\n",
       "            \n",
       "        \n",
       "\n",
       "        marker_2f6cdb38278d83f1fd45a19549f186ce.bindPopup(popup_cbd2ac461b0f7769122504f3597004f7)\n",
       "        ;\n",
       "\n",
       "        \n",
       "    \n",
       "    \n",
       "            var marker_867c143d728d4d25f274a5fa029fb70d = L.marker(\n",
       "                [11.5, -1.75],\n",
       "                {\n",
       "}\n",
       "            ).addTo(marker_cluster_9d660dadd0643ff3d199507a388e31c2);\n",
       "        \n",
       "    \n",
       "        var popup_b8342b66174f7a0ceef79327edc9465a = L.popup({\n",
       "  &quot;maxWidth&quot;: &quot;100%&quot;,\n",
       "});\n",
       "\n",
       "        \n",
       "            \n",
       "                var html_1ae8c99d1063b276410308f315910fd0 = $(`&lt;div id=&quot;html_1ae8c99d1063b276410308f315910fd0&quot; style=&quot;width: 100.0%; height: 100.0%;&quot;&gt;River: Nakanbe&lt;br&gt;Station: Station 16&lt;/div&gt;`)[0];\n",
       "                popup_b8342b66174f7a0ceef79327edc9465a.setContent(html_1ae8c99d1063b276410308f315910fd0);\n",
       "            \n",
       "        \n",
       "\n",
       "        marker_867c143d728d4d25f274a5fa029fb70d.bindPopup(popup_b8342b66174f7a0ceef79327edc9465a)\n",
       "        ;\n",
       "\n",
       "        \n",
       "    \n",
       "    \n",
       "            var marker_acda7f08fa4943eeda32dcae1c8d1f2c = L.marker(\n",
       "                [11.6, -1.8],\n",
       "                {\n",
       "}\n",
       "            ).addTo(marker_cluster_9d660dadd0643ff3d199507a388e31c2);\n",
       "        \n",
       "    \n",
       "        var popup_eb8188fd5dd580567f901e825e9be53a = L.popup({\n",
       "  &quot;maxWidth&quot;: &quot;100%&quot;,\n",
       "});\n",
       "\n",
       "        \n",
       "            \n",
       "                var html_b243ad7e8498bf2c1b474227e4042110 = $(`&lt;div id=&quot;html_b243ad7e8498bf2c1b474227e4042110&quot; style=&quot;width: 100.0%; height: 100.0%;&quot;&gt;River: Nakanbe&lt;br&gt;Station: Station 17&lt;/div&gt;`)[0];\n",
       "                popup_eb8188fd5dd580567f901e825e9be53a.setContent(html_b243ad7e8498bf2c1b474227e4042110);\n",
       "            \n",
       "        \n",
       "\n",
       "        marker_acda7f08fa4943eeda32dcae1c8d1f2c.bindPopup(popup_eb8188fd5dd580567f901e825e9be53a)\n",
       "        ;\n",
       "\n",
       "        \n",
       "    \n",
       "    \n",
       "            var marker_1341eea65858db8733fae24d896174be = L.marker(\n",
       "                [11.7, -1.85],\n",
       "                {\n",
       "}\n",
       "            ).addTo(marker_cluster_9d660dadd0643ff3d199507a388e31c2);\n",
       "        \n",
       "    \n",
       "        var popup_9a3be6490840a6ebb5e6fde4943883fc = L.popup({\n",
       "  &quot;maxWidth&quot;: &quot;100%&quot;,\n",
       "});\n",
       "\n",
       "        \n",
       "            \n",
       "                var html_122e2c1405fe1ace42d7b1a8aa23f72d = $(`&lt;div id=&quot;html_122e2c1405fe1ace42d7b1a8aa23f72d&quot; style=&quot;width: 100.0%; height: 100.0%;&quot;&gt;River: Nakanbe&lt;br&gt;Station: Station 18&lt;/div&gt;`)[0];\n",
       "                popup_9a3be6490840a6ebb5e6fde4943883fc.setContent(html_122e2c1405fe1ace42d7b1a8aa23f72d);\n",
       "            \n",
       "        \n",
       "\n",
       "        marker_1341eea65858db8733fae24d896174be.bindPopup(popup_9a3be6490840a6ebb5e6fde4943883fc)\n",
       "        ;\n",
       "\n",
       "        \n",
       "    \n",
       "    \n",
       "            var marker_6fc66755b2c70ae8d72ae9642e407f7b = L.marker(\n",
       "                [11.8, -1.9],\n",
       "                {\n",
       "}\n",
       "            ).addTo(marker_cluster_9d660dadd0643ff3d199507a388e31c2);\n",
       "        \n",
       "    \n",
       "        var popup_b7bf544eaeb37bd89800a814fc2852ed = L.popup({\n",
       "  &quot;maxWidth&quot;: &quot;100%&quot;,\n",
       "});\n",
       "\n",
       "        \n",
       "            \n",
       "                var html_20403519a1e73cde85370310a2ede5ce = $(`&lt;div id=&quot;html_20403519a1e73cde85370310a2ede5ce&quot; style=&quot;width: 100.0%; height: 100.0%;&quot;&gt;River: Nakanbe&lt;br&gt;Station: Station 19&lt;/div&gt;`)[0];\n",
       "                popup_b7bf544eaeb37bd89800a814fc2852ed.setContent(html_20403519a1e73cde85370310a2ede5ce);\n",
       "            \n",
       "        \n",
       "\n",
       "        marker_6fc66755b2c70ae8d72ae9642e407f7b.bindPopup(popup_b7bf544eaeb37bd89800a814fc2852ed)\n",
       "        ;\n",
       "\n",
       "        \n",
       "    \n",
       "    \n",
       "            var marker_a56dcdfb20f42c98d6a95e93cbf2d250 = L.marker(\n",
       "                [11.9, -1.95],\n",
       "                {\n",
       "}\n",
       "            ).addTo(marker_cluster_9d660dadd0643ff3d199507a388e31c2);\n",
       "        \n",
       "    \n",
       "        var popup_060d7671b09bb935ef3db26d971afea6 = L.popup({\n",
       "  &quot;maxWidth&quot;: &quot;100%&quot;,\n",
       "});\n",
       "\n",
       "        \n",
       "            \n",
       "                var html_e7231fba2aac6605fbfc70e5181f01bf = $(`&lt;div id=&quot;html_e7231fba2aac6605fbfc70e5181f01bf&quot; style=&quot;width: 100.0%; height: 100.0%;&quot;&gt;River: Nakanbe&lt;br&gt;Station: Station 20&lt;/div&gt;`)[0];\n",
       "                popup_060d7671b09bb935ef3db26d971afea6.setContent(html_e7231fba2aac6605fbfc70e5181f01bf);\n",
       "            \n",
       "        \n",
       "\n",
       "        marker_a56dcdfb20f42c98d6a95e93cbf2d250.bindPopup(popup_060d7671b09bb935ef3db26d971afea6)\n",
       "        ;\n",
       "\n",
       "        \n",
       "    \n",
       "    \n",
       "            var marker_59387eda9e96b1a7d9df530565249df0 = L.marker(\n",
       "                [12.0, -2.0],\n",
       "                {\n",
       "}\n",
       "            ).addTo(marker_cluster_9d660dadd0643ff3d199507a388e31c2);\n",
       "        \n",
       "    \n",
       "        var popup_77dedbd3b42a2a23a713253b3126fa8c = L.popup({\n",
       "  &quot;maxWidth&quot;: &quot;100%&quot;,\n",
       "});\n",
       "\n",
       "        \n",
       "            \n",
       "                var html_4898230dd41546be46e97574afd3f1fb = $(`&lt;div id=&quot;html_4898230dd41546be46e97574afd3f1fb&quot; style=&quot;width: 100.0%; height: 100.0%;&quot;&gt;River: Nakanbe&lt;br&gt;Station: Station 21&lt;/div&gt;`)[0];\n",
       "                popup_77dedbd3b42a2a23a713253b3126fa8c.setContent(html_4898230dd41546be46e97574afd3f1fb);\n",
       "            \n",
       "        \n",
       "\n",
       "        marker_59387eda9e96b1a7d9df530565249df0.bindPopup(popup_77dedbd3b42a2a23a713253b3126fa8c)\n",
       "        ;\n",
       "\n",
       "        \n",
       "    \n",
       "    \n",
       "            var marker_55fd948ee06afac7548b89dd0bfb50cf = L.marker(\n",
       "                [12.1, -2.05],\n",
       "                {\n",
       "}\n",
       "            ).addTo(marker_cluster_9d660dadd0643ff3d199507a388e31c2);\n",
       "        \n",
       "    \n",
       "        var popup_822e87b87e0b4d695dbdecfa53ee6cf0 = L.popup({\n",
       "  &quot;maxWidth&quot;: &quot;100%&quot;,\n",
       "});\n",
       "\n",
       "        \n",
       "            \n",
       "                var html_48bd205dec32200679c37d378d5cfae3 = $(`&lt;div id=&quot;html_48bd205dec32200679c37d378d5cfae3&quot; style=&quot;width: 100.0%; height: 100.0%;&quot;&gt;River: Nakanbe&lt;br&gt;Station: Station 22&lt;/div&gt;`)[0];\n",
       "                popup_822e87b87e0b4d695dbdecfa53ee6cf0.setContent(html_48bd205dec32200679c37d378d5cfae3);\n",
       "            \n",
       "        \n",
       "\n",
       "        marker_55fd948ee06afac7548b89dd0bfb50cf.bindPopup(popup_822e87b87e0b4d695dbdecfa53ee6cf0)\n",
       "        ;\n",
       "\n",
       "        \n",
       "    \n",
       "    \n",
       "            var marker_1e33057403e4f41084ed55023fd06bbe = L.marker(\n",
       "                [12.2, -2.1],\n",
       "                {\n",
       "}\n",
       "            ).addTo(marker_cluster_9d660dadd0643ff3d199507a388e31c2);\n",
       "        \n",
       "    \n",
       "        var popup_8e0830acf9509dc68d7297b79d6fd7d9 = L.popup({\n",
       "  &quot;maxWidth&quot;: &quot;100%&quot;,\n",
       "});\n",
       "\n",
       "        \n",
       "            \n",
       "                var html_a8ecb33d322ba4424c3c1346e5fbb163 = $(`&lt;div id=&quot;html_a8ecb33d322ba4424c3c1346e5fbb163&quot; style=&quot;width: 100.0%; height: 100.0%;&quot;&gt;River: Nakanbe&lt;br&gt;Station: Station 23&lt;/div&gt;`)[0];\n",
       "                popup_8e0830acf9509dc68d7297b79d6fd7d9.setContent(html_a8ecb33d322ba4424c3c1346e5fbb163);\n",
       "            \n",
       "        \n",
       "\n",
       "        marker_1e33057403e4f41084ed55023fd06bbe.bindPopup(popup_8e0830acf9509dc68d7297b79d6fd7d9)\n",
       "        ;\n",
       "\n",
       "        \n",
       "    \n",
       "    \n",
       "            var marker_c71dd48bdb00a7a93c58a56c0f0be98a = L.marker(\n",
       "                [12.3, -2.15],\n",
       "                {\n",
       "}\n",
       "            ).addTo(marker_cluster_9d660dadd0643ff3d199507a388e31c2);\n",
       "        \n",
       "    \n",
       "        var popup_3b198f0bb0735364ec7646e256472df9 = L.popup({\n",
       "  &quot;maxWidth&quot;: &quot;100%&quot;,\n",
       "});\n",
       "\n",
       "        \n",
       "            \n",
       "                var html_5b78b7fb743e5f2066d511cba5292fc6 = $(`&lt;div id=&quot;html_5b78b7fb743e5f2066d511cba5292fc6&quot; style=&quot;width: 100.0%; height: 100.0%;&quot;&gt;River: Nakanbe&lt;br&gt;Station: Station 24&lt;/div&gt;`)[0];\n",
       "                popup_3b198f0bb0735364ec7646e256472df9.setContent(html_5b78b7fb743e5f2066d511cba5292fc6);\n",
       "            \n",
       "        \n",
       "\n",
       "        marker_c71dd48bdb00a7a93c58a56c0f0be98a.bindPopup(popup_3b198f0bb0735364ec7646e256472df9)\n",
       "        ;\n",
       "\n",
       "        \n",
       "    \n",
       "    \n",
       "            var marker_27034192387b37a2769cb215ecabb428 = L.marker(\n",
       "                [12.4, -2.2],\n",
       "                {\n",
       "}\n",
       "            ).addTo(marker_cluster_9d660dadd0643ff3d199507a388e31c2);\n",
       "        \n",
       "    \n",
       "        var popup_ed83e9fbaa100ff23e6eeec2c9f8f525 = L.popup({\n",
       "  &quot;maxWidth&quot;: &quot;100%&quot;,\n",
       "});\n",
       "\n",
       "        \n",
       "            \n",
       "                var html_860d3b6722b444ccda1c41c17686f572 = $(`&lt;div id=&quot;html_860d3b6722b444ccda1c41c17686f572&quot; style=&quot;width: 100.0%; height: 100.0%;&quot;&gt;River: Nakanbe&lt;br&gt;Station: Station 25&lt;/div&gt;`)[0];\n",
       "                popup_ed83e9fbaa100ff23e6eeec2c9f8f525.setContent(html_860d3b6722b444ccda1c41c17686f572);\n",
       "            \n",
       "        \n",
       "\n",
       "        marker_27034192387b37a2769cb215ecabb428.bindPopup(popup_ed83e9fbaa100ff23e6eeec2c9f8f525)\n",
       "        ;\n",
       "\n",
       "        \n",
       "    \n",
       "    \n",
       "            var marker_2ddea7b75221aee0e72260d936a5d51c = L.marker(\n",
       "                [12.5, -2.25],\n",
       "                {\n",
       "}\n",
       "            ).addTo(marker_cluster_9d660dadd0643ff3d199507a388e31c2);\n",
       "        \n",
       "    \n",
       "        var popup_48fc2432a73f13299a3affb1bd9e2a53 = L.popup({\n",
       "  &quot;maxWidth&quot;: &quot;100%&quot;,\n",
       "});\n",
       "\n",
       "        \n",
       "            \n",
       "                var html_6b5532f1af484606658dfc9bace645aa = $(`&lt;div id=&quot;html_6b5532f1af484606658dfc9bace645aa&quot; style=&quot;width: 100.0%; height: 100.0%;&quot;&gt;River: Niger&lt;br&gt;Station: Station 26&lt;/div&gt;`)[0];\n",
       "                popup_48fc2432a73f13299a3affb1bd9e2a53.setContent(html_6b5532f1af484606658dfc9bace645aa);\n",
       "            \n",
       "        \n",
       "\n",
       "        marker_2ddea7b75221aee0e72260d936a5d51c.bindPopup(popup_48fc2432a73f13299a3affb1bd9e2a53)\n",
       "        ;\n",
       "\n",
       "        \n",
       "    \n",
       "    \n",
       "            var marker_e36f7a5cf89f111428fa615f5dca1e80 = L.marker(\n",
       "                [12.6, -2.3],\n",
       "                {\n",
       "}\n",
       "            ).addTo(marker_cluster_9d660dadd0643ff3d199507a388e31c2);\n",
       "        \n",
       "    \n",
       "        var popup_217c7873ab07154deb1af34d31e572f7 = L.popup({\n",
       "  &quot;maxWidth&quot;: &quot;100%&quot;,\n",
       "});\n",
       "\n",
       "        \n",
       "            \n",
       "                var html_ad320b01e3e6b817d2c122780a6ef44b = $(`&lt;div id=&quot;html_ad320b01e3e6b817d2c122780a6ef44b&quot; style=&quot;width: 100.0%; height: 100.0%;&quot;&gt;River: Niger&lt;br&gt;Station: Station 27&lt;/div&gt;`)[0];\n",
       "                popup_217c7873ab07154deb1af34d31e572f7.setContent(html_ad320b01e3e6b817d2c122780a6ef44b);\n",
       "            \n",
       "        \n",
       "\n",
       "        marker_e36f7a5cf89f111428fa615f5dca1e80.bindPopup(popup_217c7873ab07154deb1af34d31e572f7)\n",
       "        ;\n",
       "\n",
       "        \n",
       "    \n",
       "    \n",
       "            var marker_cd6b49a8a893a52dd4b5b69d97fc5b9a = L.marker(\n",
       "                [12.7, -2.35],\n",
       "                {\n",
       "}\n",
       "            ).addTo(marker_cluster_9d660dadd0643ff3d199507a388e31c2);\n",
       "        \n",
       "    \n",
       "        var popup_99cdddc7ad8994ba09259e6ca9ec21c0 = L.popup({\n",
       "  &quot;maxWidth&quot;: &quot;100%&quot;,\n",
       "});\n",
       "\n",
       "        \n",
       "            \n",
       "                var html_72d25beb4a701ced2757afeb33d8544e = $(`&lt;div id=&quot;html_72d25beb4a701ced2757afeb33d8544e&quot; style=&quot;width: 100.0%; height: 100.0%;&quot;&gt;River: Niger&lt;br&gt;Station: Station 28&lt;/div&gt;`)[0];\n",
       "                popup_99cdddc7ad8994ba09259e6ca9ec21c0.setContent(html_72d25beb4a701ced2757afeb33d8544e);\n",
       "            \n",
       "        \n",
       "\n",
       "        marker_cd6b49a8a893a52dd4b5b69d97fc5b9a.bindPopup(popup_99cdddc7ad8994ba09259e6ca9ec21c0)\n",
       "        ;\n",
       "\n",
       "        \n",
       "    \n",
       "    \n",
       "            var marker_79be9f00403576198472ac633a20666c = L.marker(\n",
       "                [12.8, -2.4],\n",
       "                {\n",
       "}\n",
       "            ).addTo(marker_cluster_9d660dadd0643ff3d199507a388e31c2);\n",
       "        \n",
       "    \n",
       "        var popup_e2db9c1f997bf136fb15a718d27fe5e2 = L.popup({\n",
       "  &quot;maxWidth&quot;: &quot;100%&quot;,\n",
       "});\n",
       "\n",
       "        \n",
       "            \n",
       "                var html_a29e199a704d49b736a0ca3aa13769f3 = $(`&lt;div id=&quot;html_a29e199a704d49b736a0ca3aa13769f3&quot; style=&quot;width: 100.0%; height: 100.0%;&quot;&gt;River: Niger&lt;br&gt;Station: Station 29&lt;/div&gt;`)[0];\n",
       "                popup_e2db9c1f997bf136fb15a718d27fe5e2.setContent(html_a29e199a704d49b736a0ca3aa13769f3);\n",
       "            \n",
       "        \n",
       "\n",
       "        marker_79be9f00403576198472ac633a20666c.bindPopup(popup_e2db9c1f997bf136fb15a718d27fe5e2)\n",
       "        ;\n",
       "\n",
       "        \n",
       "    \n",
       "    \n",
       "            var marker_706b3ffc98ef574ca7aa321e011f6a3a = L.marker(\n",
       "                [12.9, -2.45],\n",
       "                {\n",
       "}\n",
       "            ).addTo(marker_cluster_9d660dadd0643ff3d199507a388e31c2);\n",
       "        \n",
       "    \n",
       "        var popup_470a2c037bc5de2fef70355858d79ace = L.popup({\n",
       "  &quot;maxWidth&quot;: &quot;100%&quot;,\n",
       "});\n",
       "\n",
       "        \n",
       "            \n",
       "                var html_c9dcb30edf7fffca2f1dfbf4bfb777c7 = $(`&lt;div id=&quot;html_c9dcb30edf7fffca2f1dfbf4bfb777c7&quot; style=&quot;width: 100.0%; height: 100.0%;&quot;&gt;River: Niger&lt;br&gt;Station: Station 30&lt;/div&gt;`)[0];\n",
       "                popup_470a2c037bc5de2fef70355858d79ace.setContent(html_c9dcb30edf7fffca2f1dfbf4bfb777c7);\n",
       "            \n",
       "        \n",
       "\n",
       "        marker_706b3ffc98ef574ca7aa321e011f6a3a.bindPopup(popup_470a2c037bc5de2fef70355858d79ace)\n",
       "        ;\n",
       "\n",
       "        \n",
       "    \n",
       "    \n",
       "            marker_cluster_9d660dadd0643ff3d199507a388e31c2.addTo(map_e94b6130e4a0e1b678275f54f1e6d13e);\n",
       "        \n",
       "    \n",
       "            tile_layer_3a5258a082c46167d0a72ff81de5138b.addTo(map_e94b6130e4a0e1b678275f54f1e6d13e);\n",
       "        \n",
       "    \n",
       "            marker_cluster_9d660dadd0643ff3d199507a388e31c2.addTo(map_e94b6130e4a0e1b678275f54f1e6d13e);\n",
       "        \n",
       "&lt;/script&gt;\n",
       "&lt;/html&gt;\" style=\"position:absolute;width:100%;height:100%;left:0;top:0;border:none !important;\" allowfullscreen webkitallowfullscreen mozallowfullscreen></iframe></div></div>"
      ],
      "text/plain": [
       "<folium.folium.Map at 0x1b1ce2b6f20>"
      ]
     },
     "metadata": {},
     "output_type": "display_data"
    }
   ],
   "source": [
    "# --- Création de la carte ---\n",
    "center_lat = stations_df['latitude'].mean()\n",
    "center_lon = stations_df['longitude'].mean()\n",
    "\n",
    "map_obj = folium.Map(location=[center_lat, center_lon], zoom_start=5)\n",
    "marker_cluster = MarkerCluster().add_to(map_obj)\n",
    "\n",
    "for _, row in stations_df.iterrows():\n",
    "    folium.Marker(\n",
    "        location=[row['latitude'], row['longitude']],\n",
    "        popup=f\"River: {row['River']}<br>Station: {row['name']}\"\n",
    "    ).add_to(marker_cluster)\n",
    "\n",
    "# --- Sauvegarde et affichage de la carte en HTML ---\n",
    "map_obj.save(\"stations_map.html\")\n",
    "display(map_obj)\n"
   ]
  },
  {
   "cell_type": "markdown",
   "id": "b46f4d03-94a2-43b0-b580-89e4e451669f",
   "metadata": {},
   "source": [
    "## Création d'un projet : Workspace"
   ]
  },
  {
   "cell_type": "code",
   "execution_count": 7,
   "id": "ef815218-32cc-4508-90e4-6b50184665ea",
   "metadata": {},
   "outputs": [
    {
     "name": "stdout",
     "output_type": "stream",
     "text": [
      "[Workspace(name='Test Workspace', is_private=False, owner=Account(name='Jacob Johnson', email='jjohnson@aquaveo.com', organization_name=None, phone=None, address=None, link=None, user_type='Other'), collaborator_role=None, pending_transfer_to=None, uid=UUID('0196cf74-c27e-7bcb-874e-f2fe7b4ab202')), Workspace(name='Test Workspace #2', is_private=False, owner=Account(name='Jacob Johnson', email='jmjohnson1578@gmail.com', organization_name=None, phone='(541) 226-8349', address=None, link=None, user_type='jmjohnson1578@gmail.com'), collaborator_role=None, pending_transfer_to=None, uid=UUID('0196d61a-5b4d-73f8-acaf-c23b232fa871')), Workspace(name='Stream gauge register', is_private=False, owner=Account(name='dioviel SOMDA', email='dioviel.somda@gmail.com', organization_name=None, phone=None, address=None, link=None, user_type='Other'), collaborator_role=None, pending_transfer_to=None, uid=UUID('0196e8dc-29f0-783d-a183-4fd2ffaa49d3')), Workspace(name='Vincent', is_private=False, owner=Account(name='Alligouame OUEDRAOGO', email='vincent.ouedraogo@eau.gov.bf', organization_name=None, phone='(226) 708-8127', address='03BP7025 OUAGA 03', link=None, user_type='Government Official'), collaborator_role=None, pending_transfer_to=None, uid=UUID('0196f769-756d-7bf2-a9e1-78b5c02fbf4b')), Workspace(name='Test Workspace #2', is_private=True, owner=Account(name='Arsène Wen-denda KIEMA', email='kiemaarsene@gmail.com', organization_name=None, phone='(646) 662-6300', address='Ouagadougou sect 52', link=None, user_type='Organization'), collaborator_role=None, pending_transfer_to=None, uid=UUID('01973bb8-d0f5-7f5c-8e01-8eee42f659dc')), Workspace(name='nakanbe', is_private=True, owner=Account(name='Arsène Wen-denda KIEMA', email='kiemaarsene@gmail.com', organization_name=None, phone='(646) 662-6300', address='Ouagadougou sect 52', link=None, user_type='Organization'), collaborator_role=None, pending_transfer_to=None, uid=UUID('01973f92-68c1-7dcc-8764-5cb40013968b')), Workspace(name='mouhoun', is_private=True, owner=Account(name='Arsène Wen-denda KIEMA', email='kiemaarsene@gmail.com', organization_name=None, phone='(646) 662-6300', address='Ouagadougou sect 52', link=None, user_type='Organization'), collaborator_role=None, pending_transfer_to=None, uid=UUID('01973f95-0bc0-7b52-897f-31a06efa0e69'))]\n"
     ]
    }
   ],
   "source": [
    "workspaces = hs_api.workspaces.list()\n",
    "print(workspaces)"
   ]
  },
  {
   "cell_type": "code",
   "execution_count": 8,
   "id": "60758d46-1949-414f-84ba-70602fd4cc45",
   "metadata": {},
   "outputs": [
    {
     "ename": "HTTPError",
     "evalue": "409 Client Error: Workspace name conflicts with an owned workspace",
     "output_type": "error",
     "traceback": [
      "\u001b[1;31m---------------------------------------------------------------------------\u001b[0m",
      "\u001b[1;31mHTTPError\u001b[0m                                 Traceback (most recent call last)",
      "File \u001b[1;32m~\\anaconda3\\envs\\HydroServer\\lib\\site-packages\\hydroserverpy\\api\\http.py:7\u001b[0m, in \u001b[0;36mraise_for_hs_status\u001b[1;34m(response)\u001b[0m\n\u001b[0;32m      6\u001b[0m \u001b[38;5;28;01mtry\u001b[39;00m:\n\u001b[1;32m----> 7\u001b[0m     \u001b[43mresponse\u001b[49m\u001b[38;5;241;43m.\u001b[39;49m\u001b[43mraise_for_status\u001b[49m\u001b[43m(\u001b[49m\u001b[43m)\u001b[49m\n\u001b[0;32m      8\u001b[0m \u001b[38;5;28;01mexcept\u001b[39;00m HTTPError \u001b[38;5;28;01mas\u001b[39;00m e:\n",
      "File \u001b[1;32m~\\anaconda3\\envs\\HydroServer\\lib\\site-packages\\requests\\models.py:1024\u001b[0m, in \u001b[0;36mResponse.raise_for_status\u001b[1;34m(self)\u001b[0m\n\u001b[0;32m   1023\u001b[0m \u001b[38;5;28;01mif\u001b[39;00m http_error_msg:\n\u001b[1;32m-> 1024\u001b[0m     \u001b[38;5;28;01mraise\u001b[39;00m HTTPError(http_error_msg, response\u001b[38;5;241m=\u001b[39m\u001b[38;5;28mself\u001b[39m)\n",
      "\u001b[1;31mHTTPError\u001b[0m: 409 Client Error: Conflict for url: https://playground.hydroserver.org/api/auth/workspaces",
      "\nDuring handling of the above exception, another exception occurred:\n",
      "\u001b[1;31mHTTPError\u001b[0m                                 Traceback (most recent call last)",
      "Cell \u001b[1;32mIn[8], line 1\u001b[0m\n\u001b[1;32m----> 1\u001b[0m workspace\u001b[38;5;241m=\u001b[39m \u001b[43mhs_api\u001b[49m\u001b[38;5;241;43m.\u001b[39;49m\u001b[43mworkspaces\u001b[49m\u001b[38;5;241;43m.\u001b[39;49m\u001b[43mcreate\u001b[49m\u001b[43m(\u001b[49m\u001b[43mname\u001b[49m\u001b[38;5;241;43m=\u001b[39;49m\u001b[38;5;124;43m\"\u001b[39;49m\u001b[38;5;124;43mmouhoun\u001b[39;49m\u001b[38;5;124;43m\"\u001b[39;49m\u001b[43m,\u001b[49m\u001b[43mis_private\u001b[49m\u001b[38;5;241;43m=\u001b[39;49m\u001b[38;5;28;43;01mTrue\u001b[39;49;00m\u001b[43m)\u001b[49m\n",
      "File \u001b[1;32m~\\anaconda3\\envs\\HydroServer\\lib\\site-packages\\hydroserverpy\\api\\services\\iam\\workspace.py:36\u001b[0m, in \u001b[0;36mWorkspaceService.create\u001b[1;34m(self, name, is_private, **_)\u001b[0m\n\u001b[0;32m     32\u001b[0m \u001b[38;5;250m\u001b[39m\u001b[38;5;124;03m\"\"\"Create a new workspace.\"\"\"\u001b[39;00m\n\u001b[0;32m     34\u001b[0m kwargs \u001b[38;5;241m=\u001b[39m {\u001b[38;5;124m\"\u001b[39m\u001b[38;5;124mname\u001b[39m\u001b[38;5;124m\"\u001b[39m: name, \u001b[38;5;124m\"\u001b[39m\u001b[38;5;124misPrivate\u001b[39m\u001b[38;5;124m\"\u001b[39m: is_private}\n\u001b[1;32m---> 36\u001b[0m \u001b[38;5;28;01mreturn\u001b[39;00m \u001b[38;5;28msuper\u001b[39m()\u001b[38;5;241m.\u001b[39m_create(\u001b[38;5;241m*\u001b[39m\u001b[38;5;241m*\u001b[39mkwargs)\n",
      "File \u001b[1;32m~\\anaconda3\\envs\\HydroServer\\lib\\site-packages\\hydroserverpy\\api\\services\\base.py:41\u001b[0m, in \u001b[0;36mEndpointService._create\u001b[1;34m(self, **kwargs)\u001b[0m\n\u001b[0;32m     39\u001b[0m path \u001b[38;5;241m=\u001b[39m \u001b[38;5;124mf\u001b[39m\u001b[38;5;124m\"\u001b[39m\u001b[38;5;124m/\u001b[39m\u001b[38;5;132;01m{\u001b[39;00m\u001b[38;5;28mself\u001b[39m\u001b[38;5;241m.\u001b[39m_api_route\u001b[38;5;132;01m}\u001b[39;00m\u001b[38;5;124m/\u001b[39m\u001b[38;5;132;01m{\u001b[39;00m\u001b[38;5;28mself\u001b[39m\u001b[38;5;241m.\u001b[39m_endpoint_route\u001b[38;5;132;01m}\u001b[39;00m\u001b[38;5;124m\"\u001b[39m\n\u001b[0;32m     40\u001b[0m headers \u001b[38;5;241m=\u001b[39m {\u001b[38;5;124m\"\u001b[39m\u001b[38;5;124mContent-type\u001b[39m\u001b[38;5;124m\"\u001b[39m: \u001b[38;5;124m\"\u001b[39m\u001b[38;5;124mapplication/json\u001b[39m\u001b[38;5;124m\"\u001b[39m}\n\u001b[1;32m---> 41\u001b[0m response \u001b[38;5;241m=\u001b[39m \u001b[38;5;28;43mself\u001b[39;49m\u001b[38;5;241;43m.\u001b[39;49m\u001b[43m_connection\u001b[49m\u001b[38;5;241;43m.\u001b[39;49m\u001b[43mrequest\u001b[49m\u001b[43m(\u001b[49m\n\u001b[0;32m     42\u001b[0m \u001b[43m    \u001b[49m\u001b[38;5;124;43m\"\u001b[39;49m\u001b[38;5;124;43mpost\u001b[39;49m\u001b[38;5;124;43m\"\u001b[39;49m\u001b[43m,\u001b[49m\u001b[43m \u001b[49m\u001b[43mpath\u001b[49m\u001b[43m,\u001b[49m\u001b[43m \u001b[49m\u001b[43mheaders\u001b[49m\u001b[38;5;241;43m=\u001b[39;49m\u001b[43mheaders\u001b[49m\u001b[43m,\u001b[49m\u001b[43m \u001b[49m\u001b[43mjson\u001b[49m\u001b[38;5;241;43m=\u001b[39;49m\u001b[38;5;28;43mself\u001b[39;49m\u001b[38;5;241;43m.\u001b[39;49m\u001b[43m_to_iso_time\u001b[49m\u001b[43m(\u001b[49m\u001b[43mkwargs\u001b[49m\u001b[43m)\u001b[49m\n\u001b[0;32m     43\u001b[0m \u001b[43m\u001b[49m\u001b[43m)\u001b[49m\u001b[38;5;241m.\u001b[39mjson()\n\u001b[0;32m     45\u001b[0m \u001b[38;5;28;01mreturn\u001b[39;00m \u001b[38;5;28mself\u001b[39m\u001b[38;5;241m.\u001b[39m_model(\n\u001b[0;32m     46\u001b[0m     _connection\u001b[38;5;241m=\u001b[39m\u001b[38;5;28mself\u001b[39m\u001b[38;5;241m.\u001b[39m_connection, _uid\u001b[38;5;241m=\u001b[39mUUID(\u001b[38;5;28mstr\u001b[39m(response\u001b[38;5;241m.\u001b[39mpop(\u001b[38;5;124m\"\u001b[39m\u001b[38;5;124mid\u001b[39m\u001b[38;5;124m\"\u001b[39m))), \u001b[38;5;241m*\u001b[39m\u001b[38;5;241m*\u001b[39mresponse\n\u001b[0;32m     47\u001b[0m )\n",
      "File \u001b[1;32m~\\anaconda3\\envs\\HydroServer\\lib\\site-packages\\hydroserverpy\\api\\main.py:105\u001b[0m, in \u001b[0;36mHydroServer.request\u001b[1;34m(self, method, path, *args, **kwargs)\u001b[0m\n\u001b[0;32m    103\u001b[0m         \u001b[38;5;28;01mcontinue\u001b[39;00m\n\u001b[0;32m    104\u001b[0m     \u001b[38;5;28;01melse\u001b[39;00m:\n\u001b[1;32m--> 105\u001b[0m         \u001b[38;5;28;01mraise\u001b[39;00m e\n\u001b[0;32m    107\u001b[0m \u001b[38;5;28;01mreturn\u001b[39;00m response\n",
      "File \u001b[1;32m~\\anaconda3\\envs\\HydroServer\\lib\\site-packages\\hydroserverpy\\api\\main.py:96\u001b[0m, in \u001b[0;36mHydroServer.request\u001b[1;34m(self, method, path, *args, **kwargs)\u001b[0m\n\u001b[0;32m     89\u001b[0m \u001b[38;5;28;01mtry\u001b[39;00m:\n\u001b[0;32m     90\u001b[0m     response \u001b[38;5;241m=\u001b[39m \u001b[38;5;28mgetattr\u001b[39m(\u001b[38;5;28mself\u001b[39m\u001b[38;5;241m.\u001b[39m_session, method)(\n\u001b[0;32m     91\u001b[0m         \u001b[38;5;124mf\u001b[39m\u001b[38;5;124m\"\u001b[39m\u001b[38;5;132;01m{\u001b[39;00m\u001b[38;5;28mself\u001b[39m\u001b[38;5;241m.\u001b[39mhost\u001b[38;5;132;01m}\u001b[39;00m\u001b[38;5;124m/\u001b[39m\u001b[38;5;132;01m{\u001b[39;00mpath\u001b[38;5;241m.\u001b[39mstrip(\u001b[38;5;124m'\u001b[39m\u001b[38;5;124m/\u001b[39m\u001b[38;5;124m'\u001b[39m)\u001b[38;5;132;01m}\u001b[39;00m\u001b[38;5;124m\"\u001b[39m,\n\u001b[0;32m     92\u001b[0m         timeout\u001b[38;5;241m=\u001b[39m\u001b[38;5;28mself\u001b[39m\u001b[38;5;241m.\u001b[39m_timeout,\n\u001b[0;32m     93\u001b[0m         \u001b[38;5;241m*\u001b[39margs,\n\u001b[0;32m     94\u001b[0m         \u001b[38;5;241m*\u001b[39m\u001b[38;5;241m*\u001b[39mkwargs,\n\u001b[0;32m     95\u001b[0m     )\n\u001b[1;32m---> 96\u001b[0m     \u001b[43mraise_for_hs_status\u001b[49m\u001b[43m(\u001b[49m\u001b[43mresponse\u001b[49m\u001b[43m)\u001b[49m\n\u001b[0;32m     97\u001b[0m \u001b[38;5;28;01mexcept\u001b[39;00m (\n\u001b[0;32m     98\u001b[0m     requests\u001b[38;5;241m.\u001b[39mexceptions\u001b[38;5;241m.\u001b[39mHTTPError,\n\u001b[0;32m     99\u001b[0m     requests\u001b[38;5;241m.\u001b[39mexceptions\u001b[38;5;241m.\u001b[39mConnectionError,\n\u001b[0;32m    100\u001b[0m ) \u001b[38;5;28;01mas\u001b[39;00m e:\n\u001b[0;32m    101\u001b[0m     \u001b[38;5;28;01mif\u001b[39;00m attempt \u001b[38;5;241m==\u001b[39m \u001b[38;5;241m0\u001b[39m:\n",
      "File \u001b[1;32m~\\anaconda3\\envs\\HydroServer\\lib\\site-packages\\hydroserverpy\\api\\http.py:20\u001b[0m, in \u001b[0;36mraise_for_hs_status\u001b[1;34m(response)\u001b[0m\n\u001b[0;32m     18\u001b[0m     http_error_msg \u001b[38;5;241m=\u001b[39m e\n\u001b[0;32m     19\u001b[0m \u001b[38;5;28;01mif\u001b[39;00m \u001b[38;5;241m400\u001b[39m \u001b[38;5;241m<\u001b[39m\u001b[38;5;241m=\u001b[39m response\u001b[38;5;241m.\u001b[39mstatus_code \u001b[38;5;241m<\u001b[39m \u001b[38;5;241m500\u001b[39m:\n\u001b[1;32m---> 20\u001b[0m     \u001b[38;5;28;01mraise\u001b[39;00m HTTPError(http_error_msg, response\u001b[38;5;241m=\u001b[39mresponse)\n\u001b[0;32m     21\u001b[0m \u001b[38;5;28;01melse\u001b[39;00m:\n\u001b[0;32m     22\u001b[0m     \u001b[38;5;28;01mraise\u001b[39;00m HTTPError(\u001b[38;5;28mstr\u001b[39m(e), response\u001b[38;5;241m=\u001b[39mresponse)\n",
      "\u001b[1;31mHTTPError\u001b[0m: 409 Client Error: Workspace name conflicts with an owned workspace"
     ]
    }
   ],
   "source": [
    "workspace= hs_api.workspaces.create(name=\"mouhoun\",is_private=True)"
   ]
  },
  {
   "cell_type": "code",
   "execution_count": 131,
   "id": "de1146da-1b4f-426b-b889-73c11949b39e",
   "metadata": {},
   "outputs": [
    {
     "name": "stdout",
     "output_type": "stream",
     "text": [
      "name='mouhoun' is_private=True owner=Account(name='Arsène Wen-denda KIEMA', email='kiemaarsene@gmail.com', organization_name=None, phone='(646) 662-6300', address='Ouagadougou sect 52', link=None, user_type='Organization') collaborator_role=None pending_transfer_to=None uid=UUID('01973f95-0bc0-7b52-897f-31a06efa0e69')\n"
     ]
    }
   ],
   "source": [
    "print(workspace)"
   ]
  },
  {
   "cell_type": "code",
   "execution_count": 9,
   "id": "394d28a7-c073-4ed4-b251-34c6a8569de3",
   "metadata": {},
   "outputs": [],
   "source": [
    "workspace_uid ='01973f95-0bc0-7b52-897f-31a06efa0e69'\n",
    "workspace = hs_api.workspaces.get(uid=workspace_uid)\n",
    "workspace.name = \"mouhoun\"\n",
    "#workspace.save()"
   ]
  },
  {
   "cell_type": "markdown",
   "id": "5df744fc-fbd5-4194-8206-188f078ce47c",
   "metadata": {},
   "source": [
    "# Things"
   ]
  },
  {
   "cell_type": "markdown",
   "id": "e1a46119-9a50-4c38-bdcc-95e7b9745682",
   "metadata": {},
   "source": [
    "Représente une entité physique ou logique (ex : station hydrométrique, piézométres, barrage)."
   ]
  },
  {
   "cell_type": "code",
   "execution_count": 134,
   "id": "acca8700-5172-4727-9aa1-203c79e90220",
   "metadata": {},
   "outputs": [
    {
     "data": {
      "text/html": [
       "<div>\n",
       "<style scoped>\n",
       "    .dataframe tbody tr th:only-of-type {\n",
       "        vertical-align: middle;\n",
       "    }\n",
       "\n",
       "    .dataframe tbody tr th {\n",
       "        vertical-align: top;\n",
       "    }\n",
       "\n",
       "    .dataframe thead th {\n",
       "        text-align: right;\n",
       "    }\n",
       "</style>\n",
       "<table border=\"1\" class=\"dataframe\">\n",
       "  <thead>\n",
       "    <tr style=\"text-align: right;\">\n",
       "      <th></th>\n",
       "      <th>name</th>\n",
       "      <th>description</th>\n",
       "      <th>samplingFeatureType</th>\n",
       "      <th>samplingFeatureCode</th>\n",
       "      <th>siteType</th>\n",
       "      <th>latitude</th>\n",
       "      <th>longitude</th>\n",
       "      <th>elevation_m</th>\n",
       "      <th>state</th>\n",
       "      <th>county</th>\n",
       "      <th>country</th>\n",
       "      <th>dataDisclaimer</th>\n",
       "      <th>River</th>\n",
       "    </tr>\n",
       "  </thead>\n",
       "  <tbody>\n",
       "    <tr>\n",
       "      <th>0</th>\n",
       "      <td>Station 1</td>\n",
       "      <td>Station de mesure numéro 1 sur un cours d'eau.</td>\n",
       "      <td>Site</td>\n",
       "      <td>CDE001</td>\n",
       "      <td>Stream</td>\n",
       "      <td>10.0</td>\n",
       "      <td>-1.00</td>\n",
       "      <td>300</td>\n",
       "      <td>Région Test</td>\n",
       "      <td>Département 1</td>\n",
       "      <td>Burkina Faso</td>\n",
       "      <td>Ces données sont fournies à des fins de test u...</td>\n",
       "      <td>Mouhoun</td>\n",
       "    </tr>\n",
       "    <tr>\n",
       "      <th>1</th>\n",
       "      <td>Station 2</td>\n",
       "      <td>Station de mesure numéro 2 sur un cours d'eau.</td>\n",
       "      <td>Site</td>\n",
       "      <td>CDE002</td>\n",
       "      <td>Stream</td>\n",
       "      <td>10.1</td>\n",
       "      <td>-1.05</td>\n",
       "      <td>305</td>\n",
       "      <td>Région Test</td>\n",
       "      <td>Département 2</td>\n",
       "      <td>Burkina Faso</td>\n",
       "      <td>Ces données sont fournies à des fins de test u...</td>\n",
       "      <td>Mouhoun</td>\n",
       "    </tr>\n",
       "    <tr>\n",
       "      <th>2</th>\n",
       "      <td>Station 3</td>\n",
       "      <td>Station de mesure numéro 3 sur un cours d'eau.</td>\n",
       "      <td>Site</td>\n",
       "      <td>CDE003</td>\n",
       "      <td>Stream</td>\n",
       "      <td>10.2</td>\n",
       "      <td>-1.10</td>\n",
       "      <td>310</td>\n",
       "      <td>Région Test</td>\n",
       "      <td>Département 3</td>\n",
       "      <td>Burkina Faso</td>\n",
       "      <td>Ces données sont fournies à des fins de test u...</td>\n",
       "      <td>Mouhoun</td>\n",
       "    </tr>\n",
       "    <tr>\n",
       "      <th>3</th>\n",
       "      <td>Station 4</td>\n",
       "      <td>Station de mesure numéro 4 sur un cours d'eau.</td>\n",
       "      <td>Site</td>\n",
       "      <td>CDE004</td>\n",
       "      <td>Stream</td>\n",
       "      <td>10.3</td>\n",
       "      <td>-1.15</td>\n",
       "      <td>315</td>\n",
       "      <td>Région Test</td>\n",
       "      <td>Département 4</td>\n",
       "      <td>Burkina Faso</td>\n",
       "      <td>Ces données sont fournies à des fins de test u...</td>\n",
       "      <td>Mouhoun</td>\n",
       "    </tr>\n",
       "    <tr>\n",
       "      <th>4</th>\n",
       "      <td>Station 5</td>\n",
       "      <td>Station de mesure numéro 5 sur un cours d'eau.</td>\n",
       "      <td>Site</td>\n",
       "      <td>CDE005</td>\n",
       "      <td>Stream</td>\n",
       "      <td>10.4</td>\n",
       "      <td>-1.20</td>\n",
       "      <td>320</td>\n",
       "      <td>Région Test</td>\n",
       "      <td>Département 5</td>\n",
       "      <td>Burkina Faso</td>\n",
       "      <td>Ces données sont fournies à des fins de test u...</td>\n",
       "      <td>Mouhoun</td>\n",
       "    </tr>\n",
       "  </tbody>\n",
       "</table>\n",
       "</div>"
      ],
      "text/plain": [
       "        name                                     description  \\\n",
       "0  Station 1  Station de mesure numéro 1 sur un cours d'eau.   \n",
       "1  Station 2  Station de mesure numéro 2 sur un cours d'eau.   \n",
       "2  Station 3  Station de mesure numéro 3 sur un cours d'eau.   \n",
       "3  Station 4  Station de mesure numéro 4 sur un cours d'eau.   \n",
       "4  Station 5  Station de mesure numéro 5 sur un cours d'eau.   \n",
       "\n",
       "  samplingFeatureType samplingFeatureCode siteType  latitude  longitude  \\\n",
       "0                Site              CDE001   Stream      10.0      -1.00   \n",
       "1                Site              CDE002   Stream      10.1      -1.05   \n",
       "2                Site              CDE003   Stream      10.2      -1.10   \n",
       "3                Site              CDE004   Stream      10.3      -1.15   \n",
       "4                Site              CDE005   Stream      10.4      -1.20   \n",
       "\n",
       "   elevation_m        state         county       country  \\\n",
       "0          300  Région Test  Département 1  Burkina Faso   \n",
       "1          305  Région Test  Département 2  Burkina Faso   \n",
       "2          310  Région Test  Département 3  Burkina Faso   \n",
       "3          315  Région Test  Département 4  Burkina Faso   \n",
       "4          320  Région Test  Département 5  Burkina Faso   \n",
       "\n",
       "                                      dataDisclaimer    River  \n",
       "0  Ces données sont fournies à des fins de test u...  Mouhoun  \n",
       "1  Ces données sont fournies à des fins de test u...  Mouhoun  \n",
       "2  Ces données sont fournies à des fins de test u...  Mouhoun  \n",
       "3  Ces données sont fournies à des fins de test u...  Mouhoun  \n",
       "4  Ces données sont fournies à des fins de test u...  Mouhoun  "
      ]
     },
     "execution_count": 134,
     "metadata": {},
     "output_type": "execute_result"
    }
   ],
   "source": [
    "stations_df.head()"
   ]
  },
  {
   "cell_type": "code",
   "execution_count": 10,
   "id": "858dac68-e52d-4cb4-8fc5-3c408c9c1c5e",
   "metadata": {},
   "outputs": [
    {
     "data": {
      "text/html": [
       "<div>\n",
       "<style scoped>\n",
       "    .dataframe tbody tr th:only-of-type {\n",
       "        vertical-align: middle;\n",
       "    }\n",
       "\n",
       "    .dataframe tbody tr th {\n",
       "        vertical-align: top;\n",
       "    }\n",
       "\n",
       "    .dataframe thead th {\n",
       "        text-align: right;\n",
       "    }\n",
       "</style>\n",
       "<table border=\"1\" class=\"dataframe\">\n",
       "  <thead>\n",
       "    <tr style=\"text-align: right;\">\n",
       "      <th></th>\n",
       "      <th>name</th>\n",
       "      <th>description</th>\n",
       "      <th>samplingFeatureType</th>\n",
       "      <th>samplingFeatureCode</th>\n",
       "      <th>siteType</th>\n",
       "      <th>latitude</th>\n",
       "      <th>longitude</th>\n",
       "      <th>elevation_m</th>\n",
       "      <th>state</th>\n",
       "      <th>county</th>\n",
       "      <th>country</th>\n",
       "      <th>dataDisclaimer</th>\n",
       "      <th>River</th>\n",
       "    </tr>\n",
       "  </thead>\n",
       "  <tbody>\n",
       "    <tr>\n",
       "      <th>1</th>\n",
       "      <td>Station 2</td>\n",
       "      <td>Station de mesure numéro 2 sur un cours d'eau.</td>\n",
       "      <td>Site</td>\n",
       "      <td>CDE002</td>\n",
       "      <td>Stream</td>\n",
       "      <td>10.1</td>\n",
       "      <td>-1.05</td>\n",
       "      <td>305</td>\n",
       "      <td>Région Test</td>\n",
       "      <td>Département 2</td>\n",
       "      <td>Burkina Faso</td>\n",
       "      <td>Ces données sont fournies à des fins de test u...</td>\n",
       "      <td>Mouhoun</td>\n",
       "    </tr>\n",
       "  </tbody>\n",
       "</table>\n",
       "</div>"
      ],
      "text/plain": [
       "        name                                     description  \\\n",
       "1  Station 2  Station de mesure numéro 2 sur un cours d'eau.   \n",
       "\n",
       "  samplingFeatureType samplingFeatureCode siteType  latitude  longitude  \\\n",
       "1                Site              CDE002   Stream      10.1      -1.05   \n",
       "\n",
       "   elevation_m        state         county       country  \\\n",
       "1          305  Région Test  Département 2  Burkina Faso   \n",
       "\n",
       "                                      dataDisclaimer    River  \n",
       "1  Ces données sont fournies à des fins de test u...  Mouhoun  "
      ]
     },
     "execution_count": 10,
     "metadata": {},
     "output_type": "execute_result"
    }
   ],
   "source": [
    "## Fi\n",
    "station = 2\n",
    "stations_df2 = stations_df[stations_df[\"name\"]==f\"Station {station}\"]\n",
    "stations_df2.head()"
   ]
  },
  {
   "cell_type": "code",
   "execution_count": 34,
   "id": "321f691b-2743-4b95-9c38-ad0e1c75d273",
   "metadata": {},
   "outputs": [
    {
     "ename": "ReadTimeout",
     "evalue": "HTTPSConnectionPool(host='playground.hydroserver.org', port=443): Read timed out. (read timeout=60)",
     "output_type": "error",
     "traceback": [
      "\u001b[1;31m---------------------------------------------------------------------------\u001b[0m",
      "\u001b[1;31mgaierror\u001b[0m                                  Traceback (most recent call last)",
      "File \u001b[1;32m~\\anaconda3\\envs\\HydroServer\\lib\\site-packages\\urllib3\\connection.py:198\u001b[0m, in \u001b[0;36mHTTPConnection._new_conn\u001b[1;34m(self)\u001b[0m\n\u001b[0;32m    197\u001b[0m \u001b[38;5;28;01mtry\u001b[39;00m:\n\u001b[1;32m--> 198\u001b[0m     sock \u001b[38;5;241m=\u001b[39m \u001b[43mconnection\u001b[49m\u001b[38;5;241;43m.\u001b[39;49m\u001b[43mcreate_connection\u001b[49m\u001b[43m(\u001b[49m\n\u001b[0;32m    199\u001b[0m \u001b[43m        \u001b[49m\u001b[43m(\u001b[49m\u001b[38;5;28;43mself\u001b[39;49m\u001b[38;5;241;43m.\u001b[39;49m\u001b[43m_dns_host\u001b[49m\u001b[43m,\u001b[49m\u001b[43m \u001b[49m\u001b[38;5;28;43mself\u001b[39;49m\u001b[38;5;241;43m.\u001b[39;49m\u001b[43mport\u001b[49m\u001b[43m)\u001b[49m\u001b[43m,\u001b[49m\n\u001b[0;32m    200\u001b[0m \u001b[43m        \u001b[49m\u001b[38;5;28;43mself\u001b[39;49m\u001b[38;5;241;43m.\u001b[39;49m\u001b[43mtimeout\u001b[49m\u001b[43m,\u001b[49m\n\u001b[0;32m    201\u001b[0m \u001b[43m        \u001b[49m\u001b[43msource_address\u001b[49m\u001b[38;5;241;43m=\u001b[39;49m\u001b[38;5;28;43mself\u001b[39;49m\u001b[38;5;241;43m.\u001b[39;49m\u001b[43msource_address\u001b[49m\u001b[43m,\u001b[49m\n\u001b[0;32m    202\u001b[0m \u001b[43m        \u001b[49m\u001b[43msocket_options\u001b[49m\u001b[38;5;241;43m=\u001b[39;49m\u001b[38;5;28;43mself\u001b[39;49m\u001b[38;5;241;43m.\u001b[39;49m\u001b[43msocket_options\u001b[49m\u001b[43m,\u001b[49m\n\u001b[0;32m    203\u001b[0m \u001b[43m    \u001b[49m\u001b[43m)\u001b[49m\n\u001b[0;32m    204\u001b[0m \u001b[38;5;28;01mexcept\u001b[39;00m socket\u001b[38;5;241m.\u001b[39mgaierror \u001b[38;5;28;01mas\u001b[39;00m e:\n",
      "File \u001b[1;32m~\\anaconda3\\envs\\HydroServer\\lib\\site-packages\\urllib3\\util\\connection.py:60\u001b[0m, in \u001b[0;36mcreate_connection\u001b[1;34m(address, timeout, source_address, socket_options)\u001b[0m\n\u001b[0;32m     58\u001b[0m     \u001b[38;5;28;01mraise\u001b[39;00m LocationParseError(\u001b[38;5;124mf\u001b[39m\u001b[38;5;124m\"\u001b[39m\u001b[38;5;124m'\u001b[39m\u001b[38;5;132;01m{\u001b[39;00mhost\u001b[38;5;132;01m}\u001b[39;00m\u001b[38;5;124m'\u001b[39m\u001b[38;5;124m, label empty or too long\u001b[39m\u001b[38;5;124m\"\u001b[39m) \u001b[38;5;28;01mfrom\u001b[39;00m\u001b[38;5;250m \u001b[39m\u001b[38;5;28;01mNone\u001b[39;00m\n\u001b[1;32m---> 60\u001b[0m \u001b[38;5;28;01mfor\u001b[39;00m res \u001b[38;5;129;01min\u001b[39;00m \u001b[43msocket\u001b[49m\u001b[38;5;241;43m.\u001b[39;49m\u001b[43mgetaddrinfo\u001b[49m\u001b[43m(\u001b[49m\u001b[43mhost\u001b[49m\u001b[43m,\u001b[49m\u001b[43m \u001b[49m\u001b[43mport\u001b[49m\u001b[43m,\u001b[49m\u001b[43m \u001b[49m\u001b[43mfamily\u001b[49m\u001b[43m,\u001b[49m\u001b[43m \u001b[49m\u001b[43msocket\u001b[49m\u001b[38;5;241;43m.\u001b[39;49m\u001b[43mSOCK_STREAM\u001b[49m\u001b[43m)\u001b[49m:\n\u001b[0;32m     61\u001b[0m     af, socktype, proto, canonname, sa \u001b[38;5;241m=\u001b[39m res\n",
      "File \u001b[1;32m~\\anaconda3\\envs\\HydroServer\\lib\\socket.py:967\u001b[0m, in \u001b[0;36mgetaddrinfo\u001b[1;34m(host, port, family, type, proto, flags)\u001b[0m\n\u001b[0;32m    966\u001b[0m addrlist \u001b[38;5;241m=\u001b[39m []\n\u001b[1;32m--> 967\u001b[0m \u001b[38;5;28;01mfor\u001b[39;00m res \u001b[38;5;129;01min\u001b[39;00m \u001b[43m_socket\u001b[49m\u001b[38;5;241;43m.\u001b[39;49m\u001b[43mgetaddrinfo\u001b[49m\u001b[43m(\u001b[49m\u001b[43mhost\u001b[49m\u001b[43m,\u001b[49m\u001b[43m \u001b[49m\u001b[43mport\u001b[49m\u001b[43m,\u001b[49m\u001b[43m \u001b[49m\u001b[43mfamily\u001b[49m\u001b[43m,\u001b[49m\u001b[43m \u001b[49m\u001b[38;5;28;43mtype\u001b[39;49m\u001b[43m,\u001b[49m\u001b[43m \u001b[49m\u001b[43mproto\u001b[49m\u001b[43m,\u001b[49m\u001b[43m \u001b[49m\u001b[43mflags\u001b[49m\u001b[43m)\u001b[49m:\n\u001b[0;32m    968\u001b[0m     af, socktype, proto, canonname, sa \u001b[38;5;241m=\u001b[39m res\n",
      "\u001b[1;31mgaierror\u001b[0m: [Errno 11001] getaddrinfo failed",
      "\nThe above exception was the direct cause of the following exception:\n",
      "\u001b[1;31mNameResolutionError\u001b[0m                       Traceback (most recent call last)",
      "File \u001b[1;32m~\\anaconda3\\envs\\HydroServer\\lib\\site-packages\\urllib3\\connectionpool.py:787\u001b[0m, in \u001b[0;36mHTTPConnectionPool.urlopen\u001b[1;34m(self, method, url, body, headers, retries, redirect, assert_same_host, timeout, pool_timeout, release_conn, chunked, body_pos, preload_content, decode_content, **response_kw)\u001b[0m\n\u001b[0;32m    786\u001b[0m \u001b[38;5;66;03m# Make the request on the HTTPConnection object\u001b[39;00m\n\u001b[1;32m--> 787\u001b[0m response \u001b[38;5;241m=\u001b[39m \u001b[38;5;28mself\u001b[39m\u001b[38;5;241m.\u001b[39m_make_request(\n\u001b[0;32m    788\u001b[0m     conn,\n\u001b[0;32m    789\u001b[0m     method,\n\u001b[0;32m    790\u001b[0m     url,\n\u001b[0;32m    791\u001b[0m     timeout\u001b[38;5;241m=\u001b[39mtimeout_obj,\n\u001b[0;32m    792\u001b[0m     body\u001b[38;5;241m=\u001b[39mbody,\n\u001b[0;32m    793\u001b[0m     headers\u001b[38;5;241m=\u001b[39mheaders,\n\u001b[0;32m    794\u001b[0m     chunked\u001b[38;5;241m=\u001b[39mchunked,\n\u001b[0;32m    795\u001b[0m     retries\u001b[38;5;241m=\u001b[39mretries,\n\u001b[0;32m    796\u001b[0m     response_conn\u001b[38;5;241m=\u001b[39mresponse_conn,\n\u001b[0;32m    797\u001b[0m     preload_content\u001b[38;5;241m=\u001b[39mpreload_content,\n\u001b[0;32m    798\u001b[0m     decode_content\u001b[38;5;241m=\u001b[39mdecode_content,\n\u001b[0;32m    799\u001b[0m     \u001b[38;5;241m*\u001b[39m\u001b[38;5;241m*\u001b[39mresponse_kw,\n\u001b[0;32m    800\u001b[0m )\n\u001b[0;32m    802\u001b[0m \u001b[38;5;66;03m# Everything went great!\u001b[39;00m\n",
      "File \u001b[1;32m~\\anaconda3\\envs\\HydroServer\\lib\\site-packages\\urllib3\\connectionpool.py:488\u001b[0m, in \u001b[0;36mHTTPConnectionPool._make_request\u001b[1;34m(self, conn, method, url, body, headers, retries, timeout, chunked, response_conn, preload_content, decode_content, enforce_content_length)\u001b[0m\n\u001b[0;32m    487\u001b[0m         new_e \u001b[38;5;241m=\u001b[39m _wrap_proxy_error(new_e, conn\u001b[38;5;241m.\u001b[39mproxy\u001b[38;5;241m.\u001b[39mscheme)\n\u001b[1;32m--> 488\u001b[0m     \u001b[38;5;28;01mraise\u001b[39;00m new_e\n\u001b[0;32m    490\u001b[0m \u001b[38;5;66;03m# conn.request() calls http.client.*.request, not the method in\u001b[39;00m\n\u001b[0;32m    491\u001b[0m \u001b[38;5;66;03m# urllib3.request. It also calls makefile (recv) on the socket.\u001b[39;00m\n",
      "File \u001b[1;32m~\\anaconda3\\envs\\HydroServer\\lib\\site-packages\\urllib3\\connectionpool.py:464\u001b[0m, in \u001b[0;36mHTTPConnectionPool._make_request\u001b[1;34m(self, conn, method, url, body, headers, retries, timeout, chunked, response_conn, preload_content, decode_content, enforce_content_length)\u001b[0m\n\u001b[0;32m    463\u001b[0m \u001b[38;5;28;01mtry\u001b[39;00m:\n\u001b[1;32m--> 464\u001b[0m     \u001b[38;5;28;43mself\u001b[39;49m\u001b[38;5;241;43m.\u001b[39;49m\u001b[43m_validate_conn\u001b[49m\u001b[43m(\u001b[49m\u001b[43mconn\u001b[49m\u001b[43m)\u001b[49m\n\u001b[0;32m    465\u001b[0m \u001b[38;5;28;01mexcept\u001b[39;00m (SocketTimeout, BaseSSLError) \u001b[38;5;28;01mas\u001b[39;00m e:\n",
      "File \u001b[1;32m~\\anaconda3\\envs\\HydroServer\\lib\\site-packages\\urllib3\\connectionpool.py:1093\u001b[0m, in \u001b[0;36mHTTPSConnectionPool._validate_conn\u001b[1;34m(self, conn)\u001b[0m\n\u001b[0;32m   1092\u001b[0m \u001b[38;5;28;01mif\u001b[39;00m conn\u001b[38;5;241m.\u001b[39mis_closed:\n\u001b[1;32m-> 1093\u001b[0m     \u001b[43mconn\u001b[49m\u001b[38;5;241;43m.\u001b[39;49m\u001b[43mconnect\u001b[49m\u001b[43m(\u001b[49m\u001b[43m)\u001b[49m\n\u001b[0;32m   1095\u001b[0m \u001b[38;5;66;03m# TODO revise this, see https://github.com/urllib3/urllib3/issues/2791\u001b[39;00m\n",
      "File \u001b[1;32m~\\anaconda3\\envs\\HydroServer\\lib\\site-packages\\urllib3\\connection.py:704\u001b[0m, in \u001b[0;36mHTTPSConnection.connect\u001b[1;34m(self)\u001b[0m\n\u001b[0;32m    703\u001b[0m sock: socket\u001b[38;5;241m.\u001b[39msocket \u001b[38;5;241m|\u001b[39m ssl\u001b[38;5;241m.\u001b[39mSSLSocket\n\u001b[1;32m--> 704\u001b[0m \u001b[38;5;28mself\u001b[39m\u001b[38;5;241m.\u001b[39msock \u001b[38;5;241m=\u001b[39m sock \u001b[38;5;241m=\u001b[39m \u001b[38;5;28;43mself\u001b[39;49m\u001b[38;5;241;43m.\u001b[39;49m\u001b[43m_new_conn\u001b[49m\u001b[43m(\u001b[49m\u001b[43m)\u001b[49m\n\u001b[0;32m    705\u001b[0m server_hostname: \u001b[38;5;28mstr\u001b[39m \u001b[38;5;241m=\u001b[39m \u001b[38;5;28mself\u001b[39m\u001b[38;5;241m.\u001b[39mhost\n",
      "File \u001b[1;32m~\\anaconda3\\envs\\HydroServer\\lib\\site-packages\\urllib3\\connection.py:205\u001b[0m, in \u001b[0;36mHTTPConnection._new_conn\u001b[1;34m(self)\u001b[0m\n\u001b[0;32m    204\u001b[0m \u001b[38;5;28;01mexcept\u001b[39;00m socket\u001b[38;5;241m.\u001b[39mgaierror \u001b[38;5;28;01mas\u001b[39;00m e:\n\u001b[1;32m--> 205\u001b[0m     \u001b[38;5;28;01mraise\u001b[39;00m NameResolutionError(\u001b[38;5;28mself\u001b[39m\u001b[38;5;241m.\u001b[39mhost, \u001b[38;5;28mself\u001b[39m, e) \u001b[38;5;28;01mfrom\u001b[39;00m\u001b[38;5;250m \u001b[39m\u001b[38;5;21;01me\u001b[39;00m\n\u001b[0;32m    206\u001b[0m \u001b[38;5;28;01mexcept\u001b[39;00m SocketTimeout \u001b[38;5;28;01mas\u001b[39;00m e:\n",
      "\u001b[1;31mNameResolutionError\u001b[0m: <urllib3.connection.HTTPSConnection object at 0x000001B1D968D870>: Failed to resolve 'playground.hydroserver.org' ([Errno 11001] getaddrinfo failed)",
      "\nThe above exception was the direct cause of the following exception:\n",
      "\u001b[1;31mMaxRetryError\u001b[0m                             Traceback (most recent call last)",
      "File \u001b[1;32m~\\anaconda3\\envs\\HydroServer\\lib\\site-packages\\requests\\adapters.py:667\u001b[0m, in \u001b[0;36mHTTPAdapter.send\u001b[1;34m(self, request, stream, timeout, verify, cert, proxies)\u001b[0m\n\u001b[0;32m    666\u001b[0m \u001b[38;5;28;01mtry\u001b[39;00m:\n\u001b[1;32m--> 667\u001b[0m     resp \u001b[38;5;241m=\u001b[39m \u001b[43mconn\u001b[49m\u001b[38;5;241;43m.\u001b[39;49m\u001b[43murlopen\u001b[49m\u001b[43m(\u001b[49m\n\u001b[0;32m    668\u001b[0m \u001b[43m        \u001b[49m\u001b[43mmethod\u001b[49m\u001b[38;5;241;43m=\u001b[39;49m\u001b[43mrequest\u001b[49m\u001b[38;5;241;43m.\u001b[39;49m\u001b[43mmethod\u001b[49m\u001b[43m,\u001b[49m\n\u001b[0;32m    669\u001b[0m \u001b[43m        \u001b[49m\u001b[43murl\u001b[49m\u001b[38;5;241;43m=\u001b[39;49m\u001b[43murl\u001b[49m\u001b[43m,\u001b[49m\n\u001b[0;32m    670\u001b[0m \u001b[43m        \u001b[49m\u001b[43mbody\u001b[49m\u001b[38;5;241;43m=\u001b[39;49m\u001b[43mrequest\u001b[49m\u001b[38;5;241;43m.\u001b[39;49m\u001b[43mbody\u001b[49m\u001b[43m,\u001b[49m\n\u001b[0;32m    671\u001b[0m \u001b[43m        \u001b[49m\u001b[43mheaders\u001b[49m\u001b[38;5;241;43m=\u001b[39;49m\u001b[43mrequest\u001b[49m\u001b[38;5;241;43m.\u001b[39;49m\u001b[43mheaders\u001b[49m\u001b[43m,\u001b[49m\n\u001b[0;32m    672\u001b[0m \u001b[43m        \u001b[49m\u001b[43mredirect\u001b[49m\u001b[38;5;241;43m=\u001b[39;49m\u001b[38;5;28;43;01mFalse\u001b[39;49;00m\u001b[43m,\u001b[49m\n\u001b[0;32m    673\u001b[0m \u001b[43m        \u001b[49m\u001b[43massert_same_host\u001b[49m\u001b[38;5;241;43m=\u001b[39;49m\u001b[38;5;28;43;01mFalse\u001b[39;49;00m\u001b[43m,\u001b[49m\n\u001b[0;32m    674\u001b[0m \u001b[43m        \u001b[49m\u001b[43mpreload_content\u001b[49m\u001b[38;5;241;43m=\u001b[39;49m\u001b[38;5;28;43;01mFalse\u001b[39;49;00m\u001b[43m,\u001b[49m\n\u001b[0;32m    675\u001b[0m \u001b[43m        \u001b[49m\u001b[43mdecode_content\u001b[49m\u001b[38;5;241;43m=\u001b[39;49m\u001b[38;5;28;43;01mFalse\u001b[39;49;00m\u001b[43m,\u001b[49m\n\u001b[0;32m    676\u001b[0m \u001b[43m        \u001b[49m\u001b[43mretries\u001b[49m\u001b[38;5;241;43m=\u001b[39;49m\u001b[38;5;28;43mself\u001b[39;49m\u001b[38;5;241;43m.\u001b[39;49m\u001b[43mmax_retries\u001b[49m\u001b[43m,\u001b[49m\n\u001b[0;32m    677\u001b[0m \u001b[43m        \u001b[49m\u001b[43mtimeout\u001b[49m\u001b[38;5;241;43m=\u001b[39;49m\u001b[43mtimeout\u001b[49m\u001b[43m,\u001b[49m\n\u001b[0;32m    678\u001b[0m \u001b[43m        \u001b[49m\u001b[43mchunked\u001b[49m\u001b[38;5;241;43m=\u001b[39;49m\u001b[43mchunked\u001b[49m\u001b[43m,\u001b[49m\n\u001b[0;32m    679\u001b[0m \u001b[43m    \u001b[49m\u001b[43m)\u001b[49m\n\u001b[0;32m    681\u001b[0m \u001b[38;5;28;01mexcept\u001b[39;00m (ProtocolError, \u001b[38;5;167;01mOSError\u001b[39;00m) \u001b[38;5;28;01mas\u001b[39;00m err:\n",
      "File \u001b[1;32m~\\anaconda3\\envs\\HydroServer\\lib\\site-packages\\urllib3\\connectionpool.py:841\u001b[0m, in \u001b[0;36mHTTPConnectionPool.urlopen\u001b[1;34m(self, method, url, body, headers, retries, redirect, assert_same_host, timeout, pool_timeout, release_conn, chunked, body_pos, preload_content, decode_content, **response_kw)\u001b[0m\n\u001b[0;32m    839\u001b[0m     new_e \u001b[38;5;241m=\u001b[39m ProtocolError(\u001b[38;5;124m\"\u001b[39m\u001b[38;5;124mConnection aborted.\u001b[39m\u001b[38;5;124m\"\u001b[39m, new_e)\n\u001b[1;32m--> 841\u001b[0m retries \u001b[38;5;241m=\u001b[39m \u001b[43mretries\u001b[49m\u001b[38;5;241;43m.\u001b[39;49m\u001b[43mincrement\u001b[49m\u001b[43m(\u001b[49m\n\u001b[0;32m    842\u001b[0m \u001b[43m    \u001b[49m\u001b[43mmethod\u001b[49m\u001b[43m,\u001b[49m\u001b[43m \u001b[49m\u001b[43murl\u001b[49m\u001b[43m,\u001b[49m\u001b[43m \u001b[49m\u001b[43merror\u001b[49m\u001b[38;5;241;43m=\u001b[39;49m\u001b[43mnew_e\u001b[49m\u001b[43m,\u001b[49m\u001b[43m \u001b[49m\u001b[43m_pool\u001b[49m\u001b[38;5;241;43m=\u001b[39;49m\u001b[38;5;28;43mself\u001b[39;49m\u001b[43m,\u001b[49m\u001b[43m \u001b[49m\u001b[43m_stacktrace\u001b[49m\u001b[38;5;241;43m=\u001b[39;49m\u001b[43msys\u001b[49m\u001b[38;5;241;43m.\u001b[39;49m\u001b[43mexc_info\u001b[49m\u001b[43m(\u001b[49m\u001b[43m)\u001b[49m\u001b[43m[\u001b[49m\u001b[38;5;241;43m2\u001b[39;49m\u001b[43m]\u001b[49m\n\u001b[0;32m    843\u001b[0m \u001b[43m\u001b[49m\u001b[43m)\u001b[49m\n\u001b[0;32m    844\u001b[0m retries\u001b[38;5;241m.\u001b[39msleep()\n",
      "File \u001b[1;32m~\\anaconda3\\envs\\HydroServer\\lib\\site-packages\\urllib3\\util\\retry.py:519\u001b[0m, in \u001b[0;36mRetry.increment\u001b[1;34m(self, method, url, response, error, _pool, _stacktrace)\u001b[0m\n\u001b[0;32m    518\u001b[0m     reason \u001b[38;5;241m=\u001b[39m error \u001b[38;5;129;01mor\u001b[39;00m ResponseError(cause)\n\u001b[1;32m--> 519\u001b[0m     \u001b[38;5;28;01mraise\u001b[39;00m MaxRetryError(_pool, url, reason) \u001b[38;5;28;01mfrom\u001b[39;00m\u001b[38;5;250m \u001b[39m\u001b[38;5;21;01mreason\u001b[39;00m  \u001b[38;5;66;03m# type: ignore[arg-type]\u001b[39;00m\n\u001b[0;32m    521\u001b[0m log\u001b[38;5;241m.\u001b[39mdebug(\u001b[38;5;124m\"\u001b[39m\u001b[38;5;124mIncremented Retry for (url=\u001b[39m\u001b[38;5;124m'\u001b[39m\u001b[38;5;132;01m%s\u001b[39;00m\u001b[38;5;124m'\u001b[39m\u001b[38;5;124m): \u001b[39m\u001b[38;5;132;01m%r\u001b[39;00m\u001b[38;5;124m\"\u001b[39m, url, new_retry)\n",
      "\u001b[1;31mMaxRetryError\u001b[0m: HTTPSConnectionPool(host='playground.hydroserver.org', port=443): Max retries exceeded with url: /api/data/things (Caused by NameResolutionError(\"<urllib3.connection.HTTPSConnection object at 0x000001B1D968D870>: Failed to resolve 'playground.hydroserver.org' ([Errno 11001] getaddrinfo failed)\"))",
      "\nDuring handling of the above exception, another exception occurred:\n",
      "\u001b[1;31mConnectionError\u001b[0m                           Traceback (most recent call last)",
      "File \u001b[1;32m~\\anaconda3\\envs\\HydroServer\\lib\\site-packages\\hydroserverpy\\api\\main.py:90\u001b[0m, in \u001b[0;36mHydroServer.request\u001b[1;34m(self, method, path, *args, **kwargs)\u001b[0m\n\u001b[0;32m     89\u001b[0m \u001b[38;5;28;01mtry\u001b[39;00m:\n\u001b[1;32m---> 90\u001b[0m     response \u001b[38;5;241m=\u001b[39m \u001b[38;5;28mgetattr\u001b[39m(\u001b[38;5;28mself\u001b[39m\u001b[38;5;241m.\u001b[39m_session, method)(\n\u001b[0;32m     91\u001b[0m         \u001b[38;5;124mf\u001b[39m\u001b[38;5;124m\"\u001b[39m\u001b[38;5;132;01m{\u001b[39;00m\u001b[38;5;28mself\u001b[39m\u001b[38;5;241m.\u001b[39mhost\u001b[38;5;132;01m}\u001b[39;00m\u001b[38;5;124m/\u001b[39m\u001b[38;5;132;01m{\u001b[39;00mpath\u001b[38;5;241m.\u001b[39mstrip(\u001b[38;5;124m'\u001b[39m\u001b[38;5;124m/\u001b[39m\u001b[38;5;124m'\u001b[39m)\u001b[38;5;132;01m}\u001b[39;00m\u001b[38;5;124m\"\u001b[39m,\n\u001b[0;32m     92\u001b[0m         timeout\u001b[38;5;241m=\u001b[39m\u001b[38;5;28mself\u001b[39m\u001b[38;5;241m.\u001b[39m_timeout,\n\u001b[0;32m     93\u001b[0m         \u001b[38;5;241m*\u001b[39margs,\n\u001b[0;32m     94\u001b[0m         \u001b[38;5;241m*\u001b[39m\u001b[38;5;241m*\u001b[39mkwargs,\n\u001b[0;32m     95\u001b[0m     )\n\u001b[0;32m     96\u001b[0m     raise_for_hs_status(response)\n",
      "File \u001b[1;32m~\\anaconda3\\envs\\HydroServer\\lib\\site-packages\\requests\\sessions.py:637\u001b[0m, in \u001b[0;36mSession.post\u001b[1;34m(self, url, data, json, **kwargs)\u001b[0m\n\u001b[0;32m    627\u001b[0m \u001b[38;5;250m\u001b[39m\u001b[38;5;124mr\u001b[39m\u001b[38;5;124;03m\"\"\"Sends a POST request. Returns :class:`Response` object.\u001b[39;00m\n\u001b[0;32m    628\u001b[0m \n\u001b[0;32m    629\u001b[0m \u001b[38;5;124;03m:param url: URL for the new :class:`Request` object.\u001b[39;00m\n\u001b[1;32m   (...)\u001b[0m\n\u001b[0;32m    634\u001b[0m \u001b[38;5;124;03m:rtype: requests.Response\u001b[39;00m\n\u001b[0;32m    635\u001b[0m \u001b[38;5;124;03m\"\"\"\u001b[39;00m\n\u001b[1;32m--> 637\u001b[0m \u001b[38;5;28;01mreturn\u001b[39;00m \u001b[38;5;28mself\u001b[39m\u001b[38;5;241m.\u001b[39mrequest(\u001b[38;5;124m\"\u001b[39m\u001b[38;5;124mPOST\u001b[39m\u001b[38;5;124m\"\u001b[39m, url, data\u001b[38;5;241m=\u001b[39mdata, json\u001b[38;5;241m=\u001b[39mjson, \u001b[38;5;241m*\u001b[39m\u001b[38;5;241m*\u001b[39mkwargs)\n",
      "File \u001b[1;32m~\\anaconda3\\envs\\HydroServer\\lib\\site-packages\\requests\\sessions.py:589\u001b[0m, in \u001b[0;36mSession.request\u001b[1;34m(self, method, url, params, data, headers, cookies, files, auth, timeout, allow_redirects, proxies, hooks, stream, verify, cert, json)\u001b[0m\n\u001b[0;32m    588\u001b[0m send_kwargs\u001b[38;5;241m.\u001b[39mupdate(settings)\n\u001b[1;32m--> 589\u001b[0m resp \u001b[38;5;241m=\u001b[39m \u001b[38;5;28mself\u001b[39m\u001b[38;5;241m.\u001b[39msend(prep, \u001b[38;5;241m*\u001b[39m\u001b[38;5;241m*\u001b[39msend_kwargs)\n\u001b[0;32m    591\u001b[0m \u001b[38;5;28;01mreturn\u001b[39;00m resp\n",
      "File \u001b[1;32m~\\anaconda3\\envs\\HydroServer\\lib\\site-packages\\requests\\sessions.py:703\u001b[0m, in \u001b[0;36mSession.send\u001b[1;34m(self, request, **kwargs)\u001b[0m\n\u001b[0;32m    702\u001b[0m \u001b[38;5;66;03m# Send the request\u001b[39;00m\n\u001b[1;32m--> 703\u001b[0m r \u001b[38;5;241m=\u001b[39m adapter\u001b[38;5;241m.\u001b[39msend(request, \u001b[38;5;241m*\u001b[39m\u001b[38;5;241m*\u001b[39mkwargs)\n\u001b[0;32m    705\u001b[0m \u001b[38;5;66;03m# Total elapsed time of the request (approximately)\u001b[39;00m\n",
      "File \u001b[1;32m~\\anaconda3\\envs\\HydroServer\\lib\\site-packages\\requests\\adapters.py:700\u001b[0m, in \u001b[0;36mHTTPAdapter.send\u001b[1;34m(self, request, stream, timeout, verify, cert, proxies)\u001b[0m\n\u001b[0;32m    698\u001b[0m         \u001b[38;5;28;01mraise\u001b[39;00m SSLError(e, request\u001b[38;5;241m=\u001b[39mrequest)\n\u001b[1;32m--> 700\u001b[0m     \u001b[38;5;28;01mraise\u001b[39;00m \u001b[38;5;167;01mConnectionError\u001b[39;00m(e, request\u001b[38;5;241m=\u001b[39mrequest)\n\u001b[0;32m    702\u001b[0m \u001b[38;5;28;01mexcept\u001b[39;00m ClosedPoolError \u001b[38;5;28;01mas\u001b[39;00m e:\n",
      "\u001b[1;31mConnectionError\u001b[0m: HTTPSConnectionPool(host='playground.hydroserver.org', port=443): Max retries exceeded with url: /api/data/things (Caused by NameResolutionError(\"<urllib3.connection.HTTPSConnection object at 0x000001B1D968D870>: Failed to resolve 'playground.hydroserver.org' ([Errno 11001] getaddrinfo failed)\"))",
      "\nDuring handling of the above exception, another exception occurred:\n",
      "\u001b[1;31mTimeoutError\u001b[0m                              Traceback (most recent call last)",
      "File \u001b[1;32m~\\anaconda3\\envs\\HydroServer\\lib\\site-packages\\urllib3\\connectionpool.py:464\u001b[0m, in \u001b[0;36mHTTPConnectionPool._make_request\u001b[1;34m(self, conn, method, url, body, headers, retries, timeout, chunked, response_conn, preload_content, decode_content, enforce_content_length)\u001b[0m\n\u001b[0;32m    463\u001b[0m \u001b[38;5;28;01mtry\u001b[39;00m:\n\u001b[1;32m--> 464\u001b[0m     \u001b[38;5;28;43mself\u001b[39;49m\u001b[38;5;241;43m.\u001b[39;49m\u001b[43m_validate_conn\u001b[49m\u001b[43m(\u001b[49m\u001b[43mconn\u001b[49m\u001b[43m)\u001b[49m\n\u001b[0;32m    465\u001b[0m \u001b[38;5;28;01mexcept\u001b[39;00m (SocketTimeout, BaseSSLError) \u001b[38;5;28;01mas\u001b[39;00m e:\n",
      "File \u001b[1;32m~\\anaconda3\\envs\\HydroServer\\lib\\site-packages\\urllib3\\connectionpool.py:1093\u001b[0m, in \u001b[0;36mHTTPSConnectionPool._validate_conn\u001b[1;34m(self, conn)\u001b[0m\n\u001b[0;32m   1092\u001b[0m \u001b[38;5;28;01mif\u001b[39;00m conn\u001b[38;5;241m.\u001b[39mis_closed:\n\u001b[1;32m-> 1093\u001b[0m     \u001b[43mconn\u001b[49m\u001b[38;5;241;43m.\u001b[39;49m\u001b[43mconnect\u001b[49m\u001b[43m(\u001b[49m\u001b[43m)\u001b[49m\n\u001b[0;32m   1095\u001b[0m \u001b[38;5;66;03m# TODO revise this, see https://github.com/urllib3/urllib3/issues/2791\u001b[39;00m\n",
      "File \u001b[1;32m~\\anaconda3\\envs\\HydroServer\\lib\\site-packages\\urllib3\\connection.py:741\u001b[0m, in \u001b[0;36mHTTPSConnection.connect\u001b[1;34m(self)\u001b[0m\n\u001b[0;32m    739\u001b[0m server_hostname_rm_dot \u001b[38;5;241m=\u001b[39m server_hostname\u001b[38;5;241m.\u001b[39mrstrip(\u001b[38;5;124m\"\u001b[39m\u001b[38;5;124m.\u001b[39m\u001b[38;5;124m\"\u001b[39m)\n\u001b[1;32m--> 741\u001b[0m sock_and_verified \u001b[38;5;241m=\u001b[39m \u001b[43m_ssl_wrap_socket_and_match_hostname\u001b[49m\u001b[43m(\u001b[49m\n\u001b[0;32m    742\u001b[0m \u001b[43m    \u001b[49m\u001b[43msock\u001b[49m\u001b[38;5;241;43m=\u001b[39;49m\u001b[43msock\u001b[49m\u001b[43m,\u001b[49m\n\u001b[0;32m    743\u001b[0m \u001b[43m    \u001b[49m\u001b[43mcert_reqs\u001b[49m\u001b[38;5;241;43m=\u001b[39;49m\u001b[38;5;28;43mself\u001b[39;49m\u001b[38;5;241;43m.\u001b[39;49m\u001b[43mcert_reqs\u001b[49m\u001b[43m,\u001b[49m\n\u001b[0;32m    744\u001b[0m \u001b[43m    \u001b[49m\u001b[43mssl_version\u001b[49m\u001b[38;5;241;43m=\u001b[39;49m\u001b[38;5;28;43mself\u001b[39;49m\u001b[38;5;241;43m.\u001b[39;49m\u001b[43mssl_version\u001b[49m\u001b[43m,\u001b[49m\n\u001b[0;32m    745\u001b[0m \u001b[43m    \u001b[49m\u001b[43mssl_minimum_version\u001b[49m\u001b[38;5;241;43m=\u001b[39;49m\u001b[38;5;28;43mself\u001b[39;49m\u001b[38;5;241;43m.\u001b[39;49m\u001b[43mssl_minimum_version\u001b[49m\u001b[43m,\u001b[49m\n\u001b[0;32m    746\u001b[0m \u001b[43m    \u001b[49m\u001b[43mssl_maximum_version\u001b[49m\u001b[38;5;241;43m=\u001b[39;49m\u001b[38;5;28;43mself\u001b[39;49m\u001b[38;5;241;43m.\u001b[39;49m\u001b[43mssl_maximum_version\u001b[49m\u001b[43m,\u001b[49m\n\u001b[0;32m    747\u001b[0m \u001b[43m    \u001b[49m\u001b[43mca_certs\u001b[49m\u001b[38;5;241;43m=\u001b[39;49m\u001b[38;5;28;43mself\u001b[39;49m\u001b[38;5;241;43m.\u001b[39;49m\u001b[43mca_certs\u001b[49m\u001b[43m,\u001b[49m\n\u001b[0;32m    748\u001b[0m \u001b[43m    \u001b[49m\u001b[43mca_cert_dir\u001b[49m\u001b[38;5;241;43m=\u001b[39;49m\u001b[38;5;28;43mself\u001b[39;49m\u001b[38;5;241;43m.\u001b[39;49m\u001b[43mca_cert_dir\u001b[49m\u001b[43m,\u001b[49m\n\u001b[0;32m    749\u001b[0m \u001b[43m    \u001b[49m\u001b[43mca_cert_data\u001b[49m\u001b[38;5;241;43m=\u001b[39;49m\u001b[38;5;28;43mself\u001b[39;49m\u001b[38;5;241;43m.\u001b[39;49m\u001b[43mca_cert_data\u001b[49m\u001b[43m,\u001b[49m\n\u001b[0;32m    750\u001b[0m \u001b[43m    \u001b[49m\u001b[43mcert_file\u001b[49m\u001b[38;5;241;43m=\u001b[39;49m\u001b[38;5;28;43mself\u001b[39;49m\u001b[38;5;241;43m.\u001b[39;49m\u001b[43mcert_file\u001b[49m\u001b[43m,\u001b[49m\n\u001b[0;32m    751\u001b[0m \u001b[43m    \u001b[49m\u001b[43mkey_file\u001b[49m\u001b[38;5;241;43m=\u001b[39;49m\u001b[38;5;28;43mself\u001b[39;49m\u001b[38;5;241;43m.\u001b[39;49m\u001b[43mkey_file\u001b[49m\u001b[43m,\u001b[49m\n\u001b[0;32m    752\u001b[0m \u001b[43m    \u001b[49m\u001b[43mkey_password\u001b[49m\u001b[38;5;241;43m=\u001b[39;49m\u001b[38;5;28;43mself\u001b[39;49m\u001b[38;5;241;43m.\u001b[39;49m\u001b[43mkey_password\u001b[49m\u001b[43m,\u001b[49m\n\u001b[0;32m    753\u001b[0m \u001b[43m    \u001b[49m\u001b[43mserver_hostname\u001b[49m\u001b[38;5;241;43m=\u001b[39;49m\u001b[43mserver_hostname_rm_dot\u001b[49m\u001b[43m,\u001b[49m\n\u001b[0;32m    754\u001b[0m \u001b[43m    \u001b[49m\u001b[43mssl_context\u001b[49m\u001b[38;5;241;43m=\u001b[39;49m\u001b[38;5;28;43mself\u001b[39;49m\u001b[38;5;241;43m.\u001b[39;49m\u001b[43mssl_context\u001b[49m\u001b[43m,\u001b[49m\n\u001b[0;32m    755\u001b[0m \u001b[43m    \u001b[49m\u001b[43mtls_in_tls\u001b[49m\u001b[38;5;241;43m=\u001b[39;49m\u001b[43mtls_in_tls\u001b[49m\u001b[43m,\u001b[49m\n\u001b[0;32m    756\u001b[0m \u001b[43m    \u001b[49m\u001b[43massert_hostname\u001b[49m\u001b[38;5;241;43m=\u001b[39;49m\u001b[38;5;28;43mself\u001b[39;49m\u001b[38;5;241;43m.\u001b[39;49m\u001b[43massert_hostname\u001b[49m\u001b[43m,\u001b[49m\n\u001b[0;32m    757\u001b[0m \u001b[43m    \u001b[49m\u001b[43massert_fingerprint\u001b[49m\u001b[38;5;241;43m=\u001b[39;49m\u001b[38;5;28;43mself\u001b[39;49m\u001b[38;5;241;43m.\u001b[39;49m\u001b[43massert_fingerprint\u001b[49m\u001b[43m,\u001b[49m\n\u001b[0;32m    758\u001b[0m \u001b[43m\u001b[49m\u001b[43m)\u001b[49m\n\u001b[0;32m    759\u001b[0m \u001b[38;5;28mself\u001b[39m\u001b[38;5;241m.\u001b[39msock \u001b[38;5;241m=\u001b[39m sock_and_verified\u001b[38;5;241m.\u001b[39msocket\n",
      "File \u001b[1;32m~\\anaconda3\\envs\\HydroServer\\lib\\site-packages\\urllib3\\connection.py:920\u001b[0m, in \u001b[0;36m_ssl_wrap_socket_and_match_hostname\u001b[1;34m(sock, cert_reqs, ssl_version, ssl_minimum_version, ssl_maximum_version, cert_file, key_file, key_password, ca_certs, ca_cert_dir, ca_cert_data, assert_hostname, assert_fingerprint, server_hostname, ssl_context, tls_in_tls)\u001b[0m\n\u001b[0;32m    918\u001b[0m         server_hostname \u001b[38;5;241m=\u001b[39m normalized\n\u001b[1;32m--> 920\u001b[0m ssl_sock \u001b[38;5;241m=\u001b[39m \u001b[43mssl_wrap_socket\u001b[49m\u001b[43m(\u001b[49m\n\u001b[0;32m    921\u001b[0m \u001b[43m    \u001b[49m\u001b[43msock\u001b[49m\u001b[38;5;241;43m=\u001b[39;49m\u001b[43msock\u001b[49m\u001b[43m,\u001b[49m\n\u001b[0;32m    922\u001b[0m \u001b[43m    \u001b[49m\u001b[43mkeyfile\u001b[49m\u001b[38;5;241;43m=\u001b[39;49m\u001b[43mkey_file\u001b[49m\u001b[43m,\u001b[49m\n\u001b[0;32m    923\u001b[0m \u001b[43m    \u001b[49m\u001b[43mcertfile\u001b[49m\u001b[38;5;241;43m=\u001b[39;49m\u001b[43mcert_file\u001b[49m\u001b[43m,\u001b[49m\n\u001b[0;32m    924\u001b[0m \u001b[43m    \u001b[49m\u001b[43mkey_password\u001b[49m\u001b[38;5;241;43m=\u001b[39;49m\u001b[43mkey_password\u001b[49m\u001b[43m,\u001b[49m\n\u001b[0;32m    925\u001b[0m \u001b[43m    \u001b[49m\u001b[43mca_certs\u001b[49m\u001b[38;5;241;43m=\u001b[39;49m\u001b[43mca_certs\u001b[49m\u001b[43m,\u001b[49m\n\u001b[0;32m    926\u001b[0m \u001b[43m    \u001b[49m\u001b[43mca_cert_dir\u001b[49m\u001b[38;5;241;43m=\u001b[39;49m\u001b[43mca_cert_dir\u001b[49m\u001b[43m,\u001b[49m\n\u001b[0;32m    927\u001b[0m \u001b[43m    \u001b[49m\u001b[43mca_cert_data\u001b[49m\u001b[38;5;241;43m=\u001b[39;49m\u001b[43mca_cert_data\u001b[49m\u001b[43m,\u001b[49m\n\u001b[0;32m    928\u001b[0m \u001b[43m    \u001b[49m\u001b[43mserver_hostname\u001b[49m\u001b[38;5;241;43m=\u001b[39;49m\u001b[43mserver_hostname\u001b[49m\u001b[43m,\u001b[49m\n\u001b[0;32m    929\u001b[0m \u001b[43m    \u001b[49m\u001b[43mssl_context\u001b[49m\u001b[38;5;241;43m=\u001b[39;49m\u001b[43mcontext\u001b[49m\u001b[43m,\u001b[49m\n\u001b[0;32m    930\u001b[0m \u001b[43m    \u001b[49m\u001b[43mtls_in_tls\u001b[49m\u001b[38;5;241;43m=\u001b[39;49m\u001b[43mtls_in_tls\u001b[49m\u001b[43m,\u001b[49m\n\u001b[0;32m    931\u001b[0m \u001b[43m\u001b[49m\u001b[43m)\u001b[49m\n\u001b[0;32m    933\u001b[0m \u001b[38;5;28;01mtry\u001b[39;00m:\n",
      "File \u001b[1;32m~\\anaconda3\\envs\\HydroServer\\lib\\site-packages\\urllib3\\util\\ssl_.py:480\u001b[0m, in \u001b[0;36mssl_wrap_socket\u001b[1;34m(sock, keyfile, certfile, cert_reqs, ca_certs, server_hostname, ssl_version, ciphers, ssl_context, ca_cert_dir, key_password, ca_cert_data, tls_in_tls)\u001b[0m\n\u001b[0;32m    478\u001b[0m context\u001b[38;5;241m.\u001b[39mset_alpn_protocols(ALPN_PROTOCOLS)\n\u001b[1;32m--> 480\u001b[0m ssl_sock \u001b[38;5;241m=\u001b[39m \u001b[43m_ssl_wrap_socket_impl\u001b[49m\u001b[43m(\u001b[49m\u001b[43msock\u001b[49m\u001b[43m,\u001b[49m\u001b[43m \u001b[49m\u001b[43mcontext\u001b[49m\u001b[43m,\u001b[49m\u001b[43m \u001b[49m\u001b[43mtls_in_tls\u001b[49m\u001b[43m,\u001b[49m\u001b[43m \u001b[49m\u001b[43mserver_hostname\u001b[49m\u001b[43m)\u001b[49m\n\u001b[0;32m    481\u001b[0m \u001b[38;5;28;01mreturn\u001b[39;00m ssl_sock\n",
      "File \u001b[1;32m~\\anaconda3\\envs\\HydroServer\\lib\\site-packages\\urllib3\\util\\ssl_.py:524\u001b[0m, in \u001b[0;36m_ssl_wrap_socket_impl\u001b[1;34m(sock, ssl_context, tls_in_tls, server_hostname)\u001b[0m\n\u001b[0;32m    522\u001b[0m     \u001b[38;5;28;01mreturn\u001b[39;00m SSLTransport(sock, ssl_context, server_hostname)\n\u001b[1;32m--> 524\u001b[0m \u001b[38;5;28;01mreturn\u001b[39;00m \u001b[43mssl_context\u001b[49m\u001b[38;5;241;43m.\u001b[39;49m\u001b[43mwrap_socket\u001b[49m\u001b[43m(\u001b[49m\u001b[43msock\u001b[49m\u001b[43m,\u001b[49m\u001b[43m \u001b[49m\u001b[43mserver_hostname\u001b[49m\u001b[38;5;241;43m=\u001b[39;49m\u001b[43mserver_hostname\u001b[49m\u001b[43m)\u001b[49m\n",
      "File \u001b[1;32m~\\anaconda3\\envs\\HydroServer\\lib\\ssl.py:513\u001b[0m, in \u001b[0;36mSSLContext.wrap_socket\u001b[1;34m(self, sock, server_side, do_handshake_on_connect, suppress_ragged_eofs, server_hostname, session)\u001b[0m\n\u001b[0;32m    507\u001b[0m \u001b[38;5;28;01mdef\u001b[39;00m\u001b[38;5;250m \u001b[39m\u001b[38;5;21mwrap_socket\u001b[39m(\u001b[38;5;28mself\u001b[39m, sock, server_side\u001b[38;5;241m=\u001b[39m\u001b[38;5;28;01mFalse\u001b[39;00m,\n\u001b[0;32m    508\u001b[0m                 do_handshake_on_connect\u001b[38;5;241m=\u001b[39m\u001b[38;5;28;01mTrue\u001b[39;00m,\n\u001b[0;32m    509\u001b[0m                 suppress_ragged_eofs\u001b[38;5;241m=\u001b[39m\u001b[38;5;28;01mTrue\u001b[39;00m,\n\u001b[0;32m    510\u001b[0m                 server_hostname\u001b[38;5;241m=\u001b[39m\u001b[38;5;28;01mNone\u001b[39;00m, session\u001b[38;5;241m=\u001b[39m\u001b[38;5;28;01mNone\u001b[39;00m):\n\u001b[0;32m    511\u001b[0m     \u001b[38;5;66;03m# SSLSocket class handles server_hostname encoding before it calls\u001b[39;00m\n\u001b[0;32m    512\u001b[0m     \u001b[38;5;66;03m# ctx._wrap_socket()\u001b[39;00m\n\u001b[1;32m--> 513\u001b[0m     \u001b[38;5;28;01mreturn\u001b[39;00m \u001b[38;5;28;43mself\u001b[39;49m\u001b[38;5;241;43m.\u001b[39;49m\u001b[43msslsocket_class\u001b[49m\u001b[38;5;241;43m.\u001b[39;49m\u001b[43m_create\u001b[49m\u001b[43m(\u001b[49m\n\u001b[0;32m    514\u001b[0m \u001b[43m        \u001b[49m\u001b[43msock\u001b[49m\u001b[38;5;241;43m=\u001b[39;49m\u001b[43msock\u001b[49m\u001b[43m,\u001b[49m\n\u001b[0;32m    515\u001b[0m \u001b[43m        \u001b[49m\u001b[43mserver_side\u001b[49m\u001b[38;5;241;43m=\u001b[39;49m\u001b[43mserver_side\u001b[49m\u001b[43m,\u001b[49m\n\u001b[0;32m    516\u001b[0m \u001b[43m        \u001b[49m\u001b[43mdo_handshake_on_connect\u001b[49m\u001b[38;5;241;43m=\u001b[39;49m\u001b[43mdo_handshake_on_connect\u001b[49m\u001b[43m,\u001b[49m\n\u001b[0;32m    517\u001b[0m \u001b[43m        \u001b[49m\u001b[43msuppress_ragged_eofs\u001b[49m\u001b[38;5;241;43m=\u001b[39;49m\u001b[43msuppress_ragged_eofs\u001b[49m\u001b[43m,\u001b[49m\n\u001b[0;32m    518\u001b[0m \u001b[43m        \u001b[49m\u001b[43mserver_hostname\u001b[49m\u001b[38;5;241;43m=\u001b[39;49m\u001b[43mserver_hostname\u001b[49m\u001b[43m,\u001b[49m\n\u001b[0;32m    519\u001b[0m \u001b[43m        \u001b[49m\u001b[43mcontext\u001b[49m\u001b[38;5;241;43m=\u001b[39;49m\u001b[38;5;28;43mself\u001b[39;49m\u001b[43m,\u001b[49m\n\u001b[0;32m    520\u001b[0m \u001b[43m        \u001b[49m\u001b[43msession\u001b[49m\u001b[38;5;241;43m=\u001b[39;49m\u001b[43msession\u001b[49m\n\u001b[0;32m    521\u001b[0m \u001b[43m    \u001b[49m\u001b[43m)\u001b[49m\n",
      "File \u001b[1;32m~\\anaconda3\\envs\\HydroServer\\lib\\ssl.py:1104\u001b[0m, in \u001b[0;36mSSLSocket._create\u001b[1;34m(cls, sock, server_side, do_handshake_on_connect, suppress_ragged_eofs, server_hostname, context, session)\u001b[0m\n\u001b[0;32m   1103\u001b[0m             \u001b[38;5;28;01mraise\u001b[39;00m \u001b[38;5;167;01mValueError\u001b[39;00m(\u001b[38;5;124m\"\u001b[39m\u001b[38;5;124mdo_handshake_on_connect should not be specified for non-blocking sockets\u001b[39m\u001b[38;5;124m\"\u001b[39m)\n\u001b[1;32m-> 1104\u001b[0m         \u001b[38;5;28;43mself\u001b[39;49m\u001b[38;5;241;43m.\u001b[39;49m\u001b[43mdo_handshake\u001b[49m\u001b[43m(\u001b[49m\u001b[43m)\u001b[49m\n\u001b[0;32m   1105\u001b[0m \u001b[38;5;28;01mexcept\u001b[39;00m (\u001b[38;5;167;01mOSError\u001b[39;00m, \u001b[38;5;167;01mValueError\u001b[39;00m):\n",
      "File \u001b[1;32m~\\anaconda3\\envs\\HydroServer\\lib\\ssl.py:1375\u001b[0m, in \u001b[0;36mSSLSocket.do_handshake\u001b[1;34m(self, block)\u001b[0m\n\u001b[0;32m   1374\u001b[0m         \u001b[38;5;28mself\u001b[39m\u001b[38;5;241m.\u001b[39msettimeout(\u001b[38;5;28;01mNone\u001b[39;00m)\n\u001b[1;32m-> 1375\u001b[0m     \u001b[38;5;28;43mself\u001b[39;49m\u001b[38;5;241;43m.\u001b[39;49m\u001b[43m_sslobj\u001b[49m\u001b[38;5;241;43m.\u001b[39;49m\u001b[43mdo_handshake\u001b[49m\u001b[43m(\u001b[49m\u001b[43m)\u001b[49m\n\u001b[0;32m   1376\u001b[0m \u001b[38;5;28;01mfinally\u001b[39;00m:\n",
      "\u001b[1;31mTimeoutError\u001b[0m: _ssl.c:990: The handshake operation timed out",
      "\nThe above exception was the direct cause of the following exception:\n",
      "\u001b[1;31mReadTimeoutError\u001b[0m                          Traceback (most recent call last)",
      "File \u001b[1;32m~\\anaconda3\\envs\\HydroServer\\lib\\site-packages\\requests\\adapters.py:667\u001b[0m, in \u001b[0;36mHTTPAdapter.send\u001b[1;34m(self, request, stream, timeout, verify, cert, proxies)\u001b[0m\n\u001b[0;32m    666\u001b[0m \u001b[38;5;28;01mtry\u001b[39;00m:\n\u001b[1;32m--> 667\u001b[0m     resp \u001b[38;5;241m=\u001b[39m \u001b[43mconn\u001b[49m\u001b[38;5;241;43m.\u001b[39;49m\u001b[43murlopen\u001b[49m\u001b[43m(\u001b[49m\n\u001b[0;32m    668\u001b[0m \u001b[43m        \u001b[49m\u001b[43mmethod\u001b[49m\u001b[38;5;241;43m=\u001b[39;49m\u001b[43mrequest\u001b[49m\u001b[38;5;241;43m.\u001b[39;49m\u001b[43mmethod\u001b[49m\u001b[43m,\u001b[49m\n\u001b[0;32m    669\u001b[0m \u001b[43m        \u001b[49m\u001b[43murl\u001b[49m\u001b[38;5;241;43m=\u001b[39;49m\u001b[43murl\u001b[49m\u001b[43m,\u001b[49m\n\u001b[0;32m    670\u001b[0m \u001b[43m        \u001b[49m\u001b[43mbody\u001b[49m\u001b[38;5;241;43m=\u001b[39;49m\u001b[43mrequest\u001b[49m\u001b[38;5;241;43m.\u001b[39;49m\u001b[43mbody\u001b[49m\u001b[43m,\u001b[49m\n\u001b[0;32m    671\u001b[0m \u001b[43m        \u001b[49m\u001b[43mheaders\u001b[49m\u001b[38;5;241;43m=\u001b[39;49m\u001b[43mrequest\u001b[49m\u001b[38;5;241;43m.\u001b[39;49m\u001b[43mheaders\u001b[49m\u001b[43m,\u001b[49m\n\u001b[0;32m    672\u001b[0m \u001b[43m        \u001b[49m\u001b[43mredirect\u001b[49m\u001b[38;5;241;43m=\u001b[39;49m\u001b[38;5;28;43;01mFalse\u001b[39;49;00m\u001b[43m,\u001b[49m\n\u001b[0;32m    673\u001b[0m \u001b[43m        \u001b[49m\u001b[43massert_same_host\u001b[49m\u001b[38;5;241;43m=\u001b[39;49m\u001b[38;5;28;43;01mFalse\u001b[39;49;00m\u001b[43m,\u001b[49m\n\u001b[0;32m    674\u001b[0m \u001b[43m        \u001b[49m\u001b[43mpreload_content\u001b[49m\u001b[38;5;241;43m=\u001b[39;49m\u001b[38;5;28;43;01mFalse\u001b[39;49;00m\u001b[43m,\u001b[49m\n\u001b[0;32m    675\u001b[0m \u001b[43m        \u001b[49m\u001b[43mdecode_content\u001b[49m\u001b[38;5;241;43m=\u001b[39;49m\u001b[38;5;28;43;01mFalse\u001b[39;49;00m\u001b[43m,\u001b[49m\n\u001b[0;32m    676\u001b[0m \u001b[43m        \u001b[49m\u001b[43mretries\u001b[49m\u001b[38;5;241;43m=\u001b[39;49m\u001b[38;5;28;43mself\u001b[39;49m\u001b[38;5;241;43m.\u001b[39;49m\u001b[43mmax_retries\u001b[49m\u001b[43m,\u001b[49m\n\u001b[0;32m    677\u001b[0m \u001b[43m        \u001b[49m\u001b[43mtimeout\u001b[49m\u001b[38;5;241;43m=\u001b[39;49m\u001b[43mtimeout\u001b[49m\u001b[43m,\u001b[49m\n\u001b[0;32m    678\u001b[0m \u001b[43m        \u001b[49m\u001b[43mchunked\u001b[49m\u001b[38;5;241;43m=\u001b[39;49m\u001b[43mchunked\u001b[49m\u001b[43m,\u001b[49m\n\u001b[0;32m    679\u001b[0m \u001b[43m    \u001b[49m\u001b[43m)\u001b[49m\n\u001b[0;32m    681\u001b[0m \u001b[38;5;28;01mexcept\u001b[39;00m (ProtocolError, \u001b[38;5;167;01mOSError\u001b[39;00m) \u001b[38;5;28;01mas\u001b[39;00m err:\n",
      "File \u001b[1;32m~\\anaconda3\\envs\\HydroServer\\lib\\site-packages\\urllib3\\connectionpool.py:841\u001b[0m, in \u001b[0;36mHTTPConnectionPool.urlopen\u001b[1;34m(self, method, url, body, headers, retries, redirect, assert_same_host, timeout, pool_timeout, release_conn, chunked, body_pos, preload_content, decode_content, **response_kw)\u001b[0m\n\u001b[0;32m    839\u001b[0m     new_e \u001b[38;5;241m=\u001b[39m ProtocolError(\u001b[38;5;124m\"\u001b[39m\u001b[38;5;124mConnection aborted.\u001b[39m\u001b[38;5;124m\"\u001b[39m, new_e)\n\u001b[1;32m--> 841\u001b[0m retries \u001b[38;5;241m=\u001b[39m \u001b[43mretries\u001b[49m\u001b[38;5;241;43m.\u001b[39;49m\u001b[43mincrement\u001b[49m\u001b[43m(\u001b[49m\n\u001b[0;32m    842\u001b[0m \u001b[43m    \u001b[49m\u001b[43mmethod\u001b[49m\u001b[43m,\u001b[49m\u001b[43m \u001b[49m\u001b[43murl\u001b[49m\u001b[43m,\u001b[49m\u001b[43m \u001b[49m\u001b[43merror\u001b[49m\u001b[38;5;241;43m=\u001b[39;49m\u001b[43mnew_e\u001b[49m\u001b[43m,\u001b[49m\u001b[43m \u001b[49m\u001b[43m_pool\u001b[49m\u001b[38;5;241;43m=\u001b[39;49m\u001b[38;5;28;43mself\u001b[39;49m\u001b[43m,\u001b[49m\u001b[43m \u001b[49m\u001b[43m_stacktrace\u001b[49m\u001b[38;5;241;43m=\u001b[39;49m\u001b[43msys\u001b[49m\u001b[38;5;241;43m.\u001b[39;49m\u001b[43mexc_info\u001b[49m\u001b[43m(\u001b[49m\u001b[43m)\u001b[49m\u001b[43m[\u001b[49m\u001b[38;5;241;43m2\u001b[39;49m\u001b[43m]\u001b[49m\n\u001b[0;32m    843\u001b[0m \u001b[43m\u001b[49m\u001b[43m)\u001b[49m\n\u001b[0;32m    844\u001b[0m retries\u001b[38;5;241m.\u001b[39msleep()\n",
      "File \u001b[1;32m~\\anaconda3\\envs\\HydroServer\\lib\\site-packages\\urllib3\\util\\retry.py:474\u001b[0m, in \u001b[0;36mRetry.increment\u001b[1;34m(self, method, url, response, error, _pool, _stacktrace)\u001b[0m\n\u001b[0;32m    473\u001b[0m \u001b[38;5;28;01mif\u001b[39;00m read \u001b[38;5;129;01mis\u001b[39;00m \u001b[38;5;28;01mFalse\u001b[39;00m \u001b[38;5;129;01mor\u001b[39;00m method \u001b[38;5;129;01mis\u001b[39;00m \u001b[38;5;28;01mNone\u001b[39;00m \u001b[38;5;129;01mor\u001b[39;00m \u001b[38;5;129;01mnot\u001b[39;00m \u001b[38;5;28mself\u001b[39m\u001b[38;5;241m.\u001b[39m_is_method_retryable(method):\n\u001b[1;32m--> 474\u001b[0m     \u001b[38;5;28;01mraise\u001b[39;00m \u001b[43mreraise\u001b[49m\u001b[43m(\u001b[49m\u001b[38;5;28;43mtype\u001b[39;49m\u001b[43m(\u001b[49m\u001b[43merror\u001b[49m\u001b[43m)\u001b[49m\u001b[43m,\u001b[49m\u001b[43m \u001b[49m\u001b[43merror\u001b[49m\u001b[43m,\u001b[49m\u001b[43m \u001b[49m\u001b[43m_stacktrace\u001b[49m\u001b[43m)\u001b[49m\n\u001b[0;32m    475\u001b[0m \u001b[38;5;28;01melif\u001b[39;00m read \u001b[38;5;129;01mis\u001b[39;00m \u001b[38;5;129;01mnot\u001b[39;00m \u001b[38;5;28;01mNone\u001b[39;00m:\n",
      "File \u001b[1;32m~\\anaconda3\\envs\\HydroServer\\lib\\site-packages\\urllib3\\util\\util.py:39\u001b[0m, in \u001b[0;36mreraise\u001b[1;34m(tp, value, tb)\u001b[0m\n\u001b[0;32m     38\u001b[0m         \u001b[38;5;28;01mraise\u001b[39;00m value\u001b[38;5;241m.\u001b[39mwith_traceback(tb)\n\u001b[1;32m---> 39\u001b[0m     \u001b[38;5;28;01mraise\u001b[39;00m value\n\u001b[0;32m     40\u001b[0m \u001b[38;5;28;01mfinally\u001b[39;00m:\n",
      "File \u001b[1;32m~\\anaconda3\\envs\\HydroServer\\lib\\site-packages\\urllib3\\connectionpool.py:787\u001b[0m, in \u001b[0;36mHTTPConnectionPool.urlopen\u001b[1;34m(self, method, url, body, headers, retries, redirect, assert_same_host, timeout, pool_timeout, release_conn, chunked, body_pos, preload_content, decode_content, **response_kw)\u001b[0m\n\u001b[0;32m    786\u001b[0m \u001b[38;5;66;03m# Make the request on the HTTPConnection object\u001b[39;00m\n\u001b[1;32m--> 787\u001b[0m response \u001b[38;5;241m=\u001b[39m \u001b[38;5;28mself\u001b[39m\u001b[38;5;241m.\u001b[39m_make_request(\n\u001b[0;32m    788\u001b[0m     conn,\n\u001b[0;32m    789\u001b[0m     method,\n\u001b[0;32m    790\u001b[0m     url,\n\u001b[0;32m    791\u001b[0m     timeout\u001b[38;5;241m=\u001b[39mtimeout_obj,\n\u001b[0;32m    792\u001b[0m     body\u001b[38;5;241m=\u001b[39mbody,\n\u001b[0;32m    793\u001b[0m     headers\u001b[38;5;241m=\u001b[39mheaders,\n\u001b[0;32m    794\u001b[0m     chunked\u001b[38;5;241m=\u001b[39mchunked,\n\u001b[0;32m    795\u001b[0m     retries\u001b[38;5;241m=\u001b[39mretries,\n\u001b[0;32m    796\u001b[0m     response_conn\u001b[38;5;241m=\u001b[39mresponse_conn,\n\u001b[0;32m    797\u001b[0m     preload_content\u001b[38;5;241m=\u001b[39mpreload_content,\n\u001b[0;32m    798\u001b[0m     decode_content\u001b[38;5;241m=\u001b[39mdecode_content,\n\u001b[0;32m    799\u001b[0m     \u001b[38;5;241m*\u001b[39m\u001b[38;5;241m*\u001b[39mresponse_kw,\n\u001b[0;32m    800\u001b[0m )\n\u001b[0;32m    802\u001b[0m \u001b[38;5;66;03m# Everything went great!\u001b[39;00m\n",
      "File \u001b[1;32m~\\anaconda3\\envs\\HydroServer\\lib\\site-packages\\urllib3\\connectionpool.py:488\u001b[0m, in \u001b[0;36mHTTPConnectionPool._make_request\u001b[1;34m(self, conn, method, url, body, headers, retries, timeout, chunked, response_conn, preload_content, decode_content, enforce_content_length)\u001b[0m\n\u001b[0;32m    487\u001b[0m         new_e \u001b[38;5;241m=\u001b[39m _wrap_proxy_error(new_e, conn\u001b[38;5;241m.\u001b[39mproxy\u001b[38;5;241m.\u001b[39mscheme)\n\u001b[1;32m--> 488\u001b[0m     \u001b[38;5;28;01mraise\u001b[39;00m new_e\n\u001b[0;32m    490\u001b[0m \u001b[38;5;66;03m# conn.request() calls http.client.*.request, not the method in\u001b[39;00m\n\u001b[0;32m    491\u001b[0m \u001b[38;5;66;03m# urllib3.request. It also calls makefile (recv) on the socket.\u001b[39;00m\n",
      "File \u001b[1;32m~\\anaconda3\\envs\\HydroServer\\lib\\site-packages\\urllib3\\connectionpool.py:466\u001b[0m, in \u001b[0;36mHTTPConnectionPool._make_request\u001b[1;34m(self, conn, method, url, body, headers, retries, timeout, chunked, response_conn, preload_content, decode_content, enforce_content_length)\u001b[0m\n\u001b[0;32m    465\u001b[0m \u001b[38;5;28;01mexcept\u001b[39;00m (SocketTimeout, BaseSSLError) \u001b[38;5;28;01mas\u001b[39;00m e:\n\u001b[1;32m--> 466\u001b[0m     \u001b[38;5;28;43mself\u001b[39;49m\u001b[38;5;241;43m.\u001b[39;49m\u001b[43m_raise_timeout\u001b[49m\u001b[43m(\u001b[49m\u001b[43merr\u001b[49m\u001b[38;5;241;43m=\u001b[39;49m\u001b[43me\u001b[49m\u001b[43m,\u001b[49m\u001b[43m \u001b[49m\u001b[43murl\u001b[49m\u001b[38;5;241;43m=\u001b[39;49m\u001b[43murl\u001b[49m\u001b[43m,\u001b[49m\u001b[43m \u001b[49m\u001b[43mtimeout_value\u001b[49m\u001b[38;5;241;43m=\u001b[39;49m\u001b[43mconn\u001b[49m\u001b[38;5;241;43m.\u001b[39;49m\u001b[43mtimeout\u001b[49m\u001b[43m)\u001b[49m\n\u001b[0;32m    467\u001b[0m     \u001b[38;5;28;01mraise\u001b[39;00m\n",
      "File \u001b[1;32m~\\anaconda3\\envs\\HydroServer\\lib\\site-packages\\urllib3\\connectionpool.py:367\u001b[0m, in \u001b[0;36mHTTPConnectionPool._raise_timeout\u001b[1;34m(self, err, url, timeout_value)\u001b[0m\n\u001b[0;32m    366\u001b[0m \u001b[38;5;28;01mif\u001b[39;00m \u001b[38;5;28misinstance\u001b[39m(err, SocketTimeout):\n\u001b[1;32m--> 367\u001b[0m     \u001b[38;5;28;01mraise\u001b[39;00m ReadTimeoutError(\n\u001b[0;32m    368\u001b[0m         \u001b[38;5;28mself\u001b[39m, url, \u001b[38;5;124mf\u001b[39m\u001b[38;5;124m\"\u001b[39m\u001b[38;5;124mRead timed out. (read timeout=\u001b[39m\u001b[38;5;132;01m{\u001b[39;00mtimeout_value\u001b[38;5;132;01m}\u001b[39;00m\u001b[38;5;124m)\u001b[39m\u001b[38;5;124m\"\u001b[39m\n\u001b[0;32m    369\u001b[0m     ) \u001b[38;5;28;01mfrom\u001b[39;00m\u001b[38;5;250m \u001b[39m\u001b[38;5;21;01merr\u001b[39;00m\n\u001b[0;32m    371\u001b[0m \u001b[38;5;66;03m# See the above comment about EAGAIN in Python 3.\u001b[39;00m\n",
      "\u001b[1;31mReadTimeoutError\u001b[0m: HTTPSConnectionPool(host='playground.hydroserver.org', port=443): Read timed out. (read timeout=60)",
      "\nDuring handling of the above exception, another exception occurred:\n",
      "\u001b[1;31mReadTimeout\u001b[0m                               Traceback (most recent call last)",
      "Cell \u001b[1;32mIn[34], line 3\u001b[0m\n\u001b[0;32m      1\u001b[0m row \u001b[38;5;241m=\u001b[39m stations_df2\u001b[38;5;241m.\u001b[39miloc[\u001b[38;5;241m0\u001b[39m]\n\u001b[1;32m----> 3\u001b[0m new_thing \u001b[38;5;241m=\u001b[39m \u001b[43mhs_api\u001b[49m\u001b[38;5;241;43m.\u001b[39;49m\u001b[43mthings\u001b[49m\u001b[38;5;241;43m.\u001b[39;49m\u001b[43mcreate\u001b[49m\u001b[43m(\u001b[49m\n\u001b[0;32m      4\u001b[0m \u001b[43m    \u001b[49m\u001b[43mname\u001b[49m\u001b[38;5;241;43m=\u001b[39;49m\u001b[43mrow\u001b[49m\u001b[43m[\u001b[49m\u001b[38;5;124;43m'\u001b[39;49m\u001b[38;5;124;43mname\u001b[39;49m\u001b[38;5;124;43m'\u001b[39;49m\u001b[43m]\u001b[49m\u001b[43m,\u001b[49m\n\u001b[0;32m      5\u001b[0m \u001b[43m    \u001b[49m\u001b[43mdescription\u001b[49m\u001b[38;5;241;43m=\u001b[39;49m\u001b[43mrow\u001b[49m\u001b[43m[\u001b[49m\u001b[38;5;124;43m'\u001b[39;49m\u001b[38;5;124;43mdescription\u001b[39;49m\u001b[38;5;124;43m'\u001b[39;49m\u001b[43m]\u001b[49m\u001b[43m,\u001b[49m\n\u001b[0;32m      6\u001b[0m \u001b[43m    \u001b[49m\u001b[43msampling_feature_type\u001b[49m\u001b[38;5;241;43m=\u001b[39;49m\u001b[38;5;28;43mstr\u001b[39;49m\u001b[43m(\u001b[49m\u001b[43mrow\u001b[49m\u001b[43m[\u001b[49m\u001b[38;5;124;43m'\u001b[39;49m\u001b[38;5;124;43msamplingFeatureType\u001b[39;49m\u001b[38;5;124;43m'\u001b[39;49m\u001b[43m]\u001b[49m\u001b[43m)\u001b[49m\u001b[43m,\u001b[49m\n\u001b[0;32m      7\u001b[0m \u001b[43m    \u001b[49m\u001b[43msampling_feature_code\u001b[49m\u001b[38;5;241;43m=\u001b[39;49m\u001b[38;5;28;43mstr\u001b[39;49m\u001b[43m(\u001b[49m\u001b[43mrow\u001b[49m\u001b[43m[\u001b[49m\u001b[38;5;124;43m'\u001b[39;49m\u001b[38;5;124;43msamplingFeatureCode\u001b[39;49m\u001b[38;5;124;43m'\u001b[39;49m\u001b[43m]\u001b[49m\u001b[43m)\u001b[49m\u001b[43m,\u001b[49m\n\u001b[0;32m      8\u001b[0m \u001b[43m    \u001b[49m\u001b[43msite_type\u001b[49m\u001b[38;5;241;43m=\u001b[39;49m\u001b[43mrow\u001b[49m\u001b[43m[\u001b[49m\u001b[38;5;124;43m'\u001b[39;49m\u001b[38;5;124;43msiteType\u001b[39;49m\u001b[38;5;124;43m'\u001b[39;49m\u001b[43m]\u001b[49m\u001b[43m,\u001b[49m\n\u001b[0;32m      9\u001b[0m \u001b[43m    \u001b[49m\u001b[43mlatitude\u001b[49m\u001b[38;5;241;43m=\u001b[39;49m\u001b[38;5;28;43mstr\u001b[39;49m\u001b[43m(\u001b[49m\u001b[43mrow\u001b[49m\u001b[43m[\u001b[49m\u001b[38;5;124;43m'\u001b[39;49m\u001b[38;5;124;43mlatitude\u001b[39;49m\u001b[38;5;124;43m'\u001b[39;49m\u001b[43m]\u001b[49m\u001b[43m)\u001b[49m\u001b[43m,\u001b[49m\n\u001b[0;32m     10\u001b[0m \u001b[43m    \u001b[49m\u001b[43mlongitude\u001b[49m\u001b[38;5;241;43m=\u001b[39;49m\u001b[38;5;28;43mstr\u001b[39;49m\u001b[43m(\u001b[49m\u001b[43mrow\u001b[49m\u001b[43m[\u001b[49m\u001b[38;5;124;43m'\u001b[39;49m\u001b[38;5;124;43mlongitude\u001b[39;49m\u001b[38;5;124;43m'\u001b[39;49m\u001b[43m]\u001b[49m\u001b[43m)\u001b[49m\u001b[43m,\u001b[49m\n\u001b[0;32m     11\u001b[0m \u001b[43m    \u001b[49m\u001b[43melevation_m\u001b[49m\u001b[38;5;241;43m=\u001b[39;49m\u001b[38;5;28;43mstr\u001b[39;49m\u001b[43m(\u001b[49m\u001b[43mrow\u001b[49m\u001b[43m[\u001b[49m\u001b[38;5;124;43m'\u001b[39;49m\u001b[38;5;124;43melevation_m\u001b[39;49m\u001b[38;5;124;43m'\u001b[39;49m\u001b[43m]\u001b[49m\u001b[43m)\u001b[49m\u001b[43m,\u001b[49m\n\u001b[0;32m     12\u001b[0m \u001b[43m    \u001b[49m\u001b[43melevation_datum\u001b[49m\u001b[38;5;241;43m=\u001b[39;49m\u001b[38;5;124;43m'\u001b[39;49m\u001b[38;5;124;43mEGM96\u001b[39;49m\u001b[38;5;124;43m'\u001b[39;49m\u001b[43m,\u001b[49m\n\u001b[0;32m     13\u001b[0m \u001b[43m    \u001b[49m\u001b[43mstate\u001b[49m\u001b[38;5;241;43m=\u001b[39;49m\u001b[43mrow\u001b[49m\u001b[43m[\u001b[49m\u001b[38;5;124;43m'\u001b[39;49m\u001b[38;5;124;43mstate\u001b[39;49m\u001b[38;5;124;43m'\u001b[39;49m\u001b[43m]\u001b[49m\u001b[43m,\u001b[49m\n\u001b[0;32m     14\u001b[0m \u001b[43m    \u001b[49m\u001b[43mcounty\u001b[49m\u001b[38;5;241;43m=\u001b[39;49m\u001b[43mrow\u001b[49m\u001b[43m[\u001b[49m\u001b[38;5;124;43m'\u001b[39;49m\u001b[38;5;124;43mcounty\u001b[39;49m\u001b[38;5;124;43m'\u001b[39;49m\u001b[43m]\u001b[49m\u001b[43m,\u001b[49m\n\u001b[0;32m     15\u001b[0m \u001b[43m    \u001b[49m\u001b[38;5;66;43;03m# country=row['country'],  # décommentez si la colonne existe\u001b[39;49;00m\n\u001b[0;32m     16\u001b[0m \u001b[43m    \u001b[49m\u001b[43mdata_disclaimer\u001b[49m\u001b[38;5;241;43m=\u001b[39;49m\u001b[43mrow\u001b[49m\u001b[43m[\u001b[49m\u001b[38;5;124;43m'\u001b[39;49m\u001b[38;5;124;43mdataDisclaimer\u001b[39;49m\u001b[38;5;124;43m'\u001b[39;49m\u001b[43m]\u001b[49m\u001b[43m,\u001b[49m\n\u001b[0;32m     17\u001b[0m \u001b[43m    \u001b[49m\u001b[43mworkspace\u001b[49m\u001b[38;5;241;43m=\u001b[39;49m\u001b[43mworkspace_uid\u001b[49m\u001b[43m,\u001b[49m\n\u001b[0;32m     18\u001b[0m \u001b[43m    \u001b[49m\u001b[43mis_private\u001b[49m\u001b[38;5;241;43m=\u001b[39;49m\u001b[38;5;28;43;01mTrue\u001b[39;49;00m\n\u001b[0;32m     19\u001b[0m \u001b[43m)\u001b[49m\n",
      "File \u001b[1;32m~\\anaconda3\\envs\\HydroServer\\lib\\site-packages\\hydroserverpy\\api\\services\\sta\\thing.py:97\u001b[0m, in \u001b[0;36mThingService.create\u001b[1;34m(self, workspace, name, description, sampling_feature_type, sampling_feature_code, site_type, is_private, latitude, longitude, elevation_m, elevation_datum, state, county, country, data_disclaimer)\u001b[0m\n\u001b[0;32m     77\u001b[0m \u001b[38;5;250m\u001b[39m\u001b[38;5;124;03m\"\"\"Create a new thing.\"\"\"\u001b[39;00m\n\u001b[0;32m     79\u001b[0m kwargs \u001b[38;5;241m=\u001b[39m {\n\u001b[0;32m     80\u001b[0m     \u001b[38;5;124m\"\u001b[39m\u001b[38;5;124mname\u001b[39m\u001b[38;5;124m\"\u001b[39m: name,\n\u001b[0;32m     81\u001b[0m     \u001b[38;5;124m\"\u001b[39m\u001b[38;5;124mdescription\u001b[39m\u001b[38;5;124m\"\u001b[39m: description,\n\u001b[1;32m   (...)\u001b[0m\n\u001b[0;32m     94\u001b[0m     \u001b[38;5;124m\"\u001b[39m\u001b[38;5;124mworkspaceId\u001b[39m\u001b[38;5;124m\"\u001b[39m: \u001b[38;5;28mstr\u001b[39m(\u001b[38;5;28mgetattr\u001b[39m(workspace, \u001b[38;5;124m\"\u001b[39m\u001b[38;5;124muid\u001b[39m\u001b[38;5;124m\"\u001b[39m, workspace)),\n\u001b[0;32m     95\u001b[0m }\n\u001b[1;32m---> 97\u001b[0m \u001b[38;5;28;01mreturn\u001b[39;00m \u001b[38;5;28msuper\u001b[39m()\u001b[38;5;241m.\u001b[39m_create(\u001b[38;5;241m*\u001b[39m\u001b[38;5;241m*\u001b[39mkwargs)\n",
      "File \u001b[1;32m~\\anaconda3\\envs\\HydroServer\\lib\\site-packages\\hydroserverpy\\api\\services\\base.py:41\u001b[0m, in \u001b[0;36mEndpointService._create\u001b[1;34m(self, **kwargs)\u001b[0m\n\u001b[0;32m     39\u001b[0m path \u001b[38;5;241m=\u001b[39m \u001b[38;5;124mf\u001b[39m\u001b[38;5;124m\"\u001b[39m\u001b[38;5;124m/\u001b[39m\u001b[38;5;132;01m{\u001b[39;00m\u001b[38;5;28mself\u001b[39m\u001b[38;5;241m.\u001b[39m_api_route\u001b[38;5;132;01m}\u001b[39;00m\u001b[38;5;124m/\u001b[39m\u001b[38;5;132;01m{\u001b[39;00m\u001b[38;5;28mself\u001b[39m\u001b[38;5;241m.\u001b[39m_endpoint_route\u001b[38;5;132;01m}\u001b[39;00m\u001b[38;5;124m\"\u001b[39m\n\u001b[0;32m     40\u001b[0m headers \u001b[38;5;241m=\u001b[39m {\u001b[38;5;124m\"\u001b[39m\u001b[38;5;124mContent-type\u001b[39m\u001b[38;5;124m\"\u001b[39m: \u001b[38;5;124m\"\u001b[39m\u001b[38;5;124mapplication/json\u001b[39m\u001b[38;5;124m\"\u001b[39m}\n\u001b[1;32m---> 41\u001b[0m response \u001b[38;5;241m=\u001b[39m \u001b[38;5;28;43mself\u001b[39;49m\u001b[38;5;241;43m.\u001b[39;49m\u001b[43m_connection\u001b[49m\u001b[38;5;241;43m.\u001b[39;49m\u001b[43mrequest\u001b[49m\u001b[43m(\u001b[49m\n\u001b[0;32m     42\u001b[0m \u001b[43m    \u001b[49m\u001b[38;5;124;43m\"\u001b[39;49m\u001b[38;5;124;43mpost\u001b[39;49m\u001b[38;5;124;43m\"\u001b[39;49m\u001b[43m,\u001b[49m\u001b[43m \u001b[49m\u001b[43mpath\u001b[49m\u001b[43m,\u001b[49m\u001b[43m \u001b[49m\u001b[43mheaders\u001b[49m\u001b[38;5;241;43m=\u001b[39;49m\u001b[43mheaders\u001b[49m\u001b[43m,\u001b[49m\u001b[43m \u001b[49m\u001b[43mjson\u001b[49m\u001b[38;5;241;43m=\u001b[39;49m\u001b[38;5;28;43mself\u001b[39;49m\u001b[38;5;241;43m.\u001b[39;49m\u001b[43m_to_iso_time\u001b[49m\u001b[43m(\u001b[49m\u001b[43mkwargs\u001b[49m\u001b[43m)\u001b[49m\n\u001b[0;32m     43\u001b[0m \u001b[43m\u001b[49m\u001b[43m)\u001b[49m\u001b[38;5;241m.\u001b[39mjson()\n\u001b[0;32m     45\u001b[0m \u001b[38;5;28;01mreturn\u001b[39;00m \u001b[38;5;28mself\u001b[39m\u001b[38;5;241m.\u001b[39m_model(\n\u001b[0;32m     46\u001b[0m     _connection\u001b[38;5;241m=\u001b[39m\u001b[38;5;28mself\u001b[39m\u001b[38;5;241m.\u001b[39m_connection, _uid\u001b[38;5;241m=\u001b[39mUUID(\u001b[38;5;28mstr\u001b[39m(response\u001b[38;5;241m.\u001b[39mpop(\u001b[38;5;124m\"\u001b[39m\u001b[38;5;124mid\u001b[39m\u001b[38;5;124m\"\u001b[39m))), \u001b[38;5;241m*\u001b[39m\u001b[38;5;241m*\u001b[39mresponse\n\u001b[0;32m     47\u001b[0m )\n",
      "File \u001b[1;32m~\\anaconda3\\envs\\HydroServer\\lib\\site-packages\\hydroserverpy\\api\\main.py:102\u001b[0m, in \u001b[0;36mHydroServer.request\u001b[1;34m(self, method, path, *args, **kwargs)\u001b[0m\n\u001b[0;32m     97\u001b[0m \u001b[38;5;28;01mexcept\u001b[39;00m (\n\u001b[0;32m     98\u001b[0m     requests\u001b[38;5;241m.\u001b[39mexceptions\u001b[38;5;241m.\u001b[39mHTTPError,\n\u001b[0;32m     99\u001b[0m     requests\u001b[38;5;241m.\u001b[39mexceptions\u001b[38;5;241m.\u001b[39mConnectionError,\n\u001b[0;32m    100\u001b[0m ) \u001b[38;5;28;01mas\u001b[39;00m e:\n\u001b[0;32m    101\u001b[0m     \u001b[38;5;28;01mif\u001b[39;00m attempt \u001b[38;5;241m==\u001b[39m \u001b[38;5;241m0\u001b[39m:\n\u001b[1;32m--> 102\u001b[0m         \u001b[38;5;28;43mself\u001b[39;49m\u001b[38;5;241;43m.\u001b[39;49m\u001b[43m_init_session\u001b[49m\u001b[43m(\u001b[49m\u001b[43m)\u001b[49m\n\u001b[0;32m    103\u001b[0m         \u001b[38;5;28;01mcontinue\u001b[39;00m\n\u001b[0;32m    104\u001b[0m     \u001b[38;5;28;01melse\u001b[39;00m:\n",
      "File \u001b[1;32m~\\anaconda3\\envs\\HydroServer\\lib\\site-packages\\hydroserverpy\\api\\main.py:57\u001b[0m, in \u001b[0;36mHydroServer._init_session\u001b[1;34m(self, auth)\u001b[0m\n\u001b[0;32m     55\u001b[0m \u001b[38;5;28;01mdef\u001b[39;00m\u001b[38;5;250m \u001b[39m\u001b[38;5;21m_init_session\u001b[39m(\u001b[38;5;28mself\u001b[39m, auth: Optional[Tuple[\u001b[38;5;28mstr\u001b[39m, \u001b[38;5;28mstr\u001b[39m]] \u001b[38;5;241m=\u001b[39m \u001b[38;5;28;01mNone\u001b[39;00m) \u001b[38;5;241m-\u001b[39m\u001b[38;5;241m>\u001b[39m \u001b[38;5;28;01mNone\u001b[39;00m:\n\u001b[0;32m     56\u001b[0m     \u001b[38;5;28;01mif\u001b[39;00m \u001b[38;5;28mself\u001b[39m\u001b[38;5;241m.\u001b[39m_session \u001b[38;5;129;01mis\u001b[39;00m \u001b[38;5;129;01mnot\u001b[39;00m \u001b[38;5;28;01mNone\u001b[39;00m:\n\u001b[1;32m---> 57\u001b[0m         \u001b[38;5;28;43mself\u001b[39;49m\u001b[38;5;241;43m.\u001b[39;49m\u001b[43mlogout\u001b[49m\u001b[43m(\u001b[49m\u001b[43m)\u001b[49m\n\u001b[0;32m     58\u001b[0m         \u001b[38;5;28mself\u001b[39m\u001b[38;5;241m.\u001b[39m_session\u001b[38;5;241m.\u001b[39mclose()\n\u001b[0;32m     60\u001b[0m     \u001b[38;5;28mself\u001b[39m\u001b[38;5;241m.\u001b[39m_session \u001b[38;5;241m=\u001b[39m requests\u001b[38;5;241m.\u001b[39mSession()\n",
      "File \u001b[1;32m~\\anaconda3\\envs\\HydroServer\\lib\\site-packages\\hydroserverpy\\api\\main.py:53\u001b[0m, in \u001b[0;36mHydroServer.logout\u001b[1;34m(self)\u001b[0m\n\u001b[0;32m     50\u001b[0m \u001b[38;5;28;01mdef\u001b[39;00m\u001b[38;5;250m \u001b[39m\u001b[38;5;21mlogout\u001b[39m(\u001b[38;5;28mself\u001b[39m) \u001b[38;5;241m-\u001b[39m\u001b[38;5;241m>\u001b[39m \u001b[38;5;28;01mNone\u001b[39;00m:\n\u001b[0;32m     51\u001b[0m \u001b[38;5;250m    \u001b[39m\u001b[38;5;124;03m\"\"\"End your HydroServer session.\"\"\"\u001b[39;00m\n\u001b[1;32m---> 53\u001b[0m     \u001b[38;5;28;43mself\u001b[39;49m\u001b[38;5;241;43m.\u001b[39;49m\u001b[43m_session\u001b[49m\u001b[38;5;241;43m.\u001b[39;49m\u001b[43mdelete\u001b[49m\u001b[43m(\u001b[49m\u001b[38;5;28;43mself\u001b[39;49m\u001b[38;5;241;43m.\u001b[39;49m\u001b[43m_auth_url\u001b[49m\u001b[43m,\u001b[49m\u001b[43m \u001b[49m\u001b[43mtimeout\u001b[49m\u001b[38;5;241;43m=\u001b[39;49m\u001b[38;5;28;43mself\u001b[39;49m\u001b[38;5;241;43m.\u001b[39;49m\u001b[43m_timeout\u001b[49m\u001b[43m)\u001b[49m\n",
      "File \u001b[1;32m~\\anaconda3\\envs\\HydroServer\\lib\\site-packages\\requests\\sessions.py:671\u001b[0m, in \u001b[0;36mSession.delete\u001b[1;34m(self, url, **kwargs)\u001b[0m\n\u001b[0;32m    663\u001b[0m \u001b[38;5;28;01mdef\u001b[39;00m\u001b[38;5;250m \u001b[39m\u001b[38;5;21mdelete\u001b[39m(\u001b[38;5;28mself\u001b[39m, url, \u001b[38;5;241m*\u001b[39m\u001b[38;5;241m*\u001b[39mkwargs):\n\u001b[0;32m    664\u001b[0m \u001b[38;5;250m    \u001b[39m\u001b[38;5;124mr\u001b[39m\u001b[38;5;124;03m\"\"\"Sends a DELETE request. Returns :class:`Response` object.\u001b[39;00m\n\u001b[0;32m    665\u001b[0m \n\u001b[0;32m    666\u001b[0m \u001b[38;5;124;03m    :param url: URL for the new :class:`Request` object.\u001b[39;00m\n\u001b[0;32m    667\u001b[0m \u001b[38;5;124;03m    :param \\*\\*kwargs: Optional arguments that ``request`` takes.\u001b[39;00m\n\u001b[0;32m    668\u001b[0m \u001b[38;5;124;03m    :rtype: requests.Response\u001b[39;00m\n\u001b[0;32m    669\u001b[0m \u001b[38;5;124;03m    \"\"\"\u001b[39;00m\n\u001b[1;32m--> 671\u001b[0m     \u001b[38;5;28;01mreturn\u001b[39;00m \u001b[38;5;28mself\u001b[39m\u001b[38;5;241m.\u001b[39mrequest(\u001b[38;5;124m\"\u001b[39m\u001b[38;5;124mDELETE\u001b[39m\u001b[38;5;124m\"\u001b[39m, url, \u001b[38;5;241m*\u001b[39m\u001b[38;5;241m*\u001b[39mkwargs)\n",
      "File \u001b[1;32m~\\anaconda3\\envs\\HydroServer\\lib\\site-packages\\requests\\sessions.py:589\u001b[0m, in \u001b[0;36mSession.request\u001b[1;34m(self, method, url, params, data, headers, cookies, files, auth, timeout, allow_redirects, proxies, hooks, stream, verify, cert, json)\u001b[0m\n\u001b[0;32m    584\u001b[0m send_kwargs \u001b[38;5;241m=\u001b[39m {\n\u001b[0;32m    585\u001b[0m     \u001b[38;5;124m\"\u001b[39m\u001b[38;5;124mtimeout\u001b[39m\u001b[38;5;124m\"\u001b[39m: timeout,\n\u001b[0;32m    586\u001b[0m     \u001b[38;5;124m\"\u001b[39m\u001b[38;5;124mallow_redirects\u001b[39m\u001b[38;5;124m\"\u001b[39m: allow_redirects,\n\u001b[0;32m    587\u001b[0m }\n\u001b[0;32m    588\u001b[0m send_kwargs\u001b[38;5;241m.\u001b[39mupdate(settings)\n\u001b[1;32m--> 589\u001b[0m resp \u001b[38;5;241m=\u001b[39m \u001b[38;5;28mself\u001b[39m\u001b[38;5;241m.\u001b[39msend(prep, \u001b[38;5;241m*\u001b[39m\u001b[38;5;241m*\u001b[39msend_kwargs)\n\u001b[0;32m    591\u001b[0m \u001b[38;5;28;01mreturn\u001b[39;00m resp\n",
      "File \u001b[1;32m~\\anaconda3\\envs\\HydroServer\\lib\\site-packages\\requests\\sessions.py:703\u001b[0m, in \u001b[0;36mSession.send\u001b[1;34m(self, request, **kwargs)\u001b[0m\n\u001b[0;32m    700\u001b[0m start \u001b[38;5;241m=\u001b[39m preferred_clock()\n\u001b[0;32m    702\u001b[0m \u001b[38;5;66;03m# Send the request\u001b[39;00m\n\u001b[1;32m--> 703\u001b[0m r \u001b[38;5;241m=\u001b[39m adapter\u001b[38;5;241m.\u001b[39msend(request, \u001b[38;5;241m*\u001b[39m\u001b[38;5;241m*\u001b[39mkwargs)\n\u001b[0;32m    705\u001b[0m \u001b[38;5;66;03m# Total elapsed time of the request (approximately)\u001b[39;00m\n\u001b[0;32m    706\u001b[0m elapsed \u001b[38;5;241m=\u001b[39m preferred_clock() \u001b[38;5;241m-\u001b[39m start\n",
      "File \u001b[1;32m~\\anaconda3\\envs\\HydroServer\\lib\\site-packages\\requests\\adapters.py:713\u001b[0m, in \u001b[0;36mHTTPAdapter.send\u001b[1;34m(self, request, stream, timeout, verify, cert, proxies)\u001b[0m\n\u001b[0;32m    711\u001b[0m     \u001b[38;5;28;01mraise\u001b[39;00m SSLError(e, request\u001b[38;5;241m=\u001b[39mrequest)\n\u001b[0;32m    712\u001b[0m \u001b[38;5;28;01melif\u001b[39;00m \u001b[38;5;28misinstance\u001b[39m(e, ReadTimeoutError):\n\u001b[1;32m--> 713\u001b[0m     \u001b[38;5;28;01mraise\u001b[39;00m ReadTimeout(e, request\u001b[38;5;241m=\u001b[39mrequest)\n\u001b[0;32m    714\u001b[0m \u001b[38;5;28;01melif\u001b[39;00m \u001b[38;5;28misinstance\u001b[39m(e, _InvalidHeader):\n\u001b[0;32m    715\u001b[0m     \u001b[38;5;28;01mraise\u001b[39;00m InvalidHeader(e, request\u001b[38;5;241m=\u001b[39mrequest)\n",
      "\u001b[1;31mReadTimeout\u001b[0m: HTTPSConnectionPool(host='playground.hydroserver.org', port=443): Read timed out. (read timeout=60)"
     ]
    }
   ],
   "source": [
    "row = stations_df2.iloc[0]\n",
    "\n",
    "new_thing = hs_api.things.create(\n",
    "    name=row['name'],\n",
    "    description=row['description'],\n",
    "    sampling_feature_type=str(row['samplingFeatureType']),\n",
    "    sampling_feature_code=str(row['samplingFeatureCode']),\n",
    "    site_type=row['siteType'],\n",
    "    latitude=str(row['latitude']),\n",
    "    longitude=str(row['longitude']),\n",
    "    elevation_m=str(row['elevation_m']),\n",
    "    elevation_datum='EGM96',\n",
    "    state=row['state'],\n",
    "    county=row['county'],\n",
    "    # country=row['country'],  # décommentez si la colonne existe\n",
    "    data_disclaimer=row['dataDisclaimer'],\n",
    "    workspace=workspace_uid,\n",
    "    is_private=True\n",
    ")\n"
   ]
  },
  {
   "cell_type": "markdown",
   "id": "b69e7b16-cad8-4bb2-a9b5-9003777f4057",
   "metadata": {},
   "source": [
    "## Création automatique des stations"
   ]
  },
  {
   "cell_type": "code",
   "execution_count": 12,
   "id": "231f0e1b-f612-427a-8898-fbf128f1f932",
   "metadata": {},
   "outputs": [
    {
     "name": "stdout",
     "output_type": "stream",
     "text": [
      "Uploading station 2/30: Station 2\n",
      "Uploading station 3/30: Station 3\n",
      "Uploading station 4/30: Station 4\n",
      "Uploading station 5/30: Station 5\n"
     ]
    }
   ],
   "source": [
    "uploaded_stations = []\n",
    "for i, row in stations_df.iloc[1:5,].iterrows():\n",
    "    print(f\"Uploading station {i+1}/{len(stations_df)}: {row['name']}\")\n",
    "    new_thing = hs_api.things.create(\n",
    "        name=row['name'],\n",
    "        description=row['description'],\n",
    "        sampling_feature_type=str(row['samplingFeatureType']),\n",
    "        sampling_feature_code=str(row['samplingFeatureCode']),\n",
    "        site_type=row['siteType'],\n",
    "        latitude=str(row['latitude']),\n",
    "        longitude=str(row['longitude']),\n",
    "        elevation_m=str(row['elevation_m']),\n",
    "        elevation_datum='EGM96',\n",
    "        state=row['state'],\n",
    "        county=row['county'],\n",
    "        #country=row['country'],\n",
    "        data_disclaimer=row['dataDisclaimer'],\n",
    "        workspace=workspace_uid,\n",
    "        is_private=True\n",
    "    )\n",
    "    uploaded_stations.append(new_thing)\n"
   ]
  },
  {
   "cell_type": "markdown",
   "id": "37626c57-83ec-4024-b090-da54f3b59164",
   "metadata": {},
   "source": [
    "## Lecture des données "
   ]
  },
  {
   "cell_type": "code",
   "execution_count": 52,
   "id": "a141e1f6-d802-4a62-85c5-4299af3d6843",
   "metadata": {},
   "outputs": [
    {
     "data": {
      "text/plain": [
       "100"
      ]
     },
     "execution_count": 52,
     "metadata": {},
     "output_type": "execute_result"
    }
   ],
   "source": [
    "## Récupérer la liste des stations \n",
    "all_things = hs_api.things.list()\n",
    "len(all_things)"
   ]
  },
  {
   "cell_type": "code",
   "execution_count": 53,
   "id": "a7e4a8f7-a3aa-48c9-ad3c-99fcc5e6d63e",
   "metadata": {},
   "outputs": [
    {
     "data": {
      "text/plain": [
       "24"
      ]
     },
     "execution_count": 53,
     "metadata": {},
     "output_type": "execute_result"
    }
   ],
   "source": [
    "## Récupérer la liste des stations pour un projet donné\n",
    "things = hs_api.things.list(workspace_uid)\n",
    "len(things)"
   ]
  },
  {
   "cell_type": "code",
   "execution_count": 45,
   "id": "dd93d30a-2331-4463-9aab-bc5fe4df193c",
   "metadata": {},
   "outputs": [
    {
     "name": "stdout",
     "output_type": "stream",
     "text": [
      "[Thing(latitude=12.5, longitude=-2.25, elevation_m=300.0, elevation_datum='EGM96', state='Région Test', county='Département 1', country=None, name='Station 26', description=\"Station de mesure numéro 26 sur un cours d'eau.\", sampling_feature_type='Site', sampling_feature_code='CDE026', site_type='Stream', tags={}, photos={}, data_disclaimer='Ces données sont fournies à des fins de test uniquement.', is_private=True, uid=UUID('01973fc6-0aa5-71cb-8b3d-c6f781e89131')), Thing(latitude=12.6, longitude=-2.3, elevation_m=305.0, elevation_datum='EGM96', state='Région Test', county='Département 2', country=None, name='Station 27', description=\"Station de mesure numéro 27 sur un cours d'eau.\", sampling_feature_type='Site', sampling_feature_code='CDE027', site_type='Stream', tags={}, photos={}, data_disclaimer='Ces données sont fournies à des fins de test uniquement.', is_private=True, uid=UUID('01973fc6-0e10-713a-9eb3-19d4f6bb051c')), Thing(latitude=12.7, longitude=-2.35, elevation_m=310.0, elevation_datum='EGM96', state='Région Test', county='Département 3', country=None, name='Station 28', description=\"Station de mesure numéro 28 sur un cours d'eau.\", sampling_feature_type='Site', sampling_feature_code='CDE028', site_type='Stream', tags={}, photos={}, data_disclaimer='Ces données sont fournies à des fins de test uniquement.', is_private=True, uid=UUID('01973fc6-1186-7e50-9707-acdc575e7ea5')), Thing(latitude=12.8, longitude=-2.4, elevation_m=315.0, elevation_datum='EGM96', state='Région Test', county='Département 4', country=None, name='Station 29', description=\"Station de mesure numéro 29 sur un cours d'eau.\", sampling_feature_type='Site', sampling_feature_code='CDE029', site_type='Stream', tags={}, photos={}, data_disclaimer='Ces données sont fournies à des fins de test uniquement.', is_private=True, uid=UUID('01973fc6-14f1-78c4-8e26-76ca70e6be4f')), Thing(latitude=12.9, longitude=-2.45, elevation_m=320.0, elevation_datum='EGM96', state='Région Test', county='Département 5', country=None, name='Station 30', description=\"Station de mesure numéro 30 sur un cours d'eau.\", sampling_feature_type='Site', sampling_feature_code='CDE030', site_type='Stream', tags={}, photos={}, data_disclaimer='Ces données sont fournies à des fins de test uniquement.', is_private=True, uid=UUID('01973fc6-1866-7f46-8b71-5ec9190d80e3'))]\n"
     ]
    }
   ],
   "source": [
    "print(things[-5:])"
   ]
  },
  {
   "cell_type": "code",
   "execution_count": 75,
   "id": "ba4529bb-2efe-4192-8978-7bc7d452c0de",
   "metadata": {},
   "outputs": [
    {
     "data": {
      "text/plain": [
       "\u001b[1;31mSignature:\u001b[0m\n",
       "\u001b[0mhs_api\u001b[0m\u001b[1;33m.\u001b[0m\u001b[0mthings\u001b[0m\u001b[1;33m.\u001b[0m\u001b[0mlist\u001b[0m\u001b[1;33m(\u001b[0m\u001b[1;33m\n",
       "\u001b[0m    \u001b[0mworkspace\u001b[0m\u001b[1;33m:\u001b[0m \u001b[0mUnion\u001b[0m\u001b[1;33m[\u001b[0m\u001b[0mForwardRef\u001b[0m\u001b[1;33m(\u001b[0m\u001b[1;34m'Workspace'\u001b[0m\u001b[1;33m)\u001b[0m\u001b[1;33m,\u001b[0m \u001b[0muuid\u001b[0m\u001b[1;33m.\u001b[0m\u001b[0mUUID\u001b[0m\u001b[1;33m,\u001b[0m \u001b[0mstr\u001b[0m\u001b[1;33m,\u001b[0m \u001b[0mNoneType\u001b[0m\u001b[1;33m]\u001b[0m \u001b[1;33m=\u001b[0m \u001b[1;32mNone\u001b[0m\u001b[1;33m,\u001b[0m\u001b[1;33m\n",
       "\u001b[0m    \u001b[0mpage\u001b[0m\u001b[1;33m:\u001b[0m \u001b[0mint\u001b[0m \u001b[1;33m=\u001b[0m \u001b[1;36m1\u001b[0m\u001b[1;33m,\u001b[0m\u001b[1;33m\n",
       "\u001b[0m    \u001b[0mpage_size\u001b[0m\u001b[1;33m:\u001b[0m \u001b[0mint\u001b[0m \u001b[1;33m=\u001b[0m \u001b[1;36m100\u001b[0m\u001b[1;33m,\u001b[0m\u001b[1;33m\n",
       "\u001b[0m\u001b[1;33m)\u001b[0m \u001b[1;33m->\u001b[0m \u001b[0mList\u001b[0m\u001b[1;33m[\u001b[0m\u001b[0mForwardRef\u001b[0m\u001b[1;33m(\u001b[0m\u001b[1;34m'Thing'\u001b[0m\u001b[1;33m)\u001b[0m\u001b[1;33m]\u001b[0m\u001b[1;33m\u001b[0m\u001b[1;33m\u001b[0m\u001b[0m\n",
       "\u001b[1;31mDocstring:\u001b[0m Fetch a collection of things.\n",
       "\u001b[1;31mFile:\u001b[0m      c:\\programdata\\anaconda3\\envs\\hydroserver\\lib\\site-packages\\hydroserverpy\\api\\services\\sta\\thing.py\n",
       "\u001b[1;31mType:\u001b[0m      method"
      ]
     },
     "metadata": {},
     "output_type": "display_data"
    }
   ],
   "source": [
    "?hs_api.things.list"
   ]
  },
  {
   "cell_type": "code",
   "execution_count": 48,
   "id": "284a1688-fee4-46b8-8cbc-7f8031f6ca9d",
   "metadata": {},
   "outputs": [
    {
     "name": "stdout",
     "output_type": "stream",
     "text": [
      "01973fc5-e3b9-76c5-8aed-ffa0ffcec2ef\n"
     ]
    }
   ],
   "source": [
    "## Récupérer une station par son ID\n",
    "thing_uid = things[12].uid\n",
    "print(thing_uid)"
   ]
  },
  {
   "cell_type": "code",
   "execution_count": 49,
   "id": "d8452837-668c-4920-b627-a743161a9566",
   "metadata": {},
   "outputs": [
    {
     "name": "stdout",
     "output_type": "stream",
     "text": [
      "latitude=11.2 longitude=-1.6 elevation_m=310.0 elevation_datum='EGM96' state='Région Test' county='Département 3' country=None name='Station 13' description=\"Station de mesure numéro 13 sur un cours d'eau.\" sampling_feature_type='Site' sampling_feature_code='CDE013' site_type='Stream' tags={} photos={} data_disclaimer='Ces données sont fournies à des fins de test uniquement.' is_private=True uid=UUID('01973fc5-e3b9-76c5-8aed-ffa0ffcec2ef')\n"
     ]
    }
   ],
   "source": [
    "thing = hs_api.things.get(thing_uid)\n",
    "print(thing)"
   ]
  },
  {
   "cell_type": "markdown",
   "id": "04af31a0-bed9-4b18-97fd-9d5ae6385b95",
   "metadata": {},
   "source": [
    "## Suppression de stations"
   ]
  },
  {
   "cell_type": "code",
   "execution_count": null,
   "id": "e2ee3998-af8f-49be-95a1-1536e6dd7876",
   "metadata": {},
   "outputs": [],
   "source": [
    "## Suppression de station par son ID"
   ]
  },
  {
   "cell_type": "code",
   "execution_count": 50,
   "id": "91b8a793-bc62-4121-8049-caefd1c104ff",
   "metadata": {},
   "outputs": [],
   "source": [
    "hs_api.things.delete(thing_uid)"
   ]
  },
  {
   "cell_type": "code",
   "execution_count": 43,
   "id": "ac5339d0-06ca-4e58-a7c9-4589864c52ac",
   "metadata": {},
   "outputs": [
    {
     "name": "stdout",
     "output_type": "stream",
     "text": [
      "Station Station 26 supprimé avec succès\n",
      "Station Station 27 supprimé avec succès\n",
      "Station Station 28 supprimé avec succès\n",
      "Station Station 29 supprimé avec succès\n",
      "Station Station 30 supprimé avec succès\n"
     ]
    }
   ],
   "source": [
    "## Suppression de stations\n",
    "for thing in things[-5:]:\n",
    "    uid = thing.uid\n",
    "    try:\n",
    "        hs_api.things.delete(uid=uid)\n",
    "        print(f\"Station {thing.name} supprimé avec succès\")\n",
    "    except :\n",
    "        print(f\"Suppression echoué pour la station {thing.name}\")"
   ]
  },
  {
   "cell_type": "markdown",
   "id": "ab7835d4-b154-440b-83b4-10cf0d359c99",
   "metadata": {},
   "source": [
    "## Mettre à jour une station"
   ]
  },
  {
   "cell_type": "code",
   "execution_count": 72,
   "id": "2424e07e-037a-44ed-aa41-f26d81bb9a62",
   "metadata": {},
   "outputs": [
    {
     "name": "stdout",
     "output_type": "stream",
     "text": [
      "latitude=10.0 longitude=-1.0 elevation_m=300.0 elevation_datum='EGM96' state='Région Test' county='Département 1' country=None name='Station 1' description=\"Station de mesure numéro 1 sur un cours d'eau.\" sampling_feature_type='Site' sampling_feature_code='CDE001' site_type='Stream' tags={} photos={} data_disclaimer='Ces données sont fournies à des fins de test uniquement.' is_private=True uid=UUID('01973fc5-c290-7024-bee8-55670425d341')\n"
     ]
    }
   ],
   "source": [
    "print(things[0])"
   ]
  },
  {
   "cell_type": "code",
   "execution_count": 73,
   "id": "4fcc16a2-8060-4616-8ab2-9fa03961bd55",
   "metadata": {},
   "outputs": [],
   "source": [
    "updated_thing = hs_api.things.update(uid=things[0].uid,\n",
    "                     name=\"Dapola\",description=\"Station de Dapola sur le Mouhoun.\")"
   ]
  },
  {
   "cell_type": "code",
   "execution_count": 75,
   "id": "f44dfa99-dee0-49ee-b45b-5aa192210a62",
   "metadata": {},
   "outputs": [
    {
     "data": {
      "text/plain": [
       "Thing(latitude=10.0, longitude=-1.0, elevation_m=300.0, elevation_datum='EGM96', state='Région Test', county='Département 1', country=None, name='Dapola', description='Station de Dapola sur le Mouhoun.', sampling_feature_type='Site', sampling_feature_code='CDE001', site_type='Stream', tags={}, photos={}, data_disclaimer='Ces données sont fournies à des fins de test uniquement.', is_private=True, uid=UUID('01973fc5-c290-7024-bee8-55670425d341'))"
      ]
     },
     "execution_count": 75,
     "metadata": {},
     "output_type": "execute_result"
    }
   ],
   "source": [
    "hs_api.things.get(things[0].uid)"
   ]
  },
  {
   "cell_type": "markdown",
   "id": "947ddd31-5782-44a6-b5e4-096b2591af29",
   "metadata": {},
   "source": [
    "# Observed Properties\n",
    "Décrit la variable observée (niveau d’eau, température, précipitation…).\n",
    "Associée à un Datastream."
   ]
  },
  {
   "cell_type": "code",
   "execution_count": 94,
   "id": "ddf75b96-9205-4372-bada-63f9b9de62ac",
   "metadata": {},
   "outputs": [
    {
     "data": {
      "text/plain": [
       "\u001b[1;31mSignature:\u001b[0m\n",
       "\u001b[0mhs_api\u001b[0m\u001b[1;33m.\u001b[0m\u001b[0mobservedproperties\u001b[0m\u001b[1;33m.\u001b[0m\u001b[0mlist\u001b[0m\u001b[1;33m(\u001b[0m\u001b[1;33m\n",
       "\u001b[0m    \u001b[0mworkspace\u001b[0m\u001b[1;33m:\u001b[0m \u001b[0mUnion\u001b[0m\u001b[1;33m[\u001b[0m\u001b[0mForwardRef\u001b[0m\u001b[1;33m(\u001b[0m\u001b[1;34m'Workspace'\u001b[0m\u001b[1;33m)\u001b[0m\u001b[1;33m,\u001b[0m \u001b[0muuid\u001b[0m\u001b[1;33m.\u001b[0m\u001b[0mUUID\u001b[0m\u001b[1;33m,\u001b[0m \u001b[0mstr\u001b[0m\u001b[1;33m,\u001b[0m \u001b[0mNoneType\u001b[0m\u001b[1;33m]\u001b[0m \u001b[1;33m=\u001b[0m \u001b[1;32mNone\u001b[0m\u001b[1;33m,\u001b[0m\u001b[1;33m\n",
       "\u001b[0m    \u001b[0mpage\u001b[0m\u001b[1;33m:\u001b[0m \u001b[0mint\u001b[0m \u001b[1;33m=\u001b[0m \u001b[1;36m1\u001b[0m\u001b[1;33m,\u001b[0m\u001b[1;33m\n",
       "\u001b[0m    \u001b[0mpage_size\u001b[0m\u001b[1;33m:\u001b[0m \u001b[0mint\u001b[0m \u001b[1;33m=\u001b[0m \u001b[1;36m100\u001b[0m\u001b[1;33m,\u001b[0m\u001b[1;33m\n",
       "\u001b[0m\u001b[1;33m)\u001b[0m \u001b[1;33m->\u001b[0m \u001b[0mList\u001b[0m\u001b[1;33m[\u001b[0m\u001b[0mForwardRef\u001b[0m\u001b[1;33m(\u001b[0m\u001b[1;34m'ObservedProperty'\u001b[0m\u001b[1;33m)\u001b[0m\u001b[1;33m]\u001b[0m\u001b[1;33m\u001b[0m\u001b[1;33m\u001b[0m\u001b[0m\n",
       "\u001b[1;31mDocstring:\u001b[0m Fetch a collection of observed properties.\n",
       "\u001b[1;31mFile:\u001b[0m      c:\\programdata\\anaconda3\\envs\\hydroserver\\lib\\site-packages\\hydroserverpy\\api\\services\\sta\\observed_property.py\n",
       "\u001b[1;31mType:\u001b[0m      method"
      ]
     },
     "metadata": {},
     "output_type": "display_data"
    }
   ],
   "source": [
    "?hs_api.observedproperties.list"
   ]
  },
  {
   "cell_type": "markdown",
   "id": "bf53c708-5d5a-4879-bdc9-43d4d6272b32",
   "metadata": {},
   "source": [
    "## Lectures des données : Observed Properties\n"
   ]
  },
  {
   "cell_type": "markdown",
   "id": "af762890-0bb6-4ed5-adcf-308ed113f38b",
   "metadata": {},
   "source": [
    "## Création d'une propriété"
   ]
  },
  {
   "cell_type": "markdown",
   "id": "10bd7f0e-1d37-4292-b021-d06e5dce944e",
   "metadata": {},
   "source": [
    "### Création manuelle"
   ]
  },
  {
   "cell_type": "code",
   "execution_count": 112,
   "id": "ae539adc-ecd9-45f9-84a8-ffefb119c84f",
   "metadata": {},
   "outputs": [],
   "source": [
    "# Create a new Observed Property in HydroServer\n",
    "new_observed_property = hs_api.observedproperties.create(\n",
    "    name='Streamflow',\n",
    "    definition='The volume of water flowing past a fixed point.  Equivalent to discharge',\n",
    "    description='Originally from the CUAHSI HIS VariableNameCV.  See: http://his.cuahsi.org/mastercvreg/edit_cv11.aspx?tbl=VariableNameCV.',\n",
    "    observed_property_type='Hydrology', # further reasearch\n",
    "    code='Q',\n",
    "    workspace=workspace_uid\n",
    ")"
   ]
  },
  {
   "cell_type": "code",
   "execution_count": null,
   "id": "0a57cb1d-a51b-4c22-aaae-e8c7809e9c12",
   "metadata": {},
   "outputs": [],
   "source": [
    "hs_api.observedproperties.create(\n",
    "    name='Water Level',\n",
    "    definition='The height of the water surface above a reference point (gage height).',\n",
    "    description='Standard variable for river stage measurements.',\n",
    "    observed_property_type='Hydrology',\n",
    "    code='H',\n",
    "    workspace=workspace_uid\n",
    ")"
   ]
  },
  {
   "cell_type": "markdown",
   "id": "d4935d13-5f24-4a2e-9863-2309372ccd87",
   "metadata": {},
   "source": [
    "### Création automatioques des observedproperties"
   ]
  },
  {
   "cell_type": "code",
   "execution_count": 65,
   "id": "289b47e4-b522-454e-8439-d70b21bebb6e",
   "metadata": {},
   "outputs": [
    {
     "data": {
      "text/html": [
       "<div>\n",
       "<style scoped>\n",
       "    .dataframe tbody tr th:only-of-type {\n",
       "        vertical-align: middle;\n",
       "    }\n",
       "\n",
       "    .dataframe tbody tr th {\n",
       "        vertical-align: top;\n",
       "    }\n",
       "\n",
       "    .dataframe thead th {\n",
       "        text-align: right;\n",
       "    }\n",
       "</style>\n",
       "<table border=\"1\" class=\"dataframe\">\n",
       "  <thead>\n",
       "    <tr style=\"text-align: right;\">\n",
       "      <th></th>\n",
       "      <th>name</th>\n",
       "      <th>definition</th>\n",
       "      <th>description</th>\n",
       "      <th>observed_property_type</th>\n",
       "      <th>code</th>\n",
       "    </tr>\n",
       "  </thead>\n",
       "  <tbody>\n",
       "    <tr>\n",
       "      <th>0</th>\n",
       "      <td>Streamflow</td>\n",
       "      <td>The volume of water flowing past a fixed point...</td>\n",
       "      <td>From CUAHSI HIS VariableNameCV.</td>\n",
       "      <td>Hydrology</td>\n",
       "      <td>Q</td>\n",
       "    </tr>\n",
       "    <tr>\n",
       "      <th>1</th>\n",
       "      <td>Water Level</td>\n",
       "      <td>The height of the water surface above a refere...</td>\n",
       "      <td>Standard variable for river stage measurements.</td>\n",
       "      <td>Hydrology</td>\n",
       "      <td>H</td>\n",
       "    </tr>\n",
       "    <tr>\n",
       "      <th>2</th>\n",
       "      <td>Precipitation</td>\n",
       "      <td>The depth of water that has fallen as rain, sn...</td>\n",
       "      <td>Measured in mm over 24-hour period.</td>\n",
       "      <td>Meteorology</td>\n",
       "      <td>P</td>\n",
       "    </tr>\n",
       "    <tr>\n",
       "      <th>3</th>\n",
       "      <td>Air Temperature</td>\n",
       "      <td>The temperature of the ambient air measured in...</td>\n",
       "      <td>Measured 2 meters above ground, following WMO ...</td>\n",
       "      <td>Meteorology</td>\n",
       "      <td>Tair</td>\n",
       "    </tr>\n",
       "    <tr>\n",
       "      <th>4</th>\n",
       "      <td>Groundwater Level</td>\n",
       "      <td>The height of the groundwater surface above a ...</td>\n",
       "      <td>Measured in observation wells to monitor aquif...</td>\n",
       "      <td>Groundwater</td>\n",
       "      <td>GW</td>\n",
       "    </tr>\n",
       "  </tbody>\n",
       "</table>\n",
       "</div>"
      ],
      "text/plain": [
       "                name                                         definition  \\\n",
       "0         Streamflow  The volume of water flowing past a fixed point...   \n",
       "1        Water Level  The height of the water surface above a refere...   \n",
       "2      Precipitation  The depth of water that has fallen as rain, sn...   \n",
       "3    Air Temperature  The temperature of the ambient air measured in...   \n",
       "4  Groundwater Level  The height of the groundwater surface above a ...   \n",
       "\n",
       "                                         description observed_property_type  \\\n",
       "0                    From CUAHSI HIS VariableNameCV.              Hydrology   \n",
       "1    Standard variable for river stage measurements.              Hydrology   \n",
       "2                Measured in mm over 24-hour period.            Meteorology   \n",
       "3  Measured 2 meters above ground, following WMO ...            Meteorology   \n",
       "4  Measured in observation wells to monitor aquif...            Groundwater   \n",
       "\n",
       "   code  \n",
       "0     Q  \n",
       "1     H  \n",
       "2     P  \n",
       "3  Tair  \n",
       "4    GW  "
      ]
     },
     "execution_count": 65,
     "metadata": {},
     "output_type": "execute_result"
    }
   ],
   "source": [
    "observedproperties = pd.read_csv(filepath_or_buffer='data/observed_properties_demo.csv')\n",
    "observedproperties.head(5)"
   ]
  },
  {
   "cell_type": "code",
   "execution_count": 66,
   "id": "6fa64798-3ed2-4c76-a270-a30fd53220b2",
   "metadata": {},
   "outputs": [
    {
     "name": "stdout",
     "output_type": "stream",
     "text": [
      "Création de 0\n",
      "Création de 1\n",
      "Création de 2\n",
      "Création de 3\n",
      "Création de 4\n",
      "Création de 5\n",
      "Création de 6\n",
      "Création de 7\n",
      "Création de 8\n",
      "Création de 9\n"
     ]
    }
   ],
   "source": [
    "obsProperties = []\n",
    "for _,row in observedproperties.iterrows():\n",
    "    print(f\"Création de {row.name}\")\n",
    "    obsPropertie = hs_api.observedproperties.create(\n",
    "    name=row[\"name\"],\n",
    "    definition=row[\"definition\"],\n",
    "    description=row[\"description\"],\n",
    "    observed_property_type=row[\"observed_property_type\"],\n",
    "    code=row[\"code\"],\n",
    "    workspace=workspace_uid)\n",
    "    obsProperties.append(obsPropertie)\n",
    "    "
   ]
  },
  {
   "cell_type": "markdown",
   "id": "5183732a-5994-4c5d-a6e7-0882c8be5d1a",
   "metadata": {},
   "source": [
    "## Lecture des données"
   ]
  },
  {
   "cell_type": "code",
   "execution_count": 114,
   "id": "27a9a037-eb56-47e8-b9fe-53aaa526cdbb",
   "metadata": {},
   "outputs": [
    {
     "name": "stdout",
     "output_type": "stream",
     "text": [
      "[ObservedProperty(name='Water Level', definition='The height of the water surface above a reference point (gage height).', description='Standard variable for river stage measurements.', observed_property_type='Hydrology', code='H', uid=UUID('01973fe7-50a3-77da-a684-a088ee37c61f')), ObservedProperty(name='Precipitation', definition='The depth of water that has fallen as rain, snow, sleet, or hail.', description='Measured in mm over 24-hour period.', observed_property_type='Meteorology', code='P', uid=UUID('01973fe7-5419-7a0a-b3a3-37ce46d42788')), ObservedProperty(name='Air Temperature', definition='The temperature of the ambient air measured in degrees Celsius.', description='Measured 2 meters above ground, following WMO standards.', observed_property_type='Meteorology', code='Tair', uid=UUID('01973fe7-5581-7a13-82e2-e97a2cd70683')), ObservedProperty(name='Groundwater Level', definition='The height of the groundwater surface above a reference elevation.', description='Measured in observation wells to monitor aquifer conditions.', observed_property_type='Groundwater', code='GW', uid=UUID('01973fe7-58ec-7788-974a-77d7bdcb47c2')), ObservedProperty(name='Evapotranspiration', definition='The sum of evaporation and plant transpiration from the land surface.', description='Used in water balance and drought models.', observed_property_type='Meteorology', code='ETP', uid=UUID('01973fe7-5c5c-71ec-8d7a-b2d8e4504c5e')), ObservedProperty(name='Soil Moisture', definition='The volumetric water content of the soil layer.', description='Important for flood forecasting and agricultural monitoring.', observed_property_type='Soil', code='SM', uid=UUID('01973fe7-5fcc-71ae-8dc2-0863f1d53e90')), ObservedProperty(name='Relative Humidity', definition='The ratio of the current absolute humidity to the highest possible absolute humidity.', description='Used in climate monitoring.', observed_property_type='Meteorology', code='RH', uid=UUID('01973fe7-6339-7695-b980-cada44ac34c1')), ObservedProperty(name='Solar Radiation', definition='The electromagnetic radiation emitted by the sun.', description='Measured in W/m², important for energy balance studies.', observed_property_type='Meteorology', code='SR', uid=UUID('01973fe7-6496-7590-8148-e1862d3bc8da')), ObservedProperty(name='Wind Speed', definition='The speed of air movement.', description='Used for evapotranspiration and weather forecasting.', observed_property_type='Meteorology', code='WS', uid=UUID('01973fe7-6807-7a31-9ff9-4b88bdbbb333')), ObservedProperty(name='Streamflow', definition='The volume of water flowing past a fixed point.  Equivalent to discharge', description='Originally from the CUAHSI HIS VariableNameCV.  See: http://his.cuahsi.org/mastercvreg/edit_cv11.aspx?tbl=VariableNameCV.', observed_property_type='Hydrology', code='Q', uid=UUID('019740c4-c4ea-79f1-a8b0-861eb4806a72'))]\n"
     ]
    }
   ],
   "source": [
    "observed_properties = hs_api.observedproperties.list(workspace_uid)\n",
    "print(observed_properties)"
   ]
  },
  {
   "cell_type": "code",
   "execution_count": 69,
   "id": "3763e1c0-8a9a-4d88-81b4-7738d1605903",
   "metadata": {},
   "outputs": [
    {
     "name": "stdout",
     "output_type": "stream",
     "text": [
      "ObservedProperty(name='Streamflow', definition='The volume of water flowing past a fixed point. Equivalent to discharge.', description='From CUAHSI HIS VariableNameCV.', observed_property_type='Hydrology', code='Q', uid=UUID('01973fe7-4d35-7a5a-9bf3-fa472fca38c7'))\n"
     ]
    }
   ],
   "source": [
    "# Récupérer une propriété par son ID\n",
    "observed_property = hs_api.observedproperties.get(uid=observed_properties[0].uid)\n",
    "pprint(observed_property)"
   ]
  },
  {
   "cell_type": "markdown",
   "id": "d0e7a864-f641-46b1-9d23-e0ae514164a6",
   "metadata": {},
   "source": [
    "## Suppression d'une propriété"
   ]
  },
  {
   "cell_type": "code",
   "execution_count": 70,
   "id": "80cbd701-83ad-4041-b845-012bf8078198",
   "metadata": {},
   "outputs": [],
   "source": [
    "hs_api.observedproperties.delete(observed_properties[0].uid)"
   ]
  },
  {
   "cell_type": "markdown",
   "id": "5dae543f-9381-4693-852e-4ef82290f106",
   "metadata": {},
   "source": [
    "# Units"
   ]
  },
  {
   "cell_type": "markdown",
   "id": "12347939-3a42-4f67-a3bf-a117c7dd8cfa",
   "metadata": {},
   "source": [
    "## Création d'une unité"
   ]
  },
  {
   "cell_type": "code",
   "execution_count": 79,
   "id": "3a001c2b-7adf-45ef-9b46-b1348bedaffa",
   "metadata": {},
   "outputs": [],
   "source": [
    "# Create a new Unit on HydroServer\n",
    "new_unit = hs_api.units.create(\n",
    "    name='Cubic Meters',\n",
    "    symbol='m^3',\n",
    "    definition='http://qudt.org/vocab/unit#CubicMeter',\n",
    "    unit_type='Volume',\n",
    "    workspace=workspace_uid\n",
    ")"
   ]
  },
  {
   "cell_type": "markdown",
   "id": "ad724c57-9c20-44b0-b71c-e3416fa80c06",
   "metadata": {},
   "source": [
    "## Lectures des données"
   ]
  },
  {
   "cell_type": "code",
   "execution_count": 80,
   "id": "7f3dbd50-86ee-4be6-8fab-9125b3dca085",
   "metadata": {},
   "outputs": [
    {
     "name": "stdout",
     "output_type": "stream",
     "text": [
      "[Unit(name='Cubic Meters', symbol='m^3', definition='http://qudt.org/vocab/unit#CubicMeter', unit_type='Volume', uid=UUID('01974021-397d-7845-b9d2-af9882323277')), Unit(name='Cubic Meters', symbol='m^3', definition='http://qudt.org/vocab/unit#CubicMeter', unit_type='Volume', uid=UUID('01974025-4d9e-7c04-b98a-9a012d0c95ac'))]\n"
     ]
    }
   ],
   "source": [
    "# Get all Units\n",
    "units = hs_api.units.list(workspace_uid)\n",
    "print(units[0:3])"
   ]
  },
  {
   "cell_type": "code",
   "execution_count": 81,
   "id": "9f9ac77c-9716-476a-937b-80ce29a8f1e3",
   "metadata": {},
   "outputs": [
    {
     "name": "stdout",
     "output_type": "stream",
     "text": [
      "name='Cubic Meters' symbol='m^3' definition='http://qudt.org/vocab/unit#CubicMeter' unit_type='Volume' uid=UUID('01974021-397d-7845-b9d2-af9882323277')\n"
     ]
    }
   ],
   "source": [
    "# Get Unit with a given ID\n",
    "unit = hs_api.units.get(uid=units[0].uid)\n",
    "print(unit)"
   ]
  },
  {
   "cell_type": "markdown",
   "id": "87a652c5-aab8-426f-a5a3-ea21a66e282b",
   "metadata": {},
   "source": [
    "## Suppression des données"
   ]
  },
  {
   "cell_type": "code",
   "execution_count": null,
   "id": "d64d3fca-1b92-41b5-a71c-92fb2614312e",
   "metadata": {},
   "outputs": [],
   "source": [
    "hs_api.units.delete(units[0].uid)"
   ]
  },
  {
   "cell_type": "markdown",
   "id": "1f69bd10-7c7d-496c-b50e-06fc014b4eff",
   "metadata": {},
   "source": [
    "## Exercice\n",
    "Ecrire une boucle pour créer des unités depuis un fichier externe (ex : .csv)"
   ]
  },
  {
   "cell_type": "markdown",
   "id": "fe8b4a4d-b625-4377-8f0e-8b0729ed25b0",
   "metadata": {},
   "source": [
    "# Sensors\n",
    "Décrit l’instrument ou la méthode de mesure. Peut être un capteur physique (ex : pluviomètre), ou virtuel (ex : modèle numérique)."
   ]
  },
  {
   "cell_type": "markdown",
   "id": "0418f93e-d457-4e47-bf12-31f289065490",
   "metadata": {},
   "source": [
    "## Création d'un Sensors"
   ]
  },
  {
   "cell_type": "code",
   "execution_count": 17,
   "id": "3f87e2c2-6422-4e6d-a892-c5c7cca70368",
   "metadata": {},
   "outputs": [],
   "source": [
    "# Create a new Sensor on HydroServer\n",
    "new_sensor = hs_api.sensors.create(\n",
    "    name='Streamflow Sensor',\n",
    "    description='Streamflow Sensor for GRDC data',\n",
    "    encoding_type='application/json',\n",
    "    manufacturer='Campbell Scientific',\n",
    "    sensor_model='A',\n",
    "    method_type='Observation',\n",
    "    method_link='',\n",
    "    method_code='',\n",
    "    workspace=workspace_uid\n",
    ")"
   ]
  },
  {
   "cell_type": "markdown",
   "id": "ab5b3f67-9fa8-4cae-9246-131359b2e77b",
   "metadata": {},
   "source": [
    "## Récupérer les données des sensors"
   ]
  },
  {
   "cell_type": "code",
   "execution_count": 84,
   "id": "f5bd97fa-109e-4c93-a9d2-15a58c0b6485",
   "metadata": {},
   "outputs": [
    {
     "name": "stdout",
     "output_type": "stream",
     "text": [
      "All sensors : 5 \n",
      " Owned Sensors : 1\n"
     ]
    }
   ],
   "source": [
    "# Get all Sensors\n",
    "sensors = hs_api.sensors.list()\n",
    "owned_sensors = hs_api.sensors.list(workspace_uid)\n",
    "print(f\"All sensors : {len(sensors)} \\n Owned Sensors : {len(owned_sensors)}\")"
   ]
  },
  {
   "cell_type": "markdown",
   "id": "64d14296-0006-4363-af02-1127381d0cb6",
   "metadata": {},
   "source": [
    "# Processing Levels"
   ]
  },
  {
   "cell_type": "markdown",
   "id": "7c836c56-f4dc-4788-be35-dca8472fdaa7",
   "metadata": {},
   "source": [
    "## Creation d'un Niveau de Traitement"
   ]
  },
  {
   "cell_type": "code",
   "execution_count": 104,
   "id": "98856c2d-18d2-4e37-a224-a606c9dffbf9",
   "metadata": {},
   "outputs": [],
   "source": [
    "# Create a new Processing Level on HydroServer\n",
    "new_processing_level = hs_api.processinglevels.create(\n",
    "    code='0',\n",
    "    definition='Raw',\n",
    "    explanation='Data have not been processed or quality controlled.',\n",
    "    workspace=workspace_uid\n",
    ")"
   ]
  },
  {
   "cell_type": "markdown",
   "id": "caeb53ed-1b16-4506-afb8-05a9dd942378",
   "metadata": {},
   "source": [
    "#### Get all Processing Levels\n",
    "processing_levels = hs_api.processinglevels.list()\n",
    "pprint(processing_levels)"
   ]
  },
  {
   "cell_type": "markdown",
   "id": "f80dd2a5-b3c8-45e7-8828-7aac6431ad10",
   "metadata": {},
   "source": [
    "# DataStreams\n",
    "C’est le cœur de la chaîne de mesure.\n",
    "Représente une série temporelle de données mesurées par un Sensor pour une ObservedProperty."
   ]
  },
  {
   "cell_type": "markdown",
   "id": "842554a0-d2b3-4c3b-926d-169deafe3e8f",
   "metadata": {},
   "source": [
    "## Création d'un Data Stream"
   ]
  },
  {
   "cell_type": "code",
   "execution_count": 22,
   "id": "5b675ea4-4781-436d-846d-78c4c7961357",
   "metadata": {},
   "outputs": [
    {
     "data": {
      "text/html": [
       "<div>\n",
       "<style scoped>\n",
       "    .dataframe tbody tr th:only-of-type {\n",
       "        vertical-align: middle;\n",
       "    }\n",
       "\n",
       "    .dataframe tbody tr th {\n",
       "        vertical-align: top;\n",
       "    }\n",
       "\n",
       "    .dataframe thead th {\n",
       "        text-align: right;\n",
       "    }\n",
       "</style>\n",
       "<table border=\"1\" class=\"dataframe\">\n",
       "  <thead>\n",
       "    <tr style=\"text-align: right;\">\n",
       "      <th></th>\n",
       "      <th>timestamp</th>\n",
       "      <th>Station1</th>\n",
       "      <th>Station2</th>\n",
       "      <th>Station3</th>\n",
       "      <th>Station4</th>\n",
       "      <th>Station5</th>\n",
       "      <th>Station6</th>\n",
       "      <th>Station7</th>\n",
       "      <th>Station8</th>\n",
       "      <th>Station9</th>\n",
       "      <th>Station10</th>\n",
       "      <th>Station11</th>\n",
       "      <th>Station12</th>\n",
       "    </tr>\n",
       "  </thead>\n",
       "  <tbody>\n",
       "    <tr>\n",
       "      <th>0</th>\n",
       "      <td>1981-01-01 00:00:00+00:00</td>\n",
       "      <td>0.0</td>\n",
       "      <td>0.0</td>\n",
       "      <td>0.255</td>\n",
       "      <td>0.039</td>\n",
       "      <td>0.0</td>\n",
       "      <td>0.0</td>\n",
       "      <td>0.017</td>\n",
       "      <td>0.0</td>\n",
       "      <td>0.0</td>\n",
       "      <td>0.262</td>\n",
       "      <td>0.0</td>\n",
       "      <td>0.0</td>\n",
       "    </tr>\n",
       "    <tr>\n",
       "      <th>1</th>\n",
       "      <td>1981-01-02 00:00:00+00:00</td>\n",
       "      <td>0.0</td>\n",
       "      <td>0.0</td>\n",
       "      <td>0.248</td>\n",
       "      <td>0.038</td>\n",
       "      <td>0.0</td>\n",
       "      <td>0.0</td>\n",
       "      <td>0.016</td>\n",
       "      <td>0.0</td>\n",
       "      <td>0.0</td>\n",
       "      <td>0.255</td>\n",
       "      <td>0.0</td>\n",
       "      <td>0.0</td>\n",
       "    </tr>\n",
       "    <tr>\n",
       "      <th>2</th>\n",
       "      <td>1981-01-03 00:00:00+00:00</td>\n",
       "      <td>0.0</td>\n",
       "      <td>0.0</td>\n",
       "      <td>0.241</td>\n",
       "      <td>0.037</td>\n",
       "      <td>0.0</td>\n",
       "      <td>0.0</td>\n",
       "      <td>0.015</td>\n",
       "      <td>0.0</td>\n",
       "      <td>0.0</td>\n",
       "      <td>0.248</td>\n",
       "      <td>0.0</td>\n",
       "      <td>0.0</td>\n",
       "    </tr>\n",
       "    <tr>\n",
       "      <th>3</th>\n",
       "      <td>1981-01-04 00:00:00+00:00</td>\n",
       "      <td>0.0</td>\n",
       "      <td>0.0</td>\n",
       "      <td>0.234</td>\n",
       "      <td>0.035</td>\n",
       "      <td>0.0</td>\n",
       "      <td>0.0</td>\n",
       "      <td>0.015</td>\n",
       "      <td>0.0</td>\n",
       "      <td>0.0</td>\n",
       "      <td>0.241</td>\n",
       "      <td>0.0</td>\n",
       "      <td>0.0</td>\n",
       "    </tr>\n",
       "    <tr>\n",
       "      <th>4</th>\n",
       "      <td>1981-01-05 00:00:00+00:00</td>\n",
       "      <td>0.0</td>\n",
       "      <td>0.0</td>\n",
       "      <td>0.228</td>\n",
       "      <td>0.034</td>\n",
       "      <td>0.0</td>\n",
       "      <td>0.0</td>\n",
       "      <td>0.014</td>\n",
       "      <td>0.0</td>\n",
       "      <td>0.0</td>\n",
       "      <td>0.235</td>\n",
       "      <td>0.0</td>\n",
       "      <td>0.0</td>\n",
       "    </tr>\n",
       "  </tbody>\n",
       "</table>\n",
       "</div>"
      ],
      "text/plain": [
       "                  timestamp  Station1  Station2  Station3  Station4  Station5  \\\n",
       "0 1981-01-01 00:00:00+00:00       0.0       0.0     0.255     0.039       0.0   \n",
       "1 1981-01-02 00:00:00+00:00       0.0       0.0     0.248     0.038       0.0   \n",
       "2 1981-01-03 00:00:00+00:00       0.0       0.0     0.241     0.037       0.0   \n",
       "3 1981-01-04 00:00:00+00:00       0.0       0.0     0.234     0.035       0.0   \n",
       "4 1981-01-05 00:00:00+00:00       0.0       0.0     0.228     0.034       0.0   \n",
       "\n",
       "   Station6  Station7  Station8  Station9  Station10  Station11  Station12  \n",
       "0       0.0     0.017       0.0       0.0      0.262        0.0        0.0  \n",
       "1       0.0     0.016       0.0       0.0      0.255        0.0        0.0  \n",
       "2       0.0     0.015       0.0       0.0      0.248        0.0        0.0  \n",
       "3       0.0     0.015       0.0       0.0      0.241        0.0        0.0  \n",
       "4       0.0     0.014       0.0       0.0      0.235        0.0        0.0  "
      ]
     },
     "execution_count": 22,
     "metadata": {},
     "output_type": "execute_result"
    }
   ],
   "source": [
    "## first let's import our test.csv fort time sereis data\n",
    "observations = pd.read_csv('data/datastreams.csv')\n",
    "observations = observations.rename(columns={\"DATE\": \"timestamp\"})\n",
    "observations['timestamp'] = pd.to_datetime(observations['timestamp']).dt.tz_localize('UTC')\n",
    "observations.head()"
   ]
  },
  {
   "cell_type": "code",
   "execution_count": 12,
   "id": "869be338-3112-4805-a52c-b57ad875c3f5",
   "metadata": {},
   "outputs": [
    {
     "data": {
      "text/plain": [
       "24"
      ]
     },
     "execution_count": 12,
     "metadata": {},
     "output_type": "execute_result"
    }
   ],
   "source": [
    "owned_things = hs_api.things.list(workspace_uid)\n",
    "len(owned_things)"
   ]
  },
  {
   "cell_type": "code",
   "execution_count": 38,
   "id": "50fa300a-4516-4b01-ade9-e7b0a44719c9",
   "metadata": {},
   "outputs": [],
   "source": [
    "new_observed_property =hs_api.observedproperties.get('019740c4-c4ea-79f1-a8b0-861eb4806a72')\n",
    "new_processing_level =  hs_api.processinglevels.get('019740c0-546a-7727-996c-626b4108c6b5')\n",
    "new_unit = hs_api.units.get(\"01974021-397d-7845-b9d2-af9882323277\")"
   ]
  },
  {
   "cell_type": "code",
   "execution_count": 60,
   "id": "fd32c9a5-d840-49f9-b403-0155bb31da26",
   "metadata": {},
   "outputs": [
    {
     "name": "stdout",
     "output_type": "stream",
     "text": [
      "name='Streamflow Datastream' description='A datastream containing Streamflow observations.' observation_type='OM_Measurement' sampled_medium='Unknown' no_data_value=-9999.0 aggregation_statistic='Continuous' time_aggregation_interval=1.0 status='Ongoing' result_type='Timeseries' value_count=3739 phenomenon_begin_time=datetime.datetime(1975, 1, 1, 0, 0, tzinfo=TzInfo(UTC)) phenomenon_end_time=datetime.datetime(1985, 3, 27, 0, 0, tzinfo=TzInfo(UTC)) result_begin_time=None result_end_time=None is_private=False is_visible=True time_aggregation_interval_unit='days' intended_time_spacing=1.0 intended_time_spacing_unit=None uid=UUID('0196d998-b200-7ff2-875a-c0fa6ed41f09')\n"
     ]
    }
   ],
   "source": [
    "datastream = hs_api.datastreams.get(uid='0196d998-b200-7ff2-875a-c0fa6ed41f09')\n",
    "print(datastream)"
   ]
  },
  {
   "cell_type": "code",
   "execution_count": 77,
   "id": "b71a69ba-ca98-46c3-ba3c-125e0239a261",
   "metadata": {},
   "outputs": [
    {
     "name": "stdout",
     "output_type": "stream",
     "text": [
      "Uploading Datastream 1\n",
      "Uploading Datastream 2\n",
      "Uploading Datastream 3\n",
      "Uploading Datastream 4\n",
      "Uploading Datastream 5\n",
      "Uploading Datastream 6\n",
      "Uploading Datastream 7\n",
      "Uploading Datastream 8\n",
      "Uploading Datastream 9\n",
      "Uploading Datastream 10\n",
      "Uploading Datastream 11\n",
      "Uploading Datastream 12\n",
      "Uploading Datastream 13\n",
      "Uploading Datastream 14\n",
      "Uploading Datastream 15\n",
      "Uploading Datastream 16\n",
      "Uploading Datastream 17\n",
      "Uploading Datastream 18\n",
      "Uploading Datastream 19\n",
      "Uploading Datastream 20\n",
      "Uploading Datastream 21\n",
      "Uploading Datastream 22\n",
      "Uploading Datastream 23\n",
      "Uploading Datastream 24\n"
     ]
    }
   ],
   "source": [
    "owned_things = hs_api.things.list(workspace_uid)\n",
    "i=0\n",
    "for single_thing in owned_things:\n",
    "    i+=1\n",
    "    print(f\"Uploading Datastream {i}\")\n",
    "    new_datastream = hs_api.datastreams.create(\n",
    "    name='Streamflow Datastream',\n",
    "    description='A datastream containing Streamflow observations.',\n",
    "    observation_type='OM_Measurement',\n",
    "    sampled_medium='Unknown',\n",
    "    no_data_value=-9999,\n",
    "    aggregation_statistic='Continuous',\n",
    "    time_aggregation_interval=1.0,\n",
    "    status='Ongoing',\n",
    "    result_type='Timeseries',\n",
    "    value_count=0,\n",
    "    phenomenon_begin_time=observations['timestamp'][0],\n",
    "    phenomenon_end_time=None,\n",
    "    result_begin_time=observations['timestamp'][0],\n",
    "    result_end_time=None,\n",
    "    is_visible=False,\n",
    "    thing=str(single_thing.uid),\n",
    "    sensor=str(new_sensor.uid),\n",
    "    observed_property= str(new_observed_property.uid),\n",
    "    processing_level= str(new_processing_level.uid),\n",
    "    unit=str(new_unit.uid),\n",
    "    time_aggregation_interval_unit='days',\n",
    "    intended_time_spacing=1,\n",
    "    intended_time_spacing_unit='days',\n",
    "      is_private=True)"
   ]
  },
  {
   "cell_type": "code",
   "execution_count": 76,
   "id": "b8a151db-eb67-46bb-b2ac-220e1d23cd91",
   "metadata": {},
   "outputs": [
    {
     "data": {
      "text/plain": [
       "24"
      ]
     },
     "execution_count": 76,
     "metadata": {},
     "output_type": "execute_result"
    }
   ],
   "source": [
    "datastreams = hs_api.datastreams.list(workspace_uid)\n",
    "#for datastream in datastreams:\n",
    "  # hs_api.datastreams.delete(datastream.uid)\n",
    "len(datastreams)"
   ]
  },
  {
   "cell_type": "code",
   "execution_count": 78,
   "id": "a02cd8f1-849a-4b83-a622-c383ff933a44",
   "metadata": {},
   "outputs": [
    {
     "name": "stdout",
     "output_type": "stream",
     "text": [
      "Loading data 0\n",
      "Loading data 1\n",
      "Loading data 2\n",
      "Loading data 3\n",
      "Loading data 4\n",
      "Loading data 5\n",
      "Loading data 6\n",
      "Loading data 7\n",
      "Loading data 8\n",
      "Loading data 9\n",
      "Loading data 10\n",
      "Loading data 11\n",
      "Loading data 12\n",
      "Fin du téléchargement\n"
     ]
    }
   ],
   "source": [
    "datastreams = hs_api.datastreams.list(workspace_uid)\n",
    "i=0\n",
    "for datastream in datastreams:\n",
    "    print(f\"Loading data {i}\")\n",
    "    i+=1\n",
    "    if i>=observations.shape[1] :\n",
    "        print(\"Fin du téléchargement\")\n",
    "        break\n",
    "    loaded_data = observations.iloc[:, [0, i]]\n",
    "    loaded_data = loaded_data.rename(columns={loaded_data.columns[1]: \"value\"})\n",
    "    loaded_data[\"timestamp\"] = pd.to_datetime(loaded_data[\"timestamp\"])\n",
    "    datastream.load_observations(loaded_data)\n",
    "    "
   ]
  },
  {
   "cell_type": "code",
   "execution_count": 81,
   "id": "1ef8b9ed-b931-4e34-be11-c6e3240cb587",
   "metadata": {},
   "outputs": [],
   "source": [
    "# Get owned Datastreams\n",
    "owned_datastreams = hs_api.datastreams.list(workspace_uid)\n",
    "datastream = owned_datastreams[0]"
   ]
  },
  {
   "cell_type": "code",
   "execution_count": 85,
   "id": "411d4f3d-d608-44d8-b32d-bc034dd023c1",
   "metadata": {},
   "outputs": [],
   "source": [
    "obs = datastream.get_observations()"
   ]
  },
  {
   "cell_type": "code",
   "execution_count": 86,
   "id": "c444a15e-26d2-49fa-9040-8bf5caf59387",
   "metadata": {},
   "outputs": [
    {
     "data": {
      "text/html": [
       "<div>\n",
       "<style scoped>\n",
       "    .dataframe tbody tr th:only-of-type {\n",
       "        vertical-align: middle;\n",
       "    }\n",
       "\n",
       "    .dataframe tbody tr th {\n",
       "        vertical-align: top;\n",
       "    }\n",
       "\n",
       "    .dataframe thead th {\n",
       "        text-align: right;\n",
       "    }\n",
       "</style>\n",
       "<table border=\"1\" class=\"dataframe\">\n",
       "  <thead>\n",
       "    <tr style=\"text-align: right;\">\n",
       "      <th></th>\n",
       "      <th>timestamp</th>\n",
       "      <th>value</th>\n",
       "    </tr>\n",
       "  </thead>\n",
       "  <tbody>\n",
       "    <tr>\n",
       "      <th>0</th>\n",
       "      <td>1981-01-01 00:00:00+00:00</td>\n",
       "      <td>0.0</td>\n",
       "    </tr>\n",
       "    <tr>\n",
       "      <th>1</th>\n",
       "      <td>1981-01-02 00:00:00+00:00</td>\n",
       "      <td>0.0</td>\n",
       "    </tr>\n",
       "    <tr>\n",
       "      <th>2</th>\n",
       "      <td>1981-01-03 00:00:00+00:00</td>\n",
       "      <td>0.0</td>\n",
       "    </tr>\n",
       "    <tr>\n",
       "      <th>3</th>\n",
       "      <td>1981-01-04 00:00:00+00:00</td>\n",
       "      <td>0.0</td>\n",
       "    </tr>\n",
       "    <tr>\n",
       "      <th>4</th>\n",
       "      <td>1981-01-05 00:00:00+00:00</td>\n",
       "      <td>0.0</td>\n",
       "    </tr>\n",
       "  </tbody>\n",
       "</table>\n",
       "</div>"
      ],
      "text/plain": [
       "                  timestamp  value\n",
       "0 1981-01-01 00:00:00+00:00    0.0\n",
       "1 1981-01-02 00:00:00+00:00    0.0\n",
       "2 1981-01-03 00:00:00+00:00    0.0\n",
       "3 1981-01-04 00:00:00+00:00    0.0\n",
       "4 1981-01-05 00:00:00+00:00    0.0"
      ]
     },
     "execution_count": 86,
     "metadata": {},
     "output_type": "execute_result"
    }
   ],
   "source": [
    "obs.head()"
   ]
  },
  {
   "cell_type": "markdown",
   "id": "205739d0-ad31-4f61-a8f4-2c95baef2f85",
   "metadata": {},
   "source": [
    "<div style=\"text-align: center;\">\n",
    "  <img src=\"https://previews.123rf.com/images/ribah/ribah1504/ribah150400016/38935644-3d-illustration-of-man-holding-cloth-banner-of-word-text-thank-you-3d-rendering-of-human-people.jpg\" width=\"200\">\n",
    "</div>"
   ]
  },
  {
   "cell_type": "code",
   "execution_count": null,
   "id": "a3aec017-e069-424b-a45f-9a05e5913d68",
   "metadata": {},
   "outputs": [],
   "source": []
  }
 ],
 "metadata": {
  "kernelspec": {
   "display_name": "Python 3 (ipykernel)",
   "language": "python",
   "name": "python3"
  },
  "language_info": {
   "codemirror_mode": {
    "name": "ipython",
    "version": 3
   },
   "file_extension": ".py",
   "mimetype": "text/x-python",
   "name": "python",
   "nbconvert_exporter": "python",
   "pygments_lexer": "ipython3",
   "version": "3.10.16"
  }
 },
 "nbformat": 4,
 "nbformat_minor": 5
}
