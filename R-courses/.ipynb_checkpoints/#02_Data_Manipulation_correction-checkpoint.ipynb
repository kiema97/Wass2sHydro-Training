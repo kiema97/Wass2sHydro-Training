{
 "cells": [
  {
   "cell_type": "markdown",
   "id": "1dbd497c-1869-47ed-b362-1fcb259d3127",
   "metadata": {},
   "source": [
    "<div style=\"width: 100%; text-align: center;\">\n",
    "    <div style=\"background-color:#007F00; padding: 0.5rem;\">\n",
    "        <h1 style=\"font-weight: bold; font-size: 2.5em; color: black;\"> AGRHYMET CENTRE CLIMATIQUE REGIONAL POUR L'AFRIQUE DE L'OUEST ET LE SAHEL</h1>\n",
    "   </div>\n",
    "\n",
    "   <div style=\"text-align: center;\">\n",
    "  <img src=\"https://www.sareco.org/wp-content/uploads/2017/07/plrDvYX1.jpg\" width=\"200\">\n",
    "</div>"
   ]
  },
  {
   "cell_type": "markdown",
   "id": "2c18d722-b0b8-4596-851d-75f6e501deab",
   "metadata": {},
   "source": [
    "<a id=\"1\"></a>\n",
    "# <p style=\"padding:10px;background-color:#FFFFFF ;margin:0;color:#007F00;font-family:newtimeroman;font-size:100%;text-align:center;border-radius: 15px 50px;overflow:hidden;font-weight:500\">Capacity Building in Seasonal Hydrological Forecasting </p>"
   ]
  },
  {
   "cell_type": "markdown",
   "id": "05b8dc02-a2f7-49c0-8970-50b0380ca250",
   "metadata": {},
   "source": [
    "<a id=\"1\"></a>\n",
    "### <p style=\"padding:10px;background-color:#000000 ;margin:0;color:#007F00;font-family:#newtimeroman;font-size:100%;text-align:center;border-radius: 15px 50px;overflow:hidden;font-weight:500\">Working with Tabular Data </p>"
   ]
  },
  {
   "cell_type": "markdown",
   "id": "461f8530-03dd-47a4-a71f-cb308115ec58",
   "metadata": {},
   "source": [
    "## 🎯 Learning Objectives\n",
    "By the end of this session, participants will be able to:\n",
    "- Import tabular data using base R functions (`read.csv()`, `read.table()`).\n",
    "- Import Excel spreadsheets using `readxl::read_excel()`.\n",
    "- Explore datasets (head, tail, summary, structure).\n",
    "- Handle missing values and format data types.\n",
    "- Perform basic manipulations (subsetting, filtering, aggregation).\n",
    "- Export processed results (`write.csv()`, `write.table()`).\n",
    "- Apply these skills in a hydrological case study combining flow and rainfall data.\n"
   ]
  },
  {
   "cell_type": "code",
   "execution_count": null,
   "id": "786321d5-6c53-47ac-ae31-f2c065be0bb4",
   "metadata": {},
   "outputs": [],
   "source": [
    "# Import data\n",
    "flows <- read.csv(\"data/flows_station.csv\")\n",
    "rain <- read_excel(\"data/precipitation_station.xlsx\")\n",
    "\n",
    "# Clean\n",
    "flows$Date <- as.Date(flows$Date)\n",
    "rain$Date  <- as.Date(rain$Date)\n",
    "\n",
    "flows <- na.omit(flows)\n",
    "rain  <- na.omit(rain)\n",
    "\n",
    "# Add Year column\n",
    "flows$Year <- format(flows$Date, \"%Y\")\n",
    "rain$Year  <- format(rain$Date, \"%Y\")\n",
    "\n",
    "# Annual summaries\n",
    "flows_year <- aggregate(Qobs ~ Year, data = flows, FUN = mean)\n",
    "flows_max  <- aggregate(Qobs ~ Year, data = flows, FUN = max)\n",
    "rain_year  <- aggregate(Precip ~ Year, data = rain, FUN = sum)\n",
    "\n",
    "# Merge\n",
    "hydro_summary <- merge(flows_year, flows_max, by=\"Year\")\n",
    "names(hydro_summary) <- c(\"Year\", \"Qmean\", \"Qmax\")\n",
    "hydro_summary <- merge(hydro_summary, rain_year, by=\"Year\")\n",
    "\n",
    "# Export\n",
    "write.csv(hydro_summary, \"outputs/hydro_summary.csv\", row.names = FALSE)\n",
    "hydro_summary\n"
   ]
  }
 ],
 "metadata": {
  "kernelspec": {
   "display_name": "R",
   "language": "R",
   "name": "ir"
  },
  "language_info": {
   "codemirror_mode": "r",
   "file_extension": ".r",
   "mimetype": "text/x-r-source",
   "name": "R",
   "pygments_lexer": "r",
   "version": "4.4.3"
  }
 },
 "nbformat": 4,
 "nbformat_minor": 5
}
