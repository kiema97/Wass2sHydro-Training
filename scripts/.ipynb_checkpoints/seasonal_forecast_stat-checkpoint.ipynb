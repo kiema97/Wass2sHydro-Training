{
 "cells": [
  {
   "cell_type": "markdown",
   "id": "b7dc5621-9cbc-4ed5-a6af-2b6527e82ea0",
   "metadata": {
    "editable": true,
    "slideshow": {
     "slide_type": ""
    },
    "tags": []
   },
   "source": [
    "<div style=\"width: 100%; text-align: center;\">\n",
    "    <div style=\"background-color:#007F00; padding: 0.5rem;\">\n",
    "        <h1 style=\"font-weight: bold; font-size: 2.5em; color: black;\"> AGRHYMET CENTRE CLIMATIQUE REGIONAL POUR L'AFRIQUE DE L'OUEST ET LE SAHEL</h1>\n",
    "   </div>\n",
    "\n",
    "   <div style=\"text-align: center;\">\n",
    "  <img src=\"https://www.sareco.org/wp-content/uploads/2017/07/plrDvYX1.jpg\" width=\"200\">\n",
    "</div>"
   ]
  },
  {
   "cell_type": "markdown",
   "id": "d2694b6f-cf64-4b23-94e8-8756f90a31b7",
   "metadata": {},
   "source": [
    "<a id=\"1\"></a>\n",
    "# <p style=\"padding:10px;background-color:#FFFFFF ;margin:0;color:#007F00;font-family:newtimeroman;font-size:100%;text-align:center;border-radius: 15px 50px;overflow:hidden;font-weight:500\">Capacity Building in Seasonal Hydrological Forecasting </p>"
   ]
  },
  {
   "cell_type": "markdown",
   "id": "a95a60d4-d5f4-4eff-9f54-c871908258da",
   "metadata": {},
   "source": [
    "<a id=\"1\"></a>\n",
    "### <p style=\"padding:10px;background-color:#000000 ;margin:0;color:#007F00;font-family:#newtimeroman;font-size:100%;text-align:center;border-radius: 15px 50px;overflow:hidden;font-weight:500\">Seasonal Hydrologic Forecasts with WASS2SHydroR (Statistical Method) </p>"
   ]
  },
  {
   "cell_type": "markdown",
   "id": "27130097-94f7-4497-8204-8e6893d0f243",
   "metadata": {},
   "source": [
    "## 1) PARAMETERS (participants only edit this block)"
   ]
  },
  {
   "cell_type": "code",
   "execution_count": null,
   "id": "b0e14609-5d9b-4c90-a6bc-4eaa204b2462",
   "metadata": {
    "editable": false,
    "slideshow": {
     "slide_type": ""
    },
    "tags": []
   },
   "outputs": [],
   "source": [
    "\"BEN\" \"GMB\" \"GHA\" \"GIN\" \"CIV\" \"LBR\" \"MLI\" \"MRT\" \"NER\" \"NGA\" \"GNB\" \"SEN\" \"SLE\" \"TGO\" \"BFA\" \"TCD\" \"CPV\""
   ]
  },
  {
   "cell_type": "code",
   "execution_count": null,
   "id": "827cbd59-6889-4aec-99cd-2fc815701f0d",
   "metadata": {},
   "outputs": [],
   "source": [
    "# ---- Dependencies ----------------------------------------------------------\n",
    "setwd(\"D:/CCR_AOS/Wass2sHydro-Training\")\n",
    "rm(list = ls())\n",
    "# ==== PARAMETERS (participants only edit this block) ==========================\n",
    "PATH_INPUTS <- \"outputs/SST_training_list_BFA.rds\"\n",
    "data_by_products <- readRDS(PATH_INPUTS)\n",
    "COUNTRY_CODE <- \"BFA\" # \"BEN\" \"GMB\" \"GHA\" \"GIN\" \"CIV\" \"LBR\" \"MLI\" \"MRT\" \"NER\" \"NGA\" \"GNB\" \"SEN\" \"SLE\" \"TGO\" \"BFA\" \"TCD\" \"CPV\"\n",
    "PATH_COUNTRIES   <- \"static/was_contries.shp\"   # shapefile with GMI_CNTRY field\n",
    "PATH_SUBBASINS   <- \"static/subbassins.shp\"\n",
    "PREDICTOR_VARS <-\"SST\"\n",
    "PATH_OUTPUT <- \"outputs\"\n",
    "FINAL_FUSER <- \"xgb\"\n",
    "dir.create(PATH_OUTPUT, showWarnings = FALSE)\n",
    "fyear <- 2025\n",
    "source(\"scripts/load_required_packages_frcst.R\")"
   ]
  },
  {
   "cell_type": "markdown",
   "id": "7cecff2a-ff4e-4794-9632-da521bdb86a9",
   "metadata": {},
   "source": [
    "## 2) Run statistical forecasts for each product group"
   ]
  },
  {
   "cell_type": "code",
   "execution_count": null,
   "id": "094e828a-bada-428f-9750-2037fd9a32cf",
   "metadata": {
    "editable": true,
    "slideshow": {
     "slide_type": ""
    },
    "tags": []
   },
   "outputs": [],
   "source": [
    "message(\"Running statistical forecasts (per product) ...\")\n",
    "stats_results <- map2(data_by_products, names(data_by_products), function(.x,.y){\n",
    "  pred_pattern_by_product <- as.vector(rep(\"^sst_\",length(.x)))\n",
    "  names(pred_pattern_by_product) <- names(.x)\n",
    "  frcst <- WASS2SHydroR::wass2s_run_basins_stat(data_by_product = .x,\n",
    "                                                hybas_id =\"HYBAS_ID\",\n",
    "                                                pred_pattern_by_product  = pred_pattern_by_product,\n",
    "                                                final_fuser = FINAL_FUSER,\n",
    "                                                grid_levels = 10,\n",
    "                                                topK = 1,\n",
    "                                                min_kge_model =0,\n",
    "                                                prediction_years =c(fyear,fyear),\n",
    "                                                init_frac = 0.8,\n",
    "                                                assess_frac = 0.2,\n",
    "                                                cumulative = TRUE)\n",
    "  names(frcst) <- .y\n",
    "  return(frcst)\n",
    "})\n",
    "\n",
    "{\n",
    "  timestamp <- format(Sys.time(), \"%Y%m%d_%H%M%S\")\n",
    "  file_path <- file.path(PATH_OUTPUT,paste0(COUNTRY_CODE,\"_\",PREDICTOR_VARS,\"_seasonal_forecast_stat_\", FINAL_FUSER, \"_\",timestamp,\".rds\"))\n",
    "  saveRDS(object =stats_results ,file = file_path )\n",
    "  message(\"File saved: \", file_path)\n",
    "}"
   ]
  },
  {
   "cell_type": "markdown",
   "id": "991be1ce-7229-434c-8023-5249d90e7182",
   "metadata": {},
   "source": [
    "## 3) Extract fused predictions per basin into a single tall tibble"
   ]
  },
  {
   "cell_type": "code",
   "execution_count": null,
   "id": "0f138cf5-c23f-42df-90f6-39ca9f986335",
   "metadata": {},
   "outputs": [],
   "source": [
    "#----------------- 3) Extract fused predictions per basin into a single tall tibble--------------------\n",
    "message(\"Extracting fused predictions ...\")\n",
    "stats_results2 <- map(names(stats_results), function(id) {\n",
    "  ml_results[[id]][[id]]\n",
    "}) %>%\n",
    "  set_names(names(stats_results))\n",
    "\n",
    "stat_preds <- map2(stats_results2,names(stats_results2), function(.x,.y){\n",
    "  fused_by_model <- .x$fused_by_model\n",
    "\n",
    "  if(!all(c(\"YYYY\",\"Q\" ,\"pred_final\") %in% names(fused_by_model))){\n",
    "    fused_by_model <- data.frame()\n",
    "    return(fused_by_model)\n",
    "  }\n",
    "  fused_by_model <- fused_by_model %>%\n",
    "    dplyr::select(\"YYYY\",\"Q\" ,\"pred_final\") %>%\n",
    "    rename(pred = pred_final) %>%\n",
    "    mutate(HYBAS_ID = .y)\n",
    "}) %>% bind_rows()\n",
    "\n",
    "hybas_ids <- unique(stat_preds$HYBAS_ID)"
   ]
  },
  {
   "cell_type": "markdown",
   "id": "316c2b1a-d674-41d4-a1db-f3fc75043fae",
   "metadata": {},
   "source": [
    "## 4) Compute class probabilities per basin/year"
   ]
  },
  {
   "cell_type": "code",
   "execution_count": null,
   "id": "c1277d6b-7232-44b2-b91f-1c5cbfbdf76c",
   "metadata": {},
   "outputs": [],
   "source": [
    "#--------------------- 4) Compute class probabilities per basin/year-----------------------------------\n",
    "message(\"Computing class probabilities ...\")\n",
    "probabilities <- map(hybas_ids,~{\n",
    "  stat_pred <- stat_preds %>%\n",
    "    dplyr::filter(HYBAS_ID == .x)\n",
    "  rr <- c(ml_pred$Q-ml_pred$pred)^2\n",
    "\n",
    "  error_sd <- sd(c(stat_pred$Q-stat_pred$pred),na.rm = TRUE)\n",
    "  error_rmse <- sqrt(mean(rr,na.rm = TRUE))\n",
    "\n",
    "  proba <- WASS2SHydroR::wass2s_class_from_forecast(df = stat_pred,\n",
    "                                                    q_hist = stat_pred$Q,\n",
    "                                                    sigma =error_sd )\n",
    "  return(proba)\n",
    "}) %>% bind_rows()\n",
    "\n",
    "\n",
    "yprobas <- probabilities %>%\n",
    "  dplyr::filter(YYYY == fyear) %>%\n",
    "  mutate(HYBAS_ID = as.factor(HYBAS_ID))"
   ]
  },
  {
   "cell_type": "markdown",
   "id": "37068212-462b-4ea3-8be7-874f6aca6c58",
   "metadata": {},
   "source": [
    "## 5) Probability map"
   ]
  },
  {
   "cell_type": "code",
   "execution_count": null,
   "id": "f4209ccc-7a1c-4ff4-93aa-fbea0b65f220",
   "metadata": {},
   "outputs": [],
   "source": [
    "# ---- 5) Probability map -------------------------------------------------------\n",
    "message(\"Building probability map ...\")\n",
    "proba_plot <- WASS2SHydroR::wass2s_plot_map(sf_basins =sf_basins,\n",
    "                                            data = yprobas,basin_col = \"HYBAS_ID\" )\n",
    "\n",
    "\n",
    "print(proba_plot)"
   ]
  },
  {
   "cell_type": "code",
   "execution_count": null,
   "id": "0cd6abc7-08b2-45b2-8f27-09d4e690ac3b",
   "metadata": {},
   "outputs": [],
   "source": [
    "proba_plot <- proba_plot + annotation_north_arrow(\n",
    "  location = \"tr\",\n",
    "  which_north = \"true\",\n",
    "  style = north_arrow_fancy_orienteering,\n",
    "  height = unit(1.2, \"cm\"),\n",
    "  width = unit(1.2, \"cm\"),\n",
    "  pad_x = unit(-0.1, \"cm\"),\n",
    "  pad_y = unit(0.1, \"cm\")\n",
    ")+ annotation_scale(\n",
    "  location = \"br\",\n",
    "  width_hint = 0.3\n",
    ")+\n",
    "  scale_fill_gradient(\n",
    "    low = \"#deebf7\", high = \"#08519c\",\n",
    "    name = \"Probability\",\n",
    "    limits = c(0, 1)\n",
    "  )\n",
    "\n",
    "print(proba_plot)\n",
    "## Sauvegarder le graphique\n",
    "\n",
    "{\n",
    "  timestamp <- format(Sys.time(), \"%Y%m%d_%H%M%S\")\n",
    "  filename <- paste0(COUNTRY_CODE, \"_\", PREDICTOR_VARS,\"_\",fyear,\"_stat_probas_\", FINAL_FUSER, \"_\", timestamp, \".png\")\n",
    "  ggsave(filename = filename,\n",
    "         plot = proba_plot,\n",
    "         path = PATH_OUTPUT,\n",
    "         width = 9.5,\n",
    "         height = 6.5,\n",
    "         dpi = 600,\n",
    "         bg = \"white\")\n",
    "  message(\"Probabilities Map saved: \", filename)\n",
    "}"
   ]
  },
  {
   "cell_type": "markdown",
   "id": "0378f48e-e439-4d13-87fb-69389bc6fdcb",
   "metadata": {},
   "source": [
    "## 6) Class map (above/normal/below)"
   ]
  },
  {
   "cell_type": "code",
   "execution_count": null,
   "id": "deaac722-ce15-4d0a-b7cf-145637ef329b",
   "metadata": {},
   "outputs": [],
   "source": [
    "# ---- 6) Class map (above/normal/below) ---------------------------------------\n",
    "message(\"Building class map ...\")\n",
    "class_plot <- WASS2SHydroR::wass2s_plot_map(sf_basins =sf_basins,\n",
    "                                            data = yprobas,\n",
    "                                            basin_col = \"HYBAS_ID\",\n",
    "                                            type = \"class\",\n",
    "                                            colors =palette_colors )\n",
    "print(class_plot)\n"
   ]
  },
  {
   "cell_type": "code",
   "execution_count": null,
   "id": "a1f1712e-fa60-43bf-9c9f-216d104179b3",
   "metadata": {
    "editable": true,
    "slideshow": {
     "slide_type": ""
    },
    "tags": []
   },
   "outputs": [],
   "source": [
    "class_plot <- class_plot +\n",
    "  theme(plot.margin = margin(0.5, 0.5, 0.5, 0.5) )+\n",
    "  annotation_north_arrow(\n",
    "    location = \"tr\",\n",
    "    which_north = \"true\",\n",
    "    style = north_arrow_fancy_orienteering,\n",
    "    height = unit(1.2, \"cm\"),\n",
    "    width = unit(1.2, \"cm\"),\n",
    "    pad_x = unit(-0.1, \"cm\"),\n",
    "    pad_y = unit(0.1, \"cm\")\n",
    "  )+ annotation_scale(\n",
    "    location = \"br\",\n",
    "    width_hint = 0.3\n",
    "  )\n",
    "\n",
    "print(class_plot)\n",
    "\n",
    "## Sauvegarder le graphique\n",
    "\n",
    "{\n",
    "  timestamp <- format(Sys.time(), \"%Y%m%d_%H%M%S\")\n",
    "  filename <- paste0(COUNTRY_CODE, \"_\", PREDICTOR_VARS,\"_\",fyear,\"_stat_class_\", FINAL_FUSER, \"_\", timestamp, \".png\")\n",
    "  ggsave(filename = filename,\n",
    "         plot = class_plot,\n",
    "         path = PATH_OUTPUT,\n",
    "         width = 9.5,\n",
    "         height = 6.5,\n",
    "         dpi = 600,\n",
    "         bg = \"white\")\n",
    "  message(\"Probabilities Map saved: \", filename)\n",
    "}\n",
    "\n",
    "message(\"Done. Outputs saved to: \", normalizePath(PATH_OUTPUT, winslash = \"/\"))"
   ]
  }
 ],
 "metadata": {
  "kernelspec": {
   "display_name": "R",
   "language": "R",
   "name": "ir"
  },
  "language_info": {
   "codemirror_mode": "r",
   "file_extension": ".r",
   "mimetype": "text/x-r-source",
   "name": "R",
   "pygments_lexer": "r",
   "version": "4.3.3"
  }
 },
 "nbformat": 4,
 "nbformat_minor": 5
}
